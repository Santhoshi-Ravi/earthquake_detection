{
  "nbformat": 4,
  "nbformat_minor": 0,
  "metadata": {
    "colab": {
      "provenance": [],
      "include_colab_link": true
    },
    "kernelspec": {
      "name": "python3",
      "display_name": "Python 3"
    },
    "language_info": {
      "name": "python"
    }
  },
  "cells": [
    {
      "cell_type": "markdown",
      "metadata": {
        "id": "view-in-github",
        "colab_type": "text"
      },
      "source": [
        "<a href=\"https://colab.research.google.com/github/Santhoshi-Ravi/earthquake_detection/blob/main/hackathon.ipynb\" target=\"_parent\"><img src=\"https://colab.research.google.com/assets/colab-badge.svg\" alt=\"Open In Colab\"/></a>"
      ]
    },
    {
      "cell_type": "code",
      "execution_count": 2,
      "metadata": {
        "colab": {
          "base_uri": "https://localhost:8080/"
        },
        "id": "ZHT26xgqgMiJ",
        "outputId": "c9aad1ff-9d60-49dc-9607-ae9904c37443"
      },
      "outputs": [
        {
          "output_type": "stream",
          "name": "stdout",
          "text": [
            "Mounted at /content/drive\n"
          ]
        }
      ],
      "source": [
        "from google.colab import drive\n",
        "drive.mount('/content/drive')"
      ]
    },
    {
      "cell_type": "code",
      "source": [
        "import pandas as pd"
      ],
      "metadata": {
        "id": "OO3w5Fh5gZN2"
      },
      "execution_count": 3,
      "outputs": []
    },
    {
      "cell_type": "code",
      "source": [
        "event_df = pd.read_csv(\"/content/drive/MyDrive/dataset/sample dataset/metadata_Instance_events_10k.csv\")"
      ],
      "metadata": {
        "id": "Ph7GgkunghmJ"
      },
      "execution_count": 4,
      "outputs": []
    },
    {
      "cell_type": "code",
      "source": [
        "noise_df = pd.read_csv(\"/content/drive/MyDrive/dataset/sample dataset/metadata_Instance_noise_1k.csv\")"
      ],
      "metadata": {
        "id": "r2NPxSahgtJm"
      },
      "execution_count": 5,
      "outputs": []
    },
    {
      "cell_type": "code",
      "source": [
        "df1_cols = event_df.columns\n",
        "df2_cols = noise_df.columns"
      ],
      "metadata": {
        "id": "NucDsalohODY"
      },
      "execution_count": 6,
      "outputs": []
    },
    {
      "cell_type": "code",
      "source": [
        "len(df1_cols),len(df2_cols)"
      ],
      "metadata": {
        "colab": {
          "base_uri": "https://localhost:8080/"
        },
        "id": "PXMQd8k2hWBf",
        "outputId": "e6029a13-7bc5-42dc-8b72-fefb7604f3c1"
      },
      "execution_count": 7,
      "outputs": [
        {
          "output_type": "execute_result",
          "data": {
            "text/plain": [
              "(115, 43)"
            ]
          },
          "metadata": {},
          "execution_count": 7
        }
      ]
    },
    {
      "cell_type": "code",
      "source": [
        "set(df1_cols).difference(df2_cols)"
      ],
      "metadata": {
        "colab": {
          "base_uri": "https://localhost:8080/"
        },
        "id": "OhvsOv3PhbVO",
        "outputId": "3f3acee2-03b8-4a03-8ad7-4819c3753cf9"
      },
      "execution_count": 8,
      "outputs": [
        {
          "output_type": "execute_result",
          "data": {
            "text/plain": [
              "{'path_azimuth_deg',\n",
              " 'path_backazimuth_deg',\n",
              " 'path_ep_distance_km',\n",
              " 'path_hyp_distance_km',\n",
              " 'path_residual_P_s',\n",
              " 'path_residual_S_s',\n",
              " 'path_travel_time_P_s',\n",
              " 'path_travel_time_S_s',\n",
              " 'path_weight_phase_location_P',\n",
              " 'path_weight_phase_location_S',\n",
              " 'source_depth_km',\n",
              " 'source_depth_uncertainty_km',\n",
              " 'source_gap_deg',\n",
              " 'source_horizontal_uncertainty_km',\n",
              " 'source_latitude_deg',\n",
              " 'source_latitude_uncertainty_deg',\n",
              " 'source_longitude_deg',\n",
              " 'source_longitude_uncertainty_deg',\n",
              " 'source_magnitude',\n",
              " 'source_magnitude_type',\n",
              " 'source_mechanism_moment_tensor',\n",
              " 'source_mechanism_strike_dip_rake',\n",
              " 'source_mt_eval_mode',\n",
              " 'source_mt_scalar_moment_Nm',\n",
              " 'source_mt_status',\n",
              " 'source_origin_time',\n",
              " 'source_origin_uncertainty_s',\n",
              " 'source_stderror_s',\n",
              " 'source_type',\n",
              " 'trace_E_pga_cmps2',\n",
              " 'trace_E_pga_perc',\n",
              " 'trace_E_pga_time',\n",
              " 'trace_E_pgv_cmps',\n",
              " 'trace_E_pgv_time',\n",
              " 'trace_E_sa03_cmps2',\n",
              " 'trace_E_sa10_cmps2',\n",
              " 'trace_E_sa30_cmps2',\n",
              " 'trace_E_snr_db',\n",
              " 'trace_N_pga_cmps2',\n",
              " 'trace_N_pga_perc',\n",
              " 'trace_N_pga_time',\n",
              " 'trace_N_pgv_cmps',\n",
              " 'trace_N_pgv_time',\n",
              " 'trace_N_sa03_cmps2',\n",
              " 'trace_N_sa10_cmps2',\n",
              " 'trace_N_sa30_cmps2',\n",
              " 'trace_N_snr_db',\n",
              " 'trace_P_arrival_sample',\n",
              " 'trace_P_arrival_time',\n",
              " 'trace_P_uncertainty_s',\n",
              " 'trace_S_arrival_sample',\n",
              " 'trace_S_arrival_time',\n",
              " 'trace_S_uncertainty_s',\n",
              " 'trace_Z_pga_cmps2',\n",
              " 'trace_Z_pga_perc',\n",
              " 'trace_Z_pga_time',\n",
              " 'trace_Z_pgv_cmps',\n",
              " 'trace_Z_pgv_time',\n",
              " 'trace_Z_sa03_cmps2',\n",
              " 'trace_Z_sa10_cmps2',\n",
              " 'trace_Z_sa30_cmps2',\n",
              " 'trace_Z_snr_db',\n",
              " 'trace_deconvolved_units',\n",
              " 'trace_eval_P',\n",
              " 'trace_eval_S',\n",
              " 'trace_pga_cmps2',\n",
              " 'trace_pga_perc',\n",
              " 'trace_pgv_cmps',\n",
              " 'trace_polarity',\n",
              " 'trace_sa03_cmps2',\n",
              " 'trace_sa10_cmps2',\n",
              " 'trace_sa30_cmps2'}"
            ]
          },
          "metadata": {},
          "execution_count": 8
        }
      ]
    },
    {
      "cell_type": "code",
      "source": [
        "event_df.columns"
      ],
      "metadata": {
        "colab": {
          "base_uri": "https://localhost:8080/"
        },
        "id": "m7BtZ5vchv06",
        "outputId": "e34d99f7-22ec-42c0-950e-632f77294809"
      },
      "execution_count": 9,
      "outputs": [
        {
          "output_type": "execute_result",
          "data": {
            "text/plain": [
              "Index(['source_id', 'station_network_code', 'station_code',\n",
              "       'station_location_code', 'station_channels', 'station_latitude_deg',\n",
              "       'station_longitude_deg', 'station_elevation_m', 'station_vs_30_mps',\n",
              "       'station_vs_30_detail',\n",
              "       ...\n",
              "       'trace_sa10_cmps2', 'trace_sa30_cmps2', 'trace_name',\n",
              "       'trace_GPD_P_number', 'trace_GPD_S_number',\n",
              "       'trace_EQT_number_detections', 'trace_EQT_P_number',\n",
              "       'trace_EQT_S_number', 'trace_deconvolved_units', 'source_type'],\n",
              "      dtype='object', length=115)"
            ]
          },
          "metadata": {},
          "execution_count": 9
        }
      ]
    },
    {
      "cell_type": "code",
      "source": [
        "event_df.head(1)"
      ],
      "metadata": {
        "colab": {
          "base_uri": "https://localhost:8080/",
          "height": 147
        },
        "id": "BGKT3ZLKzL8F",
        "outputId": "1f5ed996-207c-4dfc-8155-3f97a5aedeb2"
      },
      "execution_count": 10,
      "outputs": [
        {
          "output_type": "execute_result",
          "data": {
            "text/plain": [
              "   source_id station_network_code station_code  station_location_code  \\\n",
              "0   11030611                   IV         OFFI                    NaN   \n",
              "\n",
              "  station_channels  station_latitude_deg  station_longitude_deg  \\\n",
              "0               HH                42.935                13.6857   \n",
              "\n",
              "   station_elevation_m  station_vs_30_mps          station_vs_30_detail  ...  \\\n",
              "0                320.0              580.0  Vs30 extracted from ShakeMap  ...   \n",
              "\n",
              "  trace_sa10_cmps2  trace_sa30_cmps2            trace_name  \\\n",
              "0          0.00104          0.000094  11030611.IV.OFFI..HH   \n",
              "\n",
              "   trace_GPD_P_number  trace_GPD_S_number  trace_EQT_number_detections  \\\n",
              "0                   1                   2                          1.0   \n",
              "\n",
              "   trace_EQT_P_number  trace_EQT_S_number  trace_deconvolved_units  \\\n",
              "0                 1.0                 1.0                      mps   \n",
              "\n",
              "   source_type  \n",
              "0   earthquake  \n",
              "\n",
              "[1 rows x 115 columns]"
            ],
            "text/html": [
              "\n",
              "  <div id=\"df-eab5ac29-f00a-440a-9abc-e52ae63a2f55\" class=\"colab-df-container\">\n",
              "    <div>\n",
              "<style scoped>\n",
              "    .dataframe tbody tr th:only-of-type {\n",
              "        vertical-align: middle;\n",
              "    }\n",
              "\n",
              "    .dataframe tbody tr th {\n",
              "        vertical-align: top;\n",
              "    }\n",
              "\n",
              "    .dataframe thead th {\n",
              "        text-align: right;\n",
              "    }\n",
              "</style>\n",
              "<table border=\"1\" class=\"dataframe\">\n",
              "  <thead>\n",
              "    <tr style=\"text-align: right;\">\n",
              "      <th></th>\n",
              "      <th>source_id</th>\n",
              "      <th>station_network_code</th>\n",
              "      <th>station_code</th>\n",
              "      <th>station_location_code</th>\n",
              "      <th>station_channels</th>\n",
              "      <th>station_latitude_deg</th>\n",
              "      <th>station_longitude_deg</th>\n",
              "      <th>station_elevation_m</th>\n",
              "      <th>station_vs_30_mps</th>\n",
              "      <th>station_vs_30_detail</th>\n",
              "      <th>...</th>\n",
              "      <th>trace_sa10_cmps2</th>\n",
              "      <th>trace_sa30_cmps2</th>\n",
              "      <th>trace_name</th>\n",
              "      <th>trace_GPD_P_number</th>\n",
              "      <th>trace_GPD_S_number</th>\n",
              "      <th>trace_EQT_number_detections</th>\n",
              "      <th>trace_EQT_P_number</th>\n",
              "      <th>trace_EQT_S_number</th>\n",
              "      <th>trace_deconvolved_units</th>\n",
              "      <th>source_type</th>\n",
              "    </tr>\n",
              "  </thead>\n",
              "  <tbody>\n",
              "    <tr>\n",
              "      <th>0</th>\n",
              "      <td>11030611</td>\n",
              "      <td>IV</td>\n",
              "      <td>OFFI</td>\n",
              "      <td>NaN</td>\n",
              "      <td>HH</td>\n",
              "      <td>42.935</td>\n",
              "      <td>13.6857</td>\n",
              "      <td>320.0</td>\n",
              "      <td>580.0</td>\n",
              "      <td>Vs30 extracted from ShakeMap</td>\n",
              "      <td>...</td>\n",
              "      <td>0.00104</td>\n",
              "      <td>0.000094</td>\n",
              "      <td>11030611.IV.OFFI..HH</td>\n",
              "      <td>1</td>\n",
              "      <td>2</td>\n",
              "      <td>1.0</td>\n",
              "      <td>1.0</td>\n",
              "      <td>1.0</td>\n",
              "      <td>mps</td>\n",
              "      <td>earthquake</td>\n",
              "    </tr>\n",
              "  </tbody>\n",
              "</table>\n",
              "<p>1 rows × 115 columns</p>\n",
              "</div>\n",
              "    <div class=\"colab-df-buttons\">\n",
              "\n",
              "  <div class=\"colab-df-container\">\n",
              "    <button class=\"colab-df-convert\" onclick=\"convertToInteractive('df-eab5ac29-f00a-440a-9abc-e52ae63a2f55')\"\n",
              "            title=\"Convert this dataframe to an interactive table.\"\n",
              "            style=\"display:none;\">\n",
              "\n",
              "  <svg xmlns=\"http://www.w3.org/2000/svg\" height=\"24px\" viewBox=\"0 -960 960 960\">\n",
              "    <path d=\"M120-120v-720h720v720H120Zm60-500h600v-160H180v160Zm220 220h160v-160H400v160Zm0 220h160v-160H400v160ZM180-400h160v-160H180v160Zm440 0h160v-160H620v160ZM180-180h160v-160H180v160Zm440 0h160v-160H620v160Z\"/>\n",
              "  </svg>\n",
              "    </button>\n",
              "\n",
              "  <style>\n",
              "    .colab-df-container {\n",
              "      display:flex;\n",
              "      gap: 12px;\n",
              "    }\n",
              "\n",
              "    .colab-df-convert {\n",
              "      background-color: #E8F0FE;\n",
              "      border: none;\n",
              "      border-radius: 50%;\n",
              "      cursor: pointer;\n",
              "      display: none;\n",
              "      fill: #1967D2;\n",
              "      height: 32px;\n",
              "      padding: 0 0 0 0;\n",
              "      width: 32px;\n",
              "    }\n",
              "\n",
              "    .colab-df-convert:hover {\n",
              "      background-color: #E2EBFA;\n",
              "      box-shadow: 0px 1px 2px rgba(60, 64, 67, 0.3), 0px 1px 3px 1px rgba(60, 64, 67, 0.15);\n",
              "      fill: #174EA6;\n",
              "    }\n",
              "\n",
              "    .colab-df-buttons div {\n",
              "      margin-bottom: 4px;\n",
              "    }\n",
              "\n",
              "    [theme=dark] .colab-df-convert {\n",
              "      background-color: #3B4455;\n",
              "      fill: #D2E3FC;\n",
              "    }\n",
              "\n",
              "    [theme=dark] .colab-df-convert:hover {\n",
              "      background-color: #434B5C;\n",
              "      box-shadow: 0px 1px 3px 1px rgba(0, 0, 0, 0.15);\n",
              "      filter: drop-shadow(0px 1px 2px rgba(0, 0, 0, 0.3));\n",
              "      fill: #FFFFFF;\n",
              "    }\n",
              "  </style>\n",
              "\n",
              "    <script>\n",
              "      const buttonEl =\n",
              "        document.querySelector('#df-eab5ac29-f00a-440a-9abc-e52ae63a2f55 button.colab-df-convert');\n",
              "      buttonEl.style.display =\n",
              "        google.colab.kernel.accessAllowed ? 'block' : 'none';\n",
              "\n",
              "      async function convertToInteractive(key) {\n",
              "        const element = document.querySelector('#df-eab5ac29-f00a-440a-9abc-e52ae63a2f55');\n",
              "        const dataTable =\n",
              "          await google.colab.kernel.invokeFunction('convertToInteractive',\n",
              "                                                    [key], {});\n",
              "        if (!dataTable) return;\n",
              "\n",
              "        const docLinkHtml = 'Like what you see? Visit the ' +\n",
              "          '<a target=\"_blank\" href=https://colab.research.google.com/notebooks/data_table.ipynb>data table notebook</a>'\n",
              "          + ' to learn more about interactive tables.';\n",
              "        element.innerHTML = '';\n",
              "        dataTable['output_type'] = 'display_data';\n",
              "        await google.colab.output.renderOutput(dataTable, element);\n",
              "        const docLink = document.createElement('div');\n",
              "        docLink.innerHTML = docLinkHtml;\n",
              "        element.appendChild(docLink);\n",
              "      }\n",
              "    </script>\n",
              "  </div>\n",
              "\n",
              "    </div>\n",
              "  </div>\n"
            ]
          },
          "metadata": {},
          "execution_count": 10
        }
      ]
    },
    {
      "cell_type": "code",
      "source": [
        "import h5py\n",
        "filename = \"/content/drive/MyDrive/dataset/sample dataset/Instance_events_counts_10k.hdf5\""
      ],
      "metadata": {
        "id": "BjsHnqnmzvml"
      },
      "execution_count": 11,
      "outputs": []
    },
    {
      "cell_type": "code",
      "source": [
        "import numpy as np\n",
        "file = h5py.File(filename,\"r\")\n",
        "dataset = file[\"data\"]['11030611.IV.OFFI..HH']\n",
        "np.array(dataset)[0].size"
      ],
      "metadata": {
        "colab": {
          "base_uri": "https://localhost:8080/"
        },
        "id": "mc-02iKAE9hy",
        "outputId": "96771e63-2baa-4131-8071-34c0f624546b"
      },
      "execution_count": 12,
      "outputs": [
        {
          "output_type": "execute_result",
          "data": {
            "text/plain": [
              "12000"
            ]
          },
          "metadata": {},
          "execution_count": 12
        }
      ]
    },
    {
      "cell_type": "code",
      "source": [],
      "metadata": {
        "id": "LMHHQrJ8IZ6V"
      },
      "execution_count": 12,
      "outputs": []
    },
    {
      "cell_type": "code",
      "source": [
        "with h5py.File(filename, \"r\") as f:\n",
        "    # Print all root level object names (aka keys)\n",
        "    # these can be group or dataset names\n",
        "    print(\"Keys: %s\" % f.keys())\n",
        "    # get first object name/key; may or may NOT be a group\n",
        "    a_group_key = list(f.keys())[0]\n",
        "\n",
        "    # get the object type for a_group_key: usually group or dataset\n",
        "    print(type(f[a_group_key]))\n",
        "\n",
        "    # If a_group_key is a group name,\n",
        "    # this gets the object names in the group and returns as a list\n",
        "    data = list(f[a_group_key])\n",
        "\n"
      ],
      "metadata": {
        "colab": {
          "base_uri": "https://localhost:8080/"
        },
        "id": "bymw-_zB4Vfz",
        "outputId": "448b706a-b820-4ce3-e4a3-68368ab156c7"
      },
      "execution_count": 13,
      "outputs": [
        {
          "output_type": "stream",
          "name": "stdout",
          "text": [
            "Keys: <KeysViewHDF5 ['data', 'data_format']>\n",
            "<class 'h5py._hl.group.Group'>\n"
          ]
        }
      ]
    },
    {
      "cell_type": "code",
      "source": [
        "# with h5py.File(filename, \"r\") as f:\n",
        "#   print(f['data'].get('11030611.IV.OFFI..HH').value)"
      ],
      "metadata": {
        "id": "55aHqsfq4jsj"
      },
      "execution_count": 14,
      "outputs": []
    },
    {
      "cell_type": "code",
      "source": [
        "with h5py.File(filename, \"r\") as f:\n",
        "  print(f['data']['11030611.IV.OFFI..HH'])"
      ],
      "metadata": {
        "colab": {
          "base_uri": "https://localhost:8080/"
        },
        "id": "6Ng9xd87FTzc",
        "outputId": "e79f86d4-4d4a-4034-a672-8fbaf34cc1f4"
      },
      "execution_count": 15,
      "outputs": [
        {
          "output_type": "stream",
          "name": "stdout",
          "text": [
            "<HDF5 dataset \"11030611.IV.OFFI..HH\": shape (3, 12000), type \"<i4\">\n"
          ]
        }
      ]
    },
    {
      "cell_type": "code",
      "source": [
        "# with h5py.File(filename, \"r\") as f:\n",
        "#   print(f['data'].keys())"
      ],
      "metadata": {
        "id": "bkIUYZbN45KQ"
      },
      "execution_count": 16,
      "outputs": []
    },
    {
      "cell_type": "code",
      "source": [
        "event_df.groupby(['station_channels'])['source_id'].count()"
      ],
      "metadata": {
        "colab": {
          "base_uri": "https://localhost:8080/"
        },
        "id": "UEWqX6x-6ZfU",
        "outputId": "f1dd5cbe-5bd3-4c26-ab1d-2b8f5cd8b7b8"
      },
      "execution_count": 17,
      "outputs": [
        {
          "output_type": "execute_result",
          "data": {
            "text/plain": [
              "station_channels\n",
              "EH    2517\n",
              "HH    3893\n",
              "HL      40\n",
              "HN    3550\n",
              "Name: source_id, dtype: int64"
            ]
          },
          "metadata": {},
          "execution_count": 17
        }
      ]
    },
    {
      "cell_type": "code",
      "source": [
        "event_df.groupby(['source_id',\"station_code\"])['station_channels']"
      ],
      "metadata": {
        "colab": {
          "base_uri": "https://localhost:8080/"
        },
        "id": "MsLZpTqA8B8m",
        "outputId": "76cbdb1f-8689-4cee-8952-d161a4f4fd62"
      },
      "execution_count": 18,
      "outputs": [
        {
          "output_type": "execute_result",
          "data": {
            "text/plain": [
              "<pandas.core.groupby.generic.SeriesGroupBy object at 0x7e3588866d10>"
            ]
          },
          "metadata": {},
          "execution_count": 18
        }
      ]
    },
    {
      "cell_type": "code",
      "source": [
        "org_df = event_df.groupby(['source_id',\"station_code\"]).filter(lambda x: 'HH' in x['station_channels'].values and 'HN' in x['station_channels'].values)"
      ],
      "metadata": {
        "id": "FzvtFzWW_LuI"
      },
      "execution_count": 19,
      "outputs": []
    },
    {
      "cell_type": "code",
      "source": [
        "org_df.to_csv(\"/content/drive/MyDrive/dataset/sample dataset/original_Dataset.csv\")"
      ],
      "metadata": {
        "id": "RYVVzurE_sqV"
      },
      "execution_count": 20,
      "outputs": []
    },
    {
      "cell_type": "code",
      "source": [
        "# org_df['trace_name']"
      ],
      "metadata": {
        "id": "MEEZfuZSAUz4"
      },
      "execution_count": 21,
      "outputs": []
    },
    {
      "cell_type": "code",
      "source": [
        "noise_df.groupby(['source_id',\"station_code\"]).filter(lambda x: 'HN' in x['station_channels'].values).count()"
      ],
      "metadata": {
        "colab": {
          "base_uri": "https://localhost:8080/"
        },
        "id": "PexMn_DaAebR",
        "outputId": "0eddcd1f-1590-465b-a0c6-080dcd5738cf"
      },
      "execution_count": 22,
      "outputs": [
        {
          "output_type": "execute_result",
          "data": {
            "text/plain": [
              "source_id                        299\n",
              "station_network_code             299\n",
              "station_code                     299\n",
              "station_location_code              6\n",
              "station_channels                 299\n",
              "station_latitude_deg             299\n",
              "station_longitude_deg            299\n",
              "station_elevation_m              299\n",
              "station_vs_30_mps                299\n",
              "station_vs_30_detail             299\n",
              "trace_start_time                 299\n",
              "trace_dt_s                       299\n",
              "trace_npts                       299\n",
              "trace_E_median_counts            299\n",
              "trace_N_median_counts            299\n",
              "trace_Z_median_counts            299\n",
              "trace_E_mean_counts              299\n",
              "trace_N_mean_counts              299\n",
              "trace_Z_mean_counts              299\n",
              "trace_E_min_counts               299\n",
              "trace_N_min_counts               299\n",
              "trace_Z_min_counts               299\n",
              "trace_E_max_counts               299\n",
              "trace_N_max_counts               299\n",
              "trace_Z_max_counts               299\n",
              "trace_E_rms_counts               299\n",
              "trace_N_rms_counts               299\n",
              "trace_Z_rms_counts               299\n",
              "trace_E_lower_quartile_counts    299\n",
              "trace_N_lower_quartile_counts    299\n",
              "trace_Z_lower_quartile_counts    299\n",
              "trace_E_upper_quartile_counts    299\n",
              "trace_N_upper_quartile_counts    299\n",
              "trace_Z_upper_quartile_counts    299\n",
              "trace_E_spikes                   299\n",
              "trace_N_spikes                   299\n",
              "trace_Z_spikes                   299\n",
              "trace_name                       299\n",
              "trace_GPD_P_number               299\n",
              "trace_GPD_S_number               299\n",
              "trace_EQT_number_detections        0\n",
              "trace_EQT_P_number                 0\n",
              "trace_EQT_S_number                 0\n",
              "dtype: int64"
            ]
          },
          "metadata": {},
          "execution_count": 22
        }
      ]
    },
    {
      "cell_type": "code",
      "source": [
        "event_df.groupby(['source_id',\"station_code\"]).filter(lambda x: 'HN' in x['station_channels'].values).count()"
      ],
      "metadata": {
        "colab": {
          "base_uri": "https://localhost:8080/"
        },
        "id": "Ogv2ivfsBaow",
        "outputId": "bc38b4bb-abd2-4ea9-d9da-9a02ff25f2c5"
      },
      "execution_count": 23,
      "outputs": [
        {
          "output_type": "execute_result",
          "data": {
            "text/plain": [
              "source_id                      6673\n",
              "station_network_code           6673\n",
              "station_code                   6673\n",
              "station_location_code             0\n",
              "station_channels               6673\n",
              "                               ... \n",
              "trace_EQT_number_detections    3087\n",
              "trace_EQT_P_number             3087\n",
              "trace_EQT_S_number             3087\n",
              "trace_deconvolved_units        6673\n",
              "source_type                    6673\n",
              "Length: 115, dtype: int64"
            ]
          },
          "metadata": {},
          "execution_count": 23
        }
      ]
    },
    {
      "cell_type": "code",
      "source": [
        "event_df[event_df['station_channels']=='HN'][['source_id','trace_name']]"
      ],
      "metadata": {
        "id": "jE33idvGBiAB",
        "colab": {
          "base_uri": "https://localhost:8080/",
          "height": 424
        },
        "outputId": "b0d33fbc-ad05-41be-fcbb-7c1f56a70207"
      },
      "execution_count": 24,
      "outputs": [
        {
          "output_type": "execute_result",
          "data": {
            "text/plain": [
              "      source_id            trace_name\n",
              "2      11030611  11030611.IV.PIEI..HN\n",
              "4      11030611  11030611.IV.RM33..HN\n",
              "5      11030611  11030611.IV.SEF1..HN\n",
              "7      11030611  11030611.IV.SNTG..HN\n",
              "9      11030611  11030611.IV.SSFR..HN\n",
              "...         ...                   ...\n",
              "9988   11282341  11282341.IV.MCEL..HN\n",
              "9990   11282341  11282341.IV.MELA..HN\n",
              "9992   11282341   11282341.IV.MGR..HN\n",
              "9994   11282341  11282341.IV.MIDA..HN\n",
              "9997   11282341  11282341.IV.MOCO..HN\n",
              "\n",
              "[3550 rows x 2 columns]"
            ],
            "text/html": [
              "\n",
              "  <div id=\"df-303dd715-72b3-4271-be5e-64d7702d5153\" class=\"colab-df-container\">\n",
              "    <div>\n",
              "<style scoped>\n",
              "    .dataframe tbody tr th:only-of-type {\n",
              "        vertical-align: middle;\n",
              "    }\n",
              "\n",
              "    .dataframe tbody tr th {\n",
              "        vertical-align: top;\n",
              "    }\n",
              "\n",
              "    .dataframe thead th {\n",
              "        text-align: right;\n",
              "    }\n",
              "</style>\n",
              "<table border=\"1\" class=\"dataframe\">\n",
              "  <thead>\n",
              "    <tr style=\"text-align: right;\">\n",
              "      <th></th>\n",
              "      <th>source_id</th>\n",
              "      <th>trace_name</th>\n",
              "    </tr>\n",
              "  </thead>\n",
              "  <tbody>\n",
              "    <tr>\n",
              "      <th>2</th>\n",
              "      <td>11030611</td>\n",
              "      <td>11030611.IV.PIEI..HN</td>\n",
              "    </tr>\n",
              "    <tr>\n",
              "      <th>4</th>\n",
              "      <td>11030611</td>\n",
              "      <td>11030611.IV.RM33..HN</td>\n",
              "    </tr>\n",
              "    <tr>\n",
              "      <th>5</th>\n",
              "      <td>11030611</td>\n",
              "      <td>11030611.IV.SEF1..HN</td>\n",
              "    </tr>\n",
              "    <tr>\n",
              "      <th>7</th>\n",
              "      <td>11030611</td>\n",
              "      <td>11030611.IV.SNTG..HN</td>\n",
              "    </tr>\n",
              "    <tr>\n",
              "      <th>9</th>\n",
              "      <td>11030611</td>\n",
              "      <td>11030611.IV.SSFR..HN</td>\n",
              "    </tr>\n",
              "    <tr>\n",
              "      <th>...</th>\n",
              "      <td>...</td>\n",
              "      <td>...</td>\n",
              "    </tr>\n",
              "    <tr>\n",
              "      <th>9988</th>\n",
              "      <td>11282341</td>\n",
              "      <td>11282341.IV.MCEL..HN</td>\n",
              "    </tr>\n",
              "    <tr>\n",
              "      <th>9990</th>\n",
              "      <td>11282341</td>\n",
              "      <td>11282341.IV.MELA..HN</td>\n",
              "    </tr>\n",
              "    <tr>\n",
              "      <th>9992</th>\n",
              "      <td>11282341</td>\n",
              "      <td>11282341.IV.MGR..HN</td>\n",
              "    </tr>\n",
              "    <tr>\n",
              "      <th>9994</th>\n",
              "      <td>11282341</td>\n",
              "      <td>11282341.IV.MIDA..HN</td>\n",
              "    </tr>\n",
              "    <tr>\n",
              "      <th>9997</th>\n",
              "      <td>11282341</td>\n",
              "      <td>11282341.IV.MOCO..HN</td>\n",
              "    </tr>\n",
              "  </tbody>\n",
              "</table>\n",
              "<p>3550 rows × 2 columns</p>\n",
              "</div>\n",
              "    <div class=\"colab-df-buttons\">\n",
              "\n",
              "  <div class=\"colab-df-container\">\n",
              "    <button class=\"colab-df-convert\" onclick=\"convertToInteractive('df-303dd715-72b3-4271-be5e-64d7702d5153')\"\n",
              "            title=\"Convert this dataframe to an interactive table.\"\n",
              "            style=\"display:none;\">\n",
              "\n",
              "  <svg xmlns=\"http://www.w3.org/2000/svg\" height=\"24px\" viewBox=\"0 -960 960 960\">\n",
              "    <path d=\"M120-120v-720h720v720H120Zm60-500h600v-160H180v160Zm220 220h160v-160H400v160Zm0 220h160v-160H400v160ZM180-400h160v-160H180v160Zm440 0h160v-160H620v160ZM180-180h160v-160H180v160Zm440 0h160v-160H620v160Z\"/>\n",
              "  </svg>\n",
              "    </button>\n",
              "\n",
              "  <style>\n",
              "    .colab-df-container {\n",
              "      display:flex;\n",
              "      gap: 12px;\n",
              "    }\n",
              "\n",
              "    .colab-df-convert {\n",
              "      background-color: #E8F0FE;\n",
              "      border: none;\n",
              "      border-radius: 50%;\n",
              "      cursor: pointer;\n",
              "      display: none;\n",
              "      fill: #1967D2;\n",
              "      height: 32px;\n",
              "      padding: 0 0 0 0;\n",
              "      width: 32px;\n",
              "    }\n",
              "\n",
              "    .colab-df-convert:hover {\n",
              "      background-color: #E2EBFA;\n",
              "      box-shadow: 0px 1px 2px rgba(60, 64, 67, 0.3), 0px 1px 3px 1px rgba(60, 64, 67, 0.15);\n",
              "      fill: #174EA6;\n",
              "    }\n",
              "\n",
              "    .colab-df-buttons div {\n",
              "      margin-bottom: 4px;\n",
              "    }\n",
              "\n",
              "    [theme=dark] .colab-df-convert {\n",
              "      background-color: #3B4455;\n",
              "      fill: #D2E3FC;\n",
              "    }\n",
              "\n",
              "    [theme=dark] .colab-df-convert:hover {\n",
              "      background-color: #434B5C;\n",
              "      box-shadow: 0px 1px 3px 1px rgba(0, 0, 0, 0.15);\n",
              "      filter: drop-shadow(0px 1px 2px rgba(0, 0, 0, 0.3));\n",
              "      fill: #FFFFFF;\n",
              "    }\n",
              "  </style>\n",
              "\n",
              "    <script>\n",
              "      const buttonEl =\n",
              "        document.querySelector('#df-303dd715-72b3-4271-be5e-64d7702d5153 button.colab-df-convert');\n",
              "      buttonEl.style.display =\n",
              "        google.colab.kernel.accessAllowed ? 'block' : 'none';\n",
              "\n",
              "      async function convertToInteractive(key) {\n",
              "        const element = document.querySelector('#df-303dd715-72b3-4271-be5e-64d7702d5153');\n",
              "        const dataTable =\n",
              "          await google.colab.kernel.invokeFunction('convertToInteractive',\n",
              "                                                    [key], {});\n",
              "        if (!dataTable) return;\n",
              "\n",
              "        const docLinkHtml = 'Like what you see? Visit the ' +\n",
              "          '<a target=\"_blank\" href=https://colab.research.google.com/notebooks/data_table.ipynb>data table notebook</a>'\n",
              "          + ' to learn more about interactive tables.';\n",
              "        element.innerHTML = '';\n",
              "        dataTable['output_type'] = 'display_data';\n",
              "        await google.colab.output.renderOutput(dataTable, element);\n",
              "        const docLink = document.createElement('div');\n",
              "        docLink.innerHTML = docLinkHtml;\n",
              "        element.appendChild(docLink);\n",
              "      }\n",
              "    </script>\n",
              "  </div>\n",
              "\n",
              "\n",
              "<div id=\"df-9bd0cfd4-3532-4c10-8328-55c98ac163cb\">\n",
              "  <button class=\"colab-df-quickchart\" onclick=\"quickchart('df-9bd0cfd4-3532-4c10-8328-55c98ac163cb')\"\n",
              "            title=\"Suggest charts.\"\n",
              "            style=\"display:none;\">\n",
              "\n",
              "<svg xmlns=\"http://www.w3.org/2000/svg\" height=\"24px\"viewBox=\"0 0 24 24\"\n",
              "     width=\"24px\">\n",
              "    <g>\n",
              "        <path d=\"M19 3H5c-1.1 0-2 .9-2 2v14c0 1.1.9 2 2 2h14c1.1 0 2-.9 2-2V5c0-1.1-.9-2-2-2zM9 17H7v-7h2v7zm4 0h-2V7h2v10zm4 0h-2v-4h2v4z\"/>\n",
              "    </g>\n",
              "</svg>\n",
              "  </button>\n",
              "\n",
              "<style>\n",
              "  .colab-df-quickchart {\n",
              "      --bg-color: #E8F0FE;\n",
              "      --fill-color: #1967D2;\n",
              "      --hover-bg-color: #E2EBFA;\n",
              "      --hover-fill-color: #174EA6;\n",
              "      --disabled-fill-color: #AAA;\n",
              "      --disabled-bg-color: #DDD;\n",
              "  }\n",
              "\n",
              "  [theme=dark] .colab-df-quickchart {\n",
              "      --bg-color: #3B4455;\n",
              "      --fill-color: #D2E3FC;\n",
              "      --hover-bg-color: #434B5C;\n",
              "      --hover-fill-color: #FFFFFF;\n",
              "      --disabled-bg-color: #3B4455;\n",
              "      --disabled-fill-color: #666;\n",
              "  }\n",
              "\n",
              "  .colab-df-quickchart {\n",
              "    background-color: var(--bg-color);\n",
              "    border: none;\n",
              "    border-radius: 50%;\n",
              "    cursor: pointer;\n",
              "    display: none;\n",
              "    fill: var(--fill-color);\n",
              "    height: 32px;\n",
              "    padding: 0;\n",
              "    width: 32px;\n",
              "  }\n",
              "\n",
              "  .colab-df-quickchart:hover {\n",
              "    background-color: var(--hover-bg-color);\n",
              "    box-shadow: 0 1px 2px rgba(60, 64, 67, 0.3), 0 1px 3px 1px rgba(60, 64, 67, 0.15);\n",
              "    fill: var(--button-hover-fill-color);\n",
              "  }\n",
              "\n",
              "  .colab-df-quickchart-complete:disabled,\n",
              "  .colab-df-quickchart-complete:disabled:hover {\n",
              "    background-color: var(--disabled-bg-color);\n",
              "    fill: var(--disabled-fill-color);\n",
              "    box-shadow: none;\n",
              "  }\n",
              "\n",
              "  .colab-df-spinner {\n",
              "    border: 2px solid var(--fill-color);\n",
              "    border-color: transparent;\n",
              "    border-bottom-color: var(--fill-color);\n",
              "    animation:\n",
              "      spin 1s steps(1) infinite;\n",
              "  }\n",
              "\n",
              "  @keyframes spin {\n",
              "    0% {\n",
              "      border-color: transparent;\n",
              "      border-bottom-color: var(--fill-color);\n",
              "      border-left-color: var(--fill-color);\n",
              "    }\n",
              "    20% {\n",
              "      border-color: transparent;\n",
              "      border-left-color: var(--fill-color);\n",
              "      border-top-color: var(--fill-color);\n",
              "    }\n",
              "    30% {\n",
              "      border-color: transparent;\n",
              "      border-left-color: var(--fill-color);\n",
              "      border-top-color: var(--fill-color);\n",
              "      border-right-color: var(--fill-color);\n",
              "    }\n",
              "    40% {\n",
              "      border-color: transparent;\n",
              "      border-right-color: var(--fill-color);\n",
              "      border-top-color: var(--fill-color);\n",
              "    }\n",
              "    60% {\n",
              "      border-color: transparent;\n",
              "      border-right-color: var(--fill-color);\n",
              "    }\n",
              "    80% {\n",
              "      border-color: transparent;\n",
              "      border-right-color: var(--fill-color);\n",
              "      border-bottom-color: var(--fill-color);\n",
              "    }\n",
              "    90% {\n",
              "      border-color: transparent;\n",
              "      border-bottom-color: var(--fill-color);\n",
              "    }\n",
              "  }\n",
              "</style>\n",
              "\n",
              "  <script>\n",
              "    async function quickchart(key) {\n",
              "      const quickchartButtonEl =\n",
              "        document.querySelector('#' + key + ' button');\n",
              "      quickchartButtonEl.disabled = true;  // To prevent multiple clicks.\n",
              "      quickchartButtonEl.classList.add('colab-df-spinner');\n",
              "      try {\n",
              "        const charts = await google.colab.kernel.invokeFunction(\n",
              "            'suggestCharts', [key], {});\n",
              "      } catch (error) {\n",
              "        console.error('Error during call to suggestCharts:', error);\n",
              "      }\n",
              "      quickchartButtonEl.classList.remove('colab-df-spinner');\n",
              "      quickchartButtonEl.classList.add('colab-df-quickchart-complete');\n",
              "    }\n",
              "    (() => {\n",
              "      let quickchartButtonEl =\n",
              "        document.querySelector('#df-9bd0cfd4-3532-4c10-8328-55c98ac163cb button');\n",
              "      quickchartButtonEl.style.display =\n",
              "        google.colab.kernel.accessAllowed ? 'block' : 'none';\n",
              "    })();\n",
              "  </script>\n",
              "</div>\n",
              "    </div>\n",
              "  </div>\n"
            ]
          },
          "metadata": {},
          "execution_count": 24
        }
      ]
    },
    {
      "cell_type": "code",
      "source": [
        "event_np = np.load(\"/content/drive/MyDrive/dataset/sample dataset/events_counts.npy\")[:300]"
      ],
      "metadata": {
        "id": "gpuobgC-WwY_"
      },
      "execution_count": 25,
      "outputs": []
    },
    {
      "cell_type": "code",
      "source": [
        "noise_np = np.load(\"/content/drive/MyDrive/dataset/sample dataset/noise.npy\")"
      ],
      "metadata": {
        "id": "0zZCXab5XsBB"
      },
      "execution_count": 26,
      "outputs": []
    },
    {
      "cell_type": "code",
      "source": [
        "noise_np.shape,event_np.shape"
      ],
      "metadata": {
        "colab": {
          "base_uri": "https://localhost:8080/"
        },
        "id": "zOXcFI7dX8qI",
        "outputId": "2ee9f579-deba-4f40-d1c1-5d85dedaeff0"
      },
      "execution_count": 27,
      "outputs": [
        {
          "output_type": "execute_result",
          "data": {
            "text/plain": [
              "((299, 3, 12000), (300, 3, 12000))"
            ]
          },
          "metadata": {},
          "execution_count": 27
        }
      ]
    },
    {
      "cell_type": "code",
      "source": [],
      "metadata": {
        "id": "zDS-tQtoYB39"
      },
      "execution_count": 27,
      "outputs": []
    },
    {
      "cell_type": "code",
      "source": [
        "x = event_np[0][:, :3000].reshape(-1)"
      ],
      "metadata": {
        "id": "3gNniUbRYWJm"
      },
      "execution_count": 28,
      "outputs": []
    },
    {
      "cell_type": "code",
      "source": [
        "dataframes = []"
      ],
      "metadata": {
        "id": "bnq5GV4ZZwFx"
      },
      "execution_count": 29,
      "outputs": []
    },
    {
      "cell_type": "code",
      "source": [],
      "metadata": {
        "id": "w4lg1gQtYcc8"
      },
      "execution_count": 29,
      "outputs": []
    },
    {
      "cell_type": "code",
      "source": [
        "event_np[0][:, :3000].reshape(-1)"
      ],
      "metadata": {
        "colab": {
          "base_uri": "https://localhost:8080/"
        },
        "id": "_7lVWQFuZRb8",
        "outputId": "b7a21d11-2444-4608-f940-0cb0d3f2a568"
      },
      "execution_count": 30,
      "outputs": [
        {
          "output_type": "execute_result",
          "data": {
            "text/plain": [
              "array([-19,  12, -14, ...,   2,  -3,  -3], dtype=int32)"
            ]
          },
          "metadata": {},
          "execution_count": 30
        }
      ]
    },
    {
      "cell_type": "code",
      "source": [
        "a = []\n",
        "for i in range(300):\n",
        "    subset = event_np[i][:, :1000].reshape(-1)\n",
        "    a.append(subset)\n",
        "\n",
        "# a = [event_np[0][:, :3000].reshape(-1),event_np[1][:, :3000].reshape(-1)]"
      ],
      "metadata": {
        "id": "vJQotWwIZ0TO"
      },
      "execution_count": 31,
      "outputs": []
    },
    {
      "cell_type": "code",
      "source": [
        "for i in range(299):\n",
        "    subset = noise_np[i][:, :1000].reshape(-1)\n",
        "    a.append(subset)"
      ],
      "metadata": {
        "id": "JWhQrUJga_gj"
      },
      "execution_count": 32,
      "outputs": []
    },
    {
      "cell_type": "code",
      "source": [
        "main_df = pd.DataFrame(a)"
      ],
      "metadata": {
        "id": "urv73Tg4aIOR"
      },
      "execution_count": 33,
      "outputs": []
    },
    {
      "cell_type": "code",
      "source": [
        "main_df['category'] = 1"
      ],
      "metadata": {
        "id": "3ajqf2z7aIrU"
      },
      "execution_count": 34,
      "outputs": []
    },
    {
      "cell_type": "code",
      "source": [
        "main_df.loc[300:, 'category'] = 0"
      ],
      "metadata": {
        "id": "2o2of9Wxairi"
      },
      "execution_count": 35,
      "outputs": []
    },
    {
      "cell_type": "code",
      "source": [
        "main_df.head(5)"
      ],
      "metadata": {
        "colab": {
          "base_uri": "https://localhost:8080/",
          "height": 236
        },
        "id": "aqjUfD8_eFiH",
        "outputId": "e6c75dba-555d-495b-f396-2afca9d97c28"
      },
      "execution_count": 36,
      "outputs": [
        {
          "output_type": "execute_result",
          "data": {
            "text/plain": [
              "    0   1   2   3   4   5   6   7   8   9  ...  2991  2992  2993  2994  2995  \\\n",
              "0 -19  12 -14  11 -10  11 -10  10 -12   6  ...     0    -1     0     0     0   \n",
              "1  -2   2  -1   0  -5  -1   0   1   1  -2  ...     3     4     0     2     3   \n",
              "2   0   0   0   1  -1   1   0   0   1  -1  ...     0     0     0     0     0   \n",
              "3  10  -8   4  -6   5 -10   3  -7   2 -10  ...     0     3     5    -2     1   \n",
              "4 -11 -33  28  28  -2 -45   0  23  -3  11  ...     1     4     3    -3     0   \n",
              "\n",
              "   2996  2997  2998  2999  category  \n",
              "0    -1     0     3     0         1  \n",
              "1    -3     2     0     0         1  \n",
              "2     0     0     1     0         1  \n",
              "3    -2     0    -2     0         1  \n",
              "4    -1     1    -4     3         1  \n",
              "\n",
              "[5 rows x 3001 columns]"
            ],
            "text/html": [
              "\n",
              "  <div id=\"df-3641e112-ac39-4bcd-8a3b-a85902088f22\" class=\"colab-df-container\">\n",
              "    <div>\n",
              "<style scoped>\n",
              "    .dataframe tbody tr th:only-of-type {\n",
              "        vertical-align: middle;\n",
              "    }\n",
              "\n",
              "    .dataframe tbody tr th {\n",
              "        vertical-align: top;\n",
              "    }\n",
              "\n",
              "    .dataframe thead th {\n",
              "        text-align: right;\n",
              "    }\n",
              "</style>\n",
              "<table border=\"1\" class=\"dataframe\">\n",
              "  <thead>\n",
              "    <tr style=\"text-align: right;\">\n",
              "      <th></th>\n",
              "      <th>0</th>\n",
              "      <th>1</th>\n",
              "      <th>2</th>\n",
              "      <th>3</th>\n",
              "      <th>4</th>\n",
              "      <th>5</th>\n",
              "      <th>6</th>\n",
              "      <th>7</th>\n",
              "      <th>8</th>\n",
              "      <th>9</th>\n",
              "      <th>...</th>\n",
              "      <th>2991</th>\n",
              "      <th>2992</th>\n",
              "      <th>2993</th>\n",
              "      <th>2994</th>\n",
              "      <th>2995</th>\n",
              "      <th>2996</th>\n",
              "      <th>2997</th>\n",
              "      <th>2998</th>\n",
              "      <th>2999</th>\n",
              "      <th>category</th>\n",
              "    </tr>\n",
              "  </thead>\n",
              "  <tbody>\n",
              "    <tr>\n",
              "      <th>0</th>\n",
              "      <td>-19</td>\n",
              "      <td>12</td>\n",
              "      <td>-14</td>\n",
              "      <td>11</td>\n",
              "      <td>-10</td>\n",
              "      <td>11</td>\n",
              "      <td>-10</td>\n",
              "      <td>10</td>\n",
              "      <td>-12</td>\n",
              "      <td>6</td>\n",
              "      <td>...</td>\n",
              "      <td>0</td>\n",
              "      <td>-1</td>\n",
              "      <td>0</td>\n",
              "      <td>0</td>\n",
              "      <td>0</td>\n",
              "      <td>-1</td>\n",
              "      <td>0</td>\n",
              "      <td>3</td>\n",
              "      <td>0</td>\n",
              "      <td>1</td>\n",
              "    </tr>\n",
              "    <tr>\n",
              "      <th>1</th>\n",
              "      <td>-2</td>\n",
              "      <td>2</td>\n",
              "      <td>-1</td>\n",
              "      <td>0</td>\n",
              "      <td>-5</td>\n",
              "      <td>-1</td>\n",
              "      <td>0</td>\n",
              "      <td>1</td>\n",
              "      <td>1</td>\n",
              "      <td>-2</td>\n",
              "      <td>...</td>\n",
              "      <td>3</td>\n",
              "      <td>4</td>\n",
              "      <td>0</td>\n",
              "      <td>2</td>\n",
              "      <td>3</td>\n",
              "      <td>-3</td>\n",
              "      <td>2</td>\n",
              "      <td>0</td>\n",
              "      <td>0</td>\n",
              "      <td>1</td>\n",
              "    </tr>\n",
              "    <tr>\n",
              "      <th>2</th>\n",
              "      <td>0</td>\n",
              "      <td>0</td>\n",
              "      <td>0</td>\n",
              "      <td>1</td>\n",
              "      <td>-1</td>\n",
              "      <td>1</td>\n",
              "      <td>0</td>\n",
              "      <td>0</td>\n",
              "      <td>1</td>\n",
              "      <td>-1</td>\n",
              "      <td>...</td>\n",
              "      <td>0</td>\n",
              "      <td>0</td>\n",
              "      <td>0</td>\n",
              "      <td>0</td>\n",
              "      <td>0</td>\n",
              "      <td>0</td>\n",
              "      <td>0</td>\n",
              "      <td>1</td>\n",
              "      <td>0</td>\n",
              "      <td>1</td>\n",
              "    </tr>\n",
              "    <tr>\n",
              "      <th>3</th>\n",
              "      <td>10</td>\n",
              "      <td>-8</td>\n",
              "      <td>4</td>\n",
              "      <td>-6</td>\n",
              "      <td>5</td>\n",
              "      <td>-10</td>\n",
              "      <td>3</td>\n",
              "      <td>-7</td>\n",
              "      <td>2</td>\n",
              "      <td>-10</td>\n",
              "      <td>...</td>\n",
              "      <td>0</td>\n",
              "      <td>3</td>\n",
              "      <td>5</td>\n",
              "      <td>-2</td>\n",
              "      <td>1</td>\n",
              "      <td>-2</td>\n",
              "      <td>0</td>\n",
              "      <td>-2</td>\n",
              "      <td>0</td>\n",
              "      <td>1</td>\n",
              "    </tr>\n",
              "    <tr>\n",
              "      <th>4</th>\n",
              "      <td>-11</td>\n",
              "      <td>-33</td>\n",
              "      <td>28</td>\n",
              "      <td>28</td>\n",
              "      <td>-2</td>\n",
              "      <td>-45</td>\n",
              "      <td>0</td>\n",
              "      <td>23</td>\n",
              "      <td>-3</td>\n",
              "      <td>11</td>\n",
              "      <td>...</td>\n",
              "      <td>1</td>\n",
              "      <td>4</td>\n",
              "      <td>3</td>\n",
              "      <td>-3</td>\n",
              "      <td>0</td>\n",
              "      <td>-1</td>\n",
              "      <td>1</td>\n",
              "      <td>-4</td>\n",
              "      <td>3</td>\n",
              "      <td>1</td>\n",
              "    </tr>\n",
              "  </tbody>\n",
              "</table>\n",
              "<p>5 rows × 3001 columns</p>\n",
              "</div>\n",
              "    <div class=\"colab-df-buttons\">\n",
              "\n",
              "  <div class=\"colab-df-container\">\n",
              "    <button class=\"colab-df-convert\" onclick=\"convertToInteractive('df-3641e112-ac39-4bcd-8a3b-a85902088f22')\"\n",
              "            title=\"Convert this dataframe to an interactive table.\"\n",
              "            style=\"display:none;\">\n",
              "\n",
              "  <svg xmlns=\"http://www.w3.org/2000/svg\" height=\"24px\" viewBox=\"0 -960 960 960\">\n",
              "    <path d=\"M120-120v-720h720v720H120Zm60-500h600v-160H180v160Zm220 220h160v-160H400v160Zm0 220h160v-160H400v160ZM180-400h160v-160H180v160Zm440 0h160v-160H620v160ZM180-180h160v-160H180v160Zm440 0h160v-160H620v160Z\"/>\n",
              "  </svg>\n",
              "    </button>\n",
              "\n",
              "  <style>\n",
              "    .colab-df-container {\n",
              "      display:flex;\n",
              "      gap: 12px;\n",
              "    }\n",
              "\n",
              "    .colab-df-convert {\n",
              "      background-color: #E8F0FE;\n",
              "      border: none;\n",
              "      border-radius: 50%;\n",
              "      cursor: pointer;\n",
              "      display: none;\n",
              "      fill: #1967D2;\n",
              "      height: 32px;\n",
              "      padding: 0 0 0 0;\n",
              "      width: 32px;\n",
              "    }\n",
              "\n",
              "    .colab-df-convert:hover {\n",
              "      background-color: #E2EBFA;\n",
              "      box-shadow: 0px 1px 2px rgba(60, 64, 67, 0.3), 0px 1px 3px 1px rgba(60, 64, 67, 0.15);\n",
              "      fill: #174EA6;\n",
              "    }\n",
              "\n",
              "    .colab-df-buttons div {\n",
              "      margin-bottom: 4px;\n",
              "    }\n",
              "\n",
              "    [theme=dark] .colab-df-convert {\n",
              "      background-color: #3B4455;\n",
              "      fill: #D2E3FC;\n",
              "    }\n",
              "\n",
              "    [theme=dark] .colab-df-convert:hover {\n",
              "      background-color: #434B5C;\n",
              "      box-shadow: 0px 1px 3px 1px rgba(0, 0, 0, 0.15);\n",
              "      filter: drop-shadow(0px 1px 2px rgba(0, 0, 0, 0.3));\n",
              "      fill: #FFFFFF;\n",
              "    }\n",
              "  </style>\n",
              "\n",
              "    <script>\n",
              "      const buttonEl =\n",
              "        document.querySelector('#df-3641e112-ac39-4bcd-8a3b-a85902088f22 button.colab-df-convert');\n",
              "      buttonEl.style.display =\n",
              "        google.colab.kernel.accessAllowed ? 'block' : 'none';\n",
              "\n",
              "      async function convertToInteractive(key) {\n",
              "        const element = document.querySelector('#df-3641e112-ac39-4bcd-8a3b-a85902088f22');\n",
              "        const dataTable =\n",
              "          await google.colab.kernel.invokeFunction('convertToInteractive',\n",
              "                                                    [key], {});\n",
              "        if (!dataTable) return;\n",
              "\n",
              "        const docLinkHtml = 'Like what you see? Visit the ' +\n",
              "          '<a target=\"_blank\" href=https://colab.research.google.com/notebooks/data_table.ipynb>data table notebook</a>'\n",
              "          + ' to learn more about interactive tables.';\n",
              "        element.innerHTML = '';\n",
              "        dataTable['output_type'] = 'display_data';\n",
              "        await google.colab.output.renderOutput(dataTable, element);\n",
              "        const docLink = document.createElement('div');\n",
              "        docLink.innerHTML = docLinkHtml;\n",
              "        element.appendChild(docLink);\n",
              "      }\n",
              "    </script>\n",
              "  </div>\n",
              "\n",
              "\n",
              "<div id=\"df-cfa26cdb-b905-4597-b409-c74b55371a3e\">\n",
              "  <button class=\"colab-df-quickchart\" onclick=\"quickchart('df-cfa26cdb-b905-4597-b409-c74b55371a3e')\"\n",
              "            title=\"Suggest charts.\"\n",
              "            style=\"display:none;\">\n",
              "\n",
              "<svg xmlns=\"http://www.w3.org/2000/svg\" height=\"24px\"viewBox=\"0 0 24 24\"\n",
              "     width=\"24px\">\n",
              "    <g>\n",
              "        <path d=\"M19 3H5c-1.1 0-2 .9-2 2v14c0 1.1.9 2 2 2h14c1.1 0 2-.9 2-2V5c0-1.1-.9-2-2-2zM9 17H7v-7h2v7zm4 0h-2V7h2v10zm4 0h-2v-4h2v4z\"/>\n",
              "    </g>\n",
              "</svg>\n",
              "  </button>\n",
              "\n",
              "<style>\n",
              "  .colab-df-quickchart {\n",
              "      --bg-color: #E8F0FE;\n",
              "      --fill-color: #1967D2;\n",
              "      --hover-bg-color: #E2EBFA;\n",
              "      --hover-fill-color: #174EA6;\n",
              "      --disabled-fill-color: #AAA;\n",
              "      --disabled-bg-color: #DDD;\n",
              "  }\n",
              "\n",
              "  [theme=dark] .colab-df-quickchart {\n",
              "      --bg-color: #3B4455;\n",
              "      --fill-color: #D2E3FC;\n",
              "      --hover-bg-color: #434B5C;\n",
              "      --hover-fill-color: #FFFFFF;\n",
              "      --disabled-bg-color: #3B4455;\n",
              "      --disabled-fill-color: #666;\n",
              "  }\n",
              "\n",
              "  .colab-df-quickchart {\n",
              "    background-color: var(--bg-color);\n",
              "    border: none;\n",
              "    border-radius: 50%;\n",
              "    cursor: pointer;\n",
              "    display: none;\n",
              "    fill: var(--fill-color);\n",
              "    height: 32px;\n",
              "    padding: 0;\n",
              "    width: 32px;\n",
              "  }\n",
              "\n",
              "  .colab-df-quickchart:hover {\n",
              "    background-color: var(--hover-bg-color);\n",
              "    box-shadow: 0 1px 2px rgba(60, 64, 67, 0.3), 0 1px 3px 1px rgba(60, 64, 67, 0.15);\n",
              "    fill: var(--button-hover-fill-color);\n",
              "  }\n",
              "\n",
              "  .colab-df-quickchart-complete:disabled,\n",
              "  .colab-df-quickchart-complete:disabled:hover {\n",
              "    background-color: var(--disabled-bg-color);\n",
              "    fill: var(--disabled-fill-color);\n",
              "    box-shadow: none;\n",
              "  }\n",
              "\n",
              "  .colab-df-spinner {\n",
              "    border: 2px solid var(--fill-color);\n",
              "    border-color: transparent;\n",
              "    border-bottom-color: var(--fill-color);\n",
              "    animation:\n",
              "      spin 1s steps(1) infinite;\n",
              "  }\n",
              "\n",
              "  @keyframes spin {\n",
              "    0% {\n",
              "      border-color: transparent;\n",
              "      border-bottom-color: var(--fill-color);\n",
              "      border-left-color: var(--fill-color);\n",
              "    }\n",
              "    20% {\n",
              "      border-color: transparent;\n",
              "      border-left-color: var(--fill-color);\n",
              "      border-top-color: var(--fill-color);\n",
              "    }\n",
              "    30% {\n",
              "      border-color: transparent;\n",
              "      border-left-color: var(--fill-color);\n",
              "      border-top-color: var(--fill-color);\n",
              "      border-right-color: var(--fill-color);\n",
              "    }\n",
              "    40% {\n",
              "      border-color: transparent;\n",
              "      border-right-color: var(--fill-color);\n",
              "      border-top-color: var(--fill-color);\n",
              "    }\n",
              "    60% {\n",
              "      border-color: transparent;\n",
              "      border-right-color: var(--fill-color);\n",
              "    }\n",
              "    80% {\n",
              "      border-color: transparent;\n",
              "      border-right-color: var(--fill-color);\n",
              "      border-bottom-color: var(--fill-color);\n",
              "    }\n",
              "    90% {\n",
              "      border-color: transparent;\n",
              "      border-bottom-color: var(--fill-color);\n",
              "    }\n",
              "  }\n",
              "</style>\n",
              "\n",
              "  <script>\n",
              "    async function quickchart(key) {\n",
              "      const quickchartButtonEl =\n",
              "        document.querySelector('#' + key + ' button');\n",
              "      quickchartButtonEl.disabled = true;  // To prevent multiple clicks.\n",
              "      quickchartButtonEl.classList.add('colab-df-spinner');\n",
              "      try {\n",
              "        const charts = await google.colab.kernel.invokeFunction(\n",
              "            'suggestCharts', [key], {});\n",
              "      } catch (error) {\n",
              "        console.error('Error during call to suggestCharts:', error);\n",
              "      }\n",
              "      quickchartButtonEl.classList.remove('colab-df-spinner');\n",
              "      quickchartButtonEl.classList.add('colab-df-quickchart-complete');\n",
              "    }\n",
              "    (() => {\n",
              "      let quickchartButtonEl =\n",
              "        document.querySelector('#df-cfa26cdb-b905-4597-b409-c74b55371a3e button');\n",
              "      quickchartButtonEl.style.display =\n",
              "        google.colab.kernel.accessAllowed ? 'block' : 'none';\n",
              "    })();\n",
              "  </script>\n",
              "</div>\n",
              "    </div>\n",
              "  </div>\n"
            ]
          },
          "metadata": {},
          "execution_count": 36
        }
      ]
    },
    {
      "cell_type": "code",
      "source": [
        "main_df.to_csv(\"/content/drive/MyDrive/dataset/sample dataset/input.csv\",index=False)"
      ],
      "metadata": {
        "id": "Ys1lsldpajfl"
      },
      "execution_count": 37,
      "outputs": []
    },
    {
      "cell_type": "code",
      "source": [],
      "metadata": {
        "id": "9b674riSeVSB"
      },
      "execution_count": 37,
      "outputs": []
    },
    {
      "cell_type": "code",
      "source": [],
      "metadata": {
        "id": "nLZLcPF9dVwZ"
      },
      "execution_count": 37,
      "outputs": []
    }
  ]
}