{
  "nbformat": 4,
  "nbformat_minor": 0,
  "metadata": {
    "colab": {
      "provenance": [],
      "include_colab_link": true
    },
    "kernelspec": {
      "name": "python3",
      "display_name": "Python 3"
    },
    "language_info": {
      "name": "python"
    }
  },
  "cells": [
    {
      "cell_type": "markdown",
      "metadata": {
        "id": "view-in-github",
        "colab_type": "text"
      },
      "source": [
        "<a href=\"https://colab.research.google.com/github/Santhoshi-Ravi/earthquake_detection/blob/main/Creating%20Dataset%20from%20Sample%20Dataset.ipynb\" target=\"_parent\"><img src=\"https://colab.research.google.com/assets/colab-badge.svg\" alt=\"Open In Colab\"/></a>"
      ]
    },
    {
      "cell_type": "code",
      "execution_count": 1,
      "metadata": {
        "colab": {
          "base_uri": "https://localhost:8080/"
        },
        "id": "ZHT26xgqgMiJ",
        "outputId": "de2c5432-db69-4290-fd9d-471c195ecfbc"
      },
      "outputs": [
        {
          "output_type": "stream",
          "name": "stdout",
          "text": [
            "Mounted at /content/drive\n"
          ]
        }
      ],
      "source": [
        "from google.colab import drive\n",
        "drive.mount('/content/drive')"
      ]
    },
    {
      "cell_type": "code",
      "source": [
        "import pandas as pd"
      ],
      "metadata": {
        "id": "OO3w5Fh5gZN2"
      },
      "execution_count": 2,
      "outputs": []
    },
    {
      "cell_type": "code",
      "source": [
        "event_df = pd.read_csv(\"/content/drive/MyDrive/dataset/sample dataset/metadata_Instance_events_10k.csv\")"
      ],
      "metadata": {
        "id": "Ph7GgkunghmJ"
      },
      "execution_count": 3,
      "outputs": []
    },
    {
      "cell_type": "code",
      "source": [
        "noise_df = pd.read_csv(\"/content/drive/MyDrive/dataset/sample dataset/metadata_Instance_noise_1k.csv\")"
      ],
      "metadata": {
        "id": "r2NPxSahgtJm"
      },
      "execution_count": 4,
      "outputs": []
    },
    {
      "cell_type": "code",
      "source": [
        "df1_cols = event_df.columns\n",
        "df2_cols = noise_df.columns"
      ],
      "metadata": {
        "id": "NucDsalohODY"
      },
      "execution_count": 5,
      "outputs": []
    },
    {
      "cell_type": "code",
      "source": [
        "len(df1_cols),len(df2_cols)"
      ],
      "metadata": {
        "colab": {
          "base_uri": "https://localhost:8080/"
        },
        "id": "PXMQd8k2hWBf",
        "outputId": "6678caa1-56f3-49b5-8623-faef37af4e77"
      },
      "execution_count": 6,
      "outputs": [
        {
          "output_type": "execute_result",
          "data": {
            "text/plain": [
              "(115, 43)"
            ]
          },
          "metadata": {},
          "execution_count": 6
        }
      ]
    },
    {
      "cell_type": "code",
      "source": [
        "set(df1_cols).difference(df2_cols)"
      ],
      "metadata": {
        "colab": {
          "base_uri": "https://localhost:8080/"
        },
        "id": "OhvsOv3PhbVO",
        "outputId": "3de5af90-8eaf-4d0f-a6c9-60518f9aedc0"
      },
      "execution_count": 7,
      "outputs": [
        {
          "output_type": "execute_result",
          "data": {
            "text/plain": [
              "{'path_azimuth_deg',\n",
              " 'path_backazimuth_deg',\n",
              " 'path_ep_distance_km',\n",
              " 'path_hyp_distance_km',\n",
              " 'path_residual_P_s',\n",
              " 'path_residual_S_s',\n",
              " 'path_travel_time_P_s',\n",
              " 'path_travel_time_S_s',\n",
              " 'path_weight_phase_location_P',\n",
              " 'path_weight_phase_location_S',\n",
              " 'source_depth_km',\n",
              " 'source_depth_uncertainty_km',\n",
              " 'source_gap_deg',\n",
              " 'source_horizontal_uncertainty_km',\n",
              " 'source_latitude_deg',\n",
              " 'source_latitude_uncertainty_deg',\n",
              " 'source_longitude_deg',\n",
              " 'source_longitude_uncertainty_deg',\n",
              " 'source_magnitude',\n",
              " 'source_magnitude_type',\n",
              " 'source_mechanism_moment_tensor',\n",
              " 'source_mechanism_strike_dip_rake',\n",
              " 'source_mt_eval_mode',\n",
              " 'source_mt_scalar_moment_Nm',\n",
              " 'source_mt_status',\n",
              " 'source_origin_time',\n",
              " 'source_origin_uncertainty_s',\n",
              " 'source_stderror_s',\n",
              " 'source_type',\n",
              " 'trace_E_pga_cmps2',\n",
              " 'trace_E_pga_perc',\n",
              " 'trace_E_pga_time',\n",
              " 'trace_E_pgv_cmps',\n",
              " 'trace_E_pgv_time',\n",
              " 'trace_E_sa03_cmps2',\n",
              " 'trace_E_sa10_cmps2',\n",
              " 'trace_E_sa30_cmps2',\n",
              " 'trace_E_snr_db',\n",
              " 'trace_N_pga_cmps2',\n",
              " 'trace_N_pga_perc',\n",
              " 'trace_N_pga_time',\n",
              " 'trace_N_pgv_cmps',\n",
              " 'trace_N_pgv_time',\n",
              " 'trace_N_sa03_cmps2',\n",
              " 'trace_N_sa10_cmps2',\n",
              " 'trace_N_sa30_cmps2',\n",
              " 'trace_N_snr_db',\n",
              " 'trace_P_arrival_sample',\n",
              " 'trace_P_arrival_time',\n",
              " 'trace_P_uncertainty_s',\n",
              " 'trace_S_arrival_sample',\n",
              " 'trace_S_arrival_time',\n",
              " 'trace_S_uncertainty_s',\n",
              " 'trace_Z_pga_cmps2',\n",
              " 'trace_Z_pga_perc',\n",
              " 'trace_Z_pga_time',\n",
              " 'trace_Z_pgv_cmps',\n",
              " 'trace_Z_pgv_time',\n",
              " 'trace_Z_sa03_cmps2',\n",
              " 'trace_Z_sa10_cmps2',\n",
              " 'trace_Z_sa30_cmps2',\n",
              " 'trace_Z_snr_db',\n",
              " 'trace_deconvolved_units',\n",
              " 'trace_eval_P',\n",
              " 'trace_eval_S',\n",
              " 'trace_pga_cmps2',\n",
              " 'trace_pga_perc',\n",
              " 'trace_pgv_cmps',\n",
              " 'trace_polarity',\n",
              " 'trace_sa03_cmps2',\n",
              " 'trace_sa10_cmps2',\n",
              " 'trace_sa30_cmps2'}"
            ]
          },
          "metadata": {},
          "execution_count": 7
        }
      ]
    },
    {
      "cell_type": "code",
      "source": [
        "event_df.columns"
      ],
      "metadata": {
        "colab": {
          "base_uri": "https://localhost:8080/"
        },
        "id": "m7BtZ5vchv06",
        "outputId": "8995115d-1103-4995-bdc7-f93f42788dbd"
      },
      "execution_count": 8,
      "outputs": [
        {
          "output_type": "execute_result",
          "data": {
            "text/plain": [
              "Index(['source_id', 'station_network_code', 'station_code',\n",
              "       'station_location_code', 'station_channels', 'station_latitude_deg',\n",
              "       'station_longitude_deg', 'station_elevation_m', 'station_vs_30_mps',\n",
              "       'station_vs_30_detail',\n",
              "       ...\n",
              "       'trace_sa10_cmps2', 'trace_sa30_cmps2', 'trace_name',\n",
              "       'trace_GPD_P_number', 'trace_GPD_S_number',\n",
              "       'trace_EQT_number_detections', 'trace_EQT_P_number',\n",
              "       'trace_EQT_S_number', 'trace_deconvolved_units', 'source_type'],\n",
              "      dtype='object', length=115)"
            ]
          },
          "metadata": {},
          "execution_count": 8
        }
      ]
    },
    {
      "cell_type": "code",
      "source": [
        "event_df.head(1)"
      ],
      "metadata": {
        "colab": {
          "base_uri": "https://localhost:8080/",
          "height": 147
        },
        "id": "BGKT3ZLKzL8F",
        "outputId": "44b38f45-48d0-41cf-ff9a-f1304b1abc39"
      },
      "execution_count": 9,
      "outputs": [
        {
          "output_type": "execute_result",
          "data": {
            "text/plain": [
              "   source_id station_network_code station_code  station_location_code  \\\n",
              "0   11030611                   IV         OFFI                    NaN   \n",
              "\n",
              "  station_channels  station_latitude_deg  station_longitude_deg  \\\n",
              "0               HH                42.935                13.6857   \n",
              "\n",
              "   station_elevation_m  station_vs_30_mps          station_vs_30_detail  ...  \\\n",
              "0                320.0              580.0  Vs30 extracted from ShakeMap  ...   \n",
              "\n",
              "  trace_sa10_cmps2  trace_sa30_cmps2            trace_name  \\\n",
              "0          0.00104          0.000094  11030611.IV.OFFI..HH   \n",
              "\n",
              "   trace_GPD_P_number  trace_GPD_S_number  trace_EQT_number_detections  \\\n",
              "0                   1                   2                          1.0   \n",
              "\n",
              "   trace_EQT_P_number  trace_EQT_S_number  trace_deconvolved_units  \\\n",
              "0                 1.0                 1.0                      mps   \n",
              "\n",
              "   source_type  \n",
              "0   earthquake  \n",
              "\n",
              "[1 rows x 115 columns]"
            ],
            "text/html": [
              "\n",
              "  <div id=\"df-1fe4de8e-dd93-450b-9d9c-87fcda15d2dc\" class=\"colab-df-container\">\n",
              "    <div>\n",
              "<style scoped>\n",
              "    .dataframe tbody tr th:only-of-type {\n",
              "        vertical-align: middle;\n",
              "    }\n",
              "\n",
              "    .dataframe tbody tr th {\n",
              "        vertical-align: top;\n",
              "    }\n",
              "\n",
              "    .dataframe thead th {\n",
              "        text-align: right;\n",
              "    }\n",
              "</style>\n",
              "<table border=\"1\" class=\"dataframe\">\n",
              "  <thead>\n",
              "    <tr style=\"text-align: right;\">\n",
              "      <th></th>\n",
              "      <th>source_id</th>\n",
              "      <th>station_network_code</th>\n",
              "      <th>station_code</th>\n",
              "      <th>station_location_code</th>\n",
              "      <th>station_channels</th>\n",
              "      <th>station_latitude_deg</th>\n",
              "      <th>station_longitude_deg</th>\n",
              "      <th>station_elevation_m</th>\n",
              "      <th>station_vs_30_mps</th>\n",
              "      <th>station_vs_30_detail</th>\n",
              "      <th>...</th>\n",
              "      <th>trace_sa10_cmps2</th>\n",
              "      <th>trace_sa30_cmps2</th>\n",
              "      <th>trace_name</th>\n",
              "      <th>trace_GPD_P_number</th>\n",
              "      <th>trace_GPD_S_number</th>\n",
              "      <th>trace_EQT_number_detections</th>\n",
              "      <th>trace_EQT_P_number</th>\n",
              "      <th>trace_EQT_S_number</th>\n",
              "      <th>trace_deconvolved_units</th>\n",
              "      <th>source_type</th>\n",
              "    </tr>\n",
              "  </thead>\n",
              "  <tbody>\n",
              "    <tr>\n",
              "      <th>0</th>\n",
              "      <td>11030611</td>\n",
              "      <td>IV</td>\n",
              "      <td>OFFI</td>\n",
              "      <td>NaN</td>\n",
              "      <td>HH</td>\n",
              "      <td>42.935</td>\n",
              "      <td>13.6857</td>\n",
              "      <td>320.0</td>\n",
              "      <td>580.0</td>\n",
              "      <td>Vs30 extracted from ShakeMap</td>\n",
              "      <td>...</td>\n",
              "      <td>0.00104</td>\n",
              "      <td>0.000094</td>\n",
              "      <td>11030611.IV.OFFI..HH</td>\n",
              "      <td>1</td>\n",
              "      <td>2</td>\n",
              "      <td>1.0</td>\n",
              "      <td>1.0</td>\n",
              "      <td>1.0</td>\n",
              "      <td>mps</td>\n",
              "      <td>earthquake</td>\n",
              "    </tr>\n",
              "  </tbody>\n",
              "</table>\n",
              "<p>1 rows × 115 columns</p>\n",
              "</div>\n",
              "    <div class=\"colab-df-buttons\">\n",
              "\n",
              "  <div class=\"colab-df-container\">\n",
              "    <button class=\"colab-df-convert\" onclick=\"convertToInteractive('df-1fe4de8e-dd93-450b-9d9c-87fcda15d2dc')\"\n",
              "            title=\"Convert this dataframe to an interactive table.\"\n",
              "            style=\"display:none;\">\n",
              "\n",
              "  <svg xmlns=\"http://www.w3.org/2000/svg\" height=\"24px\" viewBox=\"0 -960 960 960\">\n",
              "    <path d=\"M120-120v-720h720v720H120Zm60-500h600v-160H180v160Zm220 220h160v-160H400v160Zm0 220h160v-160H400v160ZM180-400h160v-160H180v160Zm440 0h160v-160H620v160ZM180-180h160v-160H180v160Zm440 0h160v-160H620v160Z\"/>\n",
              "  </svg>\n",
              "    </button>\n",
              "\n",
              "  <style>\n",
              "    .colab-df-container {\n",
              "      display:flex;\n",
              "      gap: 12px;\n",
              "    }\n",
              "\n",
              "    .colab-df-convert {\n",
              "      background-color: #E8F0FE;\n",
              "      border: none;\n",
              "      border-radius: 50%;\n",
              "      cursor: pointer;\n",
              "      display: none;\n",
              "      fill: #1967D2;\n",
              "      height: 32px;\n",
              "      padding: 0 0 0 0;\n",
              "      width: 32px;\n",
              "    }\n",
              "\n",
              "    .colab-df-convert:hover {\n",
              "      background-color: #E2EBFA;\n",
              "      box-shadow: 0px 1px 2px rgba(60, 64, 67, 0.3), 0px 1px 3px 1px rgba(60, 64, 67, 0.15);\n",
              "      fill: #174EA6;\n",
              "    }\n",
              "\n",
              "    .colab-df-buttons div {\n",
              "      margin-bottom: 4px;\n",
              "    }\n",
              "\n",
              "    [theme=dark] .colab-df-convert {\n",
              "      background-color: #3B4455;\n",
              "      fill: #D2E3FC;\n",
              "    }\n",
              "\n",
              "    [theme=dark] .colab-df-convert:hover {\n",
              "      background-color: #434B5C;\n",
              "      box-shadow: 0px 1px 3px 1px rgba(0, 0, 0, 0.15);\n",
              "      filter: drop-shadow(0px 1px 2px rgba(0, 0, 0, 0.3));\n",
              "      fill: #FFFFFF;\n",
              "    }\n",
              "  </style>\n",
              "\n",
              "    <script>\n",
              "      const buttonEl =\n",
              "        document.querySelector('#df-1fe4de8e-dd93-450b-9d9c-87fcda15d2dc button.colab-df-convert');\n",
              "      buttonEl.style.display =\n",
              "        google.colab.kernel.accessAllowed ? 'block' : 'none';\n",
              "\n",
              "      async function convertToInteractive(key) {\n",
              "        const element = document.querySelector('#df-1fe4de8e-dd93-450b-9d9c-87fcda15d2dc');\n",
              "        const dataTable =\n",
              "          await google.colab.kernel.invokeFunction('convertToInteractive',\n",
              "                                                    [key], {});\n",
              "        if (!dataTable) return;\n",
              "\n",
              "        const docLinkHtml = 'Like what you see? Visit the ' +\n",
              "          '<a target=\"_blank\" href=https://colab.research.google.com/notebooks/data_table.ipynb>data table notebook</a>'\n",
              "          + ' to learn more about interactive tables.';\n",
              "        element.innerHTML = '';\n",
              "        dataTable['output_type'] = 'display_data';\n",
              "        await google.colab.output.renderOutput(dataTable, element);\n",
              "        const docLink = document.createElement('div');\n",
              "        docLink.innerHTML = docLinkHtml;\n",
              "        element.appendChild(docLink);\n",
              "      }\n",
              "    </script>\n",
              "  </div>\n",
              "\n",
              "    </div>\n",
              "  </div>\n"
            ]
          },
          "metadata": {},
          "execution_count": 9
        }
      ]
    },
    {
      "cell_type": "code",
      "source": [
        "import h5py\n",
        "filename = \"/content/drive/MyDrive/dataset/sample dataset/Instance_events_counts_10k.hdf5\""
      ],
      "metadata": {
        "id": "BjsHnqnmzvml"
      },
      "execution_count": 10,
      "outputs": []
    },
    {
      "cell_type": "code",
      "source": [
        "import numpy as np\n",
        "file = h5py.File(filename,\"r\")\n",
        "dataset = file[\"data\"]['11030611.IV.OFFI..HH']\n",
        "np.array(dataset)[0].size"
      ],
      "metadata": {
        "colab": {
          "base_uri": "https://localhost:8080/"
        },
        "id": "mc-02iKAE9hy",
        "outputId": "eeabc441-416d-4b9c-f793-b5472b41a2b3"
      },
      "execution_count": 11,
      "outputs": [
        {
          "output_type": "execute_result",
          "data": {
            "text/plain": [
              "12000"
            ]
          },
          "metadata": {},
          "execution_count": 11
        }
      ]
    },
    {
      "cell_type": "code",
      "source": [],
      "metadata": {
        "id": "LMHHQrJ8IZ6V"
      },
      "execution_count": null,
      "outputs": []
    },
    {
      "cell_type": "code",
      "source": [
        "with h5py.File(filename, \"r\") as f:\n",
        "    # Print all root level object names (aka keys)\n",
        "    # these can be group or dataset names\n",
        "    print(\"Keys: %s\" % f.keys())\n",
        "    # get first object name/key; may or may NOT be a group\n",
        "    a_group_key = list(f.keys())[0]\n",
        "\n",
        "    # get the object type for a_group_key: usually group or dataset\n",
        "    print(type(f[a_group_key]))\n",
        "\n",
        "    # If a_group_key is a group name,\n",
        "    # this gets the object names in the group and returns as a list\n",
        "    data = list(f[a_group_key])\n",
        "\n"
      ],
      "metadata": {
        "colab": {
          "base_uri": "https://localhost:8080/"
        },
        "id": "bymw-_zB4Vfz",
        "outputId": "9d769294-092e-4686-8983-4d62e95b8011"
      },
      "execution_count": 12,
      "outputs": [
        {
          "output_type": "stream",
          "name": "stdout",
          "text": [
            "Keys: <KeysViewHDF5 ['data', 'data_format']>\n",
            "<class 'h5py._hl.group.Group'>\n"
          ]
        }
      ]
    },
    {
      "cell_type": "code",
      "source": [
        "with h5py.File(filename, \"r\") as f:\n",
        "  print(f['data'].get('11030611.IV.OFFI..HH').value)"
      ],
      "metadata": {
        "colab": {
          "base_uri": "https://localhost:8080/",
          "height": 193
        },
        "id": "55aHqsfq4jsj",
        "outputId": "fc081303-023c-474e-ea9e-e0823435c317"
      },
      "execution_count": 30,
      "outputs": [
        {
          "output_type": "error",
          "ename": "AttributeError",
          "evalue": "ignored",
          "traceback": [
            "\u001b[0;31m---------------------------------------------------------------------------\u001b[0m",
            "\u001b[0;31mAttributeError\u001b[0m                            Traceback (most recent call last)",
            "\u001b[0;32m<ipython-input-30-43f75dd0e415>\u001b[0m in \u001b[0;36m<cell line: 1>\u001b[0;34m()\u001b[0m\n\u001b[1;32m      1\u001b[0m \u001b[0;32mwith\u001b[0m \u001b[0mh5py\u001b[0m\u001b[0;34m.\u001b[0m\u001b[0mFile\u001b[0m\u001b[0;34m(\u001b[0m\u001b[0mfilename\u001b[0m\u001b[0;34m,\u001b[0m \u001b[0;34m\"r\"\u001b[0m\u001b[0;34m)\u001b[0m \u001b[0;32mas\u001b[0m \u001b[0mf\u001b[0m\u001b[0;34m:\u001b[0m\u001b[0;34m\u001b[0m\u001b[0;34m\u001b[0m\u001b[0m\n\u001b[0;32m----> 2\u001b[0;31m   \u001b[0mprint\u001b[0m\u001b[0;34m(\u001b[0m\u001b[0mf\u001b[0m\u001b[0;34m[\u001b[0m\u001b[0;34m'data'\u001b[0m\u001b[0;34m]\u001b[0m\u001b[0;34m.\u001b[0m\u001b[0mget\u001b[0m\u001b[0;34m(\u001b[0m\u001b[0;34m'11030611.IV.OFFI..HH'\u001b[0m\u001b[0;34m)\u001b[0m\u001b[0;34m.\u001b[0m\u001b[0mvalue\u001b[0m\u001b[0;34m)\u001b[0m\u001b[0;34m\u001b[0m\u001b[0;34m\u001b[0m\u001b[0m\n\u001b[0m",
            "\u001b[0;31mAttributeError\u001b[0m: 'Dataset' object has no attribute 'value'"
          ]
        }
      ]
    },
    {
      "cell_type": "code",
      "source": [
        "with h5py.File(filename, \"r\") as f:\n",
        "  print(f['data']['11030611.IV.OFFI..HH'])"
      ],
      "metadata": {
        "colab": {
          "base_uri": "https://localhost:8080/"
        },
        "id": "6Ng9xd87FTzc",
        "outputId": "b7ec43e1-e3f6-4632-d070-506b8fcb59e1"
      },
      "execution_count": 14,
      "outputs": [
        {
          "output_type": "stream",
          "name": "stdout",
          "text": [
            "<HDF5 dataset \"11030611.IV.OFFI..HH\": shape (3, 12000), type \"<i4\">\n"
          ]
        }
      ]
    },
    {
      "cell_type": "code",
      "source": [
        "with h5py.File(filename, \"r\") as f:\n",
        "  print(f['data'].keys())"
      ],
      "metadata": {
        "colab": {
          "base_uri": "https://localhost:8080/"
        },
        "id": "bkIUYZbN45KQ",
        "outputId": "78149da6-7905-490e-cc77-2701a3d0dbb8"
      },
      "execution_count": 15,
      "outputs": [
        {
          "output_type": "stream",
          "name": "stdout",
          "text": [
            "<KeysViewHDF5 ['11030611.IV.OFFI..HH', '11030611.IV.PIEI..HH', '11030611.IV.PIEI..HN', '11030611.IV.RM33..EH', '11030611.IV.RM33..HN', '11030611.IV.SEF1..HN', '11030611.IV.SNTG..HH', '11030611.IV.SNTG..HN', '11030611.IV.SSFR..HH', '11030611.IV.SSFR..HN', '11030611.IV.SSM1..HN', '11030611.IV.T0110..HH', '11030611.IV.T1201..HN', '11030611.IV.T1202..EH', '11030611.IV.T1204..EH', '11030611.IV.T1211..EH', '11030611.IV.T1211..HN', '11030611.IV.T1212..EH', '11030611.IV.T1212..HN', '11030611.IV.T1213..EH', '11030611.IV.T1213..HN', '11030611.IV.T1215..EH', '11030611.IV.T1215..HN', '11030611.IV.T1216..EH', '11030611.IV.T1216..HN', '11030611.IV.T1217..EH', '11030611.IV.T1217..HN', '11030611.IV.T1218..EH', '11030611.IV.T1218..HN', '11030611.IV.T1219..EH', '11030611.IV.T1219..HN', '11030611.IV.T1220..EH', '11030611.IV.T1220..HN', '11030611.IV.T1221..EH', '11030611.IV.T1221..HN', '11030611.IV.T1241..EH', '11030611.IV.T1241..HN', '11030611.IV.T1243..HH', '11030611.IV.T1243..HN', '11030611.IV.T1244..EH', '11030611.IV.T1244..HN', '11030611.IV.T1245..HH', '11030611.IV.T1245..HN', '11030611.IV.T1246..HH', '11030611.IV.T1247..HH', '11030611.IV.T1256..HH', '11030611.IV.T1256..HN', '11030611.IV.T1299..EH', '11030611.IV.T1299..HN', '11030611.IV.TERO..HH', '11030611.IV.TERO..HN', '11030611.IV.VCEL..EH', '11030911.IV.CESI..HH', '11030911.IV.CSP1..EH', '11030911.IV.FDMO..HH', '11030911.IV.GUMA..HH', '11030911.IV.GUMA..HN', '11030911.IV.MC2..EH', '11030911.IV.MMO1..EH', '11030911.IV.MMO1..HN', '11030911.IV.T1215..EH', '11030911.IV.T1215..HN', '11030911.IV.T1219..EH', '11030911.IV.T1219..HN', '11030911.IV.T1245..HH', '11030911.IV.T1245..HN', '11030911.IV.T1256..HH', '11030911.IV.T1256..HN', '11031361.IV.ASSB..HH', '11031361.IV.ATCC..EH', '11031361.IV.CAMP..HH', '11031361.IV.CESI..HH', '11031361.IV.CSP1..EH', '11031361.IV.FDMO..HH', '11031361.IV.FIAM..HH', '11031361.IV.FIAM..HN', '11031361.IV.GUMA..HH', '11031361.IV.GUMA..HN', '11031361.IV.LNSS..HH', '11031361.IV.MC2..EH', '11031361.IV.MMO1..EH', '11031361.IV.MMO1..HN', '11031361.IV.NRCA..HH', '11031361.IV.NRCA..HN', '11031361.IV.OFFI..HH', '11031361.IV.RM33..EH', '11031361.IV.RM33..HN', '11031361.IV.SEF1..HN', '11031361.IV.T0110..HH', '11031361.IV.T1215..EH', '11031361.IV.T1215..HN', '11031361.IV.T1218..EH', '11031361.IV.T1218..HN', '11031361.IV.T1219..EH', '11031361.IV.T1219..HN', '11031361.IV.T1241..EH', '11031361.IV.T1241..HN', '11031361.IV.T1243..HH', '11031361.IV.T1243..HN', '11031361.IV.T1245..HH', '11031361.IV.T1245..HN', '11031361.IV.TERO..HH', '11031361.IV.TERO..HN', '11032751.IV.AOI..HH', '11032751.IV.ARVD..HH', '11032751.IV.ASQU..HH', '11032751.IV.ATCC..EH', '11032751.IV.ATCC..HN', '11032751.IV.ATFO..HH', '11032751.IV.ATFO..HN', '11032751.IV.ATLO..EH', '11032751.IV.ATLO..HN', '11032751.IV.ATMC..EH', '11032751.IV.ATPC..HH', '11032751.IV.ATPC..HN', '11032751.IV.ATSC..EH', '11032751.IV.ATVA..EH', '11032751.IV.ATVO..HH', '11032751.IV.ATVO..HN', '11032751.IV.BADI..EH', '11032751.IV.CAFI..HH', '11032751.IV.CAFI..HN', '11032751.IV.CAMP..HH', '11032751.IV.CERT..HH', '11032751.IV.CESI..HH', '11032751.IV.CESX..HH', '11032751.IV.CING..HH', '11032751.IV.CRE..HH', '11032751.IV.CSP1..EH', '11032751.IV.FAGN..HH', '11032751.IV.FDMO..HH', '11032751.IV.FEMA..HN', '11032751.IV.FIAM..HH', '11032751.IV.FIAM..HN', '11032751.IV.FIU1..HN', '11032751.IV.FOSV..EH', '11032751.IV.FOSV..HN', '11032751.IV.FRON..EH', '11032751.IV.FSSB..HH', '11032751.IV.GAG1..HN', '11032751.IV.GIGS..HH', '11032751.IV.GUMA..HH', '11032751.IV.GUMA..HN', '11032751.IV.INTR..HH', '11032751.IV.INTR..HN', '11032751.IV.LATB..EH', '11032751.IV.LNSS..HH', '11032751.IV.MC2..EH', '11032751.IV.MCIV..HH', '11032751.IV.MDAR..HN', '11032751.IV.MGAB..HN', '11032751.IV.MMUR..HN', '11032751.IV.MOMA..HH', '11032751.IV.MOMA..HN', '11032751.IV.MPAG..EH', '11032751.IV.MPAG..HN', '11032751.IV.MTCE..HH', '11032751.IV.MTL1..HN', '11032751.IV.MURB..HH', '11032751.IV.MURB..HN', '11032751.IV.NRCA..HH', '11032751.IV.NRCA..HN', '11032751.IV.OFFI..HH', '11032751.IV.PE3..EH', '11032751.IV.PIEI..HH', '11032751.IV.PIEI..HN', '11032751.IV.PP3..EH', '11032751.IV.PP3..HN', '11032751.IV.RM33..EH', '11032751.IV.RM33..HN', '11032751.IV.SACS..HH', '11032751.IV.SACS..HN', '11032751.IV.SEF1..HN', '11032751.IV.SMA1..EH', '11032751.IV.SNTG..HH', '11032751.IV.SNTG..HN', '11032751.IV.SSFR..HH', '11032751.IV.SSFR..HN', '11032751.IV.SSM1..HN', '11032751.IV.T0110..HH', '11032751.IV.T1201..HN', '11032751.IV.T1202..EH', '11032751.IV.T1204..EH', '11032751.IV.T1211..EH', '11032751.IV.T1211..HN', '11032751.IV.T1212..EH', '11032751.IV.T1212..HN', '11032751.IV.T1213..EH', '11032751.IV.T1213..HN', '11032751.IV.T1215..EH', '11032751.IV.T1215..HN', '11032751.IV.T1216..EH', '11032751.IV.T1216..HN', '11032751.IV.T1217..EH', '11032751.IV.T1217..HN', '11032751.IV.T1218..EH', '11032751.IV.T1218..HN', '11032751.IV.T1219..EH', '11032751.IV.T1219..HN', '11032751.IV.T1220..EH', '11032751.IV.T1220..HN', '11032751.IV.T1221..EH', '11032751.IV.T1221..HN', '11032751.IV.T1241..EH', '11032751.IV.T1243..HH', '11032751.IV.T1243..HN', '11032751.IV.T1244..EH', '11032751.IV.T1244..HN', '11032751.IV.T1245..HH', '11032751.IV.T1245..HN', '11032751.IV.T1246..HH', '11032751.IV.T1247..HH', '11032751.IV.T1256..HH', '11032751.IV.T1256..HN', '11032751.IV.T1299..EH', '11032751.IV.T1299..HN', '11032751.IV.TERO..HH', '11032751.IV.TERO..HN', '11032751.IV.TOLF..HH', '11032751.IV.VCEL..EH', '11032751.MN.AQU..HH', '11032751.MN.AQU..HL', '11032751.XO.AM05..EH', '11032751.XO.AM05..HN', '1103291.IV.CSNT..HH', '1103291.IV.MODE..HN', '1103291.IV.MSSA..HH', '1103291.IV.NOVE..EH', '1103291.IV.RAVA..EH', '1103291.IV.ROVR..HH', '1103291.IV.SALO..HH', '1103291.IV.SBPO..HH', '1103291.IV.T0800..HH', '1103291.IV.T0800..HN', '1103291.IV.T0802..HN', '1103291.IV.T0819..EH', '1103291.IV.T0819..HN', '1103291.IV.T0822..EH', '1103291.IV.T0825..EH', '1103291.IV.TEOL..HH', '1103291.IV.ZCCA..HH', '1103291.IV.ZCCA..HN', '11033161.IV.CESI..HH', '11033161.IV.CSP1..EH', '11033161.IV.FDMO..HH', '11033161.IV.FEMA..HN', '11033161.IV.GUMA..HH', '11033161.IV.GUMA..HN', '11033161.IV.MC2..EH', '11033161.IV.MMO1..EH', '11033161.IV.MMO1..HN', '11033161.IV.NRCA..HH', '11033161.IV.NRCA..HN', '11033161.IV.SNTG..HH', '11033161.IV.SNTG..HN', '11033161.IV.T1215..EH', '11033161.IV.T1215..HN', '11033161.IV.T1216..EH', '11033161.IV.T1216..HN', '11033161.IV.T1219..EH', '11033161.IV.T1219..HN', '11033161.IV.T1245..HH', '11033161.IV.T1245..HN', '11033161.IV.T1256..HH', '11033161.IV.T1256..HN', '11033871.IV.CAMP..HH', '11033871.IV.FIAM..HH', '11033871.IV.FIAM..HN', '11033871.IV.GIGS..HH', '11033871.IV.LNSS..HH', '11033871.IV.RM33..EH', '11033871.IV.RM33..HN', '11033871.IV.SMA1..EH', '11033871.IV.T1218..EH', '11033871.IV.T1218..HN', '11033871.IV.T1243..HH', '11033871.IV.T1243..HN', '11033871.IV.T1246..HH', '11033871.IV.T1247..HH', '11033871.IV.T1299..EH', '11033871.IV.T1299..HN', '11033871.IV.TERO..HH', '11033871.IV.TERO..HN', '1103391.IV.CAMP..HH', '1103391.IV.LNSS..HH', '1103391.IV.NRCA..HH', '1103391.IV.NRCA..HN', '1103391.IV.SMA1..EH', '1103391.IV.TERO..HH', '1103391.IV.TERO..HN', '11034421.IV.MC2..EH', '11034421.IV.MMO1..EH', '11034421.IV.MMO1..HN', '11034421.IV.NRCA..HH', '11034421.IV.NRCA..HN', '11034421.IV.SMA1..EH', '11034421.IV.T1218..EH', '11034421.IV.T1218..HN', '11034421.IV.T1243..HH', '11034421.IV.T1243..HN', '11035181.IV.CAMP..HH', '11035181.IV.LNSS..HH', '11035181.IV.MC2..EH', '11035181.IV.MMO1..EH', '11035181.IV.NRCA..HH', '11035181.IV.NRCA..HN', '11035181.IV.T1216..EH', '11035181.IV.T1216..HN', '11035181.IV.T1218..EH', '11035181.IV.T1218..HN', '11035181.IV.T1243..HH', '11035181.IV.T1243..HN', '11035181.IV.T1245..HH', '11035181.IV.T1245..HN', '11035491.IV.CESI..HH', '11035491.IV.CING..HH', '11035491.IV.CSP1..EH', '11035491.IV.EL6..EH', '11035491.IV.FDMO..HH', '11035491.IV.FEMA..HN', '11035491.IV.FOSV..EH', '11035491.IV.GUMA..HH', '11035491.IV.GUMA..HN', '11035491.IV.MC2..EH', '11035491.IV.MMO1..EH', '11035491.IV.SEF1..HN', '11035491.IV.SNTG..HH', '11035491.IV.SNTG..HN', '11035491.IV.T1215..EH', '11035491.IV.T1215..HN', '11035491.IV.T1216..EH', '11035491.IV.T1216..HN', '11035491.IV.T1219..EH', '11035491.IV.T1219..HN', '11035491.IV.T1245..HH', '11035491.IV.T1245..HN', '11035491.IV.T1256..HH', '11036421.IV.ARRO..EH', '11036421.IV.ARVD..HH', '11036421.IV.ATCC..EH', '11036421.IV.ATCC..HN', '11036421.IV.ATFO..HH', '11036421.IV.ATPI..EH', '11036421.IV.ATVO..HH', '11036421.IV.ATVO..HN', '11036421.IV.BADI..EH', '11036421.IV.CAMP..HH', '11036421.IV.CESI..HH', '11036421.IV.CESX..HH', '11036421.IV.CSP1..EH', '11036421.IV.EL6..EH', '11036421.IV.FAGN..HH', '11036421.IV.FDMO..HH', '11036421.IV.FEMA..HN', '11036421.IV.FIAM..HH', '11036421.IV.FIAM..HN', '11036421.IV.FIU1..HN', '11036421.IV.FOSV..EH', '11036421.IV.FOSV..HN', '11036421.IV.FSSB..HH', '11036421.IV.GAG1..HN', '11036421.IV.GIGS..HH', '11036421.IV.GUMA..HH', '11036421.IV.GUMA..HN', '11036421.IV.LNSS..HH', '11036421.IV.MC2..EH', '11036421.IV.MDAR..HN', '11036421.IV.MGAB..HH', '11036421.IV.MGAB..HN', '11036421.IV.MMO1..EH', '11036421.IV.MMO1..HN', '11036421.IV.MMUR..HN', '11036421.IV.MNTP..HN', '11036421.IV.MPAG..EH', '11036421.IV.MPAG..HN', '11036421.IV.MTL1..HN', '11036421.IV.MURB..HH', '11036421.IV.MURB..HN', '11036421.IV.NRCA..HH', '11036421.IV.NRCA..HN', '11036421.IV.OFFI..HH', '11036421.IV.PIEI..HH', '11036421.IV.PIEI..HN', '11036421.IV.RM33..EH', '11036421.IV.RM33..HN', '11036421.IV.SEF1..HN', '11036421.IV.SMA1..EH', '11036421.IV.SNTG..HH', '11036421.IV.SNTG..HN', '11036421.IV.T0110..HH', '11036421.IV.T1201..HN', '11036421.IV.T1202..EH', '11036421.IV.T1204..EH', '11036421.IV.T1212..EH', '11036421.IV.T1212..HN', '11036421.IV.T1213..EH', '11036421.IV.T1213..HN', '11036421.IV.T1215..EH', '11036421.IV.T1215..HN', '11036421.IV.T1216..EH', '11036421.IV.T1216..HN', '11036421.IV.T1217..EH', '11036421.IV.T1217..HN', '11036421.IV.T1218..EH', '11036421.IV.T1218..HN', '11036421.IV.T1219..EH', '11036421.IV.T1219..HN', '11036421.IV.T1220..EH', '11036421.IV.T1220..HN', '11036421.IV.T1221..EH', '11036421.IV.T1221..HN', '11036421.IV.T1241..EH', '11036421.IV.T1241..HN', '11036421.IV.T1243..HH', '11036421.IV.T1243..HN', '11036421.IV.T1244..EH', '11036421.IV.T1244..HN', '11036421.IV.T1245..HH', '11036421.IV.T1245..HN', '11036421.IV.T1256..HH', '11036421.IV.T1256..HN', '11036421.IV.T1299..EH', '11036421.IV.T1299..HN', '11036421.IV.TERO..HH', '11036421.IV.TERO..HN', '11036421.IV.VCEL..EH', '11036421.XO.AM05..EH', '11036421.XO.AM05..HN', '1103991.IV.CAMP..HH', '1103991.IV.LNSS..HH', '1103991.IV.NRCA..HH', '1103991.IV.NRCA..HN', '1103991.IV.SMA1..EH', '1103991.IV.TERO..HH', '1103991.IV.TERO..HN', '11041421.IV.CESI..HH', '11041421.IV.CSP1..EH', '11041421.IV.FDMO..HH', '11041421.IV.FEMA..HN', '11041421.IV.MC2..EH', '11041421.IV.NRCA..HH', '11041421.IV.NRCA..HN', '11041421.IV.SEF1..HN', '11041421.IV.T1216..EH', '11041421.IV.T1216..HN', '11041421.IV.T1219..EH', '11041421.IV.T1219..HN', '11041421.IV.T1245..HH', '11041421.IV.T1256..HH', '11041421.IV.T1256..HN', '11041511.IV.ARRO..EH', '11041511.IV.ARVD..HH', '11041511.IV.ASSB..HH', '11041511.IV.ATCC..EH', '11041511.IV.ATCC..HN', '11041511.IV.ATFO..HH', '11041511.IV.ATFO..HN', '11041511.IV.ATSC..EH', '11041511.IV.ATVO..HH', '11041511.IV.ATVO..HN', '11041511.IV.CESI..HH', '11041511.IV.CESX..HH', '11041511.IV.CING..HH', '11041511.IV.CSP1..EH', '11041511.IV.FDMO..HH', '11041511.IV.FEMA..HN', '11041511.IV.FIU1..HN', '11041511.IV.FOSV..EH', '11041511.IV.FSSB..HH', '11041511.IV.GIGS..HH', '11041511.IV.GUMA..HH', '11041511.IV.GUMA..HN', '11041511.IV.LNSS..HH', '11041511.IV.MC2..EH', '11041511.IV.MDAR..HN', '11041511.IV.MMO1..EH', '11041511.IV.MMO1..HN', '11041511.IV.MMUR..HN', '11041511.IV.MPAG..EH', '11041511.IV.MPAG..HN', '11041511.IV.MTL1..HN', '11041511.IV.MURB..HH', '11041511.IV.MURB..HN', '11041511.IV.NRCA..HH', '11041511.IV.NRCA..HN', '11041511.IV.OFFI..HH', '11041511.IV.PP3..EH', '11041511.IV.PP3..HN', '11041511.IV.RM33..EH', '11041511.IV.RM33..HN', '11041511.IV.SEF1..HN', '11041511.IV.SNTG..HH', '11041511.IV.SNTG..HN', '11041511.IV.SSFR..HH', '11041511.IV.SSFR..HN', '11041511.IV.SSM1..HN', '11041511.IV.T1201..HN', '11041511.IV.T1202..EH', '11041511.IV.T1204..EH', '11041511.IV.T1212..EH', '11041511.IV.T1212..HN', '11041511.IV.T1213..EH', '11041511.IV.T1213..HN', '11041511.IV.T1215..EH', '11041511.IV.T1215..HN', '11041511.IV.T1216..EH', '11041511.IV.T1216..HN', '11041511.IV.T1217..EH', '11041511.IV.T1217..HN', '11041511.IV.T1218..EH', '11041511.IV.T1218..HN', '11041511.IV.T1219..EH', '11041511.IV.T1219..HN', '11041511.IV.T1220..EH', '11041511.IV.T1220..HN', '11041511.IV.T1221..EH', '11041511.IV.T1221..HN', '11041511.IV.T1241..EH', '11041511.IV.T1241..HN', '11041511.IV.T1243..HH', '11041511.IV.T1243..HN', '11041511.IV.T1244..EH', '11041511.IV.T1244..HN', '11041511.IV.T1245..HH', '11041511.IV.T1245..HN', '11041511.IV.T1256..HH', '11041511.IV.T1256..HN', '11041511.IV.T1299..EH', '11041511.IV.T1299..HN', '11041511.IV.TERO..HH', '11041511.IV.TERO..HN', '11041511.IV.VCEL..EH', '11041511.XO.AM05..EH', '11041511.XO.AM05..HN', '11041921.IV.AOI..HH', '11041921.IV.APEC..HH', '11041921.IV.APEC..HN', '11041921.IV.ARRO..EH', '11041921.IV.ARVD..HH', '11041921.IV.ATCC..EH', '11041921.IV.ATCC..HN', '11041921.IV.ATFO..HH', '11041921.IV.ATFO..HN', '11041921.IV.ATLO..EH', '11041921.IV.ATLO..HN', '11041921.IV.ATMC..EH', '11041921.IV.ATMI..HH', '11041921.IV.ATPC..HH', '11041921.IV.ATPC..HN', '11041921.IV.ATPI..EH', '11041921.IV.ATSC..EH', '11041921.IV.ATVA..EH', '11041921.IV.ATVO..HH', '11041921.IV.ATVO..HN', '11041921.IV.BADI..EH', '11041921.IV.CAMP..HH', '11041921.IV.CDCA..HN', '11041921.IV.CESI..HH', '11041921.IV.CESX..HH', '11041921.IV.CIMA..HN', '11041921.IV.CING..HH', '11041921.IV.COR1..EH', '11041921.IV.COR1..HN', '11041921.IV.CSP1..EH', '11041921.IV.EL6..EH', '11041921.IV.FDMO..HH', '11041921.IV.FEMA..HN', '11041921.IV.FIAM..HH', '11041921.IV.FIAM..HN', '11041921.IV.FIU1..HN', '11041921.IV.FOSV..EH', '11041921.IV.FOSV..HN', '11041921.IV.FRON..EH', '11041921.IV.FSSB..HH', '11041921.IV.GAG1..HN', '11041921.IV.GIGS..HH', '11041921.IV.GUMA..HH', '11041921.IV.GUMA..HN', '11041921.IV.LNSS..HH', '11041921.IV.MC2..EH', '11041921.IV.MDAR..HN', '11041921.IV.MGAB..HH', '11041921.IV.MGAB..HN', '11041921.IV.MMUR..HN', '11041921.IV.MOMA..HH', '11041921.IV.MOMA..HN', '11041921.IV.MPAG..EH', '11041921.IV.MPAG..HN', '11041921.IV.MTL1..HN', '11041921.IV.MURB..HH', '11041921.IV.MURB..HN', '11041921.IV.NRCA..HH', '11041921.IV.NRCA..HN', '11041921.IV.OFFI..HH', '11041921.IV.PCRO..HN', '11041921.IV.PE3..EH', '11041921.IV.PIEI..HH', '11041921.IV.PIEI..HN', '11041921.IV.PIO1..HN', '11041921.IV.PP3..EH', '11041921.IV.PP3..HN', '11041921.IV.RM33..HN', '11041921.IV.SEF1..HN', '11041921.IV.SENI..EH', '11041921.IV.SENI..HN', '11041921.IV.SMA1..EH', '11041921.IV.SNTG..HH', '11041921.IV.SNTG..HN', '11041921.IV.SSFR..HH', '11041921.IV.SSFR..HN', '11041921.IV.SSM1..HN', '11041921.IV.T1201..HN', '11041921.IV.T1202..EH', '11041921.IV.T1204..EH', '11041921.IV.T1212..EH', '11041921.IV.T1212..HN', '11041921.IV.T1213..EH', '11041921.IV.T1213..HN', '11041921.IV.T1215..EH', '11041921.IV.T1215..HN', '11041921.IV.T1216..EH', '11041921.IV.T1216..HN', '11041921.IV.T1217..EH', '11041921.IV.T1217..HN', '11041921.IV.T1218..EH', '11041921.IV.T1218..HN', '11041921.IV.T1219..EH', '11041921.IV.T1219..HN', '11041921.IV.T1220..EH', '11041921.IV.T1220..HN', '11041921.IV.T1221..EH', '11041921.IV.T1221..HN', '11041921.IV.T1241..EH', '11041921.IV.T1241..HN', '11041921.IV.T1243..HH', '11041921.IV.T1243..HN', '11041921.IV.T1244..EH', '11041921.IV.T1244..HN', '11041921.IV.T1245..HH', '11041921.IV.T1245..HN', '11041921.IV.T1246..HH', '11041921.IV.T1247..HH', '11041921.IV.T1256..HH', '11041921.IV.T1256..HN', '11041921.IV.T1299..EH', '11041921.IV.T1299..HN', '11041921.IV.TERO..HH', '11041921.IV.TERO..HN', '11041921.MN.AQU..HH', '11041921.MN.AQU..HL', '11041921.XO.AM05..EH', '11041921.XO.AM05..HN', '11043661.IV.LNSS..HH', '11043661.IV.MC2..EH', '11043661.IV.MMO1..EH', '11043661.IV.MMO1..HN', '11043661.IV.T1216..EH', '11043661.IV.T1216..HN', '11043661.IV.T1218..EH', '11043661.IV.T1218..HN', '11043661.IV.T1243..HH', '11043661.IV.T1243..HN', '11043661.IV.T1245..HH', '11043661.IV.T1245..HN', '11043661.IV.T1256..HH', '11043661.IV.T1256..HN', '11044641.IV.FVI..HH', '11044641.IV.PTCC..HH', '11044641.IV.STAL..HH', '11044641.IV.STAL..HN', '11044641.OX.CIMO..HH', '11044641.OX.CIMO..HN', '11044641.OX.CLUD..HH', '11044641.OX.CLUD..HN', '11044641.OX.MPRI..HH', '11044641.OX.MPRI..HN', '11044641.OX.ZOU2..HH', '11044641.OX.ZOU2..HN', '11044641.SI.RISI..HH', '11047891.IV.ASSB..HH', '11047891.IV.CESI..HH', '11047891.IV.CSP1..EH', '11047891.IV.MC2..EH', '11047891.IV.T1216..EH', '11047891.IV.T1216..HN', '11047891.IV.T1218..EH', '11047891.IV.T1218..HN', '11047891.IV.T1219..EH', '11047891.IV.T1219..HN', '11047891.IV.T1245..HH', '11047891.IV.T1245..HN', '11047891.IV.T1256..HH', '11047891.IV.T1256..HN', '11047951.IV.CAMP..HH', '11047951.IV.CESI..HH', '11047951.IV.GUMA..HH', '11047951.IV.GUMA..HN', '11047951.IV.LNSS..HH', '11047951.IV.MC2..EH', '11047951.IV.NRCA..HH', '11047951.IV.NRCA..HN', '11047951.IV.OFFI..HH', '11047951.IV.RM33..EH', '11047951.IV.RM33..HN', '11047951.IV.SMA1..EH', '11047951.IV.T1219..EH', '11047951.IV.T1219..HN', '11047951.IV.T1241..EH', '11047951.IV.T1243..HH', '11047951.IV.T1243..HN', '11047951.IV.T1245..HH', '11047951.IV.T1245..HN', '11047951.IV.TERO..HH', '11047951.IV.TERO..HN', '11048161.IV.ATCC..EH', '11048161.IV.ATCC..HN', '11048161.IV.CAMP..HH', '11048161.IV.CERT..HH', '11048161.IV.CESI..HH', '11048161.IV.CESX..HH', '11048161.IV.CING..HH', '11048161.IV.CSP1..EH', '11048161.IV.EL6..EH', '11048161.IV.FAGN..HH', '11048161.IV.FEMA..HN', '11048161.IV.FIAM..HH', '11048161.IV.FIAM..HN', '11048161.IV.GIGS..HH', '11048161.IV.GUMA..HH', '11048161.IV.GUMA..HN', '11048161.IV.LNSS..HH', '11048161.IV.MC2..EH', '11048161.IV.NRCA..HH', '11048161.IV.NRCA..HN', '11048161.IV.RM33..EH', '11048161.IV.RM33..HN', '11048161.IV.SMA1..EH', '11048161.IV.T0110..HH', '11048161.IV.T1201..HN', '11048161.IV.T1202..EH', '11048161.IV.T1204..EH', '11048161.IV.T1212..EH', '11048161.IV.T1212..HN', '11048161.IV.T1213..EH', '11048161.IV.T1213..HN', '11048161.IV.T1215..EH', '11048161.IV.T1215..HN', '11048161.IV.T1216..EH', '11048161.IV.T1216..HN', '11048161.IV.T1217..EH', '11048161.IV.T1217..HN', '11048161.IV.T1218..EH', '11048161.IV.T1218..HN', '11048161.IV.T1219..EH', '11048161.IV.T1219..HN', '11048161.IV.T1243..HH', '11048161.IV.T1243..HN', '11048161.IV.T1244..EH', '11048161.IV.T1244..HN', '11048161.IV.T1245..HH', '11048161.IV.T1245..HN', '11048161.IV.T1246..HH', '11048161.IV.T1247..HH', '11048161.IV.T1256..HH', '11048161.IV.T1256..HN', '11048161.IV.T1299..EH', '11048161.IV.T1299..HN', '11048161.IV.TERO..HH', '11048161.IV.TERO..HN', '11048161.IV.VCEL..EH', '11048161.XO.AM05..EH', '11048161.XO.AM05..HN', '11048291.IV.CAMP..HH', '11048291.IV.LNSS..HH', '11048291.IV.NRCA..HH', '11048291.IV.NRCA..HN', '11048291.IV.RM33..EH', '11048291.IV.RM33..HN', '11048291.IV.SMA1..EH', '11048291.IV.T1215..EH', '11048291.IV.T1215..HN', '11048291.IV.T1216..EH', '11048291.IV.T1216..HN', '11048291.IV.T1218..EH', '11048291.IV.T1218..HN', '11048291.IV.T1243..HH', '11048291.IV.T1243..HN', '11048291.IV.TERO..HH', '11048291.IV.TERO..HN', '11048461.IV.AOI..HH', '11048461.IV.APEC..HH', '11048461.IV.APEC..HN', '11048461.IV.ARCI..HH', '11048461.IV.ARRO..EH', '11048461.IV.ARVD..HH', '11048461.IV.ASQU..HH', '11048461.IV.ASSB..HH', '11048461.IV.ATCC..HN', '11048461.IV.ATFO..HH', '11048461.IV.ATFO..HN', '11048461.IV.ATLO..EH', '11048461.IV.ATLO..HN', '11048461.IV.ATMC..EH', '11048461.IV.ATMI..HH', '11048461.IV.ATPC..HH', '11048461.IV.ATPC..HN', '11048461.IV.ATPI..EH', '11048461.IV.ATSC..EH', '11048461.IV.ATVA..EH', '11048461.IV.ATVO..HH', '11048461.IV.ATVO..HN', '11048461.IV.BADI..EH', '11048461.IV.CAFI..HH', '11048461.IV.CAFI..HN', '11048461.IV.CAMP..HH', '11048461.IV.CERT..HH', '11048461.IV.CESI..HH', '11048461.IV.CESX..HH', '11048461.IV.CING..HH', '11048461.IV.COR1..HN', '11048461.IV.CPGN..EH', '11048461.IV.CPGN..HN', '11048461.IV.CRE..HH', '11048461.IV.CSP1..EH', '11048461.IV.EL6..EH', '11048461.IV.FAGN..HH', '11048461.IV.FDMO..HH', '11048461.IV.FEMA..HN', '11048461.IV.FIAM..HH', '11048461.IV.FIAM..HN', '11048461.IV.FIU1..HN', '11048461.IV.FOSV..EH', '11048461.IV.FOSV..HN', '11048461.IV.FRON..EH', '11048461.IV.FSSB..HH', '11048461.IV.GAG1..HN', '11048461.IV.GIGS..HH', '11048461.IV.GIUL..HH', '11048461.IV.GUMA..HH', '11048461.IV.GUMA..HN', '11048461.IV.INTR..HH', '11048461.IV.LATB..EH', '11048461.IV.LMD..HH', '11048461.IV.LNSS..HH', '11048461.IV.LRP..HH', '11048461.IV.MC2..EH', '11048461.IV.MCIV..HH', '11048461.IV.MDAR..HN', '11048461.IV.MGAB..HH', '11048461.IV.MGAB..HN', '11048461.IV.MMUR..HN', '11048461.IV.MNTP..HN', '11048461.IV.MOMA..HH', '11048461.IV.MOMA..HN', '11048461.IV.MPAG..EH', '11048461.IV.MPAG..HN', '11048461.IV.MTCE..HH', '11048461.IV.MURB..HH', '11048461.IV.MURB..HN', '11048461.IV.NRCA..HH', '11048461.IV.NRCA..HN', '11048461.IV.OFFI..HH', '11048461.IV.PE3..EH', '11048461.IV.PESA..HH', '11048461.IV.PIEI..HH', '11048461.IV.PIEI..HN', '11048461.IV.PP3..EH', '11048461.IV.PP3..HN', '11048461.IV.PTQR..HH', '11048461.IV.RM33..EH', '11048461.IV.RM33..HN', '11048461.IV.SACS..HH', '11048461.IV.SACS..HN', '11048461.IV.SEF1..HN', '11048461.IV.SENI..EH', '11048461.IV.SENI..HN', '11048461.IV.SFI..HN', '11048461.IV.SMA1..EH', '11048461.IV.SNTG..HH', '11048461.IV.SNTG..HN', '11048461.IV.SRES..HH', '11048461.IV.SSFR..HH', '11048461.IV.SSFR..HN', '11048461.IV.T0110..HH', '11048461.IV.T1201..HN', '11048461.IV.T1202..EH', '11048461.IV.T1204..EH', '11048461.IV.T1212..EH', '11048461.IV.T1212..HN', '11048461.IV.T1213..EH', '11048461.IV.T1213..HN', '11048461.IV.T1215..EH', '11048461.IV.T1215..HN', '11048461.IV.T1216..EH', '11048461.IV.T1216..HN', '11048461.IV.T1217..EH', '11048461.IV.T1217..HN', '11048461.IV.T1218..EH', '11048461.IV.T1218..HN', '11048461.IV.T1219..EH', '11048461.IV.T1219..HN', '11048461.IV.T1221..EH', '11048461.IV.T1221..HN', '11048461.IV.T1241..EH', '11048461.IV.T1241..HN', '11048461.IV.T1243..HH', '11048461.IV.T1243..HN', '11048461.IV.T1244..EH', '11048461.IV.T1244..HN', '11048461.IV.T1245..HH', '11048461.IV.T1245..HN', '11048461.IV.T1246..HH', '11048461.IV.T1247..HH', '11048461.IV.T1256..HH', '11048461.IV.T1299..EH', '11048461.IV.T1299..HN', '11048461.IV.TERO..HH', '11048461.IV.TERO..HN', '11048461.IV.TOLF..HH', '11048461.IV.TRTR..HH', '11048461.IV.VCEL..EH', '11048461.MN.AQU..HH', '11048461.MN.AQU..HL', '11048461.XO.AM05..EH', '11048461.XO.AM05..HN', '11052061.IV.ARRO..EH', '11052061.IV.ARVD..HH', '11052061.IV.ATCC..EH', '11052061.IV.ATCC..HN', '11052061.IV.ATVO..HH', '11052061.IV.ATVO..HN', '11052061.IV.CAMP..HH', '11052061.IV.CERT..HH', '11052061.IV.CESI..HH', '11052061.IV.CESX..HH', '11052061.IV.CING..HH', '11052061.IV.CSP1..EH', '11052061.IV.FAGN..HH', '11052061.IV.FDMO..HH', '11052061.IV.FEMA..HN', '11052061.IV.FIAM..HH', '11052061.IV.FIAM..HN', '11052061.IV.FOSV..EH', '11052061.IV.FSSB..HH', '11052061.IV.GIGS..HH', '11052061.IV.GUMA..HH', '11052061.IV.GUMA..HN', '11052061.IV.LNSS..HH', '11052061.IV.MC2..EH', '11052061.IV.MPAG..EH', '11052061.IV.MPAG..HN', '11052061.IV.MURB..HH', '11052061.IV.MURB..HN', '11052061.IV.NRCA..HH', '11052061.IV.NRCA..HN', '11052061.IV.OFFI..HH', '11052061.IV.PIEI..HH', '11052061.IV.PIEI..HN', '11052061.IV.PP3..EH', '11052061.IV.PP3..HN', '11052061.IV.RM33..EH', '11052061.IV.RM33..HN', '11052061.IV.SMA1..EH', '11052061.IV.SNTG..HH', '11052061.IV.SNTG..HN', '11052061.IV.SRES..HH', '11052061.IV.SSFR..HH', '11052061.IV.SSFR..HN', '11052061.IV.T0110..HH', '11052061.IV.T1202..EH', '11052061.IV.T1212..EH', '11052061.IV.T1212..HN', '11052061.IV.T1213..EH', '11052061.IV.T1213..HN', '11052061.IV.T1215..EH', '11052061.IV.T1215..HN', '11052061.IV.T1216..EH', '11052061.IV.T1216..HN', '11052061.IV.T1217..EH', '11052061.IV.T1217..HN', '11052061.IV.T1218..EH', '11052061.IV.T1218..HN', '11052061.IV.T1219..EH', '11052061.IV.T1219..HN', '11052061.IV.T1221..EH', '11052061.IV.T1221..HN', '11052061.IV.T1241..EH', '11052061.IV.T1241..HN', '11052061.IV.T1243..HH', '11052061.IV.T1243..HN', '11052061.IV.T1244..EH', '11052061.IV.T1244..HN', '11052061.IV.T1245..HH', '11052061.IV.T1245..HN', '11052061.IV.T1247..HH', '11052061.IV.T1256..HH', '11052061.IV.T1256..HN', '11052061.IV.TERO..HH', '11052061.IV.VCEL..EH', '11052061.XO.AM05..EH', '11052061.XO.AM05..HN', '11052191.IV.CAMP..HH', '11052191.IV.GIGS..HH', '11052191.IV.LNSS..HH', '11052191.IV.T1218..EH', '11052191.IV.T1218..HN', '11052191.IV.T1243..HH', '11052191.IV.T1243..HN', '11052191.IV.T1247..HH', '11052191.IV.TERO..HH', '11052191.IV.TERO..HN', '11052191.IV.VCEL..EH', '11052191.MN.AQU..HH', '11052191.MN.AQU..HL', '1105251.GU.BHB..HH', '1105251.GU.ENR..HH', '1105251.GU.NEGI..HH', '1105251.GU.PZZ..HH', '1105251.GU.RRL..HH', '1105251.GU.RSP..HH', '1105251.GU.STV..HH', '1105251.IV.IMI..HH', '1105251.MN.BNI..HH', '1105251.MN.BNI..HL', '11052631.IV.ASSB..HH', '11052631.IV.CESI..HH', '11052631.IV.CSP1..EH', '11052631.IV.FDMO..HH', '11052631.IV.LNSS..HH', '11052631.IV.MC2..EH', '11052631.IV.MMO1..EH', '11052631.IV.MMO1..HN', '11052631.IV.NRCA..HH', '11052631.IV.NRCA..HN', '11052631.IV.SNTG..HH', '11052631.IV.SNTG..HN', '11052631.IV.T1215..EH', '11052631.IV.T1215..HN', '11052631.IV.T1216..EH', '11052631.IV.T1216..HN', '11052631.IV.T1218..EH', '11052631.IV.T1218..HN', '11052631.IV.T1219..EH', '11052631.IV.T1219..HN', '11052631.IV.T1245..HH', '11052631.IV.T1256..HH', '11052631.IV.T1256..HN', '1105311.IV.HAGA..HH', '1105311.IV.HAVL..HH', '1105311.IV.HCRL..HH', '1105311.IV.HLNI..HH', '1105311.IV.HMDC..HH', '1105311.IV.HVZN..HH', '1105311.IV.SSY..HH', '11053221.IV.ARRO..EH', '11053221.IV.ARVD..HH', '11053221.IV.ATCC..EH', '11053221.IV.ATCC..HN', '11053221.IV.ATFO..HH', '11053221.IV.ATFO..HN', '11053221.IV.CAMP..HH', '11053221.IV.CESI..HH', '11053221.IV.CESX..HH', '11053221.IV.CING..HH', '11053221.IV.COR1..EH', '11053221.IV.COR1..HN', '11053221.IV.CSP1..EH', '11053221.IV.EL6..EH', '11053221.IV.FAGN..HH', '11053221.IV.FDMO..HH', '11053221.IV.FEMA..HN', '11053221.IV.FIAM..HH', '11053221.IV.FIAM..HN', '11053221.IV.FRON..EH', '11053221.IV.FSSB..HH', '11053221.IV.GIGS..HH', '11053221.IV.GIUL..HH', '11053221.IV.GUMA..HH', '11053221.IV.GUMA..HN', '11053221.IV.LNSS..HH', '11053221.IV.MDAR..HN', '11053221.IV.MNTP..HN', '11053221.IV.MPAG..EH', '11053221.IV.MPAG..HN', '11053221.IV.MTCE..HH', '11053221.IV.MURB..HH', '11053221.IV.MURB..HN', '11053221.IV.NRCA..HH', '11053221.IV.NRCA..HN', '11053221.IV.OFFI..HH', '11053221.IV.RM33..EH', '11053221.IV.RM33..HN', '11053221.IV.SEF1..HN', '11053221.IV.SMA1..EH', '11053221.IV.SNTG..HH', '11053221.IV.SNTG..HN', '11053221.IV.SRES..HH', '11053221.IV.SSFR..HH', '11053221.IV.SSFR..HN', '11053221.IV.T0110..HH', '11053221.IV.T1201..HN', '11053221.IV.T1202..EH', '11053221.IV.T1204..EH', '11053221.IV.T1211..EH', '11053221.IV.T1211..HN', '11053221.IV.T1212..EH', '11053221.IV.T1212..HN', '11053221.IV.T1213..EH', '11053221.IV.T1213..HN', '11053221.IV.T1215..EH', '11053221.IV.T1215..HN', '11053221.IV.T1216..EH', '11053221.IV.T1216..HN', '11053221.IV.T1217..EH', '11053221.IV.T1217..HN', '11053221.IV.T1218..EH', '11053221.IV.T1218..HN', '11053221.IV.T1219..EH', '11053221.IV.T1219..HN', '11053221.IV.T1221..EH', '11053221.IV.T1221..HN', '11053221.IV.T1241..EH', '11053221.IV.T1243..HH', '11053221.IV.T1243..HN', '11053221.IV.T1244..EH', '11053221.IV.T1244..HN', '11053221.IV.T1245..HH', '11053221.IV.T1245..HN', '11053221.IV.T1246..HH', '11053221.IV.T1247..HH', '11053221.IV.T1256..HH', '11053221.IV.T1256..HN', '11053221.IV.T1299..EH', '11053221.IV.T1299..HN', '11053221.IV.TERO..HH', '11053221.IV.TERO..HN', '11053221.IV.VCEL..EH', '11053221.MN.AQU..HH', '11053221.MN.AQU..HL', '11053221.XO.AM05..EH', '11053221.XO.AM05..HN', '11053641.IV.CAMP..HH', '11053641.IV.CESI..HH', '11053641.IV.FAGN..HH', '11053641.IV.FDMO..HH', '11053641.IV.FIAM..HH', '11053641.IV.FIAM..HN', '11053641.IV.GIGS..HH', '11053641.IV.LNSS..HH', '11053641.IV.MC2..EH', '11053641.IV.MMO1..EH', '11053641.IV.NRCA..HH', '11053641.IV.NRCA..HN', '11053641.IV.OFFI..HH', '11053641.IV.RM33..EH', '11053641.IV.RM33..HN', '11053641.IV.T1211..EH', '11053641.IV.T1211..HN', '11053641.IV.T1215..EH', '11053641.IV.T1215..HN', '11053641.IV.T1216..EH', '11053641.IV.T1216..HN', '11053641.IV.T1218..EH', '11053641.IV.T1218..HN', '11053641.IV.T1241..EH', '11053641.IV.T1241..HN', '11053641.IV.T1243..HH', '11053641.IV.T1243..HN', '11053641.IV.T1245..HH', '11053641.IV.T1245..HN', '11053641.IV.T1247..HH', '11053641.IV.T1256..HH', '11053641.IV.T1256..HN', '11053641.IV.TERO..HH', '11053641.IV.TERO..HN', '11053641.MN.AQU..HH', '11053641.MN.AQU..HL', '11053731.IV.MC2..EH', '11053731.IV.MMO1..EH', '11053731.IV.MMO1..HN', '11053731.IV.T1216..EH', '11053731.IV.T1216..HN', '11053731.IV.T1241..EH', '11053731.IV.T1241..HN', '11053731.IV.T1256..HH', '11053731.IV.T1256..HN', '11054551.IV.MMO1..EH', '11054551.IV.MMO1..HN', '11054551.IV.NRCA..HH', '11054551.IV.NRCA..HN', '11054551.IV.T1215..EH', '11054551.IV.T1215..HN', '11054551.IV.T1216..EH', '11054551.IV.T1216..HN', '11054551.IV.T1219..EH', '11054551.IV.T1219..HN', '11054551.IV.T1241..EH', '11054551.IV.T1241..HN', '11054551.IV.T1243..HH', '11054551.IV.T1243..HN', '11054551.IV.T1245..HH', '11054551.IV.T1245..HN', '11054551.IV.T1256..HH', '11054551.IV.T1256..HN', '11054551.IV.TERO..HH', '11054551.IV.TERO..HN', '11056191.IV.CESI..HH', '11056191.IV.CSP1..EH', '11056191.IV.FDMO..HH', '11056191.IV.MC2..EH', '11056191.IV.MMO1..EH', '11056191.IV.MMO1..HN', '11056191.IV.NRCA..HH', '11056191.IV.NRCA..HN', '11056191.IV.SNTG..HH', '11056191.IV.SNTG..HN', '11056191.IV.T1219..EH', '11056191.IV.T1219..HN', '11056191.IV.T1241..EH', '11056191.IV.T1241..HN', '11056191.IV.T1243..HH', '11056191.IV.T1243..HN', '11056191.IV.T1245..HH', '11056191.IV.T1245..HN', '11056191.IV.T1256..HH', '11056191.IV.T1256..HN', '11056451.IV.ARRO..EH', '11056451.IV.CAMP..HH', '11056451.IV.LNSS..HH', '11056451.IV.RM33..EH', '11056451.IV.RM33..HN', '11056451.IV.SMA1..EH', '11056451.IV.T1218..EH', '11056451.IV.T1218..HN', '11056451.IV.T1246..HH', '11056451.IV.T1247..HH', '11056451.IV.T1299..EH', '11056451.IV.T1299..HN', '11056451.MN.AQU..HH', '11056451.MN.AQU..HL', '1105901.IV.JOPP..HH', '1105901.IV.JOPP..HN', '1105901.IV.MILZ..HH', '1105901.IV.MSCL..HH', '1105901.IV.MSRU..HH', '1105901.IV.PLAC..HH', '1105901.IV.SERS..HH', '1105901.IV.SERS..HN', '11059921.IV.CSP1..EH', '11059921.IV.MC2..EH', '11059921.IV.MMO1..EH', '11059921.IV.MMO1..HN', '11059921.IV.SNTG..HH', '11059921.IV.SNTG..HN', '11059921.IV.T1215..EH', '11059921.IV.T1215..HN', '11059921.IV.T1216..EH', '11059921.IV.T1216..HN', '11059921.IV.T1219..EH', '11059921.IV.T1219..HN', '11059921.IV.T1245..HH', '11059921.IV.T1245..HN', '11061071.GU.CARD..HH', '11061071.GU.EQUI..HH', '11061071.GU.GSCL..HH', '11061071.GU.MAIM..HH', '11061071.GU.SARM..EH', '11061071.IV.ARCI..HH', '11061071.IV.ASQU..HH', '11061071.IV.BADI..EH', '11061071.IV.BDI..HH', '11061071.IV.BDI..HN', '11061071.IV.CASP..HH', '11061071.IV.CRE..HH', '11061071.IV.CRMI..HH', '11061071.IV.CRMI..HN', '11061071.IV.CSNT..HH', '11061071.IV.FROS..HH', '11061071.IV.LMD..HH', '11061071.IV.MCIV..HH', '11061071.IV.MPPT..EH', '11061071.IV.MSSA..HH', '11061071.IV.MTCR..EH', '11061071.IV.OSSC..HH', '11061071.IV.OSSC..HN', '11061071.IV.PIEI..HH', '11061071.IV.PIEI..HN', '11061071.IV.PII..HH', '11061071.IV.RUFI..EH', '11061071.IV.SEI..HH', '11061071.IV.SFI..EH', '11061071.IV.SFI..HN', '11061071.IV.TRIF..HH', '11061071.MN.VLC..HH', '11061071.MN.VLC..HN', '11062361.IV.ARVD..HH', '11062361.IV.ATCC..EH', '11062361.IV.ATCC..HN', '11062361.IV.ATFO..HH', '11062361.IV.ATFO..HN', '11062361.IV.ATPI..EH', '11062361.IV.ATVO..HH', '11062361.IV.ATVO..HN', '11062361.IV.BADI..EH', '11062361.IV.CAMP..HH', '11062361.IV.CESI..HH', '11062361.IV.CESX..HH', '11062361.IV.CING..HH', '11062361.IV.CSP1..EH', '11062361.IV.FDMO..HH', '11062361.IV.FEMA..HN', '11062361.IV.FOSV..EH', '11062361.IV.FOSV..HN', '11062361.IV.FSSB..HH', '11062361.IV.GAG1..HN', '11062361.IV.GIGS..HH', '11062361.IV.GUMA..HH', '11062361.IV.GUMA..HN', '11062361.IV.LNSS..HH', '11062361.IV.MC2..EH', '11062361.IV.MDAR..HN', '11062361.IV.MOMA..HH', '11062361.IV.MOMA..HN', '11062361.IV.MPAG..EH', '11062361.IV.MPAG..HN', '11062361.IV.MURB..HH', '11062361.IV.MURB..HN', '11062361.IV.NRCA..HH', '11062361.IV.NRCA..HN', '11062361.IV.OFFI..HH', '11062361.IV.PE3..EH', '11062361.IV.PIEI..HH', '11062361.IV.PIEI..HN', '11062361.IV.RM33..EH', '11062361.IV.RM33..HN', '11062361.IV.SEF1..HN', '11062361.IV.SMA1..EH', '11062361.IV.SNTG..HH', '11062361.IV.SNTG..HN', '11062361.IV.SSM1..HN', '11062361.IV.T0110..HH', '11062361.IV.T1211..EH', '11062361.IV.T1211..HN', '11062361.IV.T1215..EH', '11062361.IV.T1215..HN', '11062361.IV.T1216..EH', '11062361.IV.T1216..HN', '11062361.IV.T1218..EH', '11062361.IV.T1218..HN', '11062361.IV.T1219..EH', '11062361.IV.T1219..HN', '11062361.IV.T1221..EH', '11062361.IV.T1221..HN', '11062361.IV.T1241..HN', '11062361.IV.T1243..HH', '11062361.IV.T1243..HN', '11062361.IV.T1245..HH', '11062361.IV.T1245..HN', '11062361.IV.T1256..HH', '11062361.IV.T1256..HN', '11062361.XO.AM05..EH', '11062361.XO.AM05..HN', '11062411.IV.AIO..HH', '11062411.IV.CAGR..HH', '11062411.IV.EPOZ..HH', '11062411.IV.EPZF..HH', '11062411.IV.ESLN..HH', '11062411.IV.GALF..HH', '11062411.IV.GIB..HH', '11062411.IV.HAGA..HH', '11062411.IV.HMDC..HH', '11062411.IV.HPAC..HH', '11062411.IV.IACL..HH', '11062411.IV.IFIL..HH', '11062411.IV.JOPP..HH', '11062411.IV.JOPP..HN', '11062411.IV.MILZ..HH', '11062411.IV.MSFR..HH', '11062411.IV.MSRU..HH', '11062411.IV.PETRA..HH', '11062411.IV.PLAC..HH', '11062411.IV.PLAC..HN', '11062411.IV.PLLN..EH', '11062411.IV.RAFF..HH', '11062411.IV.SOI..EH', '11063111.IV.CAMP..HH', '11063111.IV.CESI..HH', '11063111.IV.CSP1..EH', '11063111.IV.FDMO..HH', '11063111.IV.GUMA..HH', '11063111.IV.GUMA..HN', '11063111.IV.LNSS..HH', '11063111.IV.MC2..EH', '11063111.IV.MMO1..EH', '11063111.IV.MMO1..HN', '11063111.IV.NRCA..HH', '11063111.IV.NRCA..HN', '11063111.IV.T1215..EH', '11063111.IV.T1215..HN', '11063111.IV.T1216..EH', '11063111.IV.T1216..HN', '11063111.IV.T1218..EH', '11063111.IV.T1218..HN', '11063111.IV.T1219..EH', '11063111.IV.T1219..HN', '11063111.IV.T1241..EH', '11063111.IV.T1243..HH', '11063111.IV.T1243..HN', '11063111.IV.T1245..HH', '11063111.IV.T1245..HN', '11063111.IV.T1256..HH', '11063111.IV.T1256..HN', '11066061.IV.CAMP..HH', '11066061.IV.CSP1..EH', '11066061.IV.GIGS..HH', '11066061.IV.LNSS..HH', '11066061.IV.RM33..EH', '11066061.IV.RM33..HN', '11066061.IV.SMA1..EH', '11066061.IV.T1211..EH', '11066061.IV.T1211..HN', '11066061.IV.T1215..EH', '11066061.IV.T1215..HN', '11066061.IV.T1218..EH', '11066061.IV.T1218..HN', '11066061.IV.T1241..EH', '11066061.IV.T1243..HH', '11066061.IV.T1243..HN', '11066061.IV.T1245..HH', '11066061.IV.T1245..HN', '11066061.IV.TERO..HH', '11067221.IV.ARRO..EH', '11067221.IV.ARVD..HH', '11067221.IV.ATCC..EH', '11067221.IV.ATPI..EH', '11067221.IV.ATVO..HH', '11067221.IV.ATVO..HN', '11067221.IV.CAMP..HH', '11067221.IV.CERT..HH', '11067221.IV.CESI..HH', '11067221.IV.CESX..HH', '11067221.IV.CING..HH', '11067221.IV.CSP1..EH', '11067221.IV.EL6..EH', '11067221.IV.FAGN..HH', '11067221.IV.FDMO..HH', '11067221.IV.FEMA..HN', '11067221.IV.FIAM..HH', '11067221.IV.FIAM..HN', '11067221.IV.FOSV..EH', '11067221.IV.FRON..EH', '11067221.IV.FSSB..HH', '11067221.IV.GIGS..HH', '11067221.IV.GUMA..HH', '11067221.IV.GUMA..HN', '11067221.IV.INTR..HH', '11067221.IV.INTR..HN', '11067221.IV.LNSS..HH', '11067221.IV.MDAR..HN', '11067221.IV.MNTP..HN', '11067221.IV.MOMA..HH', '11067221.IV.MOMA..HN', '11067221.IV.MPAG..EH', '11067221.IV.MPAG..HN', '11067221.IV.MURB..HH', '11067221.IV.MURB..HN', '11067221.IV.NRCA..HH', '11067221.IV.NRCA..HN', '11067221.IV.OFFI..HH', '11067221.IV.PIEI..HH', '11067221.IV.PIEI..HN', '11067221.IV.RM33..EH', '11067221.IV.RM33..HN', '11067221.IV.SEF1..HN', '11067221.IV.SMA1..EH', '11067221.IV.SNTG..HH', '11067221.IV.SNTG..HN', '11067221.IV.SRES..HH', '11067221.IV.SSFR..HH', '11067221.IV.SSFR..HN', '11067221.IV.T0110..HH', '11067221.IV.T1201..HN', '11067221.IV.T1202..EH', '11067221.IV.T1204..EH', '11067221.IV.T1212..EH', '11067221.IV.T1212..HN', '11067221.IV.T1213..EH', '11067221.IV.T1213..HN', '11067221.IV.T1215..EH', '11067221.IV.T1215..HN', '11067221.IV.T1216..EH', '11067221.IV.T1216..HN', '11067221.IV.T1217..EH', '11067221.IV.T1217..HN', '11067221.IV.T1218..EH', '11067221.IV.T1218..HN', '11067221.IV.T1219..EH', '11067221.IV.T1219..HN', '11067221.IV.T1221..EH', '11067221.IV.T1221..HN', '11067221.IV.T1241..EH', '11067221.IV.T1243..HH', '11067221.IV.T1243..HN', '11067221.IV.T1244..EH', '11067221.IV.T1244..HN', '11067221.IV.T1245..HH', '11067221.IV.T1245..HN', '11067221.IV.T1247..HH', '11067221.IV.T1256..HH', '11067221.IV.T1256..HN', '11067221.IV.T1299..EH', '11067221.IV.T1299..HN', '11067221.IV.TOLF..HH', '11067221.IV.VCEL..EH', '11067221.XO.AM05..EH', '11067221.XO.AM05..HN', '1106891.IV.ASSB..HH', '1106891.IV.ATBU..EH', '1106891.IV.ATCC..EH', '1106891.IV.PIEI..HH', '1106891.IV.SNTG..HH', '1106891.IV.SNTG..HN', '11069371.IV.ARRO..EH', '11069371.IV.ASSB..HH', '11069371.IV.ATCC..EH', '11069371.IV.ATCC..HN', '11069371.IV.CESI..HH', '11069371.IV.LNSS..HH', '11069371.IV.MC2..EH', '11069371.IV.MMO1..HN', '11069371.IV.NRCA..HH', '11069371.IV.NRCA..HN', '11069371.IV.SNTG..HH', '11069371.IV.T1215..EH', '11069371.IV.T1215..HN', '11069371.IV.T1216..EH', '11069371.IV.T1216..HN', '11069371.IV.T1218..EH', '11069371.IV.T1218..HN', '11069371.IV.T1241..HN', '11069371.IV.T1243..HH', '11069371.IV.T1243..HN', '11069371.IV.T1245..HH', '11069371.IV.T1245..HN', '11069371.IV.T1256..HH', '11069371.IV.T1256..HN', '11070401.IV.ASSB..HH', '11070401.IV.CAMP..HH', '11070401.IV.CESI..HH', '11070401.IV.CSP1..EH', '11070401.IV.EL6..EH', '11070401.IV.GUMA..HH', '11070401.IV.GUMA..HN', '11070401.IV.LNSS..HH', '11070401.IV.MC2..EH', '11070401.IV.MMO1..EH', '11070401.IV.NRCA..HH', '11070401.IV.NRCA..HN', '11070401.IV.SNTG..HH', '11070401.IV.SNTG..HN', '11070401.IV.SSFR..HH', '11070401.IV.SSFR..HN', '11070401.IV.T1215..EH', '11070401.IV.T1215..HN', '11070401.IV.T1216..EH', '11070401.IV.T1216..HN', '11070401.IV.T1218..EH', '11070401.IV.T1218..HN', '11070401.IV.T1219..EH', '11070401.IV.T1219..HN', '11070401.IV.T1241..EH', '11070401.IV.T1241..HN', '11070401.IV.T1243..HH', '11070401.IV.T1243..HN', '11070401.IV.T1245..HH', '11070401.IV.T1245..HN', '11070401.IV.T1256..HH', '11070401.IV.T1256..HN', '11070401.IV.TERO..HH', '11070401.IV.TERO..HN', '1107051.IV.CAR1..HH', '1107051.IV.CAR1..HN', '1107051.IV.JOPP..HH', '1107051.IV.JOPP..HN', '1107051.IV.MCSR..HH', '1107051.IV.MPAZ..HH', '1107051.IV.MPNC..HH', '1107051.IV.MSCL..HH', '1107051.IV.MSRU..HH', '1107051.IV.MTTG..HH', '1107051.IV.PLAC..HH', '1107051.IV.SOI..EH', '1107051.MN.CEL..HH', '1107051.MN.CEL..HL', '1107071.IV.ATVO..HH', '1107071.IV.BDI..HH', '1107071.IV.BDI..HN', '1107071.IV.CRE..HH', '1107071.IV.CSNT..HH', '1107071.IV.CTI..HH', '1107071.IV.FIU..EH', '1107071.IV.MABI..HH', '1107071.IV.MAGA..HH', '1107071.IV.MSSA..HH', '1107071.IV.MTRZ..HH', '1107071.IV.MTRZ..HN', '1107071.IV.PARC..HH', '1107071.IV.PIEI..HH', '1107071.IV.RAVA..EH', '1107071.IV.ROVR..HH', '1107071.IV.SALO..HH', '1107071.IV.SERM..EH', '1107071.IV.SERM..HN', '1107071.IV.SFI..EH', '1107071.IV.SFI..HN', '1107071.IV.T0800..HH', '1107071.IV.T0800..HN', '1107071.IV.T0802..HN', '1107071.IV.T0803..HN', '1107071.IV.T0821..EH', '1107071.IV.T0821..HN', '1107071.IV.T0822..EH', '1107071.IV.TEOL..HH', '1107071.IV.ZCCA..HH', '1107071.IV.ZCCA..HN', '1107071.MN.VLC..HH', '1107071.MN.VLC..HN', '1107071.NI.CGRP..HH', '11070741.IV.ARVD..HH', '11070741.IV.CESI..HH', '11070741.IV.CING..HH', '11070741.IV.CSP1..EH', '11070741.IV.FEMA..HN', '11070741.IV.FOSV..EH', '11070741.IV.FOSV..HN', '11070741.IV.FRON..EH', '11070741.IV.GUMA..HH', '11070741.IV.GUMA..HN', '11070741.IV.MC2..EH', '11070741.IV.MDAR..HN', '11070741.IV.MMO1..HN', '11070741.IV.MMUR..HN', '11070741.IV.NRCA..HH', '11070741.IV.NRCA..HN', '11070741.IV.PIEI..HH', '11070741.IV.PIEI..HN', '11070741.IV.SEF1..HN', '11070741.IV.SNTG..HH', '11070741.IV.SNTG..HN', '11070741.IV.SSFR..HH', '11070741.IV.SSFR..HN', '11070741.IV.T1215..EH', '11070741.IV.T1215..HN', '11070741.IV.T1216..EH', '11070741.IV.T1216..HN', '11070741.IV.T1219..EH', '11070741.IV.T1219..HN', '11070741.IV.T1241..HN', '11070741.IV.T1243..HH', '11070741.IV.T1243..HN', '11070741.IV.T1245..HH', '11070741.IV.T1245..HN', '11070741.IV.T1256..HH', '11070741.IV.T1256..HN', '11071881.IV.CAMP..HH', '11071881.IV.FIAM..HH', '11071881.IV.FIAM..HN', '11071881.IV.GIGS..HH', '11071881.IV.LNSS..HH', '11071881.IV.MMO1..EH', '11071881.IV.MMO1..HN', '11071881.IV.NRCA..HH', '11071881.IV.NRCA..HN', '11071881.IV.RM33..EH', '11071881.IV.RM33..HN', '11071881.IV.T0110..HH', '11071881.IV.T1215..EH', '11071881.IV.T1215..HN', '11071881.IV.T1216..EH', '11071881.IV.T1216..HN', '11071881.IV.T1218..EH', '11071881.IV.T1218..HN', '11071881.IV.T1241..EH', '11071881.IV.T1243..HH', '11071881.IV.T1243..HN', '11071881.IV.T1247..HH', '11071881.IV.T1256..HH', '11071881.IV.T1256..HN', '11071881.IV.TERO..HH', '11071881.IV.TERO..HN', '11071881.MN.AQU..HH', '11071881.MN.AQU..HL', '11072091.IV.CAMP..HH', '11072091.IV.GIGS..HH', '11072091.IV.LNSS..HH', '11072091.IV.MMO1..EH', '11072091.IV.MMO1..HN', '11072091.IV.NRCA..HH', '11072091.IV.NRCA..HN', '11072091.IV.RM33..EH', '11072091.IV.RM33..HN', '11072091.IV.SMA1..EH', '11072091.IV.T1215..EH', '11072091.IV.T1215..HN', '11072091.IV.T1218..EH', '11072091.IV.T1218..HN', '11072091.IV.T1219..EH', '11072091.IV.T1219..HN', '11072091.IV.T1243..HH', '11072091.IV.T1243..HN', '11072091.IV.T1246..HH', '11072091.IV.T1247..HH', '11072091.IV.T1299..EH', '11072091.IV.T1299..HN', '11072091.IV.TERO..HH', '11072091.IV.TERO..HN', '11072441.IV.CAMP..HH', '11072441.IV.LNSS..HH', '11072441.IV.NRCA..HH', '11072441.IV.NRCA..HN', '11072441.IV.RM33..EH', '11072441.IV.RM33..HN', '11072441.IV.SMA1..EH', '11072441.IV.T1218..EH', '11072441.IV.T1218..HN', '11072441.IV.T1241..HN', '11072441.IV.T1243..HH', '11072441.IV.T1243..HN', '11072441.IV.T1245..HN', '11072811.IV.ASSB..HH', '11072811.IV.CAMP..HH', '11072811.IV.EL6..EH', '11072811.IV.FEMA..HN', '11072811.IV.FIAM..HH', '11072811.IV.FIAM..HN', '11072811.IV.FOSV..EH', '11072811.IV.FOSV..HN', '11072811.IV.FRON..EH', '11072811.IV.GIGS..HH', '11072811.IV.GUMA..HH', '11072811.IV.GUMA..HN', '11072811.IV.MMO1..EH', '11072811.IV.MMO1..HN', '11072811.IV.MPAG..EH', '11072811.IV.MPAG..HN', '11072811.IV.NRCA..HH', '11072811.IV.NRCA..HN', '11072811.IV.PIEI..HH', '11072811.IV.PIEI..HN', '11072811.IV.RM33..EH', '11072811.IV.RM33..HN', '11072811.IV.SMA1..EH', '11072811.IV.SNTG..HH', '11072811.IV.SNTG..HN', '11072811.IV.SSFR..HH', '11072811.IV.SSFR..HN', '11072811.IV.T1215..EH', '11072811.IV.T1215..HN', '11072811.IV.T1216..EH', '11072811.IV.T1216..HN', '11072811.IV.T1218..EH', '11072811.IV.T1218..HN', '11072811.IV.T1219..EH', '11072811.IV.T1219..HN', '11072811.IV.T1243..HH', '11072811.IV.T1243..HN', '11072811.IV.T1245..HH', '11072811.IV.T1245..HN', '11072811.IV.T1246..HH', '11072811.IV.T1299..EH', '11072811.IV.T1299..HN', '11072811.IV.TERO..HH', '11072811.IV.TERO..HN', '1107401.IV.ATCC..EH', '1107401.IV.CESI..HH', '1107401.IV.EL6..EH', '1107401.IV.FDMO..HH', '1107401.IV.SNTG..HH', '1107401.IV.SNTG..HN', '11074721.IV.ARRO..EH', '11074721.IV.CERT..HH', '11074721.IV.CESX..HH', '11074721.IV.CSP1..EH', '11074721.IV.FDMO..HH', '11074721.IV.FIAM..HH', '11074721.IV.FIAM..HN', '11074721.IV.GIGS..HH', '11074721.IV.GUMA..HH', '11074721.IV.GUMA..HN', '11074721.IV.INTR..HH', '11074721.IV.INTR..HN', '11074721.IV.LNSS..HH', '11074721.IV.NRCA..HH', '11074721.IV.NRCA..HN', '11074721.IV.OFFI..HH', '11074721.IV.RM33..EH', '11074721.IV.RM33..HN', '11074721.IV.SMA1..EH', '11074721.IV.T0110..HH', '11074721.IV.T1215..EH', '11074721.IV.T1215..HN', '11074721.IV.T1218..EH', '11074721.IV.T1218..HN', '11074721.IV.T1241..EH', '11074721.IV.T1241..HN', '11074721.IV.T1243..HH', '11074721.IV.T1245..HH', '11074721.IV.T1245..HN', '11074721.IV.T1247..HH', '11074721.IV.T1256..HH', '11074721.IV.T1256..HN', '11074721.IV.TERO..HH', '11074721.IV.TERO..HN', '11074721.IV.VCEL..EH', '11075851.IV.CSP1..EH', '11075851.IV.FDMO..HH', '11075851.IV.T1219..EH', '11075851.IV.T1219..HN', '11075851.IV.T1256..HH', '11075851.IV.T1256..HN', '11076371.IV.CAMP..HH', '11076371.IV.LNSS..HH', '11076371.IV.MC2..EH', '11076371.IV.MMO1..EH', '11076371.IV.MMO1..HN', '11076371.IV.NRCA..HH', '11076371.IV.NRCA..HN', '11076371.IV.RM33..EH', '11076371.IV.RM33..HN', '11076371.IV.SMA1..EH', '11076371.IV.T1216..EH', '11076371.IV.T1216..HN', '11076371.IV.T1218..EH', '11076371.IV.T1218..HN', '11076371.IV.T1243..HH', '11076371.IV.T1243..HN', '11076371.IV.T1245..HH', '11076371.IV.T1245..HN', '11076371.IV.T1256..HH', '11076371.IV.T1256..HN', '11076371.IV.TERO..HH', '11076371.IV.TERO..HN', '11076521.IV.ARRO..EH', '11076521.IV.CAMP..HH', '11076521.IV.CSP1..EH', '11076521.IV.EL6..EH', '11076521.IV.FAGN..HH', '11076521.IV.FDMO..HH', '11076521.IV.GIGS..HH', '11076521.IV.GUMA..HH', '11076521.IV.GUMA..HN', '11076521.IV.LNSS..HH', '11076521.IV.MC2..EH', '11076521.IV.MMO1..EH', '11076521.IV.MMO1..HN', '11076521.IV.NRCA..HH', '11076521.IV.NRCA..HN', '11076521.IV.RM33..EH', '11076521.IV.RM33..HN', '11076521.IV.SMA1..EH', '11076521.IV.T0110..HH', '11076521.IV.T1215..EH', '11076521.IV.T1215..HN', '11076521.IV.T1216..EH', '11076521.IV.T1216..HN', '11076521.IV.T1218..EH', '11076521.IV.T1218..HN', '11076521.IV.T1219..EH', '11076521.IV.T1219..HN', '11076521.IV.T1241..HN', '11076521.IV.T1243..HH', '11076521.IV.T1243..HN', '11076521.IV.T1245..HH', '11076521.IV.T1245..HN', '11076521.IV.T1247..HH', '11076521.IV.T1256..HH', '11076521.IV.T1256..HN', '11076521.IV.VCEL..EH', '1107801.IV.HLNI..HH', '1107801.IV.JOPP..HH', '1107801.IV.JOPP..HN', '1107801.IV.MPNC..HH', '1107801.IV.MSCL..HH', '1107801.IV.MSRU..HH', '1107801.IV.PLAC..HH', '1107801.IV.SOI..EH', '1107901.IV.CTI..HH', '1107901.IV.MODE..HN', '1107901.IV.NOVE..EH', '1107901.IV.RAVA..EH', '1107901.IV.ROVR..HH', '1107901.IV.SALO..HH', '1107901.IV.SBPO..HH', '1107901.IV.T0800..HH', '1107901.IV.T0800..HN', '1107901.IV.T0802..HN', '1107901.IV.T0805..HN', '1107901.IV.T0819..EH', '1107901.IV.T0819..HN', '1107901.IV.T0822..EH', '1107901.IV.T0825..EH', '11079291.IV.CESI..HH', '11079291.IV.LNSS..HH', '11079291.IV.MMO1..EH', '11079291.IV.MMO1..HN', '11079291.IV.NRCA..HH', '11079291.IV.NRCA..HN', '11079291.IV.SMA1..EH', '11079291.IV.T1215..EH', '11079291.IV.T1215..HN', '11079291.IV.T1216..EH', '11079291.IV.T1216..HN', '11079291.IV.T1218..EH', '11079291.IV.T1218..HN', '11079291.IV.T1241..EH', '11079291.IV.T1241..HN', '11079291.IV.T1243..HH', '11079291.IV.T1243..HN', '11079291.IV.T1245..HH', '11079291.IV.T1245..HN', '11079291.IV.T1256..HH', '11079291.IV.T1256..HN', '1107931.IV.CTI..HH', '1107931.IV.NOVE..EH', '1107931.IV.RAVA..EH', '1107931.IV.SALO..HH', '1107931.IV.SBPO..HH', '1107931.IV.T0800..HH', '1107931.IV.T0800..HN', '1107931.IV.T0802..HN', '1107931.IV.T0819..EH', '1107931.IV.T0819..HN', '1107931.IV.T0825..EH', '11079441.IV.CAMP..HH', '11079441.IV.GIGS..HH', '11079441.IV.LNSS..HH', '11079441.IV.MC2..EH', '11079441.IV.MMO1..HN', '11079441.IV.NRCA..HH', '11079441.IV.NRCA..HN', '11079441.IV.RM33..EH', '11079441.IV.RM33..HN', '11079441.IV.SMA1..EH', '11079441.IV.T0110..HH', '11079441.IV.T1215..EH', '11079441.IV.T1215..HN', '11079441.IV.T1216..EH', '11079441.IV.T1216..HN', '11079441.IV.T1218..EH', '11079441.IV.T1218..HN', '11079441.IV.T1241..EH', '11079441.IV.T1241..HN', '11079441.IV.T1243..HH', '11079441.IV.T1243..HN', '11079441.IV.T1245..HH', '11079441.IV.T1245..HN', '11079441.IV.T1247..HH', '11079441.IV.T1256..HH', '11079441.IV.T1256..HN', '11079441.IV.TERO..HH', '11079441.IV.TERO..HN', '11079441.IV.VCEL..EH', '11081051.IV.CAMP..HH', '11081051.IV.CSP1..EH', '11081051.IV.FDMO..HH', '11081051.IV.GIGS..HH', '11081051.IV.LNSS..HH', '11081051.IV.MMO1..EH', '11081051.IV.MMO1..HN', '11081051.IV.NRCA..HH', '11081051.IV.NRCA..HN', '11081051.IV.RM33..EH', '11081051.IV.RM33..HN', '11081051.IV.SMA1..EH', '11081051.IV.T1215..EH', '11081051.IV.T1215..HN', '11081051.IV.T1216..EH', '11081051.IV.T1216..HN', '11081051.IV.T1218..EH', '11081051.IV.T1218..HN', '11081051.IV.T1219..EH', '11081051.IV.T1219..HN', '11081051.IV.T1241..EH', '11081051.IV.T1243..HH', '11081051.IV.T1243..HN', '11081051.IV.T1245..HH', '11081051.IV.TERO..HH', '11081051.IV.TERO..HN', '1108181.IV.CTI..HH', '1108181.IV.MABI..HH', '1108181.IV.NOVE..EH', '1108181.IV.RAVA..EH', '1108181.IV.ROVR..HH', '1108181.IV.SERM..EH', '1108181.IV.SERM..HN', '1108181.IV.T0800..HH', '1108181.IV.T0800..HN', '1108181.IV.T0802..HN', '1108181.IV.T0819..EH', '1108181.IV.T0819..HN', '1108181.IV.T0822..EH', '1108181.IV.T0825..EH', '1108181.IV.TEOL..HH', '1108181.NI.CGRP..HH', '1108311.IV.CTI..HH', '1108311.IV.MABI..HH', '1108311.IV.MAGA..HH', '1108311.IV.NOVE..EH', '1108311.IV.RAVA..EH', '1108311.IV.SERM..EH', '1108311.IV.T0800..HH', '1108311.IV.T0800..HN', '1108311.IV.T0802..HN', '1108311.IV.T0805..HN', '1108311.IV.T0819..EH', '1108311.IV.T0819..HN', '1108311.IV.T0822..EH', '1108311.IV.T0825..EH', '11083921.IV.FDMO..HH', '11083921.IV.LNSS..HH', '11083921.IV.MC2..EH', '11083921.IV.MMO1..EH', '11083921.IV.MMO1..HN', '11083921.IV.NRCA..HH', '11083921.IV.NRCA..HN', '11083921.IV.RM33..EH', '11083921.IV.RM33..HN', '11083921.IV.T1215..EH', '11083921.IV.T1215..HN', '11083921.IV.T1216..EH', '11083921.IV.T1216..HN', '11083921.IV.T1218..EH', '11083921.IV.T1218..HN', '11083921.IV.T1219..EH', '11083921.IV.T1219..HN', '11083921.IV.T1241..EH', '11083921.IV.T1241..HN', '11083921.IV.T1245..HH', '11083921.IV.T1245..HN', '11083921.IV.T1256..HH', '11083921.IV.T1256..HN', '11083921.IV.TERO..HH', '11083921.IV.TERO..HN', '11084171.IV.CAMP..HH', '11084171.IV.FAGN..HH', '11084171.IV.GIGS..HH', '11084171.IV.LNSS..HH', '11084171.IV.NRCA..HH', '11084171.IV.NRCA..HN', '11084171.IV.RM33..EH', '11084171.IV.RM33..HN', '11084171.IV.SMA1..EH', '11084171.IV.T0110..HH', '11084171.IV.T1201..HN', '11084171.IV.T1202..EH', '11084171.IV.T1204..EH', '11084171.IV.T1212..EH', '11084171.IV.T1212..HN', '11084171.IV.T1213..EH', '11084171.IV.T1213..HN', '11084171.IV.T1215..EH', '11084171.IV.T1215..HN', '11084171.IV.T1218..EH', '11084171.IV.T1218..HN', '11084171.IV.T1241..EH', '11084171.IV.T1241..HN', '11084171.IV.T1243..HH', '11084171.IV.T1243..HN', '11084171.IV.T1244..EH', '11084171.IV.T1244..HN', '11084171.IV.T1246..HH', '11084171.IV.T1247..HH', '11084171.IV.TERO..HH', '11084171.IV.TERO..HN', '11084171.IV.VCEL..EH', '11085021.IV.CESI..HH', '11085021.IV.CSP1..EH', '11085021.IV.FDMO..HH', '11085021.IV.FEMA..HN', '11085021.IV.FOSV..EH', '11085021.IV.FOSV..HN', '11085021.IV.LNSS..HH', '11085021.IV.MMO1..HN', '11085021.IV.NRCA..HH', '11085021.IV.NRCA..HN', '11085021.IV.SEF1..HN', '11085021.IV.T1215..EH', '11085021.IV.T1215..HN', '11085021.IV.T1216..EH', '11085021.IV.T1216..HN', '11085021.IV.T1219..EH', '11085021.IV.T1219..HN', '11085021.IV.T1243..HH', '11085021.IV.T1243..HN', '11085021.IV.T1245..HH', '11085021.IV.T1245..HN', '11085021.IV.T1256..HH', '11085021.IV.T1256..HN', '11085571.IV.APEC..HH', '11085571.IV.APEC..HN', '11085571.IV.ARVD..HH', '11085571.IV.ATCC..EH', '11085571.IV.ATCC..HN', '11085571.IV.ATFO..HH', '11085571.IV.ATFO..HN', '11085571.IV.ATLO..EH', '11085571.IV.ATLO..HN', '11085571.IV.ATMI..HH', '11085571.IV.ATPC..HH', '11085571.IV.ATPC..HN', '11085571.IV.ATPI..EH', '11085571.IV.ATSC..EH', '11085571.IV.ATVO..HH', '11085571.IV.ATVO..HN', '11085571.IV.BADI..EH', '11085571.IV.CAFI..HH', '11085571.IV.CAFI..HN', '11085571.IV.CESI..HH', '11085571.IV.CING..HH', '11085571.IV.CPGN..EH', '11085571.IV.CPGN..HN', '11085571.IV.CRE..HH', '11085571.IV.CSP1..EH', '11085571.IV.EL6..EH', '11085571.IV.FDMO..HH', '11085571.IV.FOSV..EH', '11085571.IV.FRON..EH', '11085571.IV.FSSB..HH', '11085571.IV.LNSS..HH', '11085571.IV.MPAG..EH', '11085571.IV.MPAG..HN', '11085571.IV.MURB..HH', '11085571.IV.MURB..HN', '11085571.IV.NRCA..HH', '11085571.IV.NRCA..HN', '11085571.IV.PE3..EH', '11085571.IV.PIEI..HH', '11085571.IV.PIEI..HN', '11085571.IV.RUFI..EH', '11085571.IV.SACS..HH', '11085571.IV.SACS..HN', '11085571.IV.SNTG..HH', '11085571.IV.SNTG..HN', '11085571.IV.SSFR..HH', '11085571.IV.SSFR..HN', '11085571.IV.SSP9..EH', '11085571.IV.T1215..EH', '11085571.IV.T1215..HN', '11085571.IV.T1216..EH', '11085571.IV.T1216..HN', '11085571.IV.T1219..EH', '11085571.IV.T1219..HN', '11085571.IV.T1241..EH', '11085571.IV.T1241..HN', '11085571.IV.T1243..HH', '11085571.IV.T1243..HN', '11085571.IV.T1245..HH', '11085571.IV.T1245..HN', '11085571.IV.T1256..HH', '11085571.IV.T1256..HN', '1108621.IV.MAGA..HH', '1108621.IV.NOVE..EH', '1108621.IV.RAVA..EH', '1108621.IV.ROVR..HH', '1108621.IV.SALO..HH', '1108621.IV.SERM..EH', '1108621.IV.SERM..HN', '1108621.IV.T0800..HH', '1108621.IV.T0800..HN', '1108621.IV.T0802..HN', '1108621.IV.T0805..HN', '1108621.IV.T0819..EH', '1108621.IV.T0819..HN', '1108621.IV.T0822..EH', '1108621.IV.T0825..EH', '1108621.NI.CGRP..HH', '11087951.IV.CESI..HH', '11087951.IV.CSP1..EH', '11087951.IV.EL6..EH', '11087951.IV.GUMA..HH', '11087951.IV.GUMA..HN', '11087951.IV.MMO1..EH', '11087951.IV.MMO1..HN', '11087951.IV.SNTG..HH', '11087951.IV.SNTG..HN', '11087951.IV.T1215..EH', '11087951.IV.T1215..HN', '11087951.IV.T1216..EH', '11087951.IV.T1216..HN', '11087951.IV.T1218..EH', '11087951.IV.T1218..HN', '11087951.IV.T1219..EH', '11087951.IV.T1219..HN', '11087951.IV.T1243..HH', '11087951.IV.T1243..HN', '11087951.IV.T1245..HH', '11087951.IV.T1245..HN', '11087951.IV.T1256..HH', '11087951.IV.T1256..HN', '11087951.IV.TERO..HH', '11087951.IV.TERO..HN', '1108961.IV.HAVL..HH', '1108961.IV.HCRL..HH', '1108961.IV.HLNI..HH', '1108961.IV.HMDC..HH', '1108961.IV.HVZN..HH', '1108961.IV.SSY..HH', '11091211.IV.CAMP..HH', '11091211.IV.GIGS..HH', '11091211.IV.LNSS..HH', '11091211.IV.RM33..EH', '11091211.IV.RM33..HN', '11091211.IV.SMA1..EH', '11091211.IV.T1211..EH', '11091211.IV.T1211..HN', '11091211.IV.T1218..EH', '11091211.IV.T1218..HN', '11091211.IV.T1243..HH', '11091211.IV.T1243..HN', '11091211.IV.T1246..HH', '11091211.IV.T1299..EH', '11091211.IV.T1299..HN', '11091211.IV.TERO..HH', '11091211.IV.TERO..HN', '11091901.IV.CAMP..HH', '11091901.IV.CSP1..EH', '11091901.IV.FIAM..HH', '11091901.IV.FIAM..HN', '11091901.IV.GIGS..HH', '11091901.IV.LNSS..HH', '11091901.IV.MMO1..EH', '11091901.IV.MMO1..HN', '11091901.IV.NRCA..HH', '11091901.IV.NRCA..HN', '11091901.IV.RM33..EH', '11091901.IV.RM33..HN', '11091901.IV.T0110..HH', '11091901.IV.T1211..EH', '11091901.IV.T1211..HN', '11091901.IV.T1215..EH', '11091901.IV.T1215..HN', '11091901.IV.T1218..EH', '11091901.IV.T1218..HN', '11091901.IV.T1241..EH', '11091901.IV.T1243..HH', '11091901.IV.T1243..HN', '11091901.IV.T1245..HH', '11091901.IV.T1245..HN', '11091901.IV.T1246..HH', '11091901.IV.T1256..HH', '11091901.IV.T1256..HN', '11091901.IV.T1299..EH', '11091901.IV.T1299..HN', '11091901.IV.TERO..HH', '11091901.IV.TERO..HN', '1109311.IV.MAGA..HH', '1109311.IV.RAVA..EH', '1109311.IV.SERM..EH', '1109311.IV.SERM..HN', '1109311.IV.T0800..HH', '1109311.IV.T0800..HN', '1109311.IV.T0802..HN', '1109311.IV.T0803..HN', '1109311.IV.T0805..HN', '1109311.IV.T0822..EH', '11098301.IV.CESI..HH', '11098301.IV.CSP1..EH', '11098301.IV.FDMO..HH', '11098301.IV.FEMA..HN', '11098301.IV.FOSV..EH', '11098301.IV.FOSV..HN', '11098301.IV.GUMA..HH', '11098301.IV.GUMA..HN', '11098301.IV.LNSS..HH', '11098301.IV.MC2..EH', '11098301.IV.MDAR..HN', '11098301.IV.MMO1..EH', '11098301.IV.MMO1..HN', '11098301.IV.NRCA..HH', '11098301.IV.NRCA..HN', '11098301.IV.SEF1..HN', '11098301.IV.SNTG..HH', '11098301.IV.SNTG..HN', '11098301.IV.T1215..EH', '11098301.IV.T1215..HN', '11098301.IV.T1216..EH', '11098301.IV.T1216..HN', '11098301.IV.T1218..EH', '11098301.IV.T1218..HN', '11098301.IV.T1219..EH', '11098301.IV.T1219..HN', '11098301.IV.T1243..HH', '11098301.IV.T1243..HN', '11098301.IV.T1245..HH', '11098301.IV.T1245..HN', '11098301.IV.T1256..HH', '11098301.IV.T1256..HN', '11098301.IV.TERO..HH', '11098301.IV.TERO..HN', '1109861.GU.MAIM..HH', '1109861.IV.MABI..HH', '1109861.IV.MODE..HN', '1109861.IV.MSSA..HH', '1109861.IV.NOVE..EH', '1109861.IV.RAVA..EH', '1109861.IV.ROVR..HH', '1109861.IV.SALO..HH', '1109861.IV.SBPO..HH', '1109861.IV.T0800..HH', '1109861.IV.T0800..HN', '1109861.IV.T0802..HN', '1109861.IV.T0819..EH', '1109861.IV.T0819..HN', '1109861.IV.T0825..EH', '1109861.IV.TEOL..HH', '11098721.IV.ARRO..EH', '11098721.IV.ARVD..HH', '11098721.IV.ATCC..EH', '11098721.IV.ATCC..HN', '11098721.IV.ATFO..HH', '11098721.IV.ATFO..HN', '11098721.IV.ATPI..EH', '11098721.IV.ATVO..HH', '11098721.IV.ATVO..HN', '11098721.IV.CAMP..HH', '11098721.IV.CESI..HH', '11098721.IV.CESX..HH', '11098721.IV.CING..HH', '11098721.IV.CSP1..EH', '11098721.IV.FDMO..HH', '11098721.IV.FEMA..HN', '11098721.IV.FIAM..HH', '11098721.IV.FIAM..HN', '11098721.IV.FSSB..HH', '11098721.IV.GIGS..HH', '11098721.IV.GUMA..HH', '11098721.IV.GUMA..HN', '11098721.IV.LNSS..HH', '11098721.IV.MPAG..EH', '11098721.IV.MPAG..HN', '11098721.IV.NRCA..HH', '11098721.IV.NRCA..HN', '11098721.IV.PIEI..HH', '11098721.IV.PIEI..HN', '11098721.IV.RM33..EH', '11098721.IV.RM33..HN', '11098721.IV.SACS..HH', '11098721.IV.SACS..HN', '11098721.IV.SMA1..EH', '11098721.IV.SNTG..HH', '11098721.IV.SNTG..HN', '11098721.IV.SRES..HH', '11098721.IV.SSFR..HH', '11098721.IV.SSFR..HN', '11098721.IV.T0110..HH', '11098721.IV.T1201..HN', '11098721.IV.T1202..EH', '11098721.IV.T1204..EH', '11098721.IV.T1211..EH', '11098721.IV.T1211..HN', '11098721.IV.T1212..EH', '11098721.IV.T1212..HN', '11098721.IV.T1213..EH', '11098721.IV.T1213..HN', '11098721.IV.T1215..EH', '11098721.IV.T1215..HN', '11098721.IV.T1216..EH', '11098721.IV.T1216..HN', '11098721.IV.T1217..EH', '11098721.IV.T1217..HN', '11098721.IV.T1218..EH', '11098721.IV.T1218..HN', '11098721.IV.T1219..EH', '11098721.IV.T1219..HN', '11098721.IV.T1221..EH', '11098721.IV.T1221..HN', '11098721.IV.T1241..EH', '11098721.IV.T1241..HN', '11098721.IV.T1243..HH', '11098721.IV.T1243..HN', '11098721.IV.T1244..EH', '11098721.IV.T1244..HN', '11098721.IV.T1245..HH', '11098721.IV.T1245..HN', '11098721.IV.T1246..HH', '11098721.IV.T1247..HH', '11098721.IV.T1256..HH', '11098721.IV.T1256..HN', '11098721.IV.T1299..EH', '11098721.IV.T1299..HN', '11098721.IV.TERO..HH', '11098721.IV.TERO..HN', '11098721.IV.VCEL..EH', '11098721.MN.AQU..HH', '11098721.MN.AQU..HL', '1109901.GU.GORR..HH', '1109901.GU.MAIM..HH', '1109901.GU.PCP..HH', '1109901.IV.BOB..HH', '1109901.IV.BOB..HN', '1109901.IV.BRMO..HH', '1109901.IV.CSNT..HH', '1109901.IV.MABI..HH', '1109901.IV.MAGA..HH', '1109901.IV.MODE..HN', '1109901.IV.MSSA..HH', '1109901.IV.NOVE..EH', '1109901.IV.PLMA..HH', '1109901.IV.RAVA..EH', '1109901.IV.ROVR..HH', '1109901.IV.SALO..HH', '1109901.IV.SBPO..HH', '1109901.IV.T0802..HN', '1109901.IV.T0819..EH', '1109901.IV.T0819..HN', '1109901.IV.T0825..EH', '1109901.IV.TEOL..HH', '1109901.NI.CGRP..HH', '11099711.IV.CSP1..EH', '11099711.IV.FDMO..HH', '11099711.IV.MMO1..EH', '11099711.IV.MMO1..HN', '11099711.IV.NRCA..HH', '11099711.IV.NRCA..HN', '11099711.IV.T1216..EH', '11099711.IV.T1216..HN', '11099711.IV.T1219..EH', '11099711.IV.T1219..HN', '11099711.IV.T1245..HH', '11099711.IV.T1245..HN', '1110111.GU.MAIM..HH', '1110111.IV.BRMO..HH', '1110111.IV.CTI..HH', '1110111.IV.ERBM..EH', '1110111.IV.MAGA..HH', '1110111.IV.MDI..HH', '1110111.IV.MDI..HN', '1110111.IV.MODE..HN', '1110111.IV.MSSA..HH', '1110111.IV.NOVE..EH', '1110111.IV.PLMA..HH', '1110111.IV.RAVA..EH', '1110111.IV.ROVR..HH', '1110111.IV.SALO..HH', '1110111.IV.SERM..EH', '1110111.IV.SERM..HN', '1110111.IV.T0800..HH', '1110111.IV.T0800..HN', '1110111.IV.T0802..HN', '1110111.IV.T0819..EH', '1110111.IV.T0819..HN', '1110111.IV.T0821..EH', '1110111.IV.T0821..HN', '1110111.IV.T0825..EH', '1110111.IV.TEOL..HH', '1110111.IV.ZCCA..HH', '1110111.IV.ZCCA..HN', '1110111.NI.AGOR..HH', '1110111.NI.CGRP..HH', '1110111.SI.MOSI..HH', '1110151.IV.ARVD..HH', '1110151.IV.ATBU..EH', '1110151.IV.ATCC..EH', '1110151.IV.ATPC..HH', '1110151.IV.ATPC..HN', '1110151.IV.ATPI..EH', '1110151.IV.ATVA..EH', '1110151.IV.ATVO..HH', '1110151.IV.BADI..EH', '1110151.IV.CESI..HH', '1110151.IV.CING..HH', '1110151.IV.COR1..EH', '1110151.IV.COR1..HN', '1110151.IV.EL6..EH', '1110151.IV.FDMO..HH', '1110151.IV.FRON..EH', '1110151.IV.FSSB..HH', '1110151.IV.GUMA..HH', '1110151.IV.GUMA..HN', '1110151.IV.LNSS..HH', '1110151.IV.MPAG..EH', '1110151.IV.MPAG..HN', '1110151.IV.MURB..HH', '1110151.IV.MURB..HN', '1110151.IV.NARO..HH', '1110151.IV.NRCA..HH', '1110151.IV.NRCA..HN', '1110151.IV.PARC..HH', '1110151.IV.PE3..EH', '1110151.IV.PIEI..HH', '1110151.IV.SNTG..HH', '1110151.IV.SNTG..HN', '1110151.IV.SSFR..HH', '1110151.IV.SSFR..HN', '11101871.IV.ARVD..HH', '11101871.IV.ATCC..EH', '11101871.IV.ATCC..HN', '11101871.IV.CESI..HH', '11101871.IV.CSP1..EH', '11101871.IV.EL6..EH', '11101871.IV.FDMO..HH', '11101871.IV.FOSV..EH', '11101871.IV.GUMA..HH', '11101871.IV.GUMA..HN', '11101871.IV.SNTG..HH', '11101871.IV.SNTG..HN', '11101871.IV.SSFR..HH', '11101871.IV.SSFR..HN', '11101871.IV.T1215..EH', '11101871.IV.T1215..HN', '11101871.IV.T1216..EH', '11101871.IV.T1216..HN', '11101871.IV.T1218..EH', '11101871.IV.T1218..HN', '11101871.IV.T1219..EH', '11101871.IV.T1219..HN', '11101871.IV.T1245..HH', '11101871.IV.T1256..HH', '11101871.IV.T1256..HN', '11101871.IV.TERO..HH', '11101871.IV.TERO..HN', '11103591.IV.CESI..HH', '11103591.IV.CSP1..EH', '11103591.IV.FDMO..HH', '11103591.IV.MC2..EH', '11103591.IV.MMO1..EH', '11103591.IV.SNTG..HH', '11103591.IV.SNTG..HN', '11103591.IV.T1215..EH', '11103591.IV.T1215..HN', '11103591.IV.T1216..EH', '11103591.IV.T1216..HN', '11103591.IV.T1219..EH', '11103591.IV.T1219..HN', '11103591.IV.T1241..EH', '11103591.IV.T1256..HH', '11103591.IV.T1256..HN', '11105061.IV.ARRO..EH', '11105061.IV.CAMP..HH', '11105061.IV.CESX..HH', '11105061.IV.CING..HH', '11105061.IV.CSP1..EH', '11105061.IV.EL6..EH', '11105061.IV.FAGN..HH', '11105061.IV.FIAM..HH', '11105061.IV.FIAM..HN', '11105061.IV.GIGS..HH', '11105061.IV.GUMA..HH', '11105061.IV.GUMA..HN', '11105061.IV.INTR..HH', '11105061.IV.INTR..HN', '11105061.IV.LNSS..HH', '11105061.IV.MC2..EH', '11105061.IV.NRCA..HH', '11105061.IV.NRCA..HN', '11105061.IV.OFFI..HH', '11105061.IV.RM33..EH', '11105061.IV.RM33..HN', '11105061.IV.SACS..HH', '11105061.IV.SACS..HN', '11105061.IV.SRES..HH', '11105061.IV.T0110..HH', '11105061.IV.T1201..HN', '11105061.IV.T1202..EH', '11105061.IV.T1204..EH', '11105061.IV.T1211..EH', '11105061.IV.T1211..HN', '11105061.IV.T1212..EH', '11105061.IV.T1212..HN', '11105061.IV.T1213..EH', '11105061.IV.T1213..HN', '11105061.IV.T1215..EH', '11105061.IV.T1215..HN', '11105061.IV.T1216..EH', '11105061.IV.T1216..HN', '11105061.IV.T1218..EH', '11105061.IV.T1218..HN', '11105061.IV.T1219..EH', '11105061.IV.T1219..HN', '11105061.IV.T1241..EH', '11105061.IV.T1243..HH', '11105061.IV.T1243..HN', '11105061.IV.T1244..EH', '11105061.IV.T1244..HN', '11105061.IV.T1245..HH', '11105061.IV.T1245..HN', '11105061.IV.T1246..HH', '11105061.IV.T1247..HH', '11105061.IV.T1256..HH', '11105061.IV.T1256..HN', '11105061.IV.T1299..EH', '11105061.IV.T1299..HN', '11105061.IV.TERO..HN', '11105061.IV.VCEL..EH', '11105061.MN.AQU..HH', '11105061.MN.AQU..HL', '1110591.IV.AGST..EH', '1110591.IV.HAGA..HH', '1110591.IV.HAVL..HH', '1110591.IV.HCRL..HH', '1110591.IV.HLNI..HH', '1110591.IV.HMDC..HH', '1110591.IV.IFIL..HH', '1110591.IV.IVPL..HH', '1110591.IV.JOPP..HH', '1110591.IV.MCSR..HH', '1110591.IV.MPAZ..HH', '1110591.IV.MPNC..HH', '1110591.IV.MSCL..HH', '1110591.IV.MSFR..HH', '1110591.IV.MSRU..HH', '1110591.IV.MTTG..HH', '1110591.IV.NOV..HH', '1110591.IV.PIPA..HH', '1110591.IV.PIPA..HN', '1110591.IV.PLAC..HH', '1110591.IV.SERS..HH', '1110591.IV.SERS..HN', '1110591.IV.SOI..EH', '1110591.IV.SSY..HH', '1110591.MN.CEL..HH', '1110591.MN.CEL..HL', '11107161.IV.ATCC..EH', '11107161.IV.ATCC..HN', '11107161.IV.CAMP..HH', '11107161.IV.CESI..HH', '11107161.IV.CING..HH', '11107161.IV.CSP1..EH', '11107161.IV.FDMO..HH', '11107161.IV.GUMA..HH', '11107161.IV.GUMA..HN', '11107161.IV.LNSS..HH', '11107161.IV.MC2..EH', '11107161.IV.MMO1..EH', '11107161.IV.MMO1..HN', '11107161.IV.NRCA..HH', '11107161.IV.NRCA..HN', '11107161.IV.OFFI..HH', '11107161.IV.SMA1..EH', '11107161.IV.SNTG..HH', '11107161.IV.SNTG..HN', '11107161.IV.T1211..EH', '11107161.IV.T1211..HN', '11107161.IV.T1215..EH', '11107161.IV.T1215..HN', '11107161.IV.T1216..EH', '11107161.IV.T1216..HN', '11107161.IV.T1218..EH', '11107161.IV.T1218..HN', '11107161.IV.T1219..EH', '11107161.IV.T1219..HN', '11107161.IV.T1241..EH', '11107161.IV.T1241..HN', '11107161.IV.T1243..HH', '11107161.IV.T1243..HN', '11107161.IV.T1245..HH', '11107161.IV.T1245..HN', '11107161.IV.T1256..HH', '11107161.IV.T1256..HN', '11107161.IV.TERO..HH', '11107161.IV.TERO..HN', '11108321.IV.ARRO..EH', '11108321.IV.CSP1..EH', '11108321.IV.FDMO..HH', '11108321.IV.LNSS..HH', '11108321.IV.MMO1..EH', '11108321.IV.MMO1..HN', '11108321.IV.T1211..EH', '11108321.IV.T1211..HN', '11108321.IV.T1218..EH', '11108321.IV.T1218..HN', '11108321.IV.T1219..EH', '11108321.IV.T1219..HN', '11108831.IV.ARRO..EH', '11108831.IV.CAMP..HH', '11108831.IV.CESI..HH', '11108831.IV.CING..HH', '11108831.IV.CSP1..EH', '11108831.IV.EL6..EH', '11108831.IV.FDMO..HH', '11108831.IV.FIAM..HH', '11108831.IV.FIAM..HN', '11108831.IV.GUMA..HH', '11108831.IV.GUMA..HN', '11108831.IV.LNSS..HH', '11108831.IV.MMO1..EH', '11108831.IV.MMO1..HN', '11108831.IV.NRCA..HH', '11108831.IV.NRCA..HN', '11108831.IV.OFFI..HH', '11108831.IV.RM33..EH', '11108831.IV.RM33..HN', '11108831.IV.SMA1..EH', '11108831.IV.SNTG..HH', '11108831.IV.SNTG..HN', '11108831.IV.T1211..EH', '11108831.IV.T1211..HN', '11108831.IV.T1215..EH', '11108831.IV.T1215..HN', '11108831.IV.T1216..EH', '11108831.IV.T1216..HN', '11108831.IV.T1218..EH', '11108831.IV.T1218..HN', '11108831.IV.T1219..EH', '11108831.IV.T1219..HN', '11108831.IV.T1243..HH', '11108831.IV.T1243..HN', '11108831.IV.T1245..HH', '11108831.IV.T1245..HN', '11108831.IV.T1247..HH', '11108831.IV.T1256..HH', '11108831.IV.T1256..HN', '11108831.IV.TERO..HN', '11109121.BA.PZUN..HH', '11109121.BA.PZUN..HN', '11109121.IV.ACER..HH', '11109121.IV.ACER..HN', '11109121.IV.AIO..HH', '11109121.IV.AMUR..HH', '11109121.IV.APRC..HN', '11109121.IV.BIOG..HH', '11109121.IV.BIOG..HN', '11109121.IV.BSSO..HH', '11109121.IV.BSSO..HN', '11109121.IV.CAAM..HH', '11109121.IV.CAFE..HH', '11109121.IV.CAFE..HN', '11109121.IV.CAPA..HH', '11109121.IV.CAR1..HH', '11109121.IV.CAR1..HN', '11109121.IV.CDRU..HH', '11109121.IV.CELI..HH', '11109121.IV.CELI..HN', '11109121.IV.CERA..HH', '11109121.IV.CERA..HN', '11109121.IV.CERT..HH', '11109121.IV.CET2..HH', '11109121.IV.CIGN..HH', '11109121.IV.CMPR..HH', '11109121.IV.COLB..HH', '11109121.IV.CSOB..HH', '11109121.IV.CSP1..EH', '11109121.IV.FRES..HH', '11109121.IV.GIUL..HH', '11109121.IV.GRI..EH', '11109121.IV.IACL..HH', '11109121.IV.IFOR..HH', '11109121.IV.IVPL..HH', '11109121.IV.JOPP..HH', '11109121.IV.JOPP..HN', '11109121.IV.LATB..EH', '11109121.IV.LRP..HH', '11109121.IV.LTRZ..EH', '11109121.IV.LTRZ..HN', '11109121.IV.MCEL..HH', '11109121.IV.MCEL..HN', '11109121.IV.MCRV..HH', '11109121.IV.MELA..HH', '11109121.IV.MELA..HN', '11109121.IV.MGR..HH', '11109121.IV.MGR..HN', '11109121.IV.MIDA..HH', '11109121.IV.MIDA..HN', '11109121.IV.MIGL..HH', '11109121.IV.MOCO..HH', '11109121.IV.MOCO..HN', '11109121.IV.MODR..HH', '11109121.IV.MRB1..HH', '11109121.IV.MRB1..HN', '11109121.IV.MRLC..HH', '11109121.IV.MRLC..HN', '11109121.IV.MRVN..HH', '11109121.IV.MSAG..HH', '11109121.IV.MSAG..HN', '11109121.IV.MSRU..HH', '11109121.IV.MTSN..HH', '11109121.IV.NOCI..HH', '11109121.IV.OVO..HH', '11109121.IV.PALZ..HH', '11109121.IV.PIGN..HH', '11109121.IV.PIGN..HN', '11109121.IV.PLAC..HN', '11109121.IV.POFI..HH', '11109121.IV.POFI..HN', '11109121.IV.PTRJ..HH', '11109121.IV.PTRJ..HN', '11109121.IV.PTRP..HH', '11109121.IV.RNI2..HH', '11109121.IV.RNI2..HN', '11109121.IV.SACR..HH', '11109121.IV.SACR..HN', '11109121.IV.SALB..HH', '11109121.IV.SALB..HN', '11109121.IV.SCHR..EH', '11109121.IV.SGRT..HH', '11109121.IV.SGTA..HH', '11109121.IV.SGTA..HN', '11109121.IV.SIRI..HH', '11109121.IV.SIRI..HN', '11109121.IV.SLCN..HH', '11109121.IV.SLCN..HN', '11109121.IV.SNAL..HH', '11109121.IV.SNAL..HN', '11109121.IV.SOI..EH', '11109121.IV.SPS2..HH', '11109121.IV.TDS..HH', '11109121.IV.TERO..HH', '11109121.IV.TERO..HN', '11109121.IV.TOLF..HH', '11109121.IV.TREM..HH', '11109121.IV.TRIV..HH', '11109121.IV.TRIV..HN', '11109121.IV.VAGA..HH', '11109121.IV.VAGA..HN', '11109121.IV.VULT..HH', '11109121.IV.VULT..HN', '11109121.IV.VVDG..HH', '11109121.IV.VVLD..HH', '11109121.IX.LIO3.02.HH', '11109121.IX.RDM3.02.HH', '11109121.IX.RSF3.02.HH', '11109121.MN.CUC..HH', '11109121.MN.CUC..HN', '11109121.MN.PDG..HH', '11109121.MN.PDG..HL', '11109121.MN.TIR..HH', '11109121.OT.TAR1..HH', '11109121.TV.AG11..EH', '11109791.IV.ARRO..EH', '11109791.IV.CAMP..HH', '11109791.IV.FIAM..HH', '11109791.IV.FIAM..HN', '11109791.IV.GIGS..HH', '11109791.IV.LNSS..HH', '11109791.IV.NRCA..HH', '11109791.IV.NRCA..HN', '11109791.IV.RM33..EH', '11109791.IV.RM33..HN', '11109791.IV.SMA1..EH', '11109791.IV.T1211..EH', '11109791.IV.T1211..HN', '11109791.IV.T1218..EH', '11109791.IV.T1218..HN', '11109791.IV.T1243..HH', '11109791.IV.T1243..HN', '11109791.IV.T1245..HH', '11109791.IV.T1245..HN', '11109791.IV.T1246..HH', '11109791.IV.T1247..HH', '11109791.IV.T1299..EH', '11109791.IV.T1299..HN', '11109791.IV.TERO..HH', '11109791.IV.TERO..HN', '11109791.IV.VCEL..EH', '11109791.MN.AQU..HH', '11109791.MN.AQU..HL', '11111771.IV.ARRO..EH', '11111771.IV.CAMP..HH', '11111771.IV.CESX..HH', '11111771.IV.FAGN..HH', '11111771.IV.FDMO..HH', '11111771.IV.FIAM..HH', '11111771.IV.FIAM..HN', '11111771.IV.GIGS..HH', '11111771.IV.GUMA..HH', '11111771.IV.GUMA..HN', '11111771.IV.LNSS..HH', '11111771.IV.MC2..EH', '11111771.IV.MMO1..EH', '11111771.IV.MMO1..HN', '11111771.IV.NRCA..HH', '11111771.IV.NRCA..HN', '11111771.IV.RM33..EH', '11111771.IV.RM33..HN', '11111771.IV.SMA1..EH', '11111771.IV.T0110..HH', '11111771.IV.T1211..EH', '11111771.IV.T1211..HN', '11111771.IV.T1215..EH', '11111771.IV.T1215..HN', '11111771.IV.T1216..EH', '11111771.IV.T1216..HN', '11111771.IV.T1218..EH', '11111771.IV.T1218..HN', '11111771.IV.T1241..EH', '11111771.IV.T1243..HH', '11111771.IV.T1243..HN', '11111771.IV.T1245..HH', '11111771.IV.T1245..HN', '11111771.IV.T1247..HH', '11111771.IV.T1256..HH', '11111771.IV.T1256..HN', '11111771.IV.VCEL..EH', '11111771.MN.AQU..HH', '11111771.MN.AQU..HL', '11111951.IV.ARRO..EH', '11111951.IV.ARVD..HH', '11111951.IV.ATCC..EH', '11111951.IV.ATCC..HN', '11111951.IV.CAMP..HH', '11111951.IV.CESI..HH', '11111951.IV.CESX..HH', '11111951.IV.CING..HH', '11111951.IV.CSP1..EH', '11111951.IV.FAGN..HH', '11111951.IV.FIAM..HN', '11111951.IV.GIGS..HH', '11111951.IV.GUMA..HH', '11111951.IV.GUMA..HN', '11111951.IV.LNSS..HH', '11111951.IV.MC2..EH', '11111951.IV.MMO1..EH', '11111951.IV.MMO1..HN', '11111951.IV.NRCA..HH', '11111951.IV.NRCA..HN', '11111951.IV.OFFI..HH', '11111951.IV.PIEI..HH', '11111951.IV.PIEI..HN', '11111951.IV.RM33..EH', '11111951.IV.RM33..HN', '11111951.IV.SMA1..EH', '11111951.IV.SNTG..HH', '11111951.IV.SNTG..HN', '11111951.IV.SRES..HH', '11111951.IV.T0110..HH', '11111951.IV.T1211..EH', '11111951.IV.T1211..HN', '11111951.IV.T1215..EH', '11111951.IV.T1215..HN', '11111951.IV.T1216..EH', '11111951.IV.T1216..HN', '11111951.IV.T1218..EH', '11111951.IV.T1218..HN', '11111951.IV.T1219..EH', '11111951.IV.T1219..HN', '11111951.IV.T1241..EH', '11111951.IV.T1241..HN', '11111951.IV.T1243..HH', '11111951.IV.T1243..HN', '11111951.IV.T1245..HH', '11111951.IV.T1245..HN', '11111951.IV.T1247..HH', '11111951.IV.T1256..HH', '11111951.IV.T1256..HN', '11111951.IV.TERO..HH', '11111951.IV.TERO..HN', '11111951.IV.VCEL..EH', '11112661.IV.CSP1..EH', '11112661.IV.FDMO..HH', '11112661.IV.MC2..EH', '11112661.IV.MMO1..EH', '11112661.IV.MMO1..HN', '11112661.IV.NRCA..HH', '11112661.IV.NRCA..HN', '11112661.IV.T1216..EH', '11112661.IV.T1216..HN', '11112661.IV.T1219..EH', '11112661.IV.T1219..HN', '11112661.IV.T1241..EH', '11112661.IV.T1241..HN', '11112661.IV.T1243..HH', '11112661.IV.T1243..HN', '11112661.IV.T1245..HH', '11112661.IV.T1245..HN', '11112661.IV.T1256..HH', '11112661.IV.T1256..HN', '11112901.IV.ARRO..EH', '11112901.IV.CAMP..HH', '11112901.IV.FAGN..HH', '11112901.IV.FDMO..HH', '11112901.IV.FIAM..HH', '11112901.IV.FIAM..HN', '11112901.IV.GIGS..HH', '11112901.IV.LNSS..HH', '11112901.IV.MMO1..EH', '11112901.IV.MMO1..HN', '11112901.IV.NRCA..HH', '11112901.IV.NRCA..HN', '11112901.IV.RM33..EH', '11112901.IV.RM33..HN', '11112901.IV.SMA1..EH', '11112901.IV.T0110..HH', '11112901.IV.T1211..EH', '11112901.IV.T1211..HN', '11112901.IV.T1215..EH', '11112901.IV.T1215..HN', '11112901.IV.T1216..EH', '11112901.IV.T1216..HN', '11112901.IV.T1218..EH', '11112901.IV.T1218..HN', '11112901.IV.T1241..EH', '11112901.IV.T1241..HN', '11112901.IV.T1243..HH', '11112901.IV.T1243..HN', '11112901.IV.T1245..HH', '11112901.IV.T1245..HN', '11112901.IV.T1247..HH', '11112901.IV.TERO..HH', '11112901.IV.VCEL..EH', '11113371.IV.LNSS..HH', '11113371.IV.MMO1..EH', '11113371.IV.MMO1..HN', '11113371.IV.NRCA..HH', '11113371.IV.NRCA..HN', '11113371.IV.SMA1..EH', '11113371.IV.T1241..EH', '11113371.IV.T1241..HN', '11113371.IV.T1245..HH', '11113371.IV.T1245..HN', '11113591.IV.CSP1..EH', '11113591.IV.GIGS..HH', '11113591.IV.LNSS..HH', '11113591.IV.NRCA..HH', '11113591.IV.NRCA..HN', '11113591.IV.OFFI..HH', '11113591.IV.RM33..EH', '11113591.IV.RM33..HN', '11113591.IV.SMA1..EH', '11113591.IV.T1211..EH', '11113591.IV.T1211..HN', '11113591.IV.T1215..EH', '11113591.IV.T1215..HN', '11113591.IV.T1216..EH', '11113591.IV.T1216..HN', '11113591.IV.T1218..EH', '11113591.IV.T1218..HN', '11113591.IV.T1241..EH', '11113591.IV.T1241..HN', '11113591.IV.T1243..HH', '11113591.IV.T1243..HN', '11113591.IV.T1247..HH', '11113591.IV.TERO..HH', '11113591.IV.TERO..HN', '11115611.IV.ATCC..EH', '11115611.IV.ATCC..HN', '11115611.IV.CESI..HH', '11115611.IV.CSP1..EH', '11115611.IV.FDMO..HH', '11115611.IV.MC2..EH', '11115611.IV.MMO1..EH', '11115611.IV.MMO1..HN', '11115611.IV.NRCA..HH', '11115611.IV.NRCA..HN', '11115611.IV.SNTG..HH', '11115611.IV.SNTG..HN', '11115611.IV.T1215..EH', '11115611.IV.T1215..HN', '11115611.IV.T1216..EH', '11115611.IV.T1216..HN', '11115611.IV.T1219..EH', '11115611.IV.T1219..HN', '11115611.IV.T1241..EH', '11115611.IV.T1245..HH', '11115611.IV.T1245..HN', '11115611.IV.T1256..HH', '11115611.IV.T1256..HN', '11115921.IV.ACER..HH', '11115921.IV.ACER..HN', '11115921.IV.AMUR..HH', '11115921.IV.APRC..EH', '11115921.IV.BSSO..HH', '11115921.IV.BSSO..HN', '11115921.IV.CAFE..HH', '11115921.IV.CAFE..HN', '11115921.IV.CAPA..HH', '11115921.IV.CIGN..HH', '11115921.IV.FRES..HH', '11115921.IV.GATE..HH', '11115921.IV.GATE..HN', '11115921.IV.INTR..HH', '11115921.IV.INTR..HN', '11115921.IV.LRP..HH', '11115921.IV.LTRZ..EH', '11115921.IV.MELA..HH', '11115921.IV.MELA..HN', '11115921.IV.MIGL..HH', '11115921.IV.MOCO..HH', '11115921.IV.MOCO..HN', '11115921.IV.MRLC..HH', '11115921.IV.MRLC..HN', '11115921.IV.MRVN..HH', '11115921.IV.MSAG..HH', '11115921.IV.MSAG..HN', '11115921.IV.NOCI..HH', '11115921.IV.PALZ..HH', '11115921.IV.RNI2..HH', '11115921.IV.RNI2..HN', '11115921.IV.SACR..HH', '11115921.IV.SACR..HN', '11115921.IV.SGRT..HH', '11115921.IV.SGTA..HH', '11115921.IV.SGTA..HN', '11115921.IV.T0110..HH', '11115921.IV.TRIV..HH', '11115921.IV.TRIV..HN', '11115921.IV.VAGA..HH', '11115921.IV.VAGA..HN', '11115921.IV.VULT..HH', '11115921.IV.VULT..HN', '11117741.IV.CAMP..HH', '11117741.IV.CERT..HH', '11117741.IV.CESI..HH', '11117741.IV.EL6..EH', '11117741.IV.FAGN..HH', '11117741.IV.FIAM..HH', '11117741.IV.FIAM..HN', '11117741.IV.GIGS..HH', '11117741.IV.GUMA..HH', '11117741.IV.GUMA..HN', '11117741.IV.LNSS..HH', '11117741.IV.RM33..EH', '11117741.IV.RM33..HN', '11117741.IV.SMA1..EH', '11117741.IV.T0110..HH', '11117741.IV.T1204..EH', '11117741.IV.T1211..EH', '11117741.IV.T1211..HN', '11117741.IV.T1215..EH', '11117741.IV.T1215..HN', '11117741.IV.T1218..EH', '11117741.IV.T1218..HN', '11117741.IV.T1241..EH', '11117741.IV.T1243..HH', '11117741.IV.T1243..HN', '11117741.IV.T1244..EH', '11117741.IV.T1244..HN', '11117741.IV.T1246..HH', '11117741.IV.T1247..HH', '11117741.IV.T1299..EH', '11117741.IV.T1299..HN', '11117741.IV.TERO..HH', '11117741.IV.TERO..HN', '11117741.IV.VCEL..EH', '11117741.MN.AQU..HH', '11117741.MN.AQU..HL', '11117901.IV.APEC..HH', '11117901.IV.APEC..HN', '11117901.IV.ARVD..HH', '11117901.IV.ASQU..HH', '11117901.IV.ATCC..HN', '11117901.IV.ATMI..HH', '11117901.IV.ATVO..HH', '11117901.IV.ATVO..HN', '11117901.IV.BADI..EH', '11117901.IV.CDCA..HN', '11117901.IV.COR1..HN', '11117901.IV.CPGN..EH', '11117901.IV.CRE..HH', '11117901.IV.CSP1..EH', '11117901.IV.EL6..EH', '11117901.IV.FOSV..EH', '11117901.IV.FRON..EH', '11117901.IV.FSSB..HH', '11117901.IV.LMD..HH', '11117901.IV.MPAG..EH', '11117901.IV.MPAG..HN', '11117901.IV.MURB..HH', '11117901.IV.MURB..HN', '11117901.IV.PESA..HH', '11117901.IV.PIEI..HH', '11117901.IV.PIEI..HN', '11117901.IV.RUFI..EH', '11117901.IV.SACS..HH', '11117901.IV.SACS..HN', '11117901.IV.SNTG..HH', '11117901.IV.SNTG..HN', '11117901.IV.SSP9..EH', '1111831.GU.MAIM..HH', '1111831.IV.BDI..HH', '1111831.IV.BDI..HN', '1111831.IV.ERBM..EH', '1111831.IV.MABI..HH', '1111831.IV.MAGA..HH', '1111831.IV.NOVE..EH', '1111831.IV.PLMA..HH', '1111831.IV.RAVA..EH', '1111831.IV.ROVR..HH', '1111831.IV.SALO..HH', '1111831.IV.T0822..EH', '1111831.IV.ZCCA..HH', '1111831.IV.ZCCA..HN', '1111831.MN.VLC..HH', '1111831.MN.VLC..HN', '11119181.IV.ARRO..EH', '11119181.IV.CAMP..HH', '11119181.IV.CESI..HH', '11119181.IV.CING..HH', '11119181.IV.FIAM..HH', '11119181.IV.FIAM..HN', '11119181.IV.GIGS..HH', '11119181.IV.GUMA..HH', '11119181.IV.GUMA..HN', '11119181.IV.INTR..HH', '11119181.IV.INTR..HN', '11119181.IV.LNSS..HH', '11119181.IV.MC2..EH', '11119181.IV.NRCA..HH', '11119181.IV.NRCA..HN', '11119181.IV.OFFI..HH', '11119181.IV.RM33..EH', '11119181.IV.RM33..HN', '11119181.IV.SRES..HH', '11119181.IV.T0110..HH', '11119181.IV.T1202..EH', '11119181.IV.T1204..EH', '11119181.IV.T1211..EH', '11119181.IV.T1211..HN', '11119181.IV.T1213..EH', '11119181.IV.T1213..HN', '11119181.IV.T1215..EH', '11119181.IV.T1215..HN', '11119181.IV.T1216..EH', '11119181.IV.T1216..HN', '11119181.IV.T1218..EH', '11119181.IV.T1218..HN', '11119181.IV.T1241..EH', '11119181.IV.T1243..HH', '11119181.IV.T1243..HN', '11119181.IV.T1245..HH', '11119181.IV.T1245..HN', '11119181.IV.T1246..HH', '11119181.IV.T1247..HH', '11119181.IV.T1256..HH', '11119181.IV.T1256..HN', '11119181.IV.T1299..EH', '11119181.IV.T1299..HN', '11119181.IV.TERO..HH', '11119181.IV.TERO..HN', '11119181.IV.VCEL..EH', '11119181.MN.AQU..HH', '11119181.MN.AQU..HL', '11121911.GU.EQUI..HH', '11121911.GU.GORR..HH', '11121911.GU.GRAM..HH', '11121911.GU.GSCL..HH', '11121911.GU.PCP..HH', '11121911.GU.RNCA..HH', '11121911.GU.SARM..EH', '11121911.IV.BDI..HH', '11121911.IV.BDI..HN', '11121911.IV.BOB..HH', '11121911.IV.BOB..HN', '11121911.IV.CTI..HH', '11121911.IV.MSSA..HH', '11121911.IV.MTCR..EH', '11121911.IV.PII..HH', '11121911.IV.PRMA..HH', '11121911.IV.ROVR..HH', '11121911.IV.ROVR..HN', '11121911.IV.SALO..HH', '11121911.IV.SALO..HN', '11121911.IV.ZONE..HH', '11121911.IV.ZONE..HN', '11121911.MN.VLC..HH', '11121911.MN.VLC..HN', '11121911.SI.LUSI..HH', '11121911.ST.DOSS..HH', '11121911.ST.DOSS..HN', '11121911.ST.GAGG..HH', '11121911.ST.GAGG..HN', '11122131.IV.CAFE..HH', '11122131.IV.CAFE..HN', '11122131.IV.CDRU..HH', '11122131.IV.CMPR..HH', '11122131.IV.MCRV..HH', '11122131.IV.MRLC..HH', '11122131.IV.MRLC..HN', '11122131.IV.SGTA..HH', '11122131.IV.SGTA..HN', '11122131.IV.SNAL..HH', '11122131.IV.SNAL..HN', '11122131.IX.LIO3.02.HH', '11122131.IX.RDM3.02.HH', '11122131.IX.RSF3.02.HH', '11124111.IV.CESI..HH', '11124111.IV.CSP1..EH', '11124111.IV.EL6..EH', '11124111.IV.FDMO..HH', '11124111.IV.GIGS..HH', '11124111.IV.GUMA..HH', '11124111.IV.GUMA..HN', '11124111.IV.LNSS..HH', '11124111.IV.MC2..EH', '11124111.IV.NRCA..HH', '11124111.IV.NRCA..HN', '11124111.IV.OFFI..HH', '11124111.IV.RM33..EH', '11124111.IV.RM33..HN', '11124111.IV.SMA1..EH', '11124111.IV.SNTG..HH', '11124111.IV.SNTG..HN', '11124111.IV.T1215..EH', '11124111.IV.T1215..HN', '11124111.IV.T1216..EH', '11124111.IV.T1216..HN', '11124111.IV.T1218..EH', '11124111.IV.T1218..HN', '11124111.IV.T1219..EH', '11124111.IV.T1219..HN', '1112451.GU.BHB..HH', '1112451.GU.FINB..HH', '1112451.GU.NEGI..HH', '1112451.GU.PCP..HH', '1112451.GU.PZZ..HH', '1112451.GU.RORO..HH', '1112451.GU.STV..HH', '11124611.IV.GIGS..HH', '11124611.IV.LNSS..HH', '11124611.IV.NRCA..HH', '11124611.IV.NRCA..HN', '11124611.IV.T1211..EH', '11124611.IV.T1211..HN', '11124611.IV.T1215..EH', '11124611.IV.T1215..HN', '11124611.IV.T1218..EH', '11124611.IV.T1218..HN', '11124611.IV.T1243..HH', '11124611.IV.T1243..HN', '11124611.IV.T1247..HH', '11124611.IV.TERO..HH', '11124611.IV.TERO..HN', '11124741.IV.CAMP..HH', '11124741.IV.CESI..HH', '11124741.IV.CSP1..EH', '11124741.IV.EL6..EH', '11124741.IV.LNSS..HH', '11124741.IV.MC2..EH', '11124741.IV.NRCA..HH', '11124741.IV.NRCA..HN', '11124741.IV.T1211..EH', '11124741.IV.T1211..HN', '11124741.IV.T1215..EH', '11124741.IV.T1215..HN', '11124741.IV.T1216..EH', '11124741.IV.T1216..HN', '11124741.IV.T1218..EH', '11124741.IV.T1218..HN', '11124741.IV.T1219..EH', '11124741.IV.T1219..HN', '11124741.IV.T1241..EH', '11124741.IV.T1241..HN', '11124741.IV.T1243..HH', '11124741.IV.T1243..HN', '11124741.IV.T1245..HH', '11124741.IV.T1245..HN', '11124741.IV.T1256..HH', '11124741.IV.T1256..HN', '11124741.IV.TERO..HH', '11125051.IV.LNSS..HH', '11125051.IV.NRCA..HH', '11125051.IV.NRCA..HN', '11125051.IV.RM33..EH', '11125051.IV.RM33..HN', '11125051.IV.SMA1..EH', '11125051.IV.T1211..EH', '11125051.IV.T1211..HN', '11125051.IV.T1215..EH', '11125051.IV.T1215..HN', '11125051.IV.T1218..EH', '11125051.IV.T1218..HN', '11125051.IV.T1241..EH', '11125051.IV.T1243..HH', '11125051.IV.T1243..HN', '11125051.IV.T1245..HH', '11125051.IV.T1245..HN', '11125461.IV.ARRO..EH', '11125461.IV.ATCC..EH', '11125461.IV.ATCC..HN', '11125461.IV.CAMP..HH', '11125461.IV.CERT..HH', '11125461.IV.CESI..HH', '11125461.IV.CESX..HH', '11125461.IV.CING..HH', '11125461.IV.CSP1..EH', '11125461.IV.FAGN..HH', '11125461.IV.FDMO..HH', '11125461.IV.FIAM..HH', '11125461.IV.FIAM..HN', '11125461.IV.GIGS..HH', '11125461.IV.GUMA..HH', '11125461.IV.GUMA..HN', '11125461.IV.INTR..HH', '11125461.IV.INTR..HN', '11125461.IV.LNSS..HH', '11125461.IV.MC2..EH', '11125461.IV.MMO1..EH', '11125461.IV.MMO1..HN', '11125461.IV.NRCA..HH', '11125461.IV.NRCA..HN', '11125461.IV.OFFI..HH', '11125461.IV.PTQR..HH', '11125461.IV.RM33..EH', '11125461.IV.RM33..HN', '11125461.IV.SMA1..EH', '11125461.IV.SNTG..HH', '11125461.IV.SNTG..HN', '11125461.IV.SRES..HH', '11125461.IV.T0110..HH', '11125461.IV.T1201..HN', '11125461.IV.T1202..EH', '11125461.IV.T1204..EH', '11125461.IV.T1211..EH', '11125461.IV.T1211..HN', '11125461.IV.T1212..EH', '11125461.IV.T1212..HN', '11125461.IV.T1213..EH', '11125461.IV.T1213..HN', '11125461.IV.T1215..EH', '11125461.IV.T1215..HN', '11125461.IV.T1216..EH', '11125461.IV.T1216..HN', '11125461.IV.T1217..EH', '11125461.IV.T1217..HN', '11125461.IV.T1218..EH', '11125461.IV.T1218..HN', '11125461.IV.T1219..EH', '11125461.IV.T1219..HN', '11125461.IV.T1221..EH', '11125461.IV.T1221..HN', '11125461.IV.T1241..EH', '11125461.IV.T1241..HN', '11125461.IV.T1243..HH', '11125461.IV.T1243..HN', '11125461.IV.T1244..EH', '11125461.IV.T1244..HN', '11125461.IV.T1245..HH', '11125461.IV.T1245..HN', '11125461.IV.T1246..HH', '11125461.IV.T1247..HH', '11125461.IV.T1256..HH', '11125461.IV.T1256..HN', '11125461.IV.T1299..EH', '11125461.IV.T1299..HN', '11125461.IV.TERO..HH', '11125461.IV.TERO..HN', '11125461.IV.VCEL..EH', '11125461.MN.AQU..HH', '11125461.MN.AQU..HL', '11125821.IV.CESI..HH', '11125821.IV.CING..HH', '11125821.IV.CSP1..EH', '11125821.IV.EL6..EH', '11125821.IV.FDMO..HH', '11125821.IV.FEMA..HN', '11125821.IV.GUMA..HH', '11125821.IV.GUMA..HN', '11125821.IV.MDAR..HN', '11125821.IV.MMO1..EH', '11125821.IV.MMO1..HN', '11125821.IV.NRCA..HH', '11125821.IV.NRCA..HN', '11125821.IV.SEF1..HN', '11125821.IV.SNTG..HH', '11125821.IV.SNTG..HN', '11125821.IV.T1215..EH', '11125821.IV.T1215..HN', '11125821.IV.T1216..EH', '11125821.IV.T1216..HN', '11125821.IV.T1219..EH', '11125821.IV.T1219..HN', '11125821.IV.T1245..HH', '11125821.IV.T1245..HN', '11125821.IV.T1256..HH', '11125821.IV.T1256..HN', '1112611.IV.ARVD..HH', '1112611.IV.ATBU..EH', '1112611.IV.ATCC..EH', '1112611.IV.ATMC..EH', '1112611.IV.ATMI..HH', '1112611.IV.ATPC..HH', '1112611.IV.ATPC..HN', '1112611.IV.ATPI..EH', '1112611.IV.ATVA..EH', '1112611.IV.ATVO..HH', '1112611.IV.BADI..EH', '1112611.IV.CAFI..HH', '1112611.IV.CAFI..HN', '1112611.IV.CDCA..EH', '1112611.IV.CDCA..HN', '1112611.IV.CPGN..EH', '1112611.IV.CPGN..HN', '1112611.IV.CRE..HH', '1112611.IV.FDMO..HH', '1112611.IV.FRON..EH', '1112611.IV.FSSB..HH', '1112611.IV.MGAB..HH', '1112611.IV.MGAB..HN', '1112611.IV.MPAG..EH', '1112611.IV.MPAG..HN', '1112611.IV.MURB..HH', '1112611.IV.MURB..HN', '1112611.IV.NARO..HH', '1112611.IV.PARC..HH', '1112611.IV.PE3..EH', '1112611.IV.PIEI..HH', '1112611.IV.SNTG..HH', '1112611.IV.SNTG..HN', '1112611.IV.SSP9..EH', '1112761.IV.ARVD..HH', '1112761.IV.ATPI..EH', '1112761.IV.EL6..EH', '1112761.IV.FDMO..HH', '1112761.IV.FSSB..HH', '1112761.IV.MPAG..EH', '1112761.IV.MPAG..HN', '1112761.IV.SNTG..HH', '1112761.IV.SNTG..HN', '1112801.GU.MAIM..HH', '1112801.IV.MODE..HN', '1112801.IV.NOVE..EH', '1112801.IV.RAVA..EH', '1112801.IV.ROVR..HH', '1112801.IV.SALO..HH', '1112801.IV.SBPO..HH', '1112801.IV.T0800..HH', '1112801.IV.T0800..HN', '1112801.IV.T0803..HN', '1112801.IV.T0805..HN', '1112801.IV.T0819..EH', '1112801.IV.T0819..HN', '1112801.IV.T0825..EH', '1112801.IV.T0826..HN', '1112801.IV.TEOL..HH', '1112801.NI.CGRP..HH', '11128661.IV.CAMP..HH', '11128661.IV.CSP1..EH', '11128661.IV.FDMO..HH', '11128661.IV.FIAM..HH', '11128661.IV.FIAM..HN', '11128661.IV.GIGS..HH', '11128661.IV.LNSS..HH', '11128661.IV.NRCA..HH', '11128661.IV.NRCA..HN', '11128661.IV.OFFI..HH', '11128661.IV.RM33..EH', '11128661.IV.RM33..HN', '11128661.IV.SMA1..EH', '11128661.IV.T1201..HN', '11128661.IV.T1202..EH', '11128661.IV.T1204..EH', '11128661.IV.T1211..EH', '11128661.IV.T1211..HN', '11128661.IV.T1212..EH', '11128661.IV.T1212..HN', '11128661.IV.T1215..EH', '11128661.IV.T1215..HN', '11128661.IV.T1216..EH', '11128661.IV.T1216..HN', '11128661.IV.T1218..EH', '11128661.IV.T1218..HN', '11128661.IV.T1219..EH', '11128661.IV.T1219..HN', '11128661.IV.T1241..EH', '11128661.IV.T1241..HN', '11128661.IV.T1243..HH', '11128661.IV.T1243..HN', '11128661.IV.T1245..HH', '11128661.IV.T1245..HN', '11128661.IV.T1246..HH', '11128661.IV.T1247..HH', '11128661.IV.T1256..HH', '11128661.IV.T1256..HN', '11128661.IV.T1299..EH', '11128661.IV.T1299..HN', '11128661.IV.TERO..HH', '11128661.IV.TERO..HN', '11128661.IV.VCEL..EH', '1112961.IV.APPI..EH', '1112961.IV.MABI..HH', '1112961.IV.MAGA..HH', '1112961.IV.ROVR..HH', '1112961.NI.CGRP..HH', '1112961.SI.ABSI..HH', '1112961.SI.RISI..HH', '11129801.IV.AOI..HH', '11129801.IV.APEC..HH', '11129801.IV.APEC..HN', '11129801.IV.ARRO..EH', '11129801.IV.ARVD..HH', '11129801.IV.ASSB..HH', '11129801.IV.ATCC..EH', '11129801.IV.ATCC..HN', '11129801.IV.ATFO..HH', '11129801.IV.ATFO..HN', '11129801.IV.ATLO..EH', '11129801.IV.ATMI..HH', '11129801.IV.ATPC..HH', '11129801.IV.ATPC..HN', '11129801.IV.ATPI..EH', '11129801.IV.ATSC..EH', '11129801.IV.ATVA..EH', '11129801.IV.ATVO..HH', '11129801.IV.ATVO..HN', '11129801.IV.BADI..EH', '11129801.IV.CAFI..HH', '11129801.IV.CAFI..HN', '11129801.IV.CAMP..HH', '11129801.IV.CESI..HH', '11129801.IV.CESX..HH', '11129801.IV.CING..HH', '11129801.IV.CRE..HH', '11129801.IV.CRMI..HH', '11129801.IV.CRMI..HN', '11129801.IV.CSNT..HH', '11129801.IV.CSP1..EH', '11129801.IV.EL6..EH', '11129801.IV.FAGN..HH', '11129801.IV.FDMO..HH', '11129801.IV.FEMA..HN', '11129801.IV.FIAM..HH', '11129801.IV.FIAM..HN', '11129801.IV.FOSV..EH', '11129801.IV.FOSV..HN', '11129801.IV.FRON..EH', '11129801.IV.FSSB..HH', '11129801.IV.GAG1..HN', '11129801.IV.GIGS..HH', '11129801.IV.GUMA..HH', '11129801.IV.GUMA..HN', '11129801.IV.INTR..HH', '11129801.IV.INTR..HN', '11129801.IV.LMD..HH', '11129801.IV.LNSS..HH', '11129801.IV.MC2..EH', '11129801.IV.MDAR..HN', '11129801.IV.MGAB..HH', '11129801.IV.MGAB..HN', '11129801.IV.MMO1..EH', '11129801.IV.MMO1..HN', '11129801.IV.MNTP..HN', '11129801.IV.MOMA..HH', '11129801.IV.MOMA..HN', '11129801.IV.MPAG..EH', '11129801.IV.MPAG..HN', '11129801.IV.MTCR..EH', '11129801.IV.MTL1..HN', '11129801.IV.MURB..HH', '11129801.IV.MURB..HN', '11129801.IV.NRCA..HH', '11129801.IV.NRCA..HN', '11129801.IV.OFFI..HH', '11129801.IV.OSSC..HH', '11129801.IV.OSSC..HN', '11129801.IV.PARC..HH', '11129801.IV.PIEI..HH', '11129801.IV.PIEI..HN', '11129801.IV.PP3..EH', '11129801.IV.PP3..HN', '11129801.IV.RM33..EH', '11129801.IV.RM33..HN', '11129801.IV.RUFI..EH', '11129801.IV.SACS..HH', '11129801.IV.SACS..HN', '11129801.IV.SEF1..HN', '11129801.IV.SFI..EH', '11129801.IV.SFI..HN', '11129801.IV.SNTG..HH', '11129801.IV.SNTG..HN', '11129801.IV.SRES..HH', '11129801.IV.SSFR..HH', '11129801.IV.SSFR..HN', '11129801.IV.T0110..HH', '11129801.IV.T1201..HN', '11129801.IV.T1202..EH', '11129801.IV.T1204..EH', '11129801.IV.T1211..EH', '11129801.IV.T1211..HN', '11129801.IV.T1212..EH', '11129801.IV.T1212..HN', '11129801.IV.T1213..EH', '11129801.IV.T1213..HN', '11129801.IV.T1215..EH', '11129801.IV.T1215..HN', '11129801.IV.T1216..EH', '11129801.IV.T1216..HN', '11129801.IV.T1217..EH', '11129801.IV.T1217..HN', '11129801.IV.T1218..EH', '11129801.IV.T1218..HN', '11129801.IV.T1219..EH', '11129801.IV.T1219..HN', '11129801.IV.T1221..EH', '11129801.IV.T1221..HN', '11129801.IV.T1241..EH', '11129801.IV.T1241..HN', '11129801.IV.T1243..HH', '11129801.IV.T1243..HN', '11129801.IV.T1244..EH', '11129801.IV.T1244..HN', '11129801.IV.T1245..HH', '11129801.IV.T1245..HN', '11129801.IV.T1246..HH', '11129801.IV.T1247..HH', '11129801.IV.T1256..HH', '11129801.IV.T1256..HN', '11129801.IV.T1299..EH', '11129801.IV.T1299..HN', '11129801.IV.TERO..HH', '11129801.IV.TERO..HN', '11129801.IV.TOLF..HH', '11129801.IV.VCEL..EH', '1112991.IV.MABI..HH', '1112991.IV.MAGA..HH', '1112991.IV.NOVE..EH', '1112991.IV.ROVR..HH', '1112991.IV.T0826..HN', '11130151.IV.ASSB..HH', '11130151.IV.ATCC..EH', '11130151.IV.ATVO..HH', '11130151.IV.ATVO..HN', '11130151.IV.CESI..HH', '11130151.IV.CING..HH', '11130151.IV.CSP1..EH', '11130151.IV.EL6..EH', '11130151.IV.FDMO..HH', '11130151.IV.FEMA..HN', '11130151.IV.FOSV..EH', '11130151.IV.FOSV..HN', '11130151.IV.GIGS..HH', '11130151.IV.GUMA..HH', '11130151.IV.GUMA..HN', '11130151.IV.LNSS..HH', '11130151.IV.MC2..EH', '11130151.IV.MURB..HH', '11130151.IV.MURB..HN', '11130151.IV.NRCA..HH', '11130151.IV.NRCA..HN', '11130151.IV.PIEI..HH', '11130151.IV.PIEI..HN', '11130151.IV.SNTG..HH', '11130151.IV.SNTG..HN', '11130151.IV.SSFR..HH', '11130151.IV.SSFR..HN', '11130151.IV.T1215..EH', '11130151.IV.T1215..HN', '11130151.IV.T1216..EH', '11130151.IV.T1216..HN', '11130151.IV.T1218..EH', '11130151.IV.T1218..HN', '11130151.IV.T1219..EH', '11130151.IV.T1219..HN', '11130151.IV.T1241..EH', '11130151.IV.T1241..HN', '11130151.IV.T1243..HH', '11130151.IV.T1243..HN', '11130151.IV.T1245..HH', '11130151.IV.T1245..HN', '11130151.IV.T1256..HH', '11130151.IV.T1256..HN', '11130151.IV.TERO..HH', '11130151.IV.TERO..HN', '11130921.IV.ARRO..EH', '11130921.IV.ATCC..EH', '11130921.IV.ATFO..HH', '11130921.IV.ATFO..HN', '11130921.IV.ATVO..HH', '11130921.IV.ATVO..HN', '11130921.IV.CAMP..HH', '11130921.IV.CESI..HH', '11130921.IV.CESX..HH', '11130921.IV.CING..HH', '11130921.IV.CSP1..EH', '11130921.IV.EL6..EH', '11130921.IV.FDMO..HH', '11130921.IV.FEMA..HN', '11130921.IV.FIAM..HH', '11130921.IV.FIAM..HN', '11130921.IV.FOSV..HN', '11130921.IV.GUMA..HH', '11130921.IV.GUMA..HN', '11130921.IV.MC2..EH', '11130921.IV.MGAB..HH', '11130921.IV.MGAB..HN', '11130921.IV.MPAG..EH', '11130921.IV.MPAG..HN', '11130921.IV.MURB..HH', '11130921.IV.MURB..HN', '11130921.IV.NRCA..HH', '11130921.IV.NRCA..HN', '11130921.IV.PIEI..HH', '11130921.IV.PIEI..HN', '11130921.IV.RM33..EH', '11130921.IV.RM33..HN', '11130921.IV.SMA1..EH', '11130921.IV.SNTG..HH', '11130921.IV.SNTG..HN', '11130921.IV.SSFR..HH', '11130921.IV.SSFR..HN', '11130921.IV.T1202..EH', '11130921.IV.T1211..EH', '11130921.IV.T1211..HN', '11130921.IV.T1212..EH', '11130921.IV.T1212..HN', '11130921.IV.T1213..EH', '11130921.IV.T1213..HN', '11130921.IV.T1215..EH', '11130921.IV.T1215..HN', '11130921.IV.T1216..EH', '11130921.IV.T1216..HN', '11130921.IV.T1217..EH', '11130921.IV.T1217..HN', '11130921.IV.T1218..EH', '11130921.IV.T1218..HN', '11130921.IV.T1219..EH', '11130921.IV.T1219..HN', '11130921.IV.T1221..EH', '11130921.IV.T1221..HN', '11130921.IV.T1241..EH', '11130921.IV.T1243..HH', '11130921.IV.T1243..HN', '11130921.IV.T1245..HH', '11130921.IV.T1245..HN', '11130921.IV.T1247..HH', '11130921.IV.T1256..HH', '11130921.IV.T1256..HN', '11130921.IV.TERO..HN', '1113431.IV.ATBU..EH', '1113431.IV.ATPC..HH', '1113431.IV.ATPC..HN', '1113431.IV.ATPI..EH', '1113431.IV.ATVO..HH', '1113431.IV.MURB..HH', '1113431.IV.MURB..HN', '1113431.IV.PIEI..HH', '1113661.GU.MAIM..HH', '1113661.IV.BDI..HH', '1113661.IV.BDI..HN', '1113661.IV.ERBM..EH', '1113661.IV.MAGA..HH', '1113661.IV.MODE..HN', '1113661.IV.MSSA..HH', '1113661.IV.ROVR..HH', '1113661.IV.SALO..HH', '1113661.IV.T0800..HH', '1113661.IV.T0800..HN', '1113661.IV.ZCCA..HH', '1113661.IV.ZCCA..HN', '1113661.MN.VLC..HH', '1113661.MN.VLC..HN', '11138551.IV.GIB..HH', '11138551.IV.IACL..HH', '11138551.IV.IFIL..HH', '11138551.IV.IVPL..HH', '11138551.IV.MSFR..HH', '11138771.IV.AOI..HH', '11138771.IV.ARRO..EH', '11138771.IV.ARVD..HH', '11138771.IV.ASSB..HH', '11138771.IV.ATCC..EH', '11138771.IV.ATCC..HN', '11138771.IV.ATFO..HH', '11138771.IV.ATFO..HN', '11138771.IV.ATLO..EH', '11138771.IV.ATLO..HN', '11138771.IV.ATMC..EH', '11138771.IV.ATPC..HH', '11138771.IV.ATPC..HN', '11138771.IV.ATPI..EH', '11138771.IV.ATSC..EH', '11138771.IV.ATVA..EH', '11138771.IV.ATVO..HH', '11138771.IV.ATVO..HN', '11138771.IV.BADI..EH', '11138771.IV.CAFI..HH', '11138771.IV.CAFI..HN', '11138771.IV.CAMP..HH', '11138771.IV.CESI..HH', '11138771.IV.CESX..HH', '11138771.IV.CING..HH', '11138771.IV.COR1..EH', '11138771.IV.CSP1..EH', '11138771.IV.FAGN..HH', '11138771.IV.FDMO..HH', '11138771.IV.FEMA..HN', '11138771.IV.FIAM..HH', '11138771.IV.FIAM..HN', '11138771.IV.FIU1..HN', '11138771.IV.FRON..EH', '11138771.IV.FSSB..HH', '11138771.IV.GAG1..HN', '11138771.IV.GIGS..HH', '11138771.IV.GUMA..HH', '11138771.IV.GUMA..HN', '11138771.IV.LNSS..HH', '11138771.IV.MC2..EH', '11138771.IV.MDAR..HN', '11138771.IV.MGAB..HH', '11138771.IV.MMO1..EH', '11138771.IV.MMO1..HN', '11138771.IV.MMUR..HN', '11138771.IV.MNTP..HN', '11138771.IV.MTL1..HN', '11138771.IV.MURB..HH', '11138771.IV.MURB..HN', '11138771.IV.NRCA..HH', '11138771.IV.NRCA..HN', '11138771.IV.OFFI..HH', '11138771.IV.PARC..HH', '11138771.IV.PIEI..HH', '11138771.IV.PIEI..HN', '11138771.IV.RM33..EH', '11138771.IV.RM33..HN', '11138771.IV.SACS..HH', '11138771.IV.SACS..HN', '11138771.IV.SEF1..HN', '11138771.IV.SNTG..HH', '11138771.IV.SNTG..HN', '11138771.IV.SSFR..HH', '11138771.IV.SSFR..HN', '11138771.IV.SSM1..HN', '11138771.IV.T0110..HH', '11138771.IV.T1201..HN', '11138771.IV.T1202..EH', '11138771.IV.T1204..EH', '11138771.IV.T1211..EH', '11138771.IV.T1211..HN', '11138771.IV.T1212..EH', '11138771.IV.T1212..HN', '11138771.IV.T1213..EH', '11138771.IV.T1213..HN', '11138771.IV.T1215..EH', '11138771.IV.T1215..HN', '11138771.IV.T1216..EH', '11138771.IV.T1216..HN', '11138771.IV.T1217..EH', '11138771.IV.T1217..HN', '11138771.IV.T1218..EH', '11138771.IV.T1218..HN', '11138771.IV.T1219..EH', '11138771.IV.T1219..HN', '11138771.IV.T1221..EH', '11138771.IV.T1221..HN', '11138771.IV.T1241..EH', '11138771.IV.T1241..HN', '11138771.IV.T1243..HH', '11138771.IV.T1243..HN', '11138771.IV.T1244..EH', '11138771.IV.T1244..HN', '11138771.IV.T1245..HH', '11138771.IV.T1245..HN', '11138771.IV.T1246..HH', '11138771.IV.T1256..HH', '11138771.IV.T1256..HN', '11138771.IV.T1299..EH', '11138771.IV.T1299..HN', '11138771.IV.TERO..HH', '11138771.IV.TERO..HN', '11138771.IV.VCEL..EH', '11139491.IV.CAMP..HH', '11139491.IV.GIGS..HH', '11139491.IV.LNSS..HH', '11139491.IV.RM33..EH', '11139491.IV.RM33..HN', '11139491.IV.SMA1..EH', '11139491.IV.T1218..EH', '11139491.IV.T1218..HN', '11139491.IV.T1243..HH', '11139491.IV.T1243..HN', '11139491.IV.T1246..HH', '11139491.IV.T1247..HH', '11139491.IV.T1299..EH', '11139491.IV.T1299..HN', '11139491.IV.TERO..HH', '11139491.IV.TERO..HN', '11142251.IV.ASSB..HH', '11142251.IV.CAMP..HH', '11142251.IV.CESI..HH', '11142251.IV.CESX..HH', '11142251.IV.CSP1..EH', '11142251.IV.FDMO..HH', '11142251.IV.FEMA..HN', '11142251.IV.FIAM..HH', '11142251.IV.FIAM..HN', '11142251.IV.GIGS..HH', '11142251.IV.GUMA..HH', '11142251.IV.GUMA..HN', '11142251.IV.LNSS..HH', '11142251.IV.MMO1..EH', '11142251.IV.MMO1..HN', '11142251.IV.MOMA..HH', '11142251.IV.MOMA..HN', '11142251.IV.NRCA..HH', '11142251.IV.NRCA..HN', '11142251.IV.OFFI..HH', '11142251.IV.RM33..EH', '11142251.IV.RM33..HN', '11142251.IV.SEF1..HN', '11142251.IV.SMA1..EH', '11142251.IV.SNTG..HH', '11142251.IV.SNTG..HN', '11142251.IV.T1201..HN', '11142251.IV.T1202..EH', '11142251.IV.T1204..EH', '11142251.IV.T1211..EH', '11142251.IV.T1211..HN', '11142251.IV.T1212..EH', '11142251.IV.T1212..HN', '11142251.IV.T1213..EH', '11142251.IV.T1213..HN', '11142251.IV.T1215..EH', '11142251.IV.T1215..HN', '11142251.IV.T1216..EH', '11142251.IV.T1216..HN', '11142251.IV.T1217..EH', '11142251.IV.T1217..HN', '11142251.IV.T1218..EH', '11142251.IV.T1218..HN', '11142251.IV.T1219..EH', '11142251.IV.T1219..HN', '11142251.IV.T1221..EH', '11142251.IV.T1221..HN', '11142251.IV.T1241..EH', '11142251.IV.T1241..HN', '11142251.IV.T1243..HH', '11142251.IV.T1243..HN', '11142251.IV.T1244..EH', '11142251.IV.T1244..HN', '11142251.IV.T1245..HH', '11142251.IV.T1245..HN', '11142251.IV.T1246..HH', '11142251.IV.T1247..HH', '11142251.IV.T1256..HH', '11142251.IV.T1299..EH', '11142251.IV.T1299..HN', '11142251.IV.TERO..HH', '11142251.IV.TERO..HN', '11142711.GU.CARD..HH', '11142711.GU.EQUI..HH', '11142711.GU.SARM..EH', '11142711.IV.MTCR..EH', '11142711.MN.VLC..HH', '11142711.MN.VLC..HN', '1114321.IV.APPI..EH', '1114321.IV.CSNT..HH', '1114321.IV.FIU..EH', '1114321.IV.MABI..HH', '1114321.IV.MAGA..HH', '1114321.IV.RAVA..EH', '1114321.IV.ROVR..HH', '1114321.IV.SALO..HH', '1114321.IV.SERM..EH', '1114321.IV.SERM..HN', '1114321.IV.T0800..HH', '1114321.IV.T0800..HN', '1114321.IV.T0802..HN', '1114321.IV.T0803..HN', '1114321.IV.T0805..HN', '11143781.IV.CSP1..EH', '11143781.IV.LNSS..HH', '11143781.IV.MC2..EH', '11143781.IV.MMO1..EH', '11143781.IV.MMO1..HN', '11143781.IV.NRCA..HH', '11143781.IV.NRCA..HN', '11143781.IV.SNTG..HH', '11143781.IV.SNTG..HN', '11143781.IV.T1211..EH', '11143781.IV.T1211..HN', '11143781.IV.T1215..EH', '11143781.IV.T1215..HN', '11143781.IV.T1216..EH', '11143781.IV.T1216..HN', '11143781.IV.T1218..EH', '11143781.IV.T1218..HN', '11143781.IV.T1219..EH', '11143781.IV.T1219..HN', '11143781.IV.T1243..HH', '11143781.IV.T1243..HN', '11143781.IV.T1245..HH', '11143781.IV.T1256..HH', '11143781.IV.T1256..HN', '11143781.IV.TERO..HH', '11143781.IV.TERO..HN', '11145011.IV.CESI..HH', '11145011.IV.CSP1..EH', '11145011.IV.EL6..EH', '11145011.IV.FDMO..HH', '11145011.IV.MMO1..EH', '11145011.IV.SNTG..HH', '11145011.IV.SNTG..HN', '11145011.IV.T1215..EH', '11145011.IV.T1215..HN', '11145011.IV.T1216..EH', '11145011.IV.T1216..HN', '11145011.IV.T1219..EH', '11145011.IV.T1219..HN', '11145011.IV.T1241..EH', '11145011.IV.T1241..HN', '11145011.IV.T1245..HH', '11145011.IV.T1245..HN', '11145011.IV.T1256..HH', '11145011.IV.T1256..HN', '11146591.IV.ARRO..EH', '11146591.IV.ARVD..HH', '11146591.IV.ATCC..EH', '11146591.IV.ATCC..HN', '11146591.IV.ATFO..HH', '11146591.IV.ATFO..HN', '11146591.IV.ATPI..EH', '11146591.IV.ATVO..HH', '11146591.IV.ATVO..HN', '11146591.IV.CAFI..HH', '11146591.IV.CAFI..HN', '11146591.IV.CAMP..HH', '11146591.IV.CESI..HH', '11146591.IV.CESX..HH', '11146591.IV.CING..HH', '11146591.IV.COR1..EH', '11146591.IV.COR1..HN', '11146591.IV.EL6..EH', '11146591.IV.FDMO..HH', '11146591.IV.FEMA..HN', '11146591.IV.FIU1..HN', '11146591.IV.FOSV..EH', '11146591.IV.FOSV..HN', '11146591.IV.FRON..EH', '11146591.IV.FSSB..HH', '11146591.IV.GAG1..HN', '11146591.IV.GIGS..HH', '11146591.IV.GUMA..HH', '11146591.IV.GUMA..HN', '11146591.IV.LNSS..HH', '11146591.IV.MC2..EH', '11146591.IV.MDAR..HN', '11146591.IV.MMO1..EH', '11146591.IV.MMO1..HN', '11146591.IV.MPAG..EH', '11146591.IV.MPAG..HN', '11146591.IV.MTL1..HN', '11146591.IV.MURB..HH', '11146591.IV.MURB..HN', '11146591.IV.NRCA..HH', '11146591.IV.NRCA..HN', '11146591.IV.OFFI..HH', '11146591.IV.PIEI..HH', '11146591.IV.PIEI..HN', '11146591.IV.RM33..EH', '11146591.IV.RM33..HN', '11146591.IV.SEF1..HN', '11146591.IV.SMA1..EH', '11146591.IV.SNTG..HH', '11146591.IV.SNTG..HN', '11146591.IV.SSFR..HH', '11146591.IV.SSFR..HN', '11146591.IV.SSM1..HN', '11146591.IV.T1201..HN', '11146591.IV.T1202..EH', '11146591.IV.T1211..EH', '11146591.IV.T1211..HN', '11146591.IV.T1212..EH', '11146591.IV.T1212..HN', '11146591.IV.T1213..EH', '11146591.IV.T1213..HN', '11146591.IV.T1215..EH', '11146591.IV.T1215..HN', '11146591.IV.T1216..EH', '11146591.IV.T1216..HN', '11146591.IV.T1217..EH', '11146591.IV.T1217..HN', '11146591.IV.T1218..EH', '11146591.IV.T1218..HN', '11146591.IV.T1219..EH', '11146591.IV.T1219..HN', '11146591.IV.T1221..EH', '11146591.IV.T1221..HN', '11146591.IV.T1241..HN', '11146591.IV.T1243..HH', '11146591.IV.T1243..HN', '11146591.IV.T1244..EH', '11146591.IV.T1244..HN', '11146591.IV.T1245..HH', '11146591.IV.T1245..HN', '11146591.IV.T1246..HH', '11146591.IV.T1256..HH', '11146591.IV.T1256..HN', '11146591.IV.T1299..EH', '11146591.IV.T1299..HN', '11146591.IV.TERO..HH', '11146591.IV.TERO..HN', '11147671.IV.ARRO..EH', '11147671.IV.ARVD..HH', '11147671.IV.ATCC..EH', '11147671.IV.CESI..HH', '11147671.IV.CSP1..EH', '11147671.IV.EL6..EH', '11147671.IV.FDMO..HH', '11147671.IV.FEMA..HN', '11147671.IV.FOSV..EH', '11147671.IV.FOSV..HN', '11147671.IV.GUMA..HH', '11147671.IV.GUMA..HN', '11147671.IV.LNSS..HH', '11147671.IV.MC2..EH', '11147671.IV.MMO1..EH', '11147671.IV.MMO1..HN', '11147671.IV.NRCA..HH', '11147671.IV.NRCA..HN', '11147671.IV.OFFI..HH', '11147671.IV.SEF1..HN', '11147671.IV.SNTG..HH', '11147671.IV.SNTG..HN', '11147671.IV.T1215..EH', '11147671.IV.T1215..HN', '11147671.IV.T1216..EH', '11147671.IV.T1216..HN', '11147671.IV.T1218..EH', '11147671.IV.T1218..HN', '11147671.IV.T1219..EH', '11147671.IV.T1219..HN', '11147671.IV.T1241..EH', '11147671.IV.T1243..HH', '11147671.IV.T1243..HN', '11147671.IV.T1245..HH', '11147671.IV.T1245..HN', '11147671.IV.T1256..HH', '11147671.IV.T1256..HN', '11147671.IV.TERO..HH', '11147671.IV.TERO..HN', '11147811.IV.AOI..HH', '11147811.IV.APEC..HH', '11147811.IV.ARRO..EH', '11147811.IV.ARVD..HH', '11147811.IV.ATCC..EH', '11147811.IV.ATCC..HN', '11147811.IV.ATFO..HH', '11147811.IV.ATFO..HN', '11147811.IV.ATLO..EH', '11147811.IV.ATLO..HN', '11147811.IV.ATPI..EH', '11147811.IV.ATVA..EH', '11147811.IV.ATVO..HH', '11147811.IV.ATVO..HN', '11147811.IV.BADI..EH', '11147811.IV.CAFI..HH', '11147811.IV.CAFI..HN', '11147811.IV.CAMP..HH', '11147811.IV.CESI..HH', '11147811.IV.CESX..HH', '11147811.IV.CING..HH', '11147811.IV.COR1..EH', '11147811.IV.CPGN..EH', '11147811.IV.CPGN..HN', '11147811.IV.CRE..HH', '11147811.IV.CSP1..EH', '11147811.IV.EL6..EH', '11147811.IV.FAGN..HH', '11147811.IV.FDMO..HH', '11147811.IV.FEMA..HN', '11147811.IV.FIAM..HH', '11147811.IV.FIAM..HN', '11147811.IV.FOSV..EH', '11147811.IV.FOSV..HN', '11147811.IV.FRON..EH', '11147811.IV.FSSB..HH', '11147811.IV.GAG1..HN', '11147811.IV.GUMA..HH', '11147811.IV.GUMA..HN', '11147811.IV.INTR..HH', '11147811.IV.INTR..HN', '11147811.IV.LNSS..HH', '11147811.IV.MC2..EH', '11147811.IV.MDAR..HN', '11147811.IV.MGAB..HH', '11147811.IV.MGAB..HN', '11147811.IV.MMO1..EH', '11147811.IV.MMO1..HN', '11147811.IV.MMUR..HN', '11147811.IV.MOMA..HH', '11147811.IV.MOMA..HN', '11147811.IV.MPAG..EH', '11147811.IV.MPAG..HN', '11147811.IV.MTL1..HN', '11147811.IV.MURB..HH', '11147811.IV.MURB..HN', '11147811.IV.NRCA..HH', '11147811.IV.NRCA..HN', '11147811.IV.OFFI..HH', '11147811.IV.PARC..HH', '11147811.IV.PIEI..HH', '11147811.IV.PIEI..HN', '11147811.IV.PP3..EH', '11147811.IV.PP3..HN', '11147811.IV.RM33..EH', '11147811.IV.RM33..HN', '11147811.IV.SEF1..HN', '11147811.IV.SMA1..EH', '11147811.IV.SNTG..HH', '11147811.IV.SNTG..HN', '11147811.IV.SRES..HH', '11147811.IV.SSFR..HH', '11147811.IV.SSFR..HN', '11147811.IV.SSM1..HN', '11147811.IV.T0110..HH', '11147811.IV.T1201..HN', '11147811.IV.T1202..EH', '11147811.IV.T1211..EH', '11147811.IV.T1211..HN', '11147811.IV.T1212..EH', '11147811.IV.T1212..HN', '11147811.IV.T1213..EH', '11147811.IV.T1213..HN', '11147811.IV.T1215..EH', '11147811.IV.T1215..HN', '11147811.IV.T1216..EH', '11147811.IV.T1216..HN', '11147811.IV.T1217..EH', '11147811.IV.T1217..HN', '11147811.IV.T1218..EH', '11147811.IV.T1218..HN', '11147811.IV.T1219..EH', '11147811.IV.T1219..HN', '11147811.IV.T1221..EH', '11147811.IV.T1221..HN', '11147811.IV.T1243..HH', '11147811.IV.T1243..HN', '11147811.IV.T1244..EH', '11147811.IV.T1244..HN', '11147811.IV.T1245..HH', '11147811.IV.T1245..HN', '11147811.IV.T1246..HH', '11147811.IV.T1247..HH', '11147811.IV.T1256..HH', '11147811.IV.T1256..HN', '11147811.IV.T1299..EH', '11147811.IV.T1299..HN', '11147811.IV.TERO..HH', '11147811.IV.TERO..HN', '11147811.IV.VCEL..EH', '11148041.IV.ARRO..EH', '11148041.IV.ARVD..HH', '11148041.IV.ATCC..EH', '11148041.IV.ATCC..HN', '11148041.IV.ATFO..HH', '11148041.IV.ATFO..HN', '11148041.IV.ATPI..EH', '11148041.IV.ATVA..EH', '11148041.IV.ATVO..HH', '11148041.IV.BADI..EH', '11148041.IV.CESI..HH', '11148041.IV.CESX..HH', '11148041.IV.CING..HH', '11148041.IV.COR1..EH', '11148041.IV.COR1..HN', '11148041.IV.CSP1..EH', '11148041.IV.FDMO..HH', '11148041.IV.FEMA..HN', '11148041.IV.FIAM..HH', '11148041.IV.FIAM..HN', '11148041.IV.FOSV..EH', '11148041.IV.FRON..EH', '11148041.IV.FSSB..HH', '11148041.IV.GAG1..HN', '11148041.IV.GIGS..HH', '11148041.IV.GUMA..HH', '11148041.IV.GUMA..HN', '11148041.IV.LNSS..HH', '11148041.IV.MC2..EH', '11148041.IV.MDAR..HN', '11148041.IV.MMO1..EH', '11148041.IV.MMO1..HN', '11148041.IV.MPAG..EH', '11148041.IV.MPAG..HN', '11148041.IV.MTL1..HN', '11148041.IV.MURB..HH', '11148041.IV.MURB..HN', '11148041.IV.NRCA..HH', '11148041.IV.NRCA..HN', '11148041.IV.OFFI..HH', '11148041.IV.PIEI..HH', '11148041.IV.PIEI..HN', '11148041.IV.PP3..EH', '11148041.IV.PP3..HN', '11148041.IV.RM33..EH', '11148041.IV.RM33..HN', '11148041.IV.SEF1..HN', '11148041.IV.SNTG..HH', '11148041.IV.SNTG..HN', '11148041.IV.SSFR..HH', '11148041.IV.SSFR..HN', '11148041.IV.T0110..HH', '11148041.IV.T1201..HN', '11148041.IV.T1202..EH', '11148041.IV.T1211..EH', '11148041.IV.T1211..HN', '11148041.IV.T1212..EH', '11148041.IV.T1212..HN', '11148041.IV.T1213..EH', '11148041.IV.T1213..HN', '11148041.IV.T1215..EH', '11148041.IV.T1215..HN', '11148041.IV.T1216..EH', '11148041.IV.T1216..HN', '11148041.IV.T1217..EH', '11148041.IV.T1217..HN', '11148041.IV.T1218..EH', '11148041.IV.T1218..HN', '11148041.IV.T1219..EH', '11148041.IV.T1219..HN', '11148041.IV.T1221..EH', '11148041.IV.T1221..HN', '11148041.IV.T1243..HH', '11148041.IV.T1243..HN', '11148041.IV.T1244..EH', '11148041.IV.T1244..HN', '11148041.IV.T1245..HH', '11148041.IV.T1245..HN', '11148041.IV.T1247..HH', '11148041.IV.T1256..HH', '11148041.IV.T1256..HN', '11148041.IV.TERO..HH', '11148041.IV.TERO..HN', '11148041.IV.VCEL..EH', '11148431.IV.ARVD..HH', '11148431.IV.ATCC..EH', '11148431.IV.ATCC..HN', '11148431.IV.ATVO..HH', '11148431.IV.CAMP..HH', '11148431.IV.CESI..HH', '11148431.IV.CING..HH', '11148431.IV.EL6..EH', '11148431.IV.FEMA..HN', '11148431.IV.FOSV..EH', '11148431.IV.FOSV..HN', '11148431.IV.GUMA..HH', '11148431.IV.GUMA..HN', '11148431.IV.LNSS..HH', '11148431.IV.MMO1..EH', '11148431.IV.MMO1..HN', '11148431.IV.MPAG..EH', '11148431.IV.MPAG..HN', '11148431.IV.NRCA..HH', '11148431.IV.NRCA..HN', '11148431.IV.PIEI..HH', '11148431.IV.PIEI..HN', '11148431.IV.RM33..EH', '11148431.IV.RM33..HN', '11148431.IV.SNTG..HH', '11148431.IV.SNTG..HN', '11148431.IV.SSFR..HH', '11148431.IV.SSFR..HN', '11148431.IV.T1215..EH', '11148431.IV.T1215..HN', '11148431.IV.T1216..EH', '11148431.IV.T1216..HN', '11148431.IV.T1218..EH', '11148431.IV.T1218..HN', '11148431.IV.T1241..HN', '11148431.IV.T1243..HH', '11148431.IV.T1243..HN', '11148431.IV.T1245..HH', '11148431.IV.T1245..HN', '11148431.IV.T1256..HH', '11148431.IV.T1256..HN', '11148431.IV.TERO..HH', '11148431.IV.TERO..HN', '1114851.IV.IVPL..HH', '1114851.IV.JOPP..HH', '1114851.IV.JOPP..HN', '1114851.IV.MCSR..HH', '1114851.IV.MPNC..HH', '1114851.IV.MSCL..HH', '1114851.IV.MSFR..HH', '1114851.IV.NOV..HH', '1115001.IV.APPI..EH', '1115001.IV.CSNT..HH', '1115001.IV.FIU..EH', '1115001.IV.MABI..HH', '1115001.IV.MAGA..HH', '1115001.IV.RAVA..EH', '1115001.IV.ROVR..HH', '1115001.IV.SALO..HH', '1115001.IV.SERM..EH', '1115001.IV.SERM..HN', '1115001.IV.T0800..HH', '1115001.IV.T0800..HN', '1115001.IV.T0802..HN', '1115001.IV.T0803..HN', '1115001.IV.T0805..HN', '1115001.IV.T0821..EH', '1115001.IV.T0821..HN', '1115001.NI.CGRP..HH', '1115001.SI.MOSI..HH', '11150541.IV.ARRO..EH', '11150541.IV.CAMP..HH', '11150541.IV.CSP1..EH', '11150541.IV.GIGS..HH', '11150541.IV.GUMA..HH', '11150541.IV.GUMA..HN', '11150541.IV.LNSS..HH', '11150541.IV.NRCA..HH', '11150541.IV.NRCA..HN', '11150541.IV.OFFI..HH', '11150541.IV.RM33..EH', '11150541.IV.RM33..HN', '11150541.IV.SMA1..EH', '11150541.IV.T1201..HN', '11150541.IV.T1202..EH', '11150541.IV.T1204..EH', '11150541.IV.T1211..EH', '11150541.IV.T1211..HN', '11150541.IV.T1215..EH', '11150541.IV.T1215..HN', '11150541.IV.T1218..EH', '11150541.IV.T1218..HN', '11150541.IV.T1243..HH', '11150541.IV.T1243..HN', '11150541.IV.T1244..EH', '11150541.IV.T1244..HN', '11150541.IV.T1246..HH', '11150541.IV.T1247..HH', '11150541.IV.T1256..HH', '11150541.IV.T1256..HN', '11150541.IV.T1299..EH', '11150541.IV.T1299..HN', '11150541.IV.TERO..HH', '11150541.IV.TERO..HN', '11151081.IV.CESI..HH', '11151081.IV.CSP1..EH', '11151081.IV.EL6..EH', '11151081.IV.LNSS..HH', '11151081.IV.MC2..EH', '11151081.IV.MMO1..EH', '11151081.IV.MMO1..HN', '11151081.IV.NRCA..HH', '11151081.IV.NRCA..HN', '11151081.IV.T1211..EH', '11151081.IV.T1211..HN', '11151081.IV.T1215..EH', '11151081.IV.T1215..HN', '11151081.IV.T1216..EH', '11151081.IV.T1216..HN', '11151081.IV.T1218..EH', '11151081.IV.T1218..HN', '11151081.IV.T1219..EH', '11151081.IV.T1219..HN', '11151081.IV.T1241..EH', '11151081.IV.T1241..HN', '11151081.IV.T1243..HH', '11151081.IV.T1243..HN', '11151081.IV.T1245..HH', '11151081.IV.T1245..HN', '11151081.IV.T1256..HH', '11151081.IV.T1256..HN', '11151081.IV.TERO..HH', '11151081.IV.TERO..HN', '11152091.IV.ARRO..EH', '11152091.IV.CAMP..HH', '11152091.IV.FDMO..HH', '11152091.IV.GIGS..HH', '11152091.IV.GUMA..HH', '11152091.IV.GUMA..HN', '11152091.IV.LNSS..HH', '11152091.IV.MMO1..EH', '11152091.IV.MMO1..HN', '11152091.IV.NRCA..HH', '11152091.IV.NRCA..HN', '11152091.IV.OFFI..HH', '11152091.IV.RM33..EH', '11152091.IV.RM33..HN', '11152091.IV.SMA1..EH', '11152091.IV.T1218..EH', '11152091.IV.T1218..HN', '11152091.IV.T1219..EH', '11152091.IV.T1219..HN', '11152091.IV.T1241..EH', '11152091.IV.T1243..HH', '11152091.IV.T1243..HN', '11152091.IV.T1245..HH', '11152091.IV.T1245..HN', '11152091.IV.T1247..HH', '11152091.IV.T1256..HH', '11152091.IV.T1256..HN', '11152091.IV.TERO..HH', '11152091.IV.TERO..HN', '11152091.IV.VCEL..EH', '1115321.IV.MAGA..HH', '1115321.IV.SALO..HH', '1115321.IV.VOBA..HN', '11153901.IV.AOI..HH', '11153901.IV.ATCC..EH', '11153901.IV.ATCC..HN', '11153901.IV.CAMP..HH', '11153901.IV.CERT..HH', '11153901.IV.CESI..HH', '11153901.IV.CESX..HH', '11153901.IV.CING..HH', '11153901.IV.CSP1..EH', '11153901.IV.EL6..EH', '11153901.IV.FAGN..HH', '11153901.IV.FIAM..HH', '11153901.IV.FIAM..HN', '11153901.IV.GIGS..HH', '11153901.IV.GUMA..HH', '11153901.IV.GUMA..HN', '11153901.IV.INTR..HH', '11153901.IV.INTR..HN', '11153901.IV.LNSS..HH', '11153901.IV.MC2..EH', '11153901.IV.MMO1..EH', '11153901.IV.MPAG..EH', '11153901.IV.MPAG..HN', '11153901.IV.MTCE..HH', '11153901.IV.OFFI..HH', '11153901.IV.PTQR..HH', '11153901.IV.RM33..EH', '11153901.IV.RM33..HN', '11153901.IV.SMA1..EH', '11153901.IV.SNTG..HH', '11153901.IV.SNTG..HN', '11153901.IV.T0110..HH', '11153901.IV.T1201..HN', '11153901.IV.T1202..EH', '11153901.IV.T1204..EH', '11153901.IV.T1211..EH', '11153901.IV.T1211..HN', '11153901.IV.T1212..EH', '11153901.IV.T1212..HN', '11153901.IV.T1213..EH', '11153901.IV.T1213..HN', '11153901.IV.T1215..EH', '11153901.IV.T1215..HN', '11153901.IV.T1216..EH', '11153901.IV.T1216..HN', '11153901.IV.T1217..EH', '11153901.IV.T1217..HN', '11153901.IV.T1218..EH', '11153901.IV.T1218..HN', '11153901.IV.T1219..EH', '11153901.IV.T1219..HN', '11153901.IV.T1221..EH', '11153901.IV.T1221..HN', '11153901.IV.T1241..EH', '11153901.IV.T1241..HN', '11153901.IV.T1243..HH', '11153901.IV.T1243..HN', '11153901.IV.T1244..EH', '11153901.IV.T1244..HN', '11153901.IV.T1245..HH', '11153901.IV.T1245..HN', '11153901.IV.T1246..HH', '11153901.IV.T1247..HH', '11153901.IV.T1256..HH', '11153901.IV.T1256..HN', '11153901.IV.T1299..EH', '11153901.IV.T1299..HN', '11153901.IV.TERO..HH', '11153901.IV.TERO..HN', '11153901.IV.TOLF..HH', '11153901.IV.VCEL..EH', '11153901.MN.AQU..HH', '11153901.MN.AQU..HL', '11154271.IV.ARVD..HH', '11154271.IV.ATCC..HN', '11154271.IV.CESI..HH', '11154271.IV.CING..HH', '11154271.IV.CSP1..EH', '11154271.IV.EL6..EH', '11154271.IV.FDMO..HH', '11154271.IV.FEMA..HN', '11154271.IV.FOSV..EH', '11154271.IV.FOSV..HN', '11154271.IV.GUMA..HH', '11154271.IV.GUMA..HN', '11154271.IV.MC2..EH', '11154271.IV.MMO1..HN', '11154271.IV.PIEI..HH', '11154271.IV.PIEI..HN', '11154271.IV.SNTG..HH', '11154271.IV.SNTG..HN', '11154271.IV.SSFR..HH', '11154271.IV.SSFR..HN', '11154271.IV.T1215..EH', '11154271.IV.T1215..HN', '11154271.IV.T1216..EH', '11154271.IV.T1216..HN', '11154271.IV.T1219..EH', '11154271.IV.T1219..HN', '11154271.IV.T1241..EH', '11154271.IV.T1245..HH', '11154271.IV.T1245..HN', '11154271.IV.T1256..HH', '11154271.IV.T1256..HN', '1115611.GU.BHB..HH', '1115611.GU.CIRO..HH', '1115611.GU.PZZ..HH', '1115611.GU.REMY..HH', '1115611.GU.RORO..HH', '1115611.GU.RRL..HH', '1115611.GU.RSP..HH', '1115611.GU.STV..HH', '1115611.IV.IMI..HH', '1115611.IV.MRGE..HH', '1115611.IV.QLNO..HH', '1115611.MN.BNI..HH', '1115611.MN.BNI..HL', '11158391.IV.ARRO..EH', '11158391.IV.ARVD..HH', '11158391.IV.ATCC..EH', '11158391.IV.ATCC..HN', '11158391.IV.CAMP..HH', '11158391.IV.CESX..HH', '11158391.IV.CSP1..EH', '11158391.IV.EL6..EH', '11158391.IV.FAGN..HH', '11158391.IV.FIAM..HH', '11158391.IV.FIAM..HN', '11158391.IV.GIGS..HH', '11158391.IV.GUMA..HH', '11158391.IV.GUMA..HN', '11158391.IV.INTR..HH', '11158391.IV.INTR..HN', '11158391.IV.LNSS..HH', '11158391.IV.MC2..EH', '11158391.IV.MMO1..EH', '11158391.IV.MMO1..HN', '11158391.IV.OFFI..HH', '11158391.IV.RM33..EH', '11158391.IV.RM33..HN', '11158391.IV.SMA1..EH', '11158391.IV.SRES..HH', '11158391.IV.T0110..HH', '11158391.IV.T1201..HN', '11158391.IV.T1202..EH', '11158391.IV.T1204..EH', '11158391.IV.T1211..EH', '11158391.IV.T1211..HN', '11158391.IV.T1212..EH', '11158391.IV.T1212..HN', '11158391.IV.T1213..EH', '11158391.IV.T1213..HN', '11158391.IV.T1215..EH', '11158391.IV.T1215..HN', '11158391.IV.T1216..EH', '11158391.IV.T1216..HN', '11158391.IV.T1217..EH', '11158391.IV.T1217..HN', '11158391.IV.T1218..EH', '11158391.IV.T1218..HN', '11158391.IV.T1219..EH', '11158391.IV.T1219..HN', '11158391.IV.T1221..EH', '11158391.IV.T1221..HN', '11158391.IV.T1241..EH', '11158391.IV.T1241..HN', '11158391.IV.T1243..HH', '11158391.IV.T1243..HN', '11158391.IV.T1244..EH', '11158391.IV.T1244..HN', '11158391.IV.T1245..HH', '11158391.IV.T1245..HN', '11158391.IV.T1246..HH', '11158391.IV.T1247..HH', '11158391.IV.T1256..HH', '11158391.IV.T1256..HN', '11158391.IV.T1299..EH', '11158391.IV.T1299..HN', '11158391.IV.TERO..HH', '11158391.IV.TERO..HN', '11158391.IV.TOLF..HH', '11158391.IV.VCEL..EH', '11158781.IV.CSP1..EH', '11158781.IV.EL6..EH', '11158781.IV.FDMO..HH', '11158781.IV.LNSS..HH', '11158781.IV.MMO1..EH', '11158781.IV.MMO1..HN', '11158781.IV.RM33..EH', '11158781.IV.RM33..HN', '11158781.IV.T1211..EH', '11158781.IV.T1211..HN', '11158781.IV.T1215..EH', '11158781.IV.T1215..HN', '11158781.IV.T1218..EH', '11158781.IV.T1218..HN', '11158781.IV.T1219..EH', '11158781.IV.T1219..HN', '11158781.IV.T1241..EH', '11158781.IV.T1243..HH', '11158781.IV.T1243..HN', '11158781.IV.T1245..HH', '11158781.IV.T1245..HN', '11158781.IV.TERO..HH', '11158781.IV.TERO..HN', '1115921.IV.APPI..EH', '1115921.IV.BOTT..HN', '1115921.IV.BRMO..HH', '1115921.IV.MAGA..HH', '1115921.IV.MDI..HH', '1115921.IV.MDI..HN', '1115921.IV.MSSA..HH', '1115921.IV.SALO..HH', '1115921.IV.TEOL..HH', '1115921.IV.VARE..HH', '1115921.IV.VOBA..HN', '1115921.NI.CGRP..HH', '1115921.SI.ABSI..HH', '1115921.SI.KOSI..HH', '1115921.SI.RISI..HH', '1115921.SI.ROSI..HH', '1116011.IV.PTCC..HH', '1116011.IV.STAL..HH', '1116011.IV.STAL..HN', '1116011.NI.ACOM..HH', '1116011.NI.SABO..HH', '1116011.NI.VINO..HH', '1116011.RF.GEPF..HH', '11162361.IV.CESI..HH', '11162361.IV.LNSS..HH', '11162361.IV.MC2..EH', '11162361.IV.MMO1..HN', '11162361.IV.T1216..EH', '11162361.IV.T1216..HN', '11162361.IV.T1218..EH', '11162361.IV.T1218..HN', '11162361.IV.T1241..EH', '11162361.IV.T1241..HN', '11162361.IV.T1243..HH', '11162361.IV.T1245..HH', '11162361.IV.T1245..HN', '11162361.IV.T1256..HH', '11162361.IV.T1256..HN', '1116271.IV.ASSB..HH', '1116271.IV.CESI..HH', '1116271.IV.MOMA..HH', '1116271.IV.MOMA..HN', '11163921.IV.ARRO..EH', '11163921.IV.ARVD..HH', '11163921.IV.ATCC..EH', '11163921.IV.ATCC..HN', '11163921.IV.ATFO..HH', '11163921.IV.ATFO..HN', '11163921.IV.ATVO..HH', '11163921.IV.ATVO..HN', '11163921.IV.CAFI..HH', '11163921.IV.CAFI..HN', '11163921.IV.CAMP..HH', '11163921.IV.CERT..HH', '11163921.IV.CESI..HH', '11163921.IV.CESX..HH', '11163921.IV.CING..HH', '11163921.IV.CSP1..EH', '11163921.IV.FAGN..HH', '11163921.IV.FDMO..HH', '11163921.IV.FEMA..HN', '11163921.IV.FIAM..HH', '11163921.IV.FIAM..HN', '11163921.IV.FOSV..EH', '11163921.IV.FRON..EH', '11163921.IV.FSSB..HH', '11163921.IV.GUMA..HH', '11163921.IV.GUMA..HN', '11163921.IV.LNSS..HH', '11163921.IV.MC2..EH', '11163921.IV.MGAB..HH', '11163921.IV.MGAB..HN', '11163921.IV.MMO1..EH', '11163921.IV.MMO1..HN', '11163921.IV.MOMA..HH', '11163921.IV.MOMA..HN', '11163921.IV.MPAG..EH', '11163921.IV.MPAG..HN', '11163921.IV.MTCE..HH', '11163921.IV.MURB..HH', '11163921.IV.MURB..HN', '11163921.IV.OFFI..HH', '11163921.IV.PIEI..HH', '11163921.IV.PIEI..HN', '11163921.IV.PP3..EH', '11163921.IV.PP3..HN', '11163921.IV.RM33..EH', '11163921.IV.RM33..HN', '11163921.IV.SACS..HH', '11163921.IV.SACS..HN', '11163921.IV.SEF1..HN', '11163921.IV.SMA1..EH', '11163921.IV.SNTG..HH', '11163921.IV.SNTG..HN', '11163921.IV.SRES..HH', '11163921.IV.SSFR..HH', '11163921.IV.SSFR..HN', '11163921.IV.T0110..HH', '11163921.IV.T1201..HN', '11163921.IV.T1202..EH', '11163921.IV.T1204..EH', '11163921.IV.T1212..EH', '11163921.IV.T1212..HN', '11163921.IV.T1213..EH', '11163921.IV.T1213..HN', '11163921.IV.T1215..EH', '11163921.IV.T1215..HN', '11163921.IV.T1216..EH', '11163921.IV.T1216..HN', '11163921.IV.T1217..EH', '11163921.IV.T1217..HN', '11163921.IV.T1218..EH', '11163921.IV.T1218..HN', '11163921.IV.T1219..EH', '11163921.IV.T1219..HN', '11163921.IV.T1241..EH', '11163921.IV.T1241..HN', '11163921.IV.T1243..HH', '11163921.IV.T1243..HN', '11163921.IV.T1244..EH', '11163921.IV.T1244..HN', '11163921.IV.T1245..HH', '11163921.IV.T1245..HN', '11163921.IV.T1247..HH', '11163921.IV.T1256..HH', '11163921.IV.T1256..HN', '11163921.IV.T1299..EH', '11163921.IV.T1299..HN', '11163921.IV.TERO..HH', '11163921.IV.VCEL..EH', '11163921.MN.AQU..HH', '11163921.MN.AQU..HL', '1116741.IV.CAMP..HH', '1116741.IV.FAGN..HH', '1116741.IV.FIAM..HH', '1116741.IV.FIAM..HN', '1116741.IV.INTR..HH', '1116741.IV.PTQR..HH', '1116741.IV.T0104..HH', '1116741.IV.T0104..HN', '1116741.IV.VVLD..HH', '1116741.MN.AQU..HH', '1116741.MN.AQU..HL', '11167971.IV.ARRO..EH', '11167971.IV.CAMP..HH', '11167971.IV.CESI..HH', '11167971.IV.GIGS..HH', '11167971.IV.LNSS..HH', '11167971.IV.MMO1..EH', '11167971.IV.MMO1..HN', '11167971.IV.RM33..EH', '11167971.IV.RM33..HN', '11167971.IV.SMA1..EH', '11167971.IV.T1211..EH', '11167971.IV.T1211..HN', '11167971.IV.T1215..EH', '11167971.IV.T1215..HN', '11167971.IV.T1216..EH', '11167971.IV.T1216..HN', '11167971.IV.T1218..EH', '11167971.IV.T1218..HN', '11167971.IV.T1243..HH', '11167971.IV.T1243..HN', '11167971.IV.T1245..HH', '11167971.IV.T1245..HN', '11167971.IV.T1247..HH', '11167971.IV.T1256..HH', '11167971.IV.T1256..HN', '11167971.IV.TERO..HH', '11167971.IV.VCEL..EH', '11172651.IV.AOI..HH', '11172651.IV.ARVD..HH', '11172651.IV.ATCC..EH', '11172651.IV.ATCC..HN', '11172651.IV.ATPI..EH', '11172651.IV.BADI..EH', '11172651.IV.CAMP..HH', '11172651.IV.CESI..HH', '11172651.IV.CESX..HH', '11172651.IV.CING..HH', '11172651.IV.CSP1..EH', '11172651.IV.EL6..EH', '11172651.IV.FAGN..HH', '11172651.IV.FDMO..HH', '11172651.IV.FEMA..HN', '11172651.IV.FIAM..HH', '11172651.IV.FIAM..HN', '11172651.IV.FIU1..HN', '11172651.IV.FOSV..EH', '11172651.IV.FOSV..HN', '11172651.IV.FRON..EH', '11172651.IV.FSSB..HH', '11172651.IV.GIGS..HH', '11172651.IV.GUMA..HH', '11172651.IV.GUMA..HN', '11172651.IV.INTR..HH', '11172651.IV.INTR..HN', '11172651.IV.LNSS..HH', '11172651.IV.MC2..EH', '11172651.IV.MDAR..HN', '11172651.IV.MGAB..HN', '11172651.IV.MMO1..EH', '11172651.IV.MMO1..HN', '11172651.IV.MNTP..HN', '11172651.IV.MPAG..EH', '11172651.IV.MPAG..HN', '11172651.IV.MURB..HH', '11172651.IV.MURB..HN', '11172651.IV.OFFI..HH', '11172651.IV.PIEI..HH', '11172651.IV.PIEI..HN', '11172651.IV.PIO1..HN', '11172651.IV.PP3..EH', '11172651.IV.PP3..HN', '11172651.IV.RM33..EH', '11172651.IV.RM33..HN', '11172651.IV.SEF1..HN', '11172651.IV.SMA1..EH', '11172651.IV.SNTG..HH', '11172651.IV.SNTG..HN', '11172651.IV.SSM1..HN', '11172651.IV.T0110..HH', '11172651.IV.T1201..HN', '11172651.IV.T1202..EH', '11172651.IV.T1204..EH', '11172651.IV.T1211..EH', '11172651.IV.T1211..HN', '11172651.IV.T1212..EH', '11172651.IV.T1212..HN', '11172651.IV.T1213..EH', '11172651.IV.T1213..HN', '11172651.IV.T1215..EH', '11172651.IV.T1215..HN', '11172651.IV.T1216..EH', '11172651.IV.T1216..HN', '11172651.IV.T1217..EH', '11172651.IV.T1217..HN', '11172651.IV.T1218..EH', '11172651.IV.T1218..HN', '11172651.IV.T1219..EH', '11172651.IV.T1219..HN', '11172651.IV.T1221..EH', '11172651.IV.T1221..HN', '11172651.IV.T1241..EH', '11172651.IV.T1241..HN', '11172651.IV.T1243..HH', '11172651.IV.T1243..HN', '11172651.IV.T1244..EH', '11172651.IV.T1244..HN', '11172651.IV.T1245..HH', '11172651.IV.T1245..HN', '11172651.IV.T1246..HH', '11172651.IV.T1247..HH', '11172651.IV.T1256..HH', '11172651.IV.T1299..EH', '11172651.IV.T1299..HN', '11172651.IV.VCEL..EH', '11172751.IV.ARRO..EH', '11172751.IV.ARVD..HH', '11172751.IV.ATCC..EH', '11172751.IV.ATVO..HH', '11172751.IV.ATVO..HN', '11172751.IV.CAFI..HH', '11172751.IV.CAFI..HN', '11172751.IV.CAMP..HH', '11172751.IV.CESI..HH', '11172751.IV.CESX..HH', '11172751.IV.CING..HH', '11172751.IV.CSP1..EH', '11172751.IV.EL6..EH', '11172751.IV.FAGN..HH', '11172751.IV.FDMO..HH', '11172751.IV.FEMA..HN', '11172751.IV.FIAM..HH', '11172751.IV.FIAM..HN', '11172751.IV.FSSB..HH', '11172751.IV.GUMA..HH', '11172751.IV.GUMA..HN', '11172751.IV.LNSS..HH', '11172751.IV.MC2..EH', '11172751.IV.MGAB..HN', '11172751.IV.MPAG..EH', '11172751.IV.MPAG..HN', '11172751.IV.MURB..HH', '11172751.IV.MURB..HN', '11172751.IV.OFFI..HH', '11172751.IV.RM33..EH', '11172751.IV.RM33..HN', '11172751.IV.SMA1..EH', '11172751.IV.SNTG..HH', '11172751.IV.SNTG..HN', '11172751.IV.T0110..HH', '11172751.IV.T1202..EH', '11172751.IV.T1211..EH', '11172751.IV.T1211..HN', '11172751.IV.T1212..EH', '11172751.IV.T1212..HN', '11172751.IV.T1213..EH', '11172751.IV.T1213..HN', '11172751.IV.T1215..EH', '11172751.IV.T1215..HN', '11172751.IV.T1216..EH', '11172751.IV.T1216..HN', '11172751.IV.T1217..EH', '11172751.IV.T1217..HN', '11172751.IV.T1218..EH', '11172751.IV.T1218..HN', '11172751.IV.T1219..EH', '11172751.IV.T1219..HN', '11172751.IV.T1241..HN', '11172751.IV.T1243..HH', '11172751.IV.T1243..HN', '11172751.IV.T1244..EH', '11172751.IV.T1244..HN', '11172751.IV.T1245..HH', '11172751.IV.T1245..HN', '11172751.IV.T1247..HH', '11172751.IV.T1256..HH', '11172751.IV.T1256..HN', '11172751.IV.VCEL..EH', '11174471.IV.AOI..HH', '11174471.IV.ARRO..EH', '11174471.IV.ARVD..HH', '11174471.IV.ATFO..HH', '11174471.IV.ATFO..HN', '11174471.IV.ATLO..EH', '11174471.IV.ATLO..HN', '11174471.IV.ATSC..EH', '11174471.IV.ATVO..HH', '11174471.IV.ATVO..HN', '11174471.IV.CAMP..HH', '11174471.IV.CESX..HH', '11174471.IV.CING..HH', '11174471.IV.COR1..HN', '11174471.IV.CSP1..EH', '11174471.IV.EL6..EH', '11174471.IV.FAGN..HH', '11174471.IV.FDMO..HH', '11174471.IV.FEMA..HN', '11174471.IV.FIAM..HH', '11174471.IV.FIAM..HN', '11174471.IV.FIU1..HN', '11174471.IV.FOSV..EH', '11174471.IV.FRON..EH', '11174471.IV.GIGS..HH', '11174471.IV.GUMA..HH', '11174471.IV.GUMA..HN', '11174471.IV.LNSS..HH', '11174471.IV.MC2..EH', '11174471.IV.MDAR..HN', '11174471.IV.MMO1..EH', '11174471.IV.MMO1..HN', '11174471.IV.MMUR..HN', '11174471.IV.MOMA..HH', '11174471.IV.MOMA..HN', '11174471.IV.MURB..HH', '11174471.IV.MURB..HN', '11174471.IV.OFFI..HH', '11174471.IV.PIO1..HN', '11174471.IV.PP3..EH', '11174471.IV.PP3..HN', '11174471.IV.RM33..EH', '11174471.IV.RM33..HN', '11174471.IV.SEF1..HN', '11174471.IV.SMA1..EH', '11174471.IV.SNTG..HH', '11174471.IV.SNTG..HN', '11174471.IV.SSFR..HH', '11174471.IV.SSFR..HN', '11174471.IV.SSM1..HN', '11174471.IV.T0110..HH', '11174471.IV.T1201..HN', '11174471.IV.T1202..EH', '11174471.IV.T1204..EH', '11174471.IV.T1211..EH', '11174471.IV.T1211..HN', '11174471.IV.T1212..EH', '11174471.IV.T1212..HN', '11174471.IV.T1213..EH', '11174471.IV.T1213..HN', '11174471.IV.T1215..EH', '11174471.IV.T1215..HN', '11174471.IV.T1216..EH', '11174471.IV.T1216..HN', '11174471.IV.T1217..EH', '11174471.IV.T1217..HN', '11174471.IV.T1218..EH', '11174471.IV.T1218..HN', '11174471.IV.T1219..EH', '11174471.IV.T1219..HN', '11174471.IV.T1221..EH', '11174471.IV.T1221..HN', '11174471.IV.T1241..EH', '11174471.IV.T1243..HH', '11174471.IV.T1243..HN', '11174471.IV.T1244..EH', '11174471.IV.T1244..HN', '11174471.IV.T1245..HH', '11174471.IV.T1246..HH', '11174471.IV.T1247..HH', '11174471.IV.T1256..HH', '11174471.IV.T1256..HN', '11174471.IV.T1299..EH', '11174471.IV.T1299..HN', '11174471.IV.VCEL..EH', '11174471.MN.AQU..HH', '11174471.MN.AQU..HL', '11175401.IV.CSP1..EH', '11175401.IV.LNSS..HH', '11175401.IV.RM33..EH', '11175401.IV.RM33..HN', '11175401.IV.T1215..EH', '11175401.IV.T1215..HN', '11175401.IV.T1216..EH', '11175401.IV.T1216..HN', '11175401.IV.T1218..EH', '11175401.IV.T1218..HN', '11175401.IV.T1219..EH', '11175401.IV.T1219..HN', '11175401.IV.T1241..EH', '11175401.IV.T1241..HN', '11175401.IV.T1243..HH', '11175401.IV.T1243..HN', '11175401.IV.T1245..HH', '11175401.IV.T1245..HN', '11175401.IV.TERO..HN', '1117571.IV.CORL..HH', '1117571.IV.SOLUN..HH', '1117571.IV.USI..HH', '11175871.IV.ARRO..EH', '11175871.IV.ATCC..EH', '11175871.IV.ATCC..HN', '11175871.IV.CERT..HH', '11175871.IV.CESI..HH', '11175871.IV.CESX..HH', '11175871.IV.CSP1..EH', '11175871.IV.FDMO..HH', '11175871.IV.FEMA..HN', '11175871.IV.FOSV..EH', '11175871.IV.GUMA..HH', '11175871.IV.GUMA..HN', '11175871.IV.LNSS..HH', '11175871.IV.MGAB..HH', '11175871.IV.MGAB..HN', '11175871.IV.MOMA..HH', '11175871.IV.MURB..HH', '11175871.IV.MURB..HN', '11175871.IV.PARC..HH', '11175871.IV.SACS..HH', '11175871.IV.SACS..HN', '11175871.IV.SNTG..HH', '11175871.IV.SNTG..HN', '11175871.IV.SSFR..HH', '11175871.IV.SSFR..HN', '11175871.IV.T1211..EH', '11175871.IV.T1211..HN', '11175871.IV.T1212..EH', '11175871.IV.T1212..HN', '11175871.IV.T1213..EH', '11175871.IV.T1213..HN', '11175871.IV.T1215..EH', '11175871.IV.T1215..HN', '11175871.IV.T1216..EH', '11175871.IV.T1216..HN', '11175871.IV.T1217..EH', '11175871.IV.T1217..HN', '11175871.IV.T1218..EH', '11175871.IV.T1218..HN', '11175871.IV.T1219..EH', '11175871.IV.T1219..HN', '11175871.IV.T1221..EH', '11175871.IV.T1221..HN', '11175871.IV.T1243..HH', '11175871.IV.T1243..HN', '11175871.IV.T1256..HH', '11175871.IV.T1256..HN', '11176091.GU.EQUI..HH', '11176091.IV.ACER..HH', '11176091.IV.ACER..HN', '11176091.IV.AMUR..HH', '11176091.IV.AOI..HH', '11176091.IV.APEC..HH', '11176091.IV.APEC..HN', '11176091.IV.APPI..EH', '11176091.IV.APRC..EH', '11176091.IV.APRC..HN', '11176091.IV.ARRO..EH', '11176091.IV.ARVD..HH', '11176091.IV.ATCC..EH', '11176091.IV.ATCC..HN', '11176091.IV.ATFO..HH', '11176091.IV.ATFO..HN', '11176091.IV.ATLO..EH', '11176091.IV.ATLO..HN', '11176091.IV.ATPC..HH', '11176091.IV.ATPC..HN', '11176091.IV.ATPI..EH', '11176091.IV.ATSC..EH', '11176091.IV.ATVO..HH', '11176091.IV.ATVO..HN', '11176091.IV.BRIS..HH', '11176091.IV.BRIS..HN', '11176091.IV.BSSO..HH', '11176091.IV.BSSO..HN', '11176091.IV.CADA..HN', '11176091.IV.CAFE..HH', '11176091.IV.CAFE..HN', '11176091.IV.CAFI..HH', '11176091.IV.CAFI..HN', '11176091.IV.CAFR..HH', '11176091.IV.CAMP..HH', '11176091.IV.CAPA..HH', '11176091.IV.CERA..HH', '11176091.IV.CERA..HN', '11176091.IV.CERT..HH', '11176091.IV.CESI..HH', '11176091.IV.CESX..HH', '11176091.IV.CIGN..HH', '11176091.IV.CIMA..HN', '11176091.IV.CING..HH', '11176091.IV.CMPR..HH', '11176091.IV.COR1..EH', '11176091.IV.CPGN..EH', '11176091.IV.CPGN..HN', '11176091.IV.CRE..HH', '11176091.IV.CSP1..EH', '11176091.IV.EL6..EH', '11176091.IV.FAGN..HH', '11176091.IV.FDMO..HH', '11176091.IV.FEMA..HN', '11176091.IV.FIAM..HH', '11176091.IV.FIAM..HN', '11176091.IV.FOSV..HN', '11176091.IV.FRON..EH', '11176091.IV.FSSB..HH', '11176091.IV.FVI..HH', '11176091.IV.GAG1..HN', '11176091.IV.GATE..HH', '11176091.IV.GATE..HN', '11176091.IV.GIGS..HH', '11176091.IV.GIUL..HH', '11176091.IV.GUAR..HH', '11176091.IV.GUMA..HH', '11176091.IV.GUMA..HN', '11176091.IV.INTR..HH', '11176091.IV.INTR..HN', '11176091.IV.LMD..HH', '11176091.IV.LNSS..HH', '11176091.IV.LRP..HH', '11176091.IV.MABI..HH', '11176091.IV.MCEL..HH', '11176091.IV.MCEL..HN', '11176091.IV.MCRV..HH', '11176091.IV.MDAR..HN', '11176091.IV.MELA..HH', '11176091.IV.MELA..HN', '11176091.IV.MGAB..HH', '11176091.IV.MGAB..HN', '11176091.IV.MIDA..HH', '11176091.IV.MIDA..HN', '11176091.IV.MIGL..HH', '11176091.IV.MMUR..HN', '11176091.IV.MOCO..HH', '11176091.IV.MOCO..HN', '11176091.IV.MOMA..HH', '11176091.IV.MOMA..HN', '11176091.IV.MPAG..EH', '11176091.IV.MPAG..HN', '11176091.IV.MRB1..HH', '11176091.IV.MRB1..HN', '11176091.IV.MRLC..HH', '11176091.IV.MRLC..HN', '11176091.IV.MRVN..HH', '11176091.IV.MSAG..HH', '11176091.IV.MSAG..HN', '11176091.IV.MTCE..HH', '11176091.IV.MURB..HH', '11176091.IV.MURB..HN', '11176091.IV.NOCI..HH', '11176091.IV.OFFI..HH', '11176091.IV.PALZ..HH', '11176091.IV.PAOL..HH', '11176091.IV.PAOL..HN', '11176091.IV.PARC..HH', '11176091.IV.PCRO..HN', '11176091.IV.PESA..HH', '11176091.IV.PIEI..HH', '11176091.IV.PIEI..HN', '11176091.IV.PIGN..HH', '11176091.IV.PIGN..HN', '11176091.IV.PP3..EH', '11176091.IV.PP3..HN', '11176091.IV.PSB1..HH', '11176091.IV.PSB1..HN', '11176091.IV.PTCC..HH', '11176091.IV.PTQR..HH', '11176091.IV.PTRP..HH', '11176091.IV.RCAV..EH', '11176091.IV.RM33..EH', '11176091.IV.RM33..HN', '11176091.IV.RNI2..HH', '11176091.IV.RNI2..HN', '11176091.IV.ROVR..HH', '11176091.IV.ROVR..HN', '11176091.IV.RSM2..HH', '11176091.IV.RUFI..EH', '11176091.IV.SACR..HH', '11176091.IV.SACR..HN', '11176091.IV.SACS..HH', '11176091.IV.SACS..HN', '11176091.IV.SALB..HH', '11176091.IV.SALB..HN', '11176091.IV.SALO..HH', '11176091.IV.SALO..HN', '11176091.IV.SCTE..HH', '11176091.IV.SENI..EH', '11176091.IV.SENI..HN', '11176091.IV.SFI..EH', '11176091.IV.SFI..HN', '11176091.IV.SGRT..HH', '11176091.IV.SGTA..HH', '11176091.IV.SGTA..HN', '11176091.IV.SIRI..HH', '11176091.IV.SIRI..HN', '11176091.IV.SMA1..EH', '11176091.IV.SNAL..HH', '11176091.IV.SNAL..HN', '11176091.IV.SNTG..HH', '11176091.IV.SNTG..HN', '11176091.IV.SSFR..HH', '11176091.IV.SSFR..HN', '11176091.IV.STAL..HH', '11176091.IV.STAL..HN', '11176091.IV.T0110..HH', '11176091.IV.T1201..HN', '11176091.IV.T1202..EH', '11176091.IV.T1204..EH', '11176091.IV.T1211..EH', '11176091.IV.T1211..HN', '11176091.IV.T1212..EH', '11176091.IV.T1212..HN', '11176091.IV.T1213..EH', '11176091.IV.T1213..HN', '11176091.IV.T1215..EH', '11176091.IV.T1215..HN', '11176091.IV.T1216..EH', '11176091.IV.T1216..HN', '11176091.IV.T1217..EH', '11176091.IV.T1217..HN', '11176091.IV.T1218..EH', '11176091.IV.T1218..HN', '11176091.IV.T1219..EH', '11176091.IV.T1219..HN', '11176091.IV.T1221..EH', '11176091.IV.T1221..HN', '11176091.IV.T1241..EH', '11176091.IV.T1243..HH', '11176091.IV.T1243..HN', '11176091.IV.T1244..EH', '11176091.IV.T1244..HN', '11176091.IV.T1245..HH', '11176091.IV.T1245..HN', '11176091.IV.T1246..HH', '11176091.IV.T1247..HH', '11176091.IV.T1256..HH', '11176091.IV.T1256..HN', '11176091.IV.T1299..EH', '11176091.IV.T1299..HN', '11176091.IV.TEOL..HH', '11176091.IV.TERO..HN', '11176091.IV.TREM..HH', '11176091.IV.TRIV..HH', '11176091.IV.TRIV..HN', '11176091.IV.VAGA..HH', '11176091.IV.VAGA..HN', '11176091.IV.VCEL..EH', '11176091.IV.VITU..HH', '11176091.IV.VITU..HN', '11176091.IV.VULT..HH', '11176091.IV.VULT..HN', '11176091.IV.VVDG..HH', '11176091.IV.VVLD..HH', '11176091.IX.LIO3.02.HH', '11176091.IX.RDM3.02.HH', '11176091.OX.AGOR..HH', '11176091.OX.AGOR..HN', '11176091.OX.CIMO..HH', '11176091.OX.CIMO..HN', '11176091.OX.CLUD..HH', '11176091.OX.CLUD..HN', '11176091.OX.MPRI..HH', '11176091.OX.MPRI..HN', '11176091.OX.SABO..HH', '11176091.OX.SABO..HN', '11176091.OX.ZOU2..HH', '11176091.OX.ZOU2..HN', '11176091.SI.KOSI..HH', '11176091.SI.LUSI..HH', '11176091.SI.RISI..HH', '11176091.SI.ROSI..HH', '11176091.ST.DOSS..HH', '11176091.ST.DOSS..HN', '11176091.ST.GAGG..HH', '11176091.ST.GAGG..HN', '11176091.TV.AG11..EH', '11176711.IV.CAMP..HH', '11176711.IV.LNSS..HH', '11176711.IV.MMO1..EH', '11176711.IV.MMO1..HN', '11176711.IV.RM33..EH', '11176711.IV.RM33..HN', '11176711.IV.SMA1..EH', '11176711.IV.T1216..EH', '11176711.IV.T1216..HN', '11176711.IV.T1218..EH', '11176711.IV.T1218..HN', '11176711.IV.T1241..EH', '11176711.IV.T1241..HN', '11176711.IV.T1243..HH', '11176711.IV.T1243..HN', '11176851.IV.CESI..HH', '11176851.IV.CSP1..EH', '11176851.IV.FDMO..HH', '11176851.IV.FEMA..HN', '11176851.IV.GUMA..HH', '11176851.IV.GUMA..HN', '11176851.IV.MC2..EH', '11176851.IV.MDAR..HN', '11176851.IV.MMO1..EH', '11176851.IV.MMO1..HN', '11176851.IV.NRCA..HH', '11176851.IV.NRCA..HN', '11176851.IV.SEF1..HN', '11176851.IV.SNTG..HH', '11176851.IV.SNTG..HN', '11176851.IV.T1215..EH', '11176851.IV.T1215..HN', '11176851.IV.T1216..EH', '11176851.IV.T1216..HN', '11176851.IV.T1219..EH', '11176851.IV.T1219..HN', '11176851.IV.T1241..EH', '11176851.IV.T1245..HH', '11176851.IV.T1245..HN', '11176851.IV.T1256..HH', '11176851.IV.T1256..HN', '11176991.IV.ARVD..HH', '11176991.IV.ATCC..EH', '11176991.IV.ATCC..HN', '11176991.IV.ATVO..HH', '11176991.IV.ATVO..HN', '11176991.IV.CAMP..HH', '11176991.IV.CESI..HH', '11176991.IV.CSP1..EH', '11176991.IV.FEMA..HN', '11176991.IV.FRON..EH', '11176991.IV.FSSB..HH', '11176991.IV.GUMA..HH', '11176991.IV.GUMA..HN', '11176991.IV.LNSS..HH', '11176991.IV.MC2..EH', '11176991.IV.MMO1..EH', '11176991.IV.MMO1..HN', '11176991.IV.MPAG..EH', '11176991.IV.MPAG..HN', '11176991.IV.NRCA..HH', '11176991.IV.NRCA..HN', '11176991.IV.PIEI..HH', '11176991.IV.PIEI..HN', '11176991.IV.RM33..EH', '11176991.IV.RM33..HN', '11176991.IV.SMA1..EH', '11176991.IV.SNTG..HH', '11176991.IV.SNTG..HN', '11176991.IV.SSFR..HH', '11176991.IV.SSFR..HN', '11176991.IV.T1211..EH', '11176991.IV.T1211..HN', '11176991.IV.T1215..EH', '11176991.IV.T1215..HN', '11176991.IV.T1216..EH', '11176991.IV.T1216..HN', '11176991.IV.T1219..EH', '11176991.IV.T1219..HN', '11176991.IV.T1241..EH', '11176991.IV.T1241..HN', '11176991.IV.T1243..HH', '11176991.IV.T1243..HN', '11176991.IV.T1245..HH', '11176991.IV.T1245..HN', '11176991.IV.T1256..HH', '11176991.IV.T1256..HN', '11177211.IV.CSP1..EH', '11177211.IV.FDMO..HH', '11177211.IV.NRCA..HH', '11177211.IV.NRCA..HN', '11177211.IV.T1219..EH', '11177211.IV.T1219..HN', '11177211.IV.T1245..HH', '11177211.IV.T1245..HN', '11177211.IV.T1256..HH', '11177211.IV.T1256..HN', '11178041.IV.CESI..HH', '11178041.IV.CSP1..EH', '11178041.IV.FDMO..HH', '11178041.IV.GIGS..HH', '11178041.IV.GUMA..HH', '11178041.IV.GUMA..HN', '11178041.IV.LNSS..HH', '11178041.IV.MMO1..EH', '11178041.IV.MMO1..HN', '11178041.IV.NRCA..HH', '11178041.IV.NRCA..HN', '11178041.IV.RM33..EH', '11178041.IV.RM33..HN', '11178041.IV.T1215..EH', '11178041.IV.T1215..HN', '11178041.IV.T1216..EH', '11178041.IV.T1216..HN', '11178041.IV.T1218..EH', '11178041.IV.T1218..HN', '11178041.IV.T1219..EH', '11178041.IV.T1219..HN', '11178041.IV.T1241..EH', '11178041.IV.T1243..HH', '11178041.IV.T1243..HN', '11178041.IV.T1245..HH', '11178041.IV.T1245..HN', '11178041.IV.T1247..HH', '11178041.IV.T1256..HH', '11178041.IV.T1256..HN', '11178501.IV.FDMO..HH', '11178501.IV.LNSS..HH', '11178501.IV.RM33..EH', '11178501.IV.RM33..HN', '11178501.IV.T1211..EH', '11178501.IV.T1211..HN', '11178501.IV.T1218..EH', '11178501.IV.T1218..HN', '11178501.IV.T1219..EH', '11178501.IV.T1219..HN', '11178501.IV.T1243..HH', '11178501.IV.T1243..HN', '11178501.IV.TERO..HH', '1117851.GU.MAIM..HH', '1117851.IV.FNVD..HH', '1117851.IV.MAGA..HH', '1117851.IV.ROVR..HH', '1117851.IV.ZCCA..HH', '1117851.IV.ZCCA..HN', '11178621.IV.CAMP..HH', '11178621.IV.GIGS..HH', '11178621.IV.LNSS..HH', '11178621.IV.NRCA..HH', '11178621.IV.NRCA..HN', '11178621.IV.RM33..EH', '11178621.IV.RM33..HN', '11178621.IV.SMA1..EH', '11178621.IV.T1216..EH', '11178621.IV.T1216..HN', '11178621.IV.T1218..EH', '11178621.IV.T1218..HN', '11178621.IV.T1241..EH', '11178621.IV.T1241..HN', '11178621.IV.T1243..HH', '11178621.IV.T1243..HN', '11179351.IV.CAMP..HH', '11179351.IV.CSP1..EH', '11179351.IV.LNSS..HH', '11179351.IV.NRCA..HH', '11179351.IV.NRCA..HN', '11179351.IV.RM33..EH', '11179351.IV.RM33..HN', '11179351.IV.SMA1..EH', '11179351.IV.T1211..EH', '11179351.IV.T1211..HN', '11179351.IV.T1215..EH', '11179351.IV.T1215..HN', '11179351.IV.T1218..EH', '11179351.IV.T1218..HN', '11179351.IV.T1241..EH', '11179351.IV.T1241..HN', '11179351.IV.T1243..HH', '11179351.IV.T1243..HN', '11181061.IV.CESI..HH', '11181061.IV.CSP1..EH', '11181061.IV.FDMO..HH', '11181061.IV.MMO1..EH', '11181061.IV.T1215..EH', '11181061.IV.T1215..HN', '11181061.IV.T1219..EH', '11181061.IV.T1219..HN', '11181061.IV.T1245..HH', '11181061.IV.T1245..HN', '11181061.IV.T1256..HH', '11181061.IV.T1256..HN', '11181281.IV.AIO..HH', '11181281.IV.CSLB..HH', '11181281.IV.EMSG..HH', '11181281.IV.GIB..HH', '11181281.IV.IFIL..HH', '11181281.IV.JOPP..HH', '11181281.IV.JOPP..HN', '11181281.IV.MILZ..HH', '11181281.IV.MSFR..HH', '11181281.IV.MSRU..HH', '11181281.IV.NOV..HH', '11181281.IV.PLLN..EH', '11181351.IV.ARRO..EH', '11181351.IV.CESI..HH', '11181351.IV.CSP1..EH', '11181351.IV.FDMO..HH', '11181351.IV.GUMA..HH', '11181351.IV.GUMA..HN', '11181351.IV.LNSS..HH', '11181351.IV.MMO1..EH', '11181351.IV.MMO1..HN', '11181351.IV.NRCA..HH', '11181351.IV.NRCA..HN', '11181351.IV.RM33..EH', '11181351.IV.RM33..HN', '11181351.IV.SNTG..HH', '11181351.IV.SNTG..HN', '11181351.IV.T1215..EH', '11181351.IV.T1215..HN', '11181351.IV.T1216..EH', '11181351.IV.T1216..HN', '11181351.IV.T1218..EH', '11181351.IV.T1218..HN', '11181351.IV.T1219..EH', '11181351.IV.T1219..HN', '11181351.IV.T1241..HN', '11181351.IV.T1243..HH', '11181351.IV.T1243..HN', '11181351.IV.T1245..HH', '11181351.IV.T1245..HN', '11181351.IV.T1256..HH', '11181831.IV.CAMP..HH', '11181831.IV.CESI..HH', '11181831.IV.CING..HH', '11181831.IV.CSP1..EH', '11181831.IV.EL6..EH', '11181831.IV.FDMO..HH', '11181831.IV.GIGS..HH', '11181831.IV.GUMA..HH', '11181831.IV.GUMA..HN', '11181831.IV.LNSS..HH', '11181831.IV.MMO1..EH', '11181831.IV.MMO1..HN', '11181831.IV.RM33..EH', '11181831.IV.RM33..HN', '11181831.IV.SMA1..EH', '11181831.IV.T0110..HH', '11181831.IV.T1215..EH', '11181831.IV.T1215..HN', '11181831.IV.T1218..EH', '11181831.IV.T1218..HN', '11181831.IV.T1219..EH', '11181831.IV.T1219..HN', '11181831.IV.T1241..EH', '11181831.IV.T1241..HN', '11181831.IV.T1243..HH', '11181831.IV.T1243..HN', '11181831.IV.T1247..HH', '11181831.IV.T1256..HH', '11181831.IV.T1256..HN', '11181831.IV.TERO..HH', '11181831.IV.TERO..HN', '11181831.IV.VCEL..EH', '11182521.IV.LNSS..HH', '11182521.IV.T1215..EH', '11182521.IV.T1215..HN', '11182521.IV.T1216..EH', '11182521.IV.T1216..HN', '11182521.IV.T1218..EH', '11182521.IV.T1218..HN', '11182521.IV.T1241..EH', '11182521.IV.T1241..HN', '11182521.IV.T1243..HH', '11182521.IV.T1243..HN', '11182521.IV.TERO..HH', '11182521.IV.TERO..HN', '11182731.IV.CAMP..HH', '11182731.IV.CESI..HH', '11182731.IV.CSP1..EH', '11182731.IV.EL6..EH', '11182731.IV.FDMO..HH', '11182731.IV.GIGS..HH', '11182731.IV.GUMA..HH', '11182731.IV.GUMA..HN', '11182731.IV.LNSS..HH', '11182731.IV.MC2..EH', '11182731.IV.MMO1..EH', '11182731.IV.MMO1..HN', '11182731.IV.NRCA..HH', '11182731.IV.NRCA..HN', '11182731.IV.RM33..EH', '11182731.IV.RM33..HN', '11182731.IV.SNTG..HH', '11182731.IV.SNTG..HN', '11182731.IV.T0110..HH', '11182731.IV.T1211..EH', '11182731.IV.T1211..HN', '11182731.IV.T1215..EH', '11182731.IV.T1215..HN', '11182731.IV.T1216..EH', '11182731.IV.T1216..HN', '11182731.IV.T1218..EH', '11182731.IV.T1218..HN', '11182731.IV.T1219..EH', '11182731.IV.T1219..HN', '11182731.IV.T1243..HH', '11182731.IV.T1243..HN', '11182731.IV.T1245..HH', '11182731.IV.T1245..HN', '11182731.IV.T1247..HH', '11182731.IV.T1256..HH', '11182731.IV.T1256..HN', '11182731.IV.TERO..HH', '11182731.IV.TERO..HN', '11182731.IV.VCEL..EH', '1118311.IV.MAGA..HH', '1118311.IV.NOVE..EH', '1118311.IV.RAVA..EH', '1118311.IV.T0800..HH', '1118311.IV.T0800..HN', '1118311.IV.T0802..HN', '1118311.IV.T0819..EH', '1118311.IV.T0819..HN', '11183781.IV.CAMP..HH', '11183781.IV.CESI..HH', '11183781.IV.CSP1..EH', '11183781.IV.FEMA..HN', '11183781.IV.GAG1..HN', '11183781.IV.GIGS..HH', '11183781.IV.GUMA..HH', '11183781.IV.GUMA..HN', '11183781.IV.LNSS..HH', '11183781.IV.MC2..EH', '11183781.IV.MDAR..HN', '11183781.IV.MMO1..EH', '11183781.IV.MMO1..HN', '11183781.IV.NRCA..HH', '11183781.IV.NRCA..HN', '11183781.IV.PIEI..HH', '11183781.IV.PIEI..HN', '11183781.IV.RM33..EH', '11183781.IV.RM33..HN', '11183781.IV.SEF1..HN', '11183781.IV.SMA1..EH', '11183781.IV.SNTG..HH', '11183781.IV.SNTG..HN', '11183781.IV.T1201..HN', '11183781.IV.T1202..EH', '11183781.IV.T1204..EH', '11183781.IV.T1211..EH', '11183781.IV.T1211..HN', '11183781.IV.T1213..EH', '11183781.IV.T1213..HN', '11183781.IV.T1215..EH', '11183781.IV.T1215..HN', '11183781.IV.T1216..EH', '11183781.IV.T1216..HN', '11183781.IV.T1217..EH', '11183781.IV.T1217..HN', '11183781.IV.T1218..EH', '11183781.IV.T1218..HN', '11183781.IV.T1219..EH', '11183781.IV.T1219..HN', '11183781.IV.T1220..EH', '11183781.IV.T1220..HN', '11183781.IV.T1221..EH', '11183781.IV.T1221..HN', '11183781.IV.T1241..EH', '11183781.IV.T1241..HN', '11183781.IV.T1243..HH', '11183781.IV.T1243..HN', '11183781.IV.T1244..EH', '11183781.IV.T1244..HN', '11183781.IV.T1245..HH', '11183781.IV.T1245..HN', '11183781.IV.T1246..HH', '11183781.IV.T1247..HH', '11183781.IV.T1256..HH', '11183781.IV.T1256..HN', '11183781.IV.T1299..EH', '11183781.IV.T1299..HN', '11184041.IV.CAMP..HH', '11184041.IV.CESI..HH', '11184041.IV.CSP1..EH', '11184041.IV.FAGN..HH', '11184041.IV.FDMO..HH', '11184041.IV.FIAM..HH', '11184041.IV.FIAM..HN', '11184041.IV.GIGS..HH', '11184041.IV.GUMA..HH', '11184041.IV.GUMA..HN', '11184041.IV.LNSS..HH', '11184041.IV.MC2..EH', '11184041.IV.MMO1..EH', '11184041.IV.MMO1..HN', '11184041.IV.NRCA..HH', '11184041.IV.NRCA..HN', '11184041.IV.RM33..EH', '11184041.IV.RM33..HN', '11184041.IV.SMA1..EH', '11184041.IV.T0110..HH', '11184041.IV.T1218..EH', '11184041.IV.T1218..HN', '11184041.IV.T1219..EH', '11184041.IV.T1219..HN', '11184041.IV.T1247..HH', '11184041.IV.T1256..HH', '11184041.IV.T1256..HN', '11184041.IV.TERO..HH', '11184041.IV.TERO..HN', '11184871.IV.CSP1..EH', '11184871.IV.FDMO..HH', '11184871.IV.SNTG..HH', '11184871.IV.SNTG..HN', '11184871.IV.T1216..EH', '11184871.IV.T1216..HN', '11184871.IV.T1219..EH', '11184871.IV.T1219..HN', '11184871.IV.T1256..HH', '11185151.IV.ARVD..HH', '11185151.IV.CAMP..HH', '11185151.IV.CESI..HH', '11185151.IV.CESX..HH', '11185151.IV.CSP1..EH', '11185151.IV.EL6..EH', '11185151.IV.FAGN..HH', '11185151.IV.FDMO..HH', '11185151.IV.FIAM..HH', '11185151.IV.FIAM..HN', '11185151.IV.GIGS..HH', '11185151.IV.GUMA..HH', '11185151.IV.GUMA..HN', '11185151.IV.INTR..HH', '11185151.IV.INTR..HN', '11185151.IV.LNSS..HH', '11185151.IV.MC2..EH', '11185151.IV.MMO1..EH', '11185151.IV.MMO1..HN', '11185151.IV.OFFI..HH', '11185151.IV.RM33..EH', '11185151.IV.RM33..HN', '11185151.IV.SMA1..EH', '11185151.IV.SNTG..HH', '11185151.IV.SNTG..HN', '11185151.IV.T0110..HH', '11185151.IV.T1215..EH', '11185151.IV.T1215..HN', '11185151.IV.T1216..EH', '11185151.IV.T1216..HN', '11185151.IV.T1218..EH', '11185151.IV.T1218..HN', '11185151.IV.T1219..EH', '11185151.IV.T1219..HN', '11185151.IV.T1241..EH', '11185151.IV.T1241..HN', '11185151.IV.T1243..HH', '11185151.IV.T1243..HN', '11185151.IV.T1245..HH', '11185151.IV.T1245..HN', '11185151.IV.T1247..HH', '11185151.IV.T1256..HH', '11185151.IV.TERO..HH', '11185151.IV.TERO..HN', '11185151.IV.VCEL..EH', '11185911.IV.CAMP..HH', '11185911.IV.CESI..HH', '11185911.IV.FDMO..HH', '11185911.IV.GIGS..HH', '11185911.IV.GUMA..HH', '11185911.IV.GUMA..HN', '11185911.IV.LNSS..HH', '11185911.IV.MMO1..EH', '11185911.IV.MMO1..HN', '11185911.IV.NRCA..HH', '11185911.IV.NRCA..HN', '11185911.IV.RM33..EH', '11185911.IV.RM33..HN', '11185911.IV.SMA1..EH', '11185911.IV.T1215..EH', '11185911.IV.T1215..HN', '11185911.IV.T1216..EH', '11185911.IV.T1216..HN', '11185911.IV.T1218..EH', '11185911.IV.T1218..HN', '11185911.IV.T1219..EH', '11185911.IV.T1219..HN', '11185911.IV.T1241..EH', '11185911.IV.T1243..HH', '11185911.IV.T1243..HN', '11185911.IV.T1245..HH', '11185911.IV.T1245..HN', '11185911.IV.T1256..HH', '11185911.IV.T1256..HN', '11185911.IV.TERO..HH', '11185911.IV.TERO..HN', '11186531.IV.CESI..HH', '11186531.IV.CSP1..EH', '11186531.IV.MC2..EH', '11186531.IV.MMO1..EH', '11186531.IV.MMO1..HN', '11186531.IV.NRCA..HH', '11186531.IV.NRCA..HN', '11186531.IV.SNTG..HH', '11186531.IV.SNTG..HN', '11186531.IV.T1215..EH', '11186531.IV.T1215..HN', '11186531.IV.T1216..EH', '11186531.IV.T1216..HN', '11186531.IV.T1219..EH', '11186531.IV.T1219..HN', '11186531.IV.T1245..HH', '11186531.IV.T1245..HN', '11186531.IV.T1256..HH', '11186531.IV.T1256..HN', '11187101.IV.GIGS..HH', '11187101.IV.LNSS..HH', '11187101.IV.RM33..EH', '11187101.IV.RM33..HN', '11187101.IV.SMA1..EH', '11187101.IV.T1218..EH', '11187101.IV.T1218..HN', '11187101.IV.T1243..HH', '11187101.IV.T1243..HN', '11187101.IV.TERO..HH', '11188061.IV.CAMP..HH', '11188061.IV.CSP1..EH', '11188061.IV.FDMO..HH', '11188061.IV.FIAM..HH', '11188061.IV.FIAM..HN', '11188061.IV.GIGS..HH', '11188061.IV.GUMA..HH', '11188061.IV.GUMA..HN', '11188061.IV.LNSS..HH', '11188061.IV.NRCA..HH', '11188061.IV.NRCA..HN', '11188061.IV.RM33..EH', '11188061.IV.RM33..HN', '11188061.IV.T0110..HH', '11188061.IV.T1201..HN', '11188061.IV.T1202..EH', '11188061.IV.T1204..EH', '11188061.IV.T1213..EH', '11188061.IV.T1213..HN', '11188061.IV.T1215..EH', '11188061.IV.T1215..HN', '11188061.IV.T1216..EH', '11188061.IV.T1216..HN', '11188061.IV.T1218..EH', '11188061.IV.T1218..HN', '11188061.IV.T1219..EH', '11188061.IV.T1219..HN', '11188061.IV.T1241..EH', '11188061.IV.T1241..HN', '11188061.IV.T1243..HH', '11188061.IV.T1243..HN', '11188061.IV.T1245..HH', '11188061.IV.T1245..HN', '11188061.IV.T1246..HH', '11188061.IV.T1247..HH', '11188061.IV.T1256..HH', '11188061.IV.T1256..HN', '11188061.IV.T1299..EH', '11188061.IV.T1299..HN', '11188061.IV.TERO..HH', '11188061.IV.TERO..HN', '11188061.IV.VCEL..EH', '11188801.IV.CAMP..HH', '11188801.IV.CSP1..EH', '11188801.IV.FDMO..HH', '11188801.IV.GIGS..HH', '11188801.IV.GUMA..HH', '11188801.IV.GUMA..HN', '11188801.IV.LNSS..HH', '11188801.IV.MMO1..EH', '11188801.IV.MMO1..HN', '11188801.IV.NRCA..HH', '11188801.IV.NRCA..HN', '11188801.IV.RM33..EH', '11188801.IV.RM33..HN', '11188801.IV.SMA1..EH', '11188801.IV.T1215..EH', '11188801.IV.T1215..HN', '11188801.IV.T1216..EH', '11188801.IV.T1216..HN', '11188801.IV.T1218..EH', '11188801.IV.T1218..HN', '11188801.IV.T1219..EH', '11188801.IV.T1219..HN', '11188801.IV.T1241..EH', '11188801.IV.T1241..HN', '11188801.IV.T1243..HH', '11188801.IV.T1243..HN', '11188801.IV.T1245..HH', '11188801.IV.T1245..HN', '11188801.IV.T1247..HH', '11188801.IV.T1256..HH', '11188801.IV.T1256..HN', '11188801.IV.TERO..HH', '11188801.IV.TERO..HN', '11189011.IV.CAMP..HH', '11189011.IV.CSP1..EH', '11189011.IV.FAGN..HH', '11189011.IV.FDMO..HH', '11189011.IV.FIAM..HH', '11189011.IV.FIAM..HN', '11189011.IV.GIGS..HH', '11189011.IV.GUMA..HH', '11189011.IV.GUMA..HN', '11189011.IV.LNSS..HH', '11189011.IV.MMO1..EH', '11189011.IV.MMO1..HN', '11189011.IV.NRCA..HH', '11189011.IV.NRCA..HN', '11189011.IV.OFFI..HH', '11189011.IV.RM33..EH', '11189011.IV.RM33..HN', '11189011.IV.SMA1..EH', '11189011.IV.SNTG..HH', '11189011.IV.SNTG..HN', '11189011.IV.T1215..EH', '11189011.IV.T1215..HN', '11189011.IV.T1216..EH', '11189011.IV.T1216..HN', '11189011.IV.T1218..EH', '11189011.IV.T1218..HN', '11189011.IV.T1219..EH', '11189011.IV.T1219..HN', '11189011.IV.T1241..EH', '11189011.IV.T1243..HH', '11189011.IV.T1243..HN', '11189011.IV.T1245..HH', '11189011.IV.T1245..HN', '11189011.IV.T1247..HH', '11189011.IV.T1256..HH', '11189011.IV.TERO..HH', '11189011.IV.TERO..HN', '11189011.IV.VCEL..EH', '1118941.IV.ATBU..EH', '1118941.IV.CING..HH', '1118941.IV.EL6..EH', '1118941.IV.FDMO..HH', '1118941.IV.MPAG..EH', '1118941.IV.MPAG..HN', '1118941.IV.PIEI..HH', '1118941.IV.SNTG..HH', '1118941.IV.SNTG..HN', '11189931.IV.CAMP..HH', '11189931.IV.CERT..HH', '11189931.IV.CSP1..EH', '11189931.IV.FIAM..HH', '11189931.IV.FIAM..HN', '11189931.IV.GIGS..HH', '11189931.IV.GUMA..HH', '11189931.IV.GUMA..HN', '11189931.IV.LNSS..HH', '11189931.IV.MC2..EH', '11189931.IV.NRCA..HH', '11189931.IV.NRCA..HN', '11189931.IV.RM33..EH', '11189931.IV.RM33..HN', '11189931.IV.SMA1..EH', '11189931.IV.T0110..HH', '11189931.IV.T1215..EH', '11189931.IV.T1215..HN', '11189931.IV.T1218..EH', '11189931.IV.T1218..HN', '11189931.IV.T1243..HH', '11189931.IV.T1243..HN', '11189931.IV.T1245..HH', '11189931.IV.T1245..HN', '11189931.IV.T1247..HH', '11189931.IV.T1256..HH', '11189931.IV.T1256..HN', '11189931.IV.TERO..HH', '11189931.IV.TERO..HN', '11190061.IV.ARVD..HH', '11190061.IV.ATCC..EH', '11190061.IV.ATCC..HN', '11190061.IV.CESI..HH', '11190061.IV.CESX..HH', '11190061.IV.CING..HH', '11190061.IV.CSP1..EH', '11190061.IV.FEMA..HN', '11190061.IV.FIU1..HN', '11190061.IV.FRON..EH', '11190061.IV.GUMA..HH', '11190061.IV.GUMA..HN', '11190061.IV.LNSS..HH', '11190061.IV.MC2..EH', '11190061.IV.MDAR..HN', '11190061.IV.MMO1..EH', '11190061.IV.MMO1..HN', '11190061.IV.MMUR..HN', '11190061.IV.MTL1..HN', '11190061.IV.NRCA..HH', '11190061.IV.NRCA..HN', '11190061.IV.PIO1..HN', '11190061.IV.SEF1..HN', '11190061.IV.SMA1..EH', '11190061.IV.SNTG..HH', '11190061.IV.SNTG..HN', '11190061.IV.SSFR..HH', '11190061.IV.SSFR..HN', '11190061.IV.T1201..HN', '11190061.IV.T1202..EH', '11190061.IV.T1204..EH', '11190061.IV.T1212..EH', '11190061.IV.T1212..HN', '11190061.IV.T1213..EH', '11190061.IV.T1213..HN', '11190061.IV.T1215..EH', '11190061.IV.T1215..HN', '11190061.IV.T1216..EH', '11190061.IV.T1216..HN', '11190061.IV.T1217..EH', '11190061.IV.T1217..HN', '11190061.IV.T1218..EH', '11190061.IV.T1218..HN', '11190061.IV.T1219..EH', '11190061.IV.T1219..HN', '11190061.IV.T1221..EH', '11190061.IV.T1221..HN', '11190061.IV.T1241..EH', '11190061.IV.T1243..HH', '11190061.IV.T1243..HN', '11190061.IV.T1244..EH', '11190061.IV.T1244..HN', '11190061.IV.T1245..HH', '11190061.IV.T1245..HN', '11190061.IV.T1256..HH', '11190061.IV.T1256..HN', '11190061.IV.T1299..EH', '11190061.IV.T1299..HN', '11190061.IV.TERO..HH', '11190061.IV.TERO..HN', '11190131.IV.ATCC..EH', '11190131.IV.ATCC..HN', '11190131.IV.CERT..HH', '11190131.IV.CESI..HH', '11190131.IV.CESX..HH', '11190131.IV.CSP1..EH', '11190131.IV.EL6..EH', '11190131.IV.FDMO..HH', '11190131.IV.FIAM..HH', '11190131.IV.FIAM..HN', '11190131.IV.LNSS..HH', '11190131.IV.MC2..EH', '11190131.IV.NRCA..HH', '11190131.IV.NRCA..HN', '11190131.IV.RM33..EH', '11190131.IV.RM33..HN', '11190131.IV.SMA1..EH', '11190131.IV.SNTG..HH', '11190131.IV.SNTG..HN', '11190131.IV.SRES..HH', '11190131.IV.T1212..EH', '11190131.IV.T1212..HN', '11190131.IV.T1213..EH', '11190131.IV.T1213..HN', '11190131.IV.T1215..EH', '11190131.IV.T1215..HN', '11190131.IV.T1216..EH', '11190131.IV.T1216..HN', '11190131.IV.T1217..EH', '11190131.IV.T1217..HN', '11190131.IV.T1218..EH', '11190131.IV.T1218..HN', '11190131.IV.T1219..EH', '11190131.IV.T1219..HN', '11190131.IV.T1221..EH', '11190131.IV.T1221..HN', '11190131.IV.T1241..EH', '11190131.IV.T1241..HN', '11190131.IV.T1243..HH', '11190131.IV.T1243..HN', '11190131.IV.T1245..HH', '11190131.IV.T1245..HN', '11190131.IV.T1246..HH', '11190131.IV.T1299..EH', '11190131.IV.T1299..HN', '11190131.IV.TERO..HH', '11190131.IV.TERO..HN', '11191481.IV.FDMO..HH', '11191481.IV.GIGS..HH', '11191481.IV.LNSS..HH', '11191481.IV.SMA1..EH', '11191481.IV.T1218..EH', '11191481.IV.T1218..HN', '11191481.IV.T1219..EH', '11191481.IV.T1219..HN', '11191481.IV.T1243..HH', '11191481.IV.T1243..HN', '11191481.IV.T1247..HH', '11191481.IV.TERO..HH', '11191481.IV.TERO..HN', '11191741.IV.CESI..HH', '11191741.IV.CSP1..EH', '11191741.IV.FDMO..HH', '11191741.IV.MC2..EH', '11191741.IV.MMO1..EH', '11191741.IV.MMO1..HN', '11191741.IV.T1215..EH', '11191741.IV.T1215..HN', '11191741.IV.T1216..EH', '11191741.IV.T1216..HN', '11191741.IV.T1219..EH', '11191741.IV.T1219..HN', '11191741.IV.T1245..HH', '11191741.IV.T1245..HN', '11191741.IV.T1256..HH', '11191741.IV.T1256..HN', '11192441.IV.CAMP..HH', '11192441.IV.CESI..HH', '11192441.IV.CSP1..EH', '11192441.IV.FDMO..HH', '11192441.IV.FIAM..HH', '11192441.IV.FIAM..HN', '11192441.IV.GIGS..HH', '11192441.IV.GUMA..HH', '11192441.IV.GUMA..HN', '11192441.IV.LNSS..HH', '11192441.IV.MC2..EH', '11192441.IV.MMO1..EH', '11192441.IV.MMO1..HN', '11192441.IV.NRCA..HH', '11192441.IV.NRCA..HN', '11192441.IV.RM33..EH', '11192441.IV.RM33..HN', '11192441.IV.SMA1..EH', '11192441.IV.T1211..EH', '11192441.IV.T1211..HN', '11192441.IV.T1215..EH', '11192441.IV.T1215..HN', '11192441.IV.T1218..EH', '11192441.IV.T1218..HN', '11192441.IV.T1219..EH', '11192441.IV.T1219..HN', '11192441.IV.T1241..EH', '11192441.IV.T1241..HN', '11192441.IV.T1243..HH', '11192441.IV.T1243..HN', '11192441.IV.T1245..HH', '11192441.IV.T1245..HN', '11192441.IV.T1256..HH', '11192441.IV.T1256..HN', '11192441.IV.TERO..HH', '11192441.IV.TERO..HN', '11192711.IV.ATFO..HH', '11192711.IV.ATFO..HN', '11192711.IV.ATVO..HH', '11192711.IV.ATVO..HN', '11192711.IV.CESI..HH', '11192711.IV.CING..HH', '11192711.IV.CSP1..EH', '11192711.IV.EL6..EH', '11192711.IV.FDMO..HH', '11192711.IV.FEMA..HN', '11192711.IV.FRON..EH', '11192711.IV.GUMA..HH', '11192711.IV.GUMA..HN', '11192711.IV.LNSS..HH', '11192711.IV.MC2..EH', '11192711.IV.MMO1..EH', '11192711.IV.MMO1..HN', '11192711.IV.MPAG..EH', '11192711.IV.MPAG..HN', '11192711.IV.NRCA..HH', '11192711.IV.NRCA..HN', '11192711.IV.PIEI..HH', '11192711.IV.PIEI..HN', '11192711.IV.SNTG..HH', '11192711.IV.SNTG..HN', '11192711.IV.T1215..EH', '11192711.IV.T1215..HN', '11192711.IV.T1216..EH', '11192711.IV.T1216..HN', '11192711.IV.T1219..EH', '11192711.IV.T1219..HN', '11192711.IV.T1241..EH', '11192711.IV.T1241..HN', '11192711.IV.T1243..HH', '11192711.IV.T1243..HN', '11192711.IV.T1245..HH', '11192711.IV.T1245..HN', '11192711.IV.T1256..HH', '11192711.IV.T1256..HN', '11192711.IV.TERO..HH', '11196331.IV.CSP1..EH', '11196331.IV.MMO1..HN', '11196331.IV.T1215..EH', '11196331.IV.T1215..HN', '11196331.IV.T1216..EH', '11196331.IV.T1216..HN', '11196331.IV.T1219..EH', '11196331.IV.T1219..HN', '11196331.IV.T1241..EH', '11196331.IV.T1243..HH', '11196331.IV.T1243..HN', '11196331.IV.T1245..HH', '11196331.IV.T1245..HN', '1119741.IV.FIU..EH', '1119741.IV.MAGA..HH', '1119741.IV.ROVR..HH', '1119741.IV.SERM..EH', '1119741.IV.SERM..HN', '1119741.IV.T0802..HN', '1119741.IV.T0805..HN', '1119741.IV.T0821..EH', '1119741.IV.T0821..HN', '1119741.IV.T0822..EH', '11199231.IV.ARRO..EH', '11199231.IV.ARVD..HH', '11199231.IV.ATCC..EH', '11199231.IV.ATCC..HN', '11199231.IV.ATFO..HH', '11199231.IV.ATFO..HN', '11199231.IV.ATLO..HN', '11199231.IV.ATSC..EH', '11199231.IV.CAMP..HH', '11199231.IV.CESI..HH', '11199231.IV.CESX..HH', '11199231.IV.CING..HH', '11199231.IV.CSP1..EH', '11199231.IV.EL6..EH', '11199231.IV.FAGN..HH', '11199231.IV.FDMO..HH', '11199231.IV.FEMA..HN', '11199231.IV.FIAM..HH', '11199231.IV.FIAM..HN', '11199231.IV.FIU1..HN', '11199231.IV.FOSV..EH', '11199231.IV.GAG1..HN', '11199231.IV.GIGS..HH', '11199231.IV.GUMA..HH', '11199231.IV.GUMA..HN', '11199231.IV.LNSS..HH', '11199231.IV.MC2..EH', '11199231.IV.MDAR..HN', '11199231.IV.MGAB..HH', '11199231.IV.MGAB..HN', '11199231.IV.MMO1..EH', '11199231.IV.MMO1..HN', '11199231.IV.MMUR..HN', '11199231.IV.MNTP..HN', '11199231.IV.MOMA..HH', '11199231.IV.MOMA..HN', '11199231.IV.MTL1..HN', '11199231.IV.MURB..HH', '11199231.IV.MURB..HN', '11199231.IV.NRCA..HH', '11199231.IV.NRCA..HN', '11199231.IV.OFFI..HH', '11199231.IV.PTQR..HH', '11199231.IV.RM33..EH', '11199231.IV.RM33..HN', '11199231.IV.SEF1..HN', '11199231.IV.SNTG..HH', '11199231.IV.SNTG..HN', '11199231.IV.SRES..HH', '11199231.IV.SSFR..HH', '11199231.IV.SSFR..HN', '11199231.IV.SSM1..HN', '11199231.IV.T0110..HH', '11199231.IV.T1201..HN', '11199231.IV.T1202..EH', '11199231.IV.T1204..EH', '11199231.IV.T1212..EH', '11199231.IV.T1212..HN', '11199231.IV.T1213..EH', '11199231.IV.T1213..HN', '11199231.IV.T1215..EH', '11199231.IV.T1215..HN', '11199231.IV.T1216..EH', '11199231.IV.T1216..HN', '11199231.IV.T1217..EH', '11199231.IV.T1217..HN', '11199231.IV.T1218..EH', '11199231.IV.T1218..HN', '11199231.IV.T1219..EH', '11199231.IV.T1219..HN', '11199231.IV.T1221..EH', '11199231.IV.T1221..HN', '11199231.IV.T1243..HH', '11199231.IV.T1243..HN', '11199231.IV.T1244..EH', '11199231.IV.T1244..HN', '11199231.IV.T1245..HH', '11199231.IV.T1245..HN', '11199231.IV.T1246..HH', '11199231.IV.T1247..HH', '11199231.IV.T1256..HH', '11199231.IV.T1256..HN', '11199231.IV.T1299..EH', '11199231.IV.T1299..HN', '11199231.IV.TERO..HH', '11199231.IV.TERO..HN', '11199231.IV.VCEL..EH', '11199231.MN.AQU..HH', '11199231.MN.AQU..HL', '11200971.IV.ASSB..HH', '11200971.IV.CESI..HH', '11200971.IV.CSP1..EH', '11200971.IV.FDMO..HH', '11200971.IV.MMO1..EH', '11200971.IV.MMO1..HN', '11200971.IV.NRCA..HH', '11200971.IV.NRCA..HN', '11200971.IV.T1215..EH', '11200971.IV.T1215..HN', '11200971.IV.T1216..EH', '11200971.IV.T1216..HN', '11200971.IV.T1218..EH', '11200971.IV.T1218..HN', '11200971.IV.T1219..EH', '11200971.IV.T1219..HN', '11200971.IV.T1241..EH', '11200971.IV.T1241..HN', '11200971.IV.T1243..HH', '11200971.IV.T1243..HN', '11200971.IV.T1245..HH', '11200971.IV.T1256..HH', '11200971.IV.T1256..HN', '11202141.IV.ASSB..HH', '11202141.IV.CESI..HH', '11202141.IV.CSP1..EH', '11202141.IV.FDMO..HH', '11202141.IV.FOSV..EH', '11202141.IV.FOSV..HN', '11202141.IV.GUMA..HH', '11202141.IV.GUMA..HN', '11202141.IV.MMO1..EH', '11202141.IV.MMO1..HN', '11202141.IV.SNTG..HH', '11202141.IV.SNTG..HN', '11202141.IV.T1215..EH', '11202141.IV.T1215..HN', '11202141.IV.T1216..EH', '11202141.IV.T1216..HN', '11202141.IV.T1241..EH', '11202141.IV.T1245..HH', '11202141.IV.T1245..HN', '11202141.IV.T1256..HH', '11202141.IV.T1256..HN', '11204331.IV.LNSS..HH', '11204331.IV.MMO1..EH', '11204331.IV.MMO1..HN', '11204331.IV.NRCA..HH', '11204331.IV.NRCA..HN', '11204331.IV.RM33..EH', '11204331.IV.RM33..HN', '11204331.IV.SMA1..EH', '11204331.IV.T1218..EH', '11204331.IV.T1218..HN', '11204331.IV.T1243..HH', '11204331.IV.T1243..HN', '11204331.IV.TERO..HH', '11204331.IV.TERO..HN', '11209761.IV.ARRO..EH', '11209761.IV.ARVD..HH', '11209761.IV.ATCC..EH', '11209761.IV.ATCC..HN', '11209761.IV.ATFO..HH', '11209761.IV.ATFO..HN', '11209761.IV.ATVO..HH', '11209761.IV.ATVO..HN', '11209761.IV.CAFI..HH', '11209761.IV.CAFI..HN', '11209761.IV.CAMP..HH', '11209761.IV.CERT..HH', '11209761.IV.CESI..HH', '11209761.IV.CESX..HH', '11209761.IV.CING..HH', '11209761.IV.CSP1..EH', '11209761.IV.EL6..EH', '11209761.IV.FAGN..HH', '11209761.IV.FDMO..HH', '11209761.IV.FEMA..HN', '11209761.IV.FIAM..HH', '11209761.IV.FIAM..HN', '11209761.IV.FOSV..EH', '11209761.IV.FOSV..HN', '11209761.IV.FRON..EH', '11209761.IV.FSSB..HH', '11209761.IV.GIGS..HH', '11209761.IV.GUMA..HH', '11209761.IV.GUMA..HN', '11209761.IV.LNSS..HH', '11209761.IV.MDAR..HN', '11209761.IV.MGAB..HH', '11209761.IV.MGAB..HN', '11209761.IV.MOMA..HH', '11209761.IV.MOMA..HN', '11209761.IV.MPAG..EH', '11209761.IV.MPAG..HN', '11209761.IV.MURB..HH', '11209761.IV.MURB..HN', '11209761.IV.NRCA..HH', '11209761.IV.NRCA..HN', '11209761.IV.OFFI..HH', '11209761.IV.RM33..EH', '11209761.IV.RM33..HN', '11209761.IV.SACS..HH', '11209761.IV.SACS..HN', '11209761.IV.SEF1..HN', '11209761.IV.SNTG..HH', '11209761.IV.SNTG..HN', '11209761.IV.SRES..HH', '11209761.IV.SSFR..HH', '11209761.IV.SSFR..HN', '11209761.IV.T0110..HH', '11209761.IV.T1201..HN', '11209761.IV.T1202..EH', '11209761.IV.T1204..EH', '11209761.IV.T1212..EH', '11209761.IV.T1212..HN', '11209761.IV.T1213..EH', '11209761.IV.T1213..HN', '11209761.IV.T1215..EH', '11209761.IV.T1215..HN', '11209761.IV.T1216..EH', '11209761.IV.T1216..HN', '11209761.IV.T1217..EH', '11209761.IV.T1217..HN', '11209761.IV.T1218..EH', '11209761.IV.T1218..HN', '11209761.IV.T1219..EH', '11209761.IV.T1219..HN', '11209761.IV.T1221..EH', '11209761.IV.T1221..HN', '11209761.IV.T1241..EH', '11209761.IV.T1243..HH', '11209761.IV.T1243..HN', '11209761.IV.T1244..EH', '11209761.IV.T1244..HN', '11209761.IV.T1245..HH', '11209761.IV.T1246..HH', '11209761.IV.T1247..HH', '11209761.IV.T1256..HH', '11209761.IV.T1256..HN', '11209761.IV.T1299..EH', '11209761.IV.T1299..HN', '11209761.IV.TERO..HH', '11209761.IV.TERO..HN', '11209761.IV.VCEL..EH', '11209761.MN.AQU..HH', '11209761.MN.AQU..HL', '11210661.IV.APEC..HH', '11210661.IV.APEC..HN', '11210661.IV.ARRO..EH', '11210661.IV.ARVD..HH', '11210661.IV.ATCC..EH', '11210661.IV.ATCC..HN', '11210661.IV.ATFO..HH', '11210661.IV.ATFO..HN', '11210661.IV.ATPI..EH', '11210661.IV.ATVO..HH', '11210661.IV.ATVO..HN', '11210661.IV.CAFI..HH', '11210661.IV.CAFI..HN', '11210661.IV.CAMP..HH', '11210661.IV.CESI..HH', '11210661.IV.CESX..HH', '11210661.IV.COR1..EH', '11210661.IV.CSP1..EH', '11210661.IV.EL6..EH', '11210661.IV.FDMO..HH', '11210661.IV.FEMA..HN', '11210661.IV.FIAM..HH', '11210661.IV.FIAM..HN', '11210661.IV.FOSV..EH', '11210661.IV.FOSV..HN', '11210661.IV.FRON..EH', '11210661.IV.FSSB..HH', '11210661.IV.GIGS..HH', '11210661.IV.GUMA..HH', '11210661.IV.GUMA..HN', '11210661.IV.LNSS..HH', '11210661.IV.MC2..EH', '11210661.IV.MDAR..HN', '11210661.IV.MMO1..EH', '11210661.IV.MMO1..HN', '11210661.IV.MOMA..HH', '11210661.IV.MOMA..HN', '11210661.IV.MPAG..EH', '11210661.IV.MPAG..HN', '11210661.IV.MTL1..HN', '11210661.IV.MURB..HH', '11210661.IV.MURB..HN', '11210661.IV.NRCA..HH', '11210661.IV.NRCA..HN', '11210661.IV.OFFI..HH', '11210661.IV.PARC..HH', '11210661.IV.PIEI..HH', '11210661.IV.PIEI..HN', '11210661.IV.PP3..EH', '11210661.IV.PP3..HN', '11210661.IV.RM33..EH', '11210661.IV.RM33..HN', '11210661.IV.SEF1..HN', '11210661.IV.SSFR..HH', '11210661.IV.SSFR..HN', '11210661.IV.T0110..HH', '11210661.IV.T1211..EH', '11210661.IV.T1211..HN', '11210661.IV.T1215..EH', '11210661.IV.T1215..HN', '11210661.IV.T1216..EH', '11210661.IV.T1216..HN', '11210661.IV.T1218..EH', '11210661.IV.T1218..HN', '11210661.IV.T1219..EH', '11210661.IV.T1219..HN', '11210661.IV.T1241..EH', '11210661.IV.T1241..HN', '11210661.IV.T1243..HH', '11210661.IV.T1243..HN', '11210661.IV.T1245..HH', '11210661.IV.T1245..HN', '11210661.IV.T1247..HH', '11210661.IV.T1256..HH', '11210661.IV.T1256..HN', '11210661.IV.TERO..HH', '11210661.IV.VCEL..EH', '11210991.IV.ARRO..EH', '11210991.IV.ASSB..HH', '11210991.IV.ATCC..EH', '11210991.IV.ATCC..HN', '11210991.IV.CAMP..HH', '11210991.IV.CESI..HH', '11210991.IV.CESX..HH', '11210991.IV.CING..HH', '11210991.IV.CSP1..EH', '11210991.IV.EL6..EH', '11210991.IV.FEMA..HN', '11210991.IV.FOSV..EH', '11210991.IV.FOSV..HN', '11210991.IV.GUMA..HH', '11210991.IV.GUMA..HN', '11210991.IV.LNSS..HH', '11210991.IV.MMO1..HN', '11210991.IV.NRCA..HH', '11210991.IV.NRCA..HN', '11210991.IV.RM33..EH', '11210991.IV.RM33..HN', '11210991.IV.SEF1..HN', '11210991.IV.SNTG..HH', '11210991.IV.SNTG..HN', '11210991.IV.SSFR..HH', '11210991.IV.SSFR..HN', '11210991.IV.T1211..EH', '11210991.IV.T1211..HN', '11210991.IV.T1215..EH', '11210991.IV.T1215..HN', '11210991.IV.T1216..EH', '11210991.IV.T1216..HN', '11210991.IV.T1218..EH', '11210991.IV.T1218..HN', '11210991.IV.T1219..EH', '11210991.IV.T1219..HN', '11210991.IV.T1241..EH', '11210991.IV.T1241..HN', '11210991.IV.T1243..HH', '11210991.IV.T1243..HN', '11210991.IV.T1245..HH', '11210991.IV.T1245..HN', '11210991.IV.T1256..HH', '11210991.IV.T1256..HN', '11211211.IV.CSP1..EH', '11211211.IV.FDMO..HH', '11211211.IV.GUMA..HH', '11211211.IV.GUMA..HN', '11211211.IV.MC2..EH', '11211211.IV.MMO1..EH', '11211211.IV.MMO1..HN', '11211211.IV.NRCA..HH', '11211211.IV.NRCA..HN', '11211211.IV.T1216..EH', '11211211.IV.T1216..HN', '11211211.IV.T1219..EH', '11211211.IV.T1219..HN', '11211211.IV.T1241..EH', '11211211.IV.T1241..HN', '11211211.IV.T1243..HH', '11211211.IV.T1243..HN', '11211211.IV.T1245..HH', '11211211.IV.T1245..HN', '11211211.IV.T1256..HH', '11211211.IV.T1256..HN', '11211641.IV.ARRO..EH', '11211641.IV.ARVD..HH', '11211641.IV.ATCC..EH', '11211641.IV.ATCC..HN', '11211641.IV.CAMP..HH', '11211641.IV.CERT..HH', '11211641.IV.CESI..HH', '11211641.IV.CESX..HH', '11211641.IV.CING..HH', '11211641.IV.CSP1..EH', '11211641.IV.EL6..EH', '11211641.IV.FAGN..HH', '11211641.IV.FDMO..HH', '11211641.IV.FIAM..HH', '11211641.IV.FIAM..HN', '11211641.IV.GIGS..HH', '11211641.IV.GUMA..HH', '11211641.IV.GUMA..HN', '11211641.IV.LNSS..HH', '11211641.IV.MC2..EH', '11211641.IV.MGAB..HH', '11211641.IV.MGAB..HN', '11211641.IV.MMO1..EH', '11211641.IV.MMO1..HN', '11211641.IV.NRCA..HN', '11211641.IV.OFFI..HH', '11211641.IV.RM33..EH', '11211641.IV.RM33..HN', '11211641.IV.SMA1..EH', '11211641.IV.SRES..HH', '11211641.IV.T0110..HH', '11211641.IV.T1211..EH', '11211641.IV.T1211..HN', '11211641.IV.T1215..EH', '11211641.IV.T1215..HN', '11211641.IV.T1216..EH', '11211641.IV.T1216..HN', '11211641.IV.T1218..EH', '11211641.IV.T1218..HN', '11211641.IV.T1219..EH', '11211641.IV.T1219..HN', '11211641.IV.T1241..EH', '11211641.IV.T1241..HN', '11211641.IV.T1243..HH', '11211641.IV.T1243..HN', '11211641.IV.T1245..HH', '11211641.IV.T1245..HN', '11211641.IV.T1247..HH', '11211641.IV.T1256..HH', '11211641.IV.T1256..HN', '11211641.IV.VCEL..EH', '11211641.MN.AQU..HH', '11211641.MN.AQU..HL', '11212081.IV.AOI..HH', '11212081.IV.APEC..HH', '11212081.IV.APEC..HN', '11212081.IV.ARRO..EH', '11212081.IV.ARVD..HH', '11212081.IV.ATCC..EH', '11212081.IV.ATCC..HN', '11212081.IV.ATFO..HH', '11212081.IV.ATFO..HN', '11212081.IV.ATPI..EH', '11212081.IV.ATVO..HH', '11212081.IV.ATVO..HN', '11212081.IV.BADI..EH', '11212081.IV.CAFI..HH', '11212081.IV.CAFI..HN', '11212081.IV.CAMP..HH', '11212081.IV.CERT..HH', '11212081.IV.CESI..HH', '11212081.IV.CESX..HH', '11212081.IV.CING..HH', '11212081.IV.COR1..EH', '11212081.IV.COR1..HN', '11212081.IV.CSP1..EH', '11212081.IV.FAGN..HH', '11212081.IV.FDMO..HH', '11212081.IV.FEMA..HN', '11212081.IV.FIAM..HH', '11212081.IV.FIAM..HN', '11212081.IV.FOSV..EH', '11212081.IV.FOSV..HN', '11212081.IV.FRON..EH', '11212081.IV.FSSB..HH', '11212081.IV.GUMA..HH', '11212081.IV.GUMA..HN', '11212081.IV.INTR..HH', '11212081.IV.INTR..HN', '11212081.IV.LNSS..HH', '11212081.IV.MC2..EH', '11212081.IV.MDAR..HN', '11212081.IV.MGAB..HH', '11212081.IV.MGAB..HN', '11212081.IV.MMO1..EH', '11212081.IV.MMO1..HN', '11212081.IV.MMUR..HN', '11212081.IV.MNTP..HN', '11212081.IV.MOMA..HH', '11212081.IV.MOMA..HN', '11212081.IV.MPAG..EH', '11212081.IV.MPAG..HN', '11212081.IV.MURB..HH', '11212081.IV.MURB..HN', '11212081.IV.NRCA..HH', '11212081.IV.NRCA..HN', '11212081.IV.OFFI..HH', '11212081.IV.PARC..HH', '11212081.IV.PIEI..HH', '11212081.IV.PIEI..HN', '11212081.IV.PP3..EH', '11212081.IV.PP3..HN', '11212081.IV.RM33..EH', '11212081.IV.RM33..HN', '11212081.IV.RUFI..EH', '11212081.IV.SACS..HH', '11212081.IV.SACS..HN', '11212081.IV.SEF1..HN', '11212081.IV.SNTG..HH', '11212081.IV.SNTG..HN', '11212081.IV.SRES..HH', '11212081.IV.SSFR..HH', '11212081.IV.SSFR..HN', '11212081.IV.T0110..HH', '11212081.IV.T1215..EH', '11212081.IV.T1215..HN', '11212081.IV.T1216..EH', '11212081.IV.T1216..HN', '11212081.IV.T1218..EH', '11212081.IV.T1218..HN', '11212081.IV.T1241..HN', '11212081.IV.T1243..HH', '11212081.IV.T1243..HN', '11212081.IV.T1245..HH', '11212081.IV.T1245..HN', '11212081.IV.T1247..HH', '11212081.IV.T1256..HH', '11212081.IV.T1256..HN', '11212081.IV.TOLF..HH', '11212081.IV.VCEL..EH', '11212981.IV.ARRO..EH', '11212981.IV.ASSB..HH', '11212981.IV.ATCC..EH', '11212981.IV.ATCC..HN', '11212981.IV.CAMP..HH', '11212981.IV.CESI..HH', '11212981.IV.CESX..HH', '11212981.IV.CING..HH', '11212981.IV.CSP1..EH', '11212981.IV.EL6..EH', '11212981.IV.FAGN..HH', '11212981.IV.FDMO..HH', '11212981.IV.FIAM..HH', '11212981.IV.FIAM..HN', '11212981.IV.GIGS..HH', '11212981.IV.GUMA..HH', '11212981.IV.GUMA..HN', '11212981.IV.LNSS..HH', '11212981.IV.MC2..EH', '11212981.IV.MMO1..EH', '11212981.IV.MMO1..HN', '11212981.IV.NRCA..HH', '11212981.IV.NRCA..HN', '11212981.IV.OFFI..HH', '11212981.IV.RM33..EH', '11212981.IV.RM33..HN', '11212981.IV.SMA1..EH', '11212981.IV.SNTG..HH', '11212981.IV.SNTG..HN', '11212981.IV.T0110..HH', '11212981.IV.T1211..EH', '11212981.IV.T1211..HN', '11212981.IV.T1215..EH', '11212981.IV.T1215..HN', '11212981.IV.T1216..EH', '11212981.IV.T1216..HN', '11212981.IV.T1218..EH', '11212981.IV.T1218..HN', '11212981.IV.T1241..EH', '11212981.IV.T1241..HN', '11212981.IV.T1243..HH', '11212981.IV.T1243..HN', '11212981.IV.T1245..HH', '11212981.IV.T1247..HH', '11212981.IV.T1256..HH', '11212981.IV.T1256..HN', '11213101.IV.ARVD..HH', '11213101.IV.ASSB..HH', '11213101.IV.CING..HH', '11213101.IV.CSP1..EH', '11213101.IV.EL6..EH', '11213101.IV.FDMO..HH', '11213101.IV.GUMA..HH', '11213101.IV.GUMA..HN', '11213101.IV.MC2..EH', '11213101.IV.MMO1..EH', '11213101.IV.MMO1..HN', '11213101.IV.SNTG..HH', '11213101.IV.SNTG..HN', '11213101.IV.SSFR..HH', '11213101.IV.SSFR..HN', '11213101.IV.T1216..EH', '11213101.IV.T1216..HN', '11213101.IV.T1245..HH', '11213101.IV.T1245..HN', '11213101.IV.T1256..HH', '11213101.IV.T1256..HN', '11213221.IV.ASSB..HH', '11213221.IV.ATCC..EH', '11213221.IV.CESI..HH', '11213221.IV.CING..HH', '11213221.IV.CSP1..EH', '11213221.IV.EL6..EH', '11213221.IV.FDMO..HH', '11213221.IV.FOSV..EH', '11213221.IV.FOSV..HN', '11213221.IV.SNTG..HN', '11213221.IV.T1256..HH', '11213221.IV.T1256..HN', '1121331.IV.CIGN..HH', '1121331.IV.FRES..HH', '1121331.IV.INTR..HH', '1121331.IV.MELA..HH', '1121331.IV.MELA..HN', '1121331.IV.MOCO..HH', '1121331.IV.MOCO..HN', '1121331.IV.MRVN..HH', '1121331.IV.MSAG..HH', '1121331.IV.MSAG..HN', '1121331.IV.SGRT..HH', '11213801.IV.CAMP..HH', '11213801.IV.CERT..HH', '11213801.IV.CESX..HH', '11213801.IV.CSP1..EH', '11213801.IV.FAGN..HH', '11213801.IV.FIAM..HH', '11213801.IV.FIAM..HN', '11213801.IV.GIGS..HH', '11213801.IV.GIUL..HH', '11213801.IV.INTR..HH', '11213801.IV.INTR..HN', '11213801.IV.LNSS..HH', '11213801.IV.MGAB..HH', '11213801.IV.MTCE..HH', '11213801.IV.OFFI..HH', '11213801.IV.RM33..EH', '11213801.IV.RM33..HN', '11213801.IV.SACS..HH', '11213801.IV.SACS..HN', '11213801.IV.SMA1..EH', '11213801.IV.SRES..HH', '11213801.IV.T0110..HH', '11213801.IV.T1201..HN', '11213801.IV.T1202..EH', '11213801.IV.T1204..EH', '11213801.IV.T1211..EH', '11213801.IV.T1211..HN', '11213801.IV.T1212..EH', '11213801.IV.T1212..HN', '11213801.IV.T1213..EH', '11213801.IV.T1213..HN', '11213801.IV.T1215..EH', '11213801.IV.T1215..HN', '11213801.IV.T1216..EH', '11213801.IV.T1216..HN', '11213801.IV.T1218..EH', '11213801.IV.T1218..HN', '11213801.IV.T1241..EH', '11213801.IV.T1241..HN', '11213801.IV.T1243..HH', '11213801.IV.T1243..HN', '11213801.IV.T1244..EH', '11213801.IV.T1244..HN', '11213801.IV.T1245..HH', '11213801.IV.T1245..HN', '11213801.IV.T1246..HH', '11213801.IV.T1247..HH', '11213801.IV.T1256..HH', '11213801.IV.T1299..EH', '11213801.IV.T1299..HN', '11213801.IV.TOLF..HH', '11213801.IV.VCEL..EH', '11213801.MN.AQU..HH', '11213801.MN.AQU..HL', '11214971.IV.CAMP..HH', '11214971.IV.CERT..HH', '11214971.IV.CESX..HH', '11214971.IV.CSP1..EH', '11214971.IV.FAGN..HH', '11214971.IV.FIAM..HH', '11214971.IV.FIAM..HN', '11214971.IV.GIGS..HH', '11214971.IV.GUMA..HH', '11214971.IV.GUMA..HN', '11214971.IV.INTR..HH', '11214971.IV.INTR..HN', '11214971.IV.LNSS..HH', '11214971.IV.MMO1..HN', '11214971.IV.MNTP..HN', '11214971.IV.MOMA..HH', '11214971.IV.MOMA..HN', '11214971.IV.MTCE..HH', '11214971.IV.NRCA..HH', '11214971.IV.NRCA..HN', '11214971.IV.OFFI..HH', '11214971.IV.PTQR..HH', '11214971.IV.RDP..HH', '11214971.IV.RM33..EH', '11214971.IV.RM33..HN', '11214971.IV.SRES..HH', '11214971.IV.T0110..HH', '11214971.IV.T1211..EH', '11214971.IV.T1211..HN', '11214971.IV.T1218..EH', '11214971.IV.T1218..HN', '11214971.IV.T1241..EH', '11214971.IV.T1243..HH', '11214971.IV.T1243..HN', '11214971.IV.T1245..HN', '11214971.IV.T1246..HH', '11214971.IV.T1247..HH', '11214971.IV.T1299..EH', '11214971.IV.T1299..HN', '11214971.IV.VCEL..EH', '11214971.IV.VVLD..HH', '11214971.MN.AQU..HH', '11214971.MN.AQU..HL', '11215531.IV.CAMP..HH', '11215531.IV.GIGS..HH', '11215531.IV.LNSS..HH', '11215531.IV.MC2..EH', '11215531.IV.MMO1..EH', '11215531.IV.MMO1..HN', '11215531.IV.NRCA..HH', '11215531.IV.NRCA..HN', '11215531.IV.RM33..EH', '11215531.IV.SMA1..EH', '11215531.IV.T1216..EH', '11215531.IV.T1216..HN', '11215531.IV.T1218..EH', '11215531.IV.T1218..HN', '11215531.IV.T1241..EH', '11215531.IV.T1241..HN', '11215531.IV.T1243..HH', '11215531.IV.T1243..HN', '11215531.IV.T1245..HH', '11215531.IV.T1245..HN', '11215531.IV.T1247..HH', '11215531.MN.AQU..HH', '11215531.MN.AQU..HL', '11215941.IV.CAMP..HH', '11215941.IV.CSP1..EH', '11215941.IV.FDMO..HH', '11215941.IV.GUMA..HH', '11215941.IV.GUMA..HN', '11215941.IV.LNSS..HH', '11215941.IV.MC2..EH', '11215941.IV.MMO1..EH', '11215941.IV.MMO1..HN', '11215941.IV.NRCA..HH', '11215941.IV.NRCA..HN', '11215941.IV.RM33..EH', '11215941.IV.RM33..HN', '11215941.IV.SMA1..EH', '11215941.IV.T1216..EH', '11215941.IV.T1216..HN', '11215941.IV.T1218..EH', '11215941.IV.T1218..HN', '11215941.IV.T1241..EH', '11215941.IV.T1241..HN', '11215941.IV.T1243..HH', '11215941.IV.T1243..HN', '11215941.IV.T1245..HH', '11215941.IV.T1245..HN', '11215941.IV.T1247..HH', '11215941.IV.T1256..HH', '11215941.IV.T1256..HN', '1121651.IV.HAGA..HH', '1121651.IV.HAVL..HH', '1121651.IV.HCRL..HH', '1121651.IV.HLNI..HH', '1121651.IV.HMDC..HH', '1121651.IV.HVZN..HH', '11218181.IV.CSP1..EH', '11218181.IV.GUMA..HH', '11218181.IV.GUMA..HN', '11218181.IV.LNSS..HH', '11218181.IV.MC2..EH', '11218181.IV.MMO1..EH', '11218181.IV.MMO1..HN', '11218181.IV.NRCA..HH', '11218181.IV.NRCA..HN', '11218181.IV.SMA1..EH', '11218181.IV.T1216..EH', '11218181.IV.T1216..HN', '11218181.IV.T1241..EH', '11218181.IV.T1243..HH', '11218181.IV.T1243..HN', '1121851.IV.CELI..HH', '1121851.IV.CELI..HN', '1121851.IV.CET2..HH', '1121851.IV.ISTR..HH', '1121851.IV.JOPP..HH', '1121851.IV.JOPP..HN', '1121851.IV.MILZ..HH', '1121851.IV.MSCL..HH', '1121851.IV.PLAC..HH', '1121921.HL.KEK..HH', '1121921.IV.AMUR..HH', '1121921.IV.GRI..EH', '1121921.IV.HAVL..HH', '1121921.IV.HCRL..HH', '1121921.IV.HLNI..HH', '1121921.IV.HMDC..HH', '1121921.IV.JOPP..HH', '1121921.IV.JOPP..HN', '1121921.IV.MPAZ..HH', '1121921.IV.MPNC..HH', '1121921.IV.MRVN..HH', '1121921.IV.MSCL..HH', '1121921.IV.MSRU..HH', '1121921.IV.MTTG..HH', '1121921.IV.NOCI..HH', '1121921.IV.PLAC..HH', '1121921.IV.SCTE..HH', '1121921.IV.SERS..HH', '1121921.IV.SERS..HN', '1121921.MN.CEL..HH', '1121921.MN.CEL..HL', '11219231.IV.CAMP..HH', '11219231.IV.MMO1..EH', '11219231.IV.MMO1..HN', '11219231.IV.RM33..EH', '11219231.IV.RM33..HN', '11219231.IV.SMA1..EH', '11219231.IV.T1243..HH', '11219231.IV.T1243..HN', '11219231.IV.T1247..HH', '11219821.IV.CESI..HH', '11219821.IV.CSP1..EH', '11219821.IV.FDMO..HH', '11219821.IV.GUMA..HH', '11219821.IV.GUMA..HN', '11219821.IV.MC2..EH', '11219821.IV.MMO1..EH', '11219821.IV.MMO1..HN', '11219821.IV.T1216..EH', '11219821.IV.T1216..HN', '11219821.IV.T1243..HH', '11219821.IV.T1245..HH', '11219821.IV.T1245..HN', '11219821.IV.T1256..HH', '11225181.IV.CESI..HH', '11225181.IV.CSP1..EH', '11225181.IV.FDMO..HH', '11225181.IV.LNSS..HH', '11225181.IV.MC2..EH', '11225181.IV.NRCA..HH', '11225181.IV.NRCA..HN', '11225181.IV.T1216..EH', '11225181.IV.T1216..HN', '11225181.IV.T1218..EH', '11225181.IV.T1218..HN', '11225181.IV.T1241..EH', '11225181.IV.T1241..HN', '11225181.IV.T1245..HH', '11225181.IV.T1245..HN', '11225181.IV.T1256..HH', '11225181.IV.T1256..HN', '11226221.IV.LNSS..HH', '11226221.IV.MC2..EH', '11226221.IV.MMO1..EH', '11226221.IV.MMO1..HN', '11226221.IV.NRCA..HH', '11226221.IV.NRCA..HN', '11226221.IV.T1216..EH', '11226221.IV.T1216..HN', '11226221.IV.T1218..EH', '11226221.IV.T1218..HN', '11226221.IV.T1241..EH', '11226221.IV.T1241..HN', '11226221.IV.T1245..HH', '1122781.IV.ALJA..HH', '1122781.IV.BULG..HH', '1122781.IV.BULG..HN', '1122781.IV.CAR1..HH', '1122781.IV.CAR1..HN', '1122781.IV.CDRU..HH', '1122781.IV.CELI..HH', '1122781.IV.CELI..HN', '1122781.IV.CET2..HH', '1122781.IV.CMPR..HH', '1122781.IV.CORL..HH', '1122781.IV.GIB..HH', '1122781.IV.GRI..EH', '1122781.IV.IACL..HH', '1122781.IV.IFIL..HH', '1122781.IV.IVPL..HH', '1122781.IV.JOPP..HH', '1122781.IV.JOPP..HN', '1122781.IV.LADO..EH', '1122781.IV.MCSR..HH', '1122781.IV.MGR..HH', '1122781.IV.MGR..HN', '1122781.IV.MILZ..HH', '1122781.IV.MMN..HH', '1122781.IV.MPNC..HH', '1122781.IV.MSFR..HH', '1122781.IV.MSRU..HH', '1122781.IV.MTSN..HH', '1122781.IV.NOV..HH', '1122781.IV.PLAC..HH', '1122781.IV.SCHR..EH', '1122781.IV.SERS..HH', '1122781.IV.SERS..HN', '1122781.IV.SIRI..HH', '1122781.IV.SIRI..HN', '1122781.IV.SOLUN..HH', '1122781.MN.CEL..HH', '1122781.MN.CEL..HL', '1122781.MN.CUC..HH', '1122781.MN.CUC..HL', '1122781.MN.TIP..HH', '11228081.IV.CESI..HH', '11228081.IV.CSP1..EH', '11228081.IV.MC2..EH', '11228081.IV.MMO1..EH', '11228081.IV.NRCA..HH', '11228081.IV.NRCA..HN', '11228081.IV.T1215..EH', '11228081.IV.T1215..HN', '11228081.IV.T1216..EH', '11228081.IV.T1216..HN', '11228081.IV.T1245..HH', '11228081.IV.T1245..HN', '11228081.IV.T1256..HH', '11228081.IV.T1256..HN', '11228201.IV.AOI..HH', '11228201.IV.APEC..HH', '11228201.IV.APEC..HN', '11228201.IV.ARCI..HH', '11228201.IV.ARVD..HH', '11228201.IV.ASSB..HH', '11228201.IV.ATCC..HN', '11228201.IV.ATFO..HH', '11228201.IV.ATFO..HN', '11228201.IV.ATPI..EH', '11228201.IV.ATVO..HH', '11228201.IV.ATVO..HN', '11228201.IV.BADI..EH', '11228201.IV.CAFI..HH', '11228201.IV.CAFI..HN', '11228201.IV.CAMP..HH', '11228201.IV.CASP..HH', '11228201.IV.CERT..HH', '11228201.IV.CESI..HH', '11228201.IV.CESX..HH', '11228201.IV.CING..HH', '11228201.IV.COR1..EH', '11228201.IV.COR1..HN', '11228201.IV.CSP1..EH', '11228201.IV.FAGN..HH', '11228201.IV.FDMO..HH', '11228201.IV.FEMA..HN', '11228201.IV.FIAM..HH', '11228201.IV.FIAM..HN', '11228201.IV.FOSV..EH', '11228201.IV.FOSV..HN', '11228201.IV.FSSB..HH', '11228201.IV.GAG1..HN', '11228201.IV.GIGS..HH', '11228201.IV.GIUL..HH', '11228201.IV.GUMA..HH', '11228201.IV.GUMA..HN', '11228201.IV.INTR..HH', '11228201.IV.INTR..HN', '11228201.IV.LNSS..HH', '11228201.IV.MAON..HH', '11228201.IV.MC2..EH', '11228201.IV.MCIV..HH', '11228201.IV.MDAR..HN', '11228201.IV.MMO1..EH', '11228201.IV.MMO1..HN', '11228201.IV.MMUR..HN', '11228201.IV.MOMA..HH', '11228201.IV.MOMA..HN', '11228201.IV.MPAG..EH', '11228201.IV.MPAG..HN', '11228201.IV.MTCE..HH', '11228201.IV.MTCR..EH', '11228201.IV.MTL1..HN', '11228201.IV.MURB..HH', '11228201.IV.NRCA..HH', '11228201.IV.NRCA..HN', '11228201.IV.OFFI..HH', '11228201.IV.PARC..HH', '11228201.IV.PIEI..HH', '11228201.IV.PIEI..HN', '11228201.IV.PP3..EH', '11228201.IV.PP3..HN', '11228201.IV.PTQR..HH', '11228201.IV.RM33..EH', '11228201.IV.RM33..HN', '11228201.IV.RUFI..EH', '11228201.IV.SACS..HH', '11228201.IV.SACS..HN', '11228201.IV.SEF1..HN', '11228201.IV.SMA1..EH', '11228201.IV.SNTG..HH', '11228201.IV.SNTG..HN', '11228201.IV.SRES..HH', '11228201.IV.SSFR..HH', '11228201.IV.SSFR..HN', '11228201.IV.SSM1..HN', '11228201.IV.T1211..EH', '11228201.IV.T1211..HN', '11228201.IV.T1215..EH', '11228201.IV.T1215..HN', '11228201.IV.T1216..EH', '11228201.IV.T1216..HN', '11228201.IV.T1218..EH', '11228201.IV.T1218..HN', '11228201.IV.T1241..EH', '11228201.IV.T1243..HH', '11228201.IV.T1243..HN', '11228201.IV.T1245..HH', '11228201.IV.T1245..HN', '11228201.IV.T1247..HH', '11228201.IV.T1256..HH', '11228201.IV.T1256..HN', '11228201.IV.TOLF..HH', '11228201.IV.TRIF..HH', '11228201.IV.TRTR..HH', '11228201.IV.VCEL..EH', '11228201.MN.AQU..HH', '11228201.MN.AQU..HL', '11228201.OX.CIMO..HH', '11228201.OX.CIMO..HN', '11228201.OX.MPRI..HH', '11228201.OX.MPRI..HN', '11228201.OX.SABO..HH', '11228201.OX.SABO..HN', '11228201.SI.LUSI..HH', '11229821.IV.CSP1..EH', '11229821.IV.FDMO..HH', '11229821.IV.LNSS..HH', '11229821.IV.MC2..EH', '11229821.IV.MMO1..EH', '11229821.IV.MMO1..HN', '11229821.IV.RM33..EH', '11229821.IV.RM33..HN', '11229821.IV.T1216..EH', '11229821.IV.T1216..HN', '11229821.IV.T1241..EH', '11229821.IV.T1241..HN', '11229821.IV.T1243..HH', '11229821.IV.T1243..HN', '11229821.IV.T1245..HH', '11229821.IV.T1245..HN', '11229821.IV.T1256..HH', '11229821.IV.T1256..HN', '11229821.IV.TERO..HN', '11230521.IV.CESI..HH', '11230521.IV.CSP1..EH', '11230521.IV.LNSS..HH', '11230521.IV.MC2..EH', '11230521.IV.MMO1..EH', '11230521.IV.MMO1..HN', '11230521.IV.NRCA..HH', '11230521.IV.NRCA..HN', '11230521.IV.T1215..EH', '11230521.IV.T1215..HN', '11230521.IV.T1216..EH', '11230521.IV.T1216..HN', '11230521.IV.T1218..EH', '11230521.IV.T1218..HN', '11230521.IV.T1245..HH', '11230521.IV.T1245..HN', '11230521.IV.T1256..HH', '11230521.IV.T1256..HN', '11230651.IV.ARRO..EH', '11230651.IV.ARVD..HH', '11230651.IV.CAMP..HH', '11230651.IV.CESI..HH', '11230651.IV.CING..HH', '11230651.IV.CSP1..EH', '11230651.IV.EL6..EH', '11230651.IV.FDMO..HH', '11230651.IV.FEMA..HN', '11230651.IV.GIGS..HH', '11230651.IV.GUMA..HH', '11230651.IV.GUMA..HN', '11230651.IV.LNSS..HH', '11230651.IV.MC2..EH', '11230651.IV.NRCA..HH', '11230651.IV.NRCA..HN', '11230651.IV.PIEI..HH', '11230651.IV.PIEI..HN', '11230651.IV.RM33..HN', '11230651.IV.SMA1..EH', '11230651.IV.SNTG..HH', '11230651.IV.SNTG..HN', '11230651.IV.SSFR..HH', '11230651.IV.SSFR..HN', '11230651.IV.T1211..EH', '11230651.IV.T1211..HN', '11230651.IV.T1215..EH', '11230651.IV.T1215..HN', '11230651.IV.T1216..EH', '11230651.IV.T1216..HN', '11230651.IV.T1218..EH', '11230651.IV.T1218..HN', '11230651.IV.T1221..EH', '11230651.IV.T1221..HN', '11230651.IV.T1241..EH', '11230651.IV.T1241..HN', '11230651.IV.T1243..HH', '11230651.IV.T1243..HN', '11230651.IV.T1244..EH', '11230651.IV.T1244..HN', '11230651.IV.T1245..HH', '11230651.IV.T1245..HN', '11230651.IV.T1256..HH', '11230651.IV.T1256..HN', '11230651.IV.TERO..HN', '1123071.IV.CAMP..HH', '1123071.IV.NRCA..HH', '1123071.IV.NRCA..HN', '1123071.IV.SMA1..EH', '1123071.IV.T0104..HH', '1123071.IV.T0104..HN', '1123071.IV.TERO..HH', '1123071.IV.TERO..HN', '1123141.IV.AGST..EH', '1123141.IV.GIB..HH', '1123141.IV.HAVL..HH', '1123141.IV.HCRL..HH', '1123141.IV.HLNI..HH', '1123141.IV.HVZN..HH', '1123141.IV.IFIL..HH', '1123141.IV.IVPL..HH', '1123141.IV.JOPP..HH', '1123141.IV.JOPP..HN', '1123141.IV.MCSR..HH', '1123141.IV.MILZ..HH', '1123141.IV.MPNC..HH', '1123141.IV.MSCL..HH', '1123141.IV.MSFR..HH', '1123141.IV.MSRU..HH', '1123141.IV.MTTG..HH', '1123141.IV.NOV..HH', '1123141.IV.PLAC..HH', '1123201.IV.IVPL..HH', '1123201.IV.MCSR..HH', '1123201.IV.MILZ..HH', '1123201.IV.MPNC..HH', '1123201.IV.MSRU..HH', '1123201.IV.NOV..HH', '1123391.IV.IFIL..HH', '1123391.IV.IVPL..HH', '1123391.IV.JOPP..HH', '1123391.IV.JOPP..HN', '1123391.IV.MCSR..HH', '1123391.IV.MILZ..HH', '1123391.IV.MPNC..HH', '1123391.IV.MSFR..HH', '1123391.IV.MSRU..HH', '1123391.IV.NOV..HH', '11233961.GU.CIRO..HH', '11233961.GU.LSD..HH', '11233961.GU.REMY..HH', '11233961.GU.TRAV..HH', '11233961.IV.MRGE..HH', '1123501.IV.ALJA..HH', '1123501.IV.GRI..EH', '1123501.IV.HAGA..HH', '1123501.IV.HAVL..HH', '1123501.IV.HVZN..HH', '1123501.IV.IVPL..HH', '1123501.IV.MCSR..HH', '1123501.IV.MILZ..HH', '1123501.IV.MPNC..HH', '1123501.IV.MSCL..HH', '1123501.IV.MSFR..HH', '1123501.IV.MSRU..HH', '1123501.IV.NOV..HH', '1123501.IV.PLAC..HH', '11236231.IV.ARRO..EH', '11236231.IV.ARVD..HH', '11236231.IV.ATCC..EH', '11236231.IV.ATCC..HN', '11236231.IV.ATPI..EH', '11236231.IV.ATVO..HH', '11236231.IV.ATVO..HN', '11236231.IV.BADI..EH', '11236231.IV.CAFI..HH', '11236231.IV.CAFI..HN', '11236231.IV.CAMP..HH', '11236231.IV.CESI..HH', '11236231.IV.CESX..HH', '11236231.IV.CING..HH', '11236231.IV.CSP1..EH', '11236231.IV.EL6..EH', '11236231.IV.FDMO..HH', '11236231.IV.FEMA..HN', '11236231.IV.FIAM..HH', '11236231.IV.FIAM..HN', '11236231.IV.FOSV..EH', '11236231.IV.FOSV..HN', '11236231.IV.FRON..EH', '11236231.IV.FSSB..HH', '11236231.IV.GAG1..HN', '11236231.IV.GIGS..HH', '11236231.IV.GUMA..HH', '11236231.IV.GUMA..HN', '11236231.IV.LNSS..HH', '11236231.IV.MC2..EH', '11236231.IV.MMO1..EH', '11236231.IV.MMO1..HN', '11236231.IV.MPAG..EH', '11236231.IV.MPAG..HN', '11236231.IV.MURB..HH', '11236231.IV.MURB..HN', '11236231.IV.NRCA..HH', '11236231.IV.NRCA..HN', '11236231.IV.OFFI..HH', '11236231.IV.PARC..HH', '11236231.IV.PIEI..HH', '11236231.IV.PIEI..HN', '11236231.IV.SEF1..HN', '11236231.IV.SNTG..HH', '11236231.IV.SNTG..HN', '11236231.IV.SSFR..HH', '11236231.IV.SSFR..HN', '11236231.IV.T0110..HH', '11236231.IV.T1215..EH', '11236231.IV.T1215..HN', '11236231.IV.T1216..EH', '11236231.IV.T1216..HN', '11236231.IV.T1218..EH', '11236231.IV.T1218..HN', '11236231.IV.T1219..EH', '11236231.IV.T1219..HN', '11236231.IV.T1241..EH', '11236231.IV.T1241..HN', '11236231.IV.T1243..HH', '11236231.IV.T1243..HN', '11236231.IV.T1245..HH', '11236231.IV.T1245..HN', '11236231.IV.T1256..HH', '11236231.IV.T1256..HN', '11236481.IV.LNSS..HH', '11236481.IV.MC2..EH', '11236481.IV.MMO1..EH', '11236481.IV.NRCA..HH', '11236481.IV.NRCA..HN', '11236481.IV.T1215..EH', '11236481.IV.T1215..HN', '11236481.IV.T1216..EH', '11236481.IV.T1216..HN', '11236481.IV.T1218..EH', '11236481.IV.T1218..HN', '11236481.IV.T1219..EH', '11236481.IV.T1219..HN', '11236481.IV.T1241..EH', '11236481.IV.T1243..HH', '11236481.IV.T1243..HN', '11236481.IV.T1245..HH', '11236481.IV.T1245..HN', '11236711.IV.ARRO..EH', '11236711.IV.CESI..HH', '11236711.IV.CSP1..EH', '11236711.IV.FDMO..HH', '11236711.IV.FEMA..HN', '11236711.IV.LNSS..HH', '11236711.IV.MMO1..EH', '11236711.IV.MOMA..HH', '11236711.IV.MOMA..HN', '11236711.IV.NRCA..HH', '11236711.IV.NRCA..HN', '11236711.IV.SMA1..EH', '11236711.IV.T1215..EH', '11236711.IV.T1215..HN', '11236711.IV.T1216..EH', '11236711.IV.T1216..HN', '11236711.IV.T1218..EH', '11236711.IV.T1218..HN', '11236711.IV.T1219..EH', '11236711.IV.T1219..HN', '11236711.IV.T1241..EH', '11236711.IV.T1241..HN', '11236711.IV.T1243..HH', '11236711.IV.T1243..HN', '11236711.IV.T1245..HH', '11236711.IV.T1256..HH', '11236711.IV.T1256..HN', '11236711.IV.TERO..HH', '11236711.IV.TERO..HN', '1123701.IV.IVPL..HH', '1123701.IV.MCSR..HH', '1123701.IV.MILZ..HH', '1123701.IV.MPNC..HH', '1123701.IV.MSFR..HH', '1123701.IV.MSRU..HH', '1123701.IV.NOV..HH', '11237341.GU.EQUI..HH', '11237341.IV.AOI..HH', '11237341.IV.APEC..HH', '11237341.IV.ARRO..EH', '11237341.IV.ARVD..HH', '11237341.IV.ATCC..EH', '11237341.IV.ATCC..HN', '11237341.IV.ATFO..HH', '11237341.IV.ATFO..HN', '11237341.IV.ATVO..HH', '11237341.IV.ATVO..HN', '11237341.IV.BADI..EH', '11237341.IV.CADA..HN', '11237341.IV.CAFI..HH', '11237341.IV.CAFI..HN', '11237341.IV.CAFR..HH', '11237341.IV.CAMP..HH', '11237341.IV.CERA..HH', '11237341.IV.CERA..HN', '11237341.IV.CERT..HH', '11237341.IV.CESI..HH', '11237341.IV.CESX..HH', '11237341.IV.CIMA..HN', '11237341.IV.CING..HH', '11237341.IV.COR1..EH', '11237341.IV.CPGN..EH', '11237341.IV.CPGN..HN', '11237341.IV.CRE..HH', '11237341.IV.CRMI..HH', '11237341.IV.CRMI..HN', '11237341.IV.CSP1..EH', '11237341.IV.EL6..EH', '11237341.IV.FAGN..HH', '11237341.IV.FDMO..HH', '11237341.IV.FIAM..HH', '11237341.IV.FIAM..HN', '11237341.IV.FOSV..EH', '11237341.IV.FOSV..HN', '11237341.IV.FSSB..HH', '11237341.IV.GAG1..HN', '11237341.IV.GIGS..HH', '11237341.IV.GUMA..HH', '11237341.IV.GUMA..HN', '11237341.IV.LMD..HH', '11237341.IV.LNSS..HH', '11237341.IV.LRP..HH', '11237341.IV.MC2..EH', '11237341.IV.MDAR..HN', '11237341.IV.MMO1..EH', '11237341.IV.MMO1..HN', '11237341.IV.MOMA..HH', '11237341.IV.MOMA..HN', '11237341.IV.MPAG..EH', '11237341.IV.MPAG..HN', '11237341.IV.MSAG..HH', '11237341.IV.MSAG..HN', '11237341.IV.MTCR..EH', '11237341.IV.MURB..HH', '11237341.IV.MURB..HN', '11237341.IV.NRCA..HH', '11237341.IV.NRCA..HN', '11237341.IV.OFFI..HH', '11237341.IV.PARC..HH', '11237341.IV.PCRO..HN', '11237341.IV.PESA..HH', '11237341.IV.PP3..EH', '11237341.IV.PP3..HN', '11237341.IV.RM33..EH', '11237341.IV.RM33..HN', '11237341.IV.RUFI..EH', '11237341.IV.SACS..HH', '11237341.IV.SACS..HN', '11237341.IV.SENI..HN', '11237341.IV.SMA1..EH', '11237341.IV.SNTG..HH', '11237341.IV.SNTG..HN', '11237341.IV.SSFR..HH', '11237341.IV.SSFR..HN', '11237341.IV.SSM1..HN', '11237341.IV.T0110..HH', '11237341.IV.T1215..EH', '11237341.IV.T1215..HN', '11237341.IV.T1216..EH', '11237341.IV.T1216..HN', '11237341.IV.T1218..EH', '11237341.IV.T1218..HN', '11237341.IV.T1219..EH', '11237341.IV.T1219..HN', '11237341.IV.T1241..EH', '11237341.IV.T1243..HH', '11237341.IV.T1245..HH', '11237341.IV.T1245..HN', '11237341.IV.T1247..HH', '11237341.IV.T1256..HH', '11237341.IV.T1256..HN', '11237341.IV.TERO..HH', '11237341.IV.TERO..HN', '11237341.IV.TRTR..HH', '11237341.IV.VAGA..HH', '11237341.IV.VAGA..HN', '11237341.IV.VCEL..EH', '11237341.IV.VVLD..HH', '11237341.MN.AQU..HH', '11237341.MN.AQU..HL', '11237341.OX.CGRP..HH', '11237341.OX.CGRP..HN', '11237341.SI.LUSI..HH', '1123771.IV.CAMP..HH', '1123771.IV.FDMO..HH', '1123771.IV.FIAM..HH', '1123771.IV.FIAM..HN', '1123771.IV.NRCA..HH', '1123771.IV.NRCA..HN', '1123771.IV.SMA1..EH', '1123771.IV.T0104..HH', '1123771.IV.T0104..HN', '1123771.IV.TERO..HH', '1123771.IV.TERO..HN', '11238901.IV.CESI..HH', '11238901.IV.CSP1..EH', '11238901.IV.FDMO..HH', '11238901.IV.FEMA..HN', '11238901.IV.MC2..EH', '11238901.IV.SNTG..HH', '11238901.IV.SNTG..HN', '11238901.IV.T1215..EH', '11238901.IV.T1215..HN', '11238901.IV.T1216..EH', '11238901.IV.T1216..HN', '11238901.IV.T1219..EH', '11238901.IV.T1219..HN', '11238901.IV.T1245..HH', '11238901.IV.T1245..HN', '11238901.IV.T1256..HH', '11238901.IV.T1256..HN', '11241021.IV.ARVD..HH', '11241021.IV.ATCC..EH', '11241021.IV.ATCC..HN', '11241021.IV.ATFO..HH', '11241021.IV.ATFO..HN', '11241021.IV.ATPI..EH', '11241021.IV.ATVO..HH', '11241021.IV.ATVO..HN', '11241021.IV.CAFI..HH', '11241021.IV.CAFI..HN', '11241021.IV.CAMP..HH', '11241021.IV.CESI..HH', '11241021.IV.CESX..HH', '11241021.IV.CING..HH', '11241021.IV.CSP1..EH', '11241021.IV.EL6..EH', '11241021.IV.FDMO..HH', '11241021.IV.FEMA..HN', '11241021.IV.FIAM..HH', '11241021.IV.FIAM..HN', '11241021.IV.FOSV..EH', '11241021.IV.FOSV..HN', '11241021.IV.GIGS..HH', '11241021.IV.GUMA..HH', '11241021.IV.GUMA..HN', '11241021.IV.LNSS..HH', '11241021.IV.MC2..EH', '11241021.IV.MPAG..EH', '11241021.IV.MPAG..HN', '11241021.IV.MURB..HH', '11241021.IV.MURB..HN', '11241021.IV.NRCA..HH', '11241021.IV.NRCA..HN', '11241021.IV.OFFI..HH', '11241021.IV.PIEI..HH', '11241021.IV.PIEI..HN', '11241021.IV.RM33..EH', '11241021.IV.RM33..HN', '11241021.IV.SACS..HH', '11241021.IV.SACS..HN', '11241021.IV.SEF1..HN', '11241021.IV.SNTG..HH', '11241021.IV.SNTG..HN', '11241021.IV.SSFR..HH', '11241021.IV.SSFR..HN', '11241021.IV.T0110..HH', '11241021.IV.T1215..EH', '11241021.IV.T1215..HN', '11241021.IV.T1216..EH', '11241021.IV.T1216..HN', '11241021.IV.T1218..EH', '11241021.IV.T1218..HN', '11241021.IV.T1219..EH', '11241021.IV.T1219..HN', '11241021.IV.T1241..EH', '11241021.IV.T1243..HH', '11241021.IV.T1243..HN', '11241021.IV.T1245..HH', '11241021.IV.T1245..HN', '11241021.IV.T1256..HH', '11241021.IV.T1256..HN', '11241021.IV.TERO..HH', '11241021.IV.TERO..HN', '11241021.IV.VCEL..EH', '1124171.IV.IACL..HH', '1124171.IV.IFIL..HH', '1124171.IV.IVPL..HH', '1124171.IV.MCSR..HH', '1124171.IV.MSFR..HH', '11244531.IV.ARRO..EH', '11244531.IV.CAMP..HH', '11244531.IV.CSP1..EH', '11244531.IV.GIGS..HH', '11244531.IV.GUMA..HH', '11244531.IV.GUMA..HN', '11244531.IV.LNSS..HH', '11244531.IV.MMO1..EH', '11244531.IV.MMO1..HN', '11244531.IV.NRCA..HH', '11244531.IV.NRCA..HN', '11244531.IV.RM33..EH', '11244531.IV.RM33..HN', '11244531.IV.T1211..EH', '11244531.IV.T1211..HN', '11244531.IV.T1215..EH', '11244531.IV.T1215..HN', '11244531.IV.T1218..EH', '11244531.IV.T1218..HN', '11244531.IV.T1241..EH', '11244531.IV.T1241..HN', '11244531.IV.T1243..HH', '11244531.IV.T1243..HN', '11244531.IV.T1246..HH', '11244531.IV.T1247..HH', '11244531.IV.T1256..HH', '11244531.IV.T1256..HN', '11244531.IV.T1299..EH', '11244531.IV.T1299..HN', '11244531.IV.TERO..HH', '11244531.IV.TERO..HN', '11244531.IV.VCEL..EH', '1124551.IV.AGST..EH', '1124551.IV.GIB..HH', '1124551.IV.HAGA..HH', '1124551.IV.HAVL..HH', '1124551.IV.HCRL..HH', '1124551.IV.HLNI..HH', '1124551.IV.HVZN..HH', '1124551.IV.IACL..HH', '1124551.IV.IFIL..HH', '1124551.IV.IVPL..HH', '1124551.IV.JOPP..HH', '1124551.IV.JOPP..HN', '1124551.IV.MCSR..HH', '1124551.IV.MILZ..HH', '1124551.IV.MPAZ..HH', '1124551.IV.MPNC..HH', '1124551.IV.MSCL..HH', '1124551.IV.MSRU..HH', '1124551.IV.MTTG..HH', '1124551.IV.NOV..HH', '1124551.IV.PLAC..HH', '1124551.IV.SSY..HH', '1124551.MN.CEL..HH', '1124551.MN.CEL..HL', '1124551.MN.TIP..HH', '11246491.IV.ARRO..EH', '11246491.IV.ATCC..EH', '11246491.IV.CESI..HH', '11246491.IV.CSP1..EH', '11246491.IV.EL6..EH', '11246491.IV.FDMO..HH', '11246491.IV.FEMA..HN', '11246491.IV.GUMA..HH', '11246491.IV.GUMA..HN', '11246491.IV.LNSS..HH', '11246491.IV.MC2..EH', '11246491.IV.MMO1..EH', '11246491.IV.MMO1..HN', '11246491.IV.MOMA..HH', '11246491.IV.MOMA..HN', '11246491.IV.NRCA..HH', '11246491.IV.NRCA..HN', '11246491.IV.RM33..EH', '11246491.IV.RM33..HN', '11246491.IV.SMA1..EH', '11246491.IV.SNTG..HH', '11246491.IV.SNTG..HN', '11246491.IV.T1211..EH', '11246491.IV.T1211..HN', '11246491.IV.T1215..EH', '11246491.IV.T1215..HN', '11246491.IV.T1216..EH', '11246491.IV.T1216..HN', '11246491.IV.T1218..EH', '11246491.IV.T1218..HN', '11246491.IV.T1219..EH', '11246491.IV.T1219..HN', '11246491.IV.T1241..EH', '11246491.IV.T1241..HN', '11246491.IV.T1243..HH', '11246491.IV.T1243..HN', '11246491.IV.T1245..HH', '11246491.IV.T1245..HN', '11246491.IV.T1256..HH', '11246491.IV.T1256..HN', '11246491.IV.T1299..EH', '11246491.IV.T1299..HN', '11247711.IV.ATCC..HN', '11247711.IV.CESI..HH', '11247711.IV.CSP1..EH', '11247711.IV.FDMO..HH', '11247711.IV.FEMA..HN', '11247711.IV.FOSV..EH', '11247711.IV.GUMA..HH', '11247711.IV.GUMA..HN', '11247711.IV.MC2..EH', '11247711.IV.MDAR..HN', '11247711.IV.MMO1..HN', '11247711.IV.NRCA..HH', '11247711.IV.NRCA..HN', '11247711.IV.RM33..EH', '11247711.IV.RM33..HN', '11247711.IV.SEF1..HN', '11247711.IV.SNTG..HH', '11247711.IV.SNTG..HN', '11247711.IV.T1211..EH', '11247711.IV.T1211..HN', '11247711.IV.T1215..EH', '11247711.IV.T1215..HN', '11247711.IV.T1216..EH', '11247711.IV.T1216..HN', '11247711.IV.T1218..EH', '11247711.IV.T1218..HN', '11247711.IV.T1219..EH', '11247711.IV.T1219..HN', '11247711.IV.T1241..EH', '11247711.IV.T1245..HH', '11247711.IV.T1245..HN', '11247711.IV.T1256..HH', '11247711.IV.T1256..HN', '11248401.IV.CESI..HH', '11248401.IV.CSP1..EH', '11248401.IV.GUMA..HH', '11248401.IV.GUMA..HN', '11248401.IV.MC2..EH', '11248401.IV.MMO1..EH', '11248401.IV.NRCA..HH', '11248401.IV.NRCA..HN', '11248401.IV.SMA1..EH', '11248401.IV.SNTG..HH', '11248401.IV.SNTG..HN', '11248401.IV.T1215..EH', '11248401.IV.T1215..HN', '11248401.IV.T1216..EH', '11248401.IV.T1216..HN', '11248401.IV.T1218..EH', '11248401.IV.T1218..HN', '11248401.IV.T1219..EH', '11248401.IV.T1219..HN', '11248401.IV.T1241..EH', '11248401.IV.T1241..HN', '11248401.IV.T1243..HH', '11248401.IV.T1243..HN', '11248401.IV.T1245..HH', '11248401.IV.T1245..HN', '11248401.IV.T1256..HH', '11248401.IV.T1256..HN', '11248811.IV.CAMP..HH', '11248811.IV.CESI..HH', '11248811.IV.CSP1..EH', '11248811.IV.FDMO..HH', '11248811.IV.GIGS..HH', '11248811.IV.GUMA..HH', '11248811.IV.GUMA..HN', '11248811.IV.LNSS..HH', '11248811.IV.MMO1..EH', '11248811.IV.MMO1..HN', '11248811.IV.NRCA..HH', '11248811.IV.NRCA..HN', '11248811.IV.RM33..EH', '11248811.IV.RM33..HN', '11248811.IV.SMA1..EH', '11248811.IV.T1211..EH', '11248811.IV.T1211..HN', '11248811.IV.T1215..EH', '11248811.IV.T1215..HN', '11248811.IV.T1216..EH', '11248811.IV.T1216..HN', '11248811.IV.T1218..EH', '11248811.IV.T1218..HN', '11248811.IV.T1219..EH', '11248811.IV.T1219..HN', '11248811.IV.T1241..EH', '11248811.IV.T1243..HH', '11248811.IV.T1243..HN', '11248811.IV.T1245..HN', '11248811.IV.T1246..HH', '11248811.IV.T1247..HH', '11248811.IV.T1256..HH', '11248811.IV.T1256..HN', '11248811.IV.T1299..EH', '11248811.IV.T1299..HN', '11248811.IV.TERO..HH', '11248811.IV.TERO..HN', '1125091.IV.IVPL..HH', '1125091.IV.MCSR..HH', '1125091.IV.MILZ..HH', '1125091.IV.MPNC..HH', '1125091.IV.MSFR..HH', '1125091.IV.MSRU..HH', '1125091.IV.NOV..HH', '11251761.IV.CAMP..HH', '11251761.IV.CSP1..EH', '11251761.IV.FAGN..HH', '11251761.IV.FDMO..HH', '11251761.IV.FEMA..HN', '11251761.IV.GIGS..HH', '11251761.IV.MMO1..EH', '11251761.IV.MMO1..HN', '11251761.IV.NRCA..HH', '11251761.IV.NRCA..HN', '11251761.IV.OFFI..HH', '11251761.IV.RM33..EH', '11251761.IV.RM33..HN', '11251761.IV.T0110..HH', '11251761.IV.T1218..EH', '11251761.IV.T1218..HN', '11251761.IV.T1241..EH', '11251761.IV.T1243..HH', '11251761.IV.T1243..HN', '11251761.IV.T1245..HH', '11251761.IV.T1245..HN', '11251761.IV.T1246..HH', '11251761.IV.T1247..HH', '11251761.IV.T1256..HH', '11251761.IV.T1299..EH', '11251761.IV.T1299..HN', '11251761.IV.TERO..HH', '11251761.IV.TERO..HN', '11251761.IV.TRTR..HH', '11251761.IV.VCEL..EH', '11251911.GU.EQUI..HH', '11251911.GU.MAIM..HH', '11251911.IV.AOI..HH', '11251911.IV.APEC..HH', '11251911.IV.APEC..HN', '11251911.IV.APRC..EH', '11251911.IV.APRC..HN', '11251911.IV.ARCI..HH', '11251911.IV.ARRO..EH', '11251911.IV.ARVD..HH', '11251911.IV.ASQU..HH', '11251911.IV.ATCC..EH', '11251911.IV.ATCC..HN', '11251911.IV.ATFO..HH', '11251911.IV.ATFO..HN', '11251911.IV.ATMI..HH', '11251911.IV.ATPI..EH', '11251911.IV.ATVO..HH', '11251911.IV.ATVO..HN', '11251911.IV.BADI..EH', '11251911.IV.BSSO..HH', '11251911.IV.BSSO..HN', '11251911.IV.CAFI..HH', '11251911.IV.CAFI..HN', '11251911.IV.CAFR..HH', '11251911.IV.CAMP..HH', '11251911.IV.CAPA..HH', '11251911.IV.CASP..HH', '11251911.IV.CELB..HH', '11251911.IV.CERA..HH', '11251911.IV.CERA..HN', '11251911.IV.CERT..HH', '11251911.IV.CESI..HH', '11251911.IV.CESX..HH', '11251911.IV.CIGN..HH', '11251911.IV.CING..HH', '11251911.IV.COR1..HN', '11251911.IV.CRE..HH', '11251911.IV.CRMI..HH', '11251911.IV.CRMI..HN', '11251911.IV.CSNT..HH', '11251911.IV.CSP1..EH', '11251911.IV.EL6..EH', '11251911.IV.FAGN..HH', '11251911.IV.FDMO..HH', '11251911.IV.FEMA..HN', '11251911.IV.FIAM..HH', '11251911.IV.FIAM..HN', '11251911.IV.FOSV..EH', '11251911.IV.FRES..HH', '11251911.IV.FRON..EH', '11251911.IV.FROS..HH', '11251911.IV.FSSB..HH', '11251911.IV.GIGS..HH', '11251911.IV.GIUL..HH', '11251911.IV.GUAR..HH', '11251911.IV.GUMA..HH', '11251911.IV.GUMA..HN', '11251911.IV.INTR..HH', '11251911.IV.INTR..HN', '11251911.IV.LNSS..HH', '11251911.IV.MC2..EH', '11251911.IV.MCIV..HH', '11251911.IV.MELA..HH', '11251911.IV.MELA..HN', '11251911.IV.MGAB..HH', '11251911.IV.MGAB..HN', '11251911.IV.MODR..HH', '11251911.IV.MOMA..HH', '11251911.IV.MOMA..HN', '11251911.IV.MPPT..EH', '11251911.IV.MTCE..HH', '11251911.IV.MTCR..EH', '11251911.IV.MTL1..HN', '11251911.IV.MURB..HH', '11251911.IV.MURB..HN', '11251911.IV.NRCA..HH', '11251911.IV.NRCA..HN', '11251911.IV.OFFI..HH', '11251911.IV.PARC..HH', '11251911.IV.PE3..EH', '11251911.IV.PESA..HH', '11251911.IV.PIEI..HH', '11251911.IV.PIEI..HN', '11251911.IV.PII..HH', '11251911.IV.PP3..EH', '11251911.IV.PP3..HN', '11251911.IV.PTQR..HH', '11251911.IV.RM33..EH', '11251911.IV.RM33..HN', '11251911.IV.RNI2..HH', '11251911.IV.RNI2..HN', '11251911.IV.RUFI..EH', '11251911.IV.SACS..HH', '11251911.IV.SACS..HN', '11251911.IV.SEF1..HN', '11251911.IV.SENI..EH', '11251911.IV.SENI..HN', '11251911.IV.SGRT..HH', '11251911.IV.SGTA..HH', '11251911.IV.SGTA..HN', '11251911.IV.SMA1..EH', '11251911.IV.SNTG..HH', '11251911.IV.SNTG..HN', '11251911.IV.SRES..HH', '11251911.IV.SSFR..HH', '11251911.IV.SSFR..HN', '11251911.IV.T0110..HH', '11251911.IV.T1215..EH', '11251911.IV.T1215..HN', '11251911.IV.T1216..EH', '11251911.IV.T1216..HN', '11251911.IV.T1218..EH', '11251911.IV.T1218..HN', '11251911.IV.T1219..EH', '11251911.IV.T1219..HN', '11251911.IV.T1241..HN', '11251911.IV.T1243..HH', '11251911.IV.T1243..HN', '11251911.IV.T1245..HH', '11251911.IV.T1245..HN', '11251911.IV.T1247..HH', '11251911.IV.T1256..HH', '11251911.IV.T1256..HN', '11251911.IV.TERO..HH', '11251911.IV.TOLF..HH', '11251911.IV.TREM..HH', '11251911.IV.TRIF..HH', '11251911.IV.TRTR..HH', '11251911.IV.VAGA..HH', '11251911.IV.VAGA..HN', '11251911.IV.VCEL..EH', '11251911.IV.VITU..HH', '11251911.IV.VITU..HN', '11251911.IV.VVLD..HH', '11252171.IV.CAMP..HH', '11252171.IV.CESI..HH', '11252171.IV.CSP1..EH', '11252171.IV.FDMO..HH', '11252171.IV.GIGS..HH', '11252171.IV.GUMA..HH', '11252171.IV.GUMA..HN', '11252171.IV.LNSS..HH', '11252171.IV.MC2..EH', '11252171.IV.MMO1..EH', '11252171.IV.MMO1..HN', '11252171.IV.NRCA..HH', '11252171.IV.NRCA..HN', '11252171.IV.OFFI..HH', '11252171.IV.RM33..EH', '11252171.IV.RM33..HN', '11252171.IV.T1215..EH', '11252171.IV.T1215..HN', '11252171.IV.T1216..EH', '11252171.IV.T1216..HN', '11252171.IV.T1218..EH', '11252171.IV.T1218..HN', '11252171.IV.T1219..EH', '11252171.IV.T1219..HN', '11252171.IV.T1241..EH', '11252171.IV.T1243..HH', '11252171.IV.T1243..HN', '11252171.IV.T1245..HH', '11252171.IV.T1245..HN', '11252171.IV.T1246..HH', '11252171.IV.T1247..HH', '11252171.IV.T1299..EH', '11252171.IV.T1299..HN', '11252171.IV.TERO..HH', '11252171.IV.TERO..HN', '11253101.IV.CAMP..HH', '11253101.IV.CESI..HH', '11253101.IV.CSP1..EH', '11253101.IV.EL6..EH', '11253101.IV.FDMO..HH', '11253101.IV.FEMA..HN', '11253101.IV.GUMA..HH', '11253101.IV.GUMA..HN', '11253101.IV.LNSS..HH', '11253101.IV.MC2..EH', '11253101.IV.MMO1..HN', '11253101.IV.NRCA..HH', '11253101.IV.NRCA..HN', '11253101.IV.OFFI..HH', '11253101.IV.RM33..EH', '11253101.IV.RM33..HN', '11253101.IV.SNTG..HH', '11253101.IV.SNTG..HN', '11253101.IV.T1215..EH', '11253101.IV.T1215..HN', '11253101.IV.T1216..EH', '11253101.IV.T1216..HN', '11253101.IV.T1218..EH', '11253101.IV.T1218..HN', '11253101.IV.T1219..EH', '11253101.IV.T1219..HN', '11253101.IV.T1241..EH', '11253101.IV.T1241..HN', '11253101.IV.T1243..HH', '11253101.IV.T1243..HN', '11253101.IV.T1245..HH', '11253101.IV.T1245..HN', '11253101.IV.T1256..HH', '11253101.IV.T1256..HN', '11253101.IV.T1299..EH', '11253101.IV.T1299..HN', '11253101.IV.TERO..HH', '11253101.IV.TERO..HN', '11253901.IV.CAMP..HH', '11253901.IV.MC2..EH', '11253901.IV.MMO1..EH', '11253901.IV.MMO1..HN', '11253901.IV.NRCA..HH', '11253901.IV.NRCA..HN', '11253901.IV.RM33..EH', '11253901.IV.RM33..HN', '11253901.IV.SMA1..EH', '11253901.IV.T1218..EH', '11253901.IV.T1218..HN', '11253901.IV.T1241..EH', '11253901.IV.T1241..HN', '11253901.IV.T1243..HH', '11253901.IV.T1243..HN', '11253901.IV.T1245..HH', '11253901.IV.T1245..HN', '11253901.IV.T1256..HH', '11253901.IV.T1256..HN', '11253901.IV.TERO..HH', '11253901.IV.TERO..HN', '1125471.IV.IVPL..HH', '1125471.IV.MCSR..HH', '1125471.IV.MILZ..HH', '1125471.IV.MPNC..HH', '1125471.IV.MSFR..HH', '1125471.IV.MSRU..HH', '1125471.IV.NOV..HH', '11255121.IV.ARRO..EH', '11255121.IV.ASSB..HH', '11255121.IV.CAMP..HH', '11255121.IV.CESI..HH', '11255121.IV.CESX..HH', '11255121.IV.CSP1..EH', '11255121.IV.EL6..EH', '11255121.IV.FAGN..HH', '11255121.IV.FDMO..HH', '11255121.IV.FEMA..HN', '11255121.IV.FIAM..HH', '11255121.IV.FIAM..HN', '11255121.IV.FOSV..EH', '11255121.IV.GAG1..HN', '11255121.IV.GIGS..HH', '11255121.IV.GUMA..HH', '11255121.IV.GUMA..HN', '11255121.IV.LNSS..HH', '11255121.IV.MC2..EH', '11255121.IV.MDAR..HN', '11255121.IV.MMO1..EH', '11255121.IV.MMO1..HN', '11255121.IV.MNTP..HN', '11255121.IV.MURB..HH', '11255121.IV.MURB..HN', '11255121.IV.NRCA..HH', '11255121.IV.NRCA..HN', '11255121.IV.OFFI..HH', '11255121.IV.RM33..EH', '11255121.IV.RM33..HN', '11255121.IV.SEF1..HN', '11255121.IV.SMA1..EH', '11255121.IV.SNTG..HH', '11255121.IV.SNTG..HN', '11255121.IV.SRES..HH', '11255121.IV.T0110..HH', '11255121.IV.T1215..EH', '11255121.IV.T1215..HN', '11255121.IV.T1216..EH', '11255121.IV.T1216..HN', '11255121.IV.T1218..EH', '11255121.IV.T1218..HN', '11255121.IV.T1219..EH', '11255121.IV.T1219..HN', '11255121.IV.T1241..EH', '11255121.IV.T1243..HH', '11255121.IV.T1243..HN', '11255121.IV.T1245..HH', '11255121.IV.T1245..HN', '11255121.IV.T1256..HH', '11255121.IV.T1256..HN', '11255121.IV.TERO..HN', '1125621.IV.MAGA..HH', '1125621.IV.RAVA..EH', '1125621.IV.T0800..HH', '1125621.IV.T0800..HN', '1125621.IV.T0802..HN', '1125621.IV.T0805..HN', '1125621.IV.T0822..EH', '1125621.IV.TEOL..HH', '11256591.IV.ARRO..EH', '11256591.IV.ARVD..HH', '11256591.IV.ATCC..EH', '11256591.IV.ATFO..HH', '11256591.IV.ATFO..HN', '11256591.IV.ATVO..HH', '11256591.IV.ATVO..HN', '11256591.IV.CAFI..HH', '11256591.IV.CAFI..HN', '11256591.IV.CAMP..HH', '11256591.IV.CESI..HH', '11256591.IV.CESX..HH', '11256591.IV.CING..HH', '11256591.IV.COR1..EH', '11256591.IV.CSP1..EH', '11256591.IV.FAGN..HH', '11256591.IV.FDMO..HH', '11256591.IV.FEMA..HN', '11256591.IV.FIAM..HH', '11256591.IV.FIAM..HN', '11256591.IV.FOSV..EH', '11256591.IV.FRON..EH', '11256591.IV.GIGS..HH', '11256591.IV.GUMA..HH', '11256591.IV.GUMA..HN', '11256591.IV.INTR..HH', '11256591.IV.INTR..HN', '11256591.IV.LNSS..HH', '11256591.IV.MC2..EH', '11256591.IV.MOMA..HH', '11256591.IV.MOMA..HN', '11256591.IV.MPAG..EH', '11256591.IV.MPAG..HN', '11256591.IV.MURB..HH', '11256591.IV.MURB..HN', '11256591.IV.NRCA..HH', '11256591.IV.NRCA..HN', '11256591.IV.OFFI..HH', '11256591.IV.PIEI..HH', '11256591.IV.PIEI..HN', '11256591.IV.PP3..EH', '11256591.IV.PP3..HN', '11256591.IV.RM33..EH', '11256591.IV.RM33..HN', '11256591.IV.SNTG..HH', '11256591.IV.SNTG..HN', '11256591.IV.SSFR..HH', '11256591.IV.SSFR..HN', '11256591.IV.T0110..HH', '11256591.IV.T1215..EH', '11256591.IV.T1215..HN', '11256591.IV.T1216..EH', '11256591.IV.T1216..HN', '11256591.IV.T1218..EH', '11256591.IV.T1218..HN', '11256591.IV.T1219..EH', '11256591.IV.T1219..HN', '11256591.IV.T1241..EH', '11256591.IV.T1243..HH', '11256591.IV.T1243..HN', '11256591.IV.T1245..HH', '11256591.IV.T1245..HN', '11256591.IV.T1247..HH', '11256591.IV.T1256..HH', '11256591.IV.T1256..HN', '11256591.IV.TERO..HH', '11256591.IV.TERO..HN', '11256591.IV.VCEL..EH', '11256831.IV.AIO..HH', '11256831.IV.EMSG..HH', '11256831.IV.EPZF..HH', '11256831.IV.GALF..HH', '11256831.IV.GIB..HH', '11256831.IV.IACL..HH', '11256831.IV.IFIL..HH', '11256831.IV.IVPL..HH', '11256831.IV.MILZ..HH', '11256831.IV.MSFR..HH', '11256831.IV.NOV..HH', '11256831.IV.PETRA..HH', '11256831.IV.PLLN..EH', '11256831.IV.RAFF..HH', '11256831.IV.SSY..HH', '11257121.IV.AIO..HH', '11257121.IV.CAGR..HH', '11257121.IV.CLTA..HH', '11257121.IV.CMDO..HH', '11257121.IV.ESML..HH', '11257121.IV.FAVR..HH', '11257121.IV.GALF..HH', '11257121.IV.GIB..HH', '11257121.IV.HAGA..HH', '11257121.IV.HMDC..HH', '11257121.IV.HVZN..HH', '11257121.IV.IACL..HH', '11257121.IV.IVPL..HH', '11257121.IV.MSFR..HH', '11257121.IV.MSRU..HH', '11257121.IV.PETRA..HH', '11257121.IV.RAFF..HH', '11257121.IV.RESU..HH', '11257121.IV.SOLUN..HH', '11257121.IV.SSY..HH', '11257671.IV.AOI..HH', '11257671.IV.APEC..HH', '11257671.IV.APEC..HN', '11257671.IV.ARRO..EH', '11257671.IV.ARVD..HH', '11257671.IV.ASQU..HH', '11257671.IV.ATCC..EH', '11257671.IV.ATFO..HH', '11257671.IV.ATFO..HN', '11257671.IV.ATLO..EH', '11257671.IV.ATLO..HN', '11257671.IV.ATMI..HH', '11257671.IV.ATPI..EH', '11257671.IV.ATVA..EH', '11257671.IV.ATVO..HH', '11257671.IV.ATVO..HN', '11257671.IV.BADI..EH', '11257671.IV.CAFI..HH', '11257671.IV.CAFI..HN', '11257671.IV.CAMP..HH', '11257671.IV.CERA..HH', '11257671.IV.CERT..HH', '11257671.IV.CESI..HH', '11257671.IV.CESX..HH', '11257671.IV.CIMA..HN', '11257671.IV.CING..HH', '11257671.IV.COR1..EH', '11257671.IV.COR1..HN', '11257671.IV.CRE..HH', '11257671.IV.CSNT..HH', '11257671.IV.CSP1..EH', '11257671.IV.FAGN..HH', '11257671.IV.FDMO..HH', '11257671.IV.FEMA..HN', '11257671.IV.FIAM..HH', '11257671.IV.FIAM..HN', '11257671.IV.FIU1..HN', '11257671.IV.FOSV..EH', '11257671.IV.FRON..EH', '11257671.IV.FSSB..HH', '11257671.IV.GIGS..HH', '11257671.IV.GUMA..HH', '11257671.IV.GUMA..HN', '11257671.IV.INTR..HH', '11257671.IV.INTR..HN', '11257671.IV.LNSS..HH', '11257671.IV.MC2..EH', '11257671.IV.MDAR..HN', '11257671.IV.MGAB..HH', '11257671.IV.MGAB..HN', '11257671.IV.MNTP..HN', '11257671.IV.MOMA..HH', '11257671.IV.MOMA..HN', '11257671.IV.MPAG..EH', '11257671.IV.MPAG..HN', '11257671.IV.MTCE..HH', '11257671.IV.MTL1..HN', '11257671.IV.MURB..HH', '11257671.IV.NRCA..HH', '11257671.IV.NRCA..HN', '11257671.IV.OFFI..HH', '11257671.IV.PARC..HH', '11257671.IV.PE3..EH', '11257671.IV.PESA..HH', '11257671.IV.PIEI..HH', '11257671.IV.PIEI..HN', '11257671.IV.POFI..HH', '11257671.IV.POFI..HN', '11257671.IV.PP3..EH', '11257671.IV.RCAV..EH', '11257671.IV.RM33..EH', '11257671.IV.RM33..HN', '11257671.IV.RUFI..EH', '11257671.IV.SACS..HH', '11257671.IV.SACS..HN', '11257671.IV.SEF1..HN', '11257671.IV.SNTG..HH', '11257671.IV.SNTG..HN', '11257671.IV.SRES..HH', '11257671.IV.SSFR..HH', '11257671.IV.SSFR..HN', '11257671.IV.SSM1..HN', '11257671.IV.SSP9..EH', '11257671.IV.T0110..HH', '11257671.IV.T1201..HN', '11257671.IV.T1204..EH', '11257671.IV.T1211..EH', '11257671.IV.T1211..HN', '11257671.IV.T1212..EH', '11257671.IV.T1212..HN', '11257671.IV.T1213..EH', '11257671.IV.T1213..HN', '11257671.IV.T1215..EH', '11257671.IV.T1215..HN', '11257671.IV.T1216..EH', '11257671.IV.T1216..HN', '11257671.IV.T1217..EH', '11257671.IV.T1217..HN', '11257671.IV.T1218..EH', '11257671.IV.T1218..HN', '11257671.IV.T1219..EH', '11257671.IV.T1219..HN', '11257671.IV.T1221..EH', '11257671.IV.T1221..HN', '11257671.IV.T1241..EH', '11257671.IV.T1243..HH', '11257671.IV.T1243..HN', '11257671.IV.T1244..EH', '11257671.IV.T1244..HN', '11257671.IV.T1245..HH', '11257671.IV.T1245..HN', '11257671.IV.T1246..HH', '11257671.IV.T1247..HH', '11257671.IV.T1256..HH', '11257671.IV.T1256..HN', '11257671.IV.T1299..EH', '11257671.IV.T1299..HN', '11257671.IV.TERO..HH', '11257671.IV.TOLF..HH', '11257671.IV.TRIV..HH', '11257671.IV.TRIV..HN', '11257671.IV.VCEL..EH', '11257671.OX.SABO..HH', '11257671.OX.SABO..HN', '1126121.IV.MAGA..HH', '1126121.IV.RAVA..EH', '1126121.IV.ROVR..HH', '1126121.IV.T0800..HH', '1126121.IV.T0800..HN', '1126121.IV.T0802..HN', '1126121.IV.T0805..HN', '1126121.IV.T0822..EH', '1126121.IV.TEOL..HH', '11261351.IV.ARVD..HH', '11261351.IV.ASSB..HH', '11261351.IV.CESI..HH', '11261351.IV.CING..HH', '11261351.IV.CSP1..EH', '11261351.IV.EL6..EH', '11261351.IV.FDMO..HH', '11261351.IV.FEMA..HN', '11261351.IV.FOSV..EH', '11261351.IV.FOSV..HN', '11261351.IV.GUMA..HH', '11261351.IV.GUMA..HN', '11261351.IV.MC2..EH', '11261351.IV.MMO1..EH', '11261351.IV.MMO1..HN', '11261351.IV.SEF1..HN', '11261351.IV.SNTG..HH', '11261351.IV.SNTG..HN', '11261351.IV.T1215..EH', '11261351.IV.T1215..HN', '11261351.IV.T1216..EH', '11261351.IV.T1216..HN', '11261351.IV.T1218..EH', '11261351.IV.T1218..HN', '11261351.IV.T1219..EH', '11261351.IV.T1219..HN', '11261351.IV.T1256..HH', '11261351.IV.T1256..HN', '11261671.IV.CESI..HH', '11261671.IV.CSP1..EH', '11261671.IV.FDMO..HH', '11261671.IV.MC2..EH', '11261671.IV.SNTG..HH', '11261671.IV.SNTG..HN', '11261671.IV.T1215..EH', '11261671.IV.T1215..HN', '11261671.IV.T1245..HH', '11261671.IV.T1256..HH', '11261671.IV.T1256..HN', '1126271.IV.CAMP..HH', '1126271.IV.FDMO..HH', '1126271.IV.LNSS..HH', '1126271.IV.NRCA..HH', '1126271.IV.NRCA..HN', '1126271.IV.SMA1..EH', '1126271.IV.TERO..HH', '1126271.IV.TERO..HN', '11262801.IV.ARRO..EH', '11262801.IV.CAMP..HH', '11262801.IV.CESI..HH', '11262801.IV.CING..HH', '11262801.IV.FDMO..HH', '11262801.IV.FIAM..HH', '11262801.IV.FIAM..HN', '11262801.IV.GIGS..HH', '11262801.IV.GUMA..HH', '11262801.IV.GUMA..HN', '11262801.IV.LNSS..HH', '11262801.IV.MC2..EH', '11262801.IV.MMO1..HN', '11262801.IV.NRCA..HH', '11262801.IV.OFFI..HH', '11262801.IV.RM33..EH', '11262801.IV.RM33..HN', '11262801.IV.SNTG..HH', '11262801.IV.SNTG..HN', '11262801.IV.T1211..EH', '11262801.IV.T1211..HN', '11262801.IV.T1215..EH', '11262801.IV.T1215..HN', '11262801.IV.T1216..EH', '11262801.IV.T1216..HN', '11262801.IV.T1218..EH', '11262801.IV.T1218..HN', '11262801.IV.T1219..EH', '11262801.IV.T1219..HN', '11262801.IV.T1241..EH', '11262801.IV.T1241..HN', '11262801.IV.T1243..HH', '11262801.IV.T1243..HN', '11262801.IV.T1245..HH', '11262801.IV.T1256..HH', '11262801.IV.T1256..HN', '11262801.IV.TERO..HH', '11262801.IV.TERO..HN', '1126351.IV.ACER..HH', '1126351.IV.ACER..HN', '1126351.IV.AMUR..HH', '1126351.IV.BULG..HH', '1126351.IV.BULG..HN', '1126351.IV.CAFE..HH', '1126351.IV.CAFE..HN', '1126351.IV.CDRU..HH', '1126351.IV.MCEL..HH', '1126351.IV.MCEL..HN', '1126351.IV.MCRV..HH', '1126351.IV.MGR..HH', '1126351.IV.MGR..HN', '1126351.IV.MRB1..HH', '1126351.IV.MRB1..HN', '1126351.IV.MRLC..HH', '1126351.IV.MRLC..HN', '1126351.IV.MRVN..HH', '1126351.IV.MSAG..HH', '1126351.IV.MSAG..HN', '1126351.IV.MTSN..HH', '1126351.IV.PTRJ..HH', '1126351.IV.SGRT..HH', '1126351.IV.SGTA..HH', '1126351.IV.SGTA..HN', '1126351.IV.SIRI..HH', '1126351.IV.SIRI..HN', '1126351.IV.SNAL..HH', '1126351.IV.VULT..HH', '11263931.IV.CESI..HH', '11263931.IV.CSP1..EH', '11263931.IV.LNSS..HH', '11263931.IV.MMO1..EH', '11263931.IV.MMO1..HN', '11263931.IV.NRCA..HH', '11263931.IV.NRCA..HN', '11263931.IV.T1215..EH', '11263931.IV.T1215..HN', '11263931.IV.T1216..EH', '11263931.IV.T1216..HN', '11263931.IV.T1218..EH', '11263931.IV.T1218..HN', '11263931.IV.T1245..HH', '11263931.IV.T1245..HN', '11263931.IV.T1256..HH', '11263931.IV.T1256..HN', '11264061.IV.ASQU..HH', '11264061.IV.BRIS..HH', '11264061.IV.BRIS..HN', '11264061.IV.BRSN..EH', '11264061.IV.BRSN..HN', '11264061.IV.CAFI..HH', '11264061.IV.CAFI..HN', '11264061.IV.CRE..HH', '11264061.IV.CRMI..HH', '11264061.IV.CRMI..HN', '11264061.IV.CSNT..HH', '11264061.IV.FNVD..HH', '11264061.IV.IMOL..EH', '11264061.IV.IMOL..HN', '11264061.IV.LMD..HH', '11264061.IV.MPPT..EH', '11264061.IV.MTRZ..HH', '11264061.IV.MTRZ..HN', '11264061.IV.OSSC..HH', '11264061.IV.OSSC..HN', '11264061.IV.PII..HH', '11264061.IV.RUFI..EH', '11264061.IV.SEI..HH', '11264061.IV.SFI..EH', '11264061.IV.SFI..HN', '11264061.IV.SSP9..EH', '1126491.HL.KEK..HH', '1126491.IV.ACER..HH', '1126491.IV.ACER..HN', '1126491.IV.AMUR..HH', '1126491.IV.BULG..HH', '1126491.IV.BULG..HN', '1126491.IV.CAFE..HH', '1126491.IV.CAFE..HN', '1126491.IV.CAR1..HH', '1126491.IV.CAR1..HN', '1126491.IV.CDRU..HH', '1126491.IV.CIGN..HH', '1126491.IV.FRES..HH', '1126491.IV.GATE..HH', '1126491.IV.GATE..HN', '1126491.IV.MCRV..HH', '1126491.IV.MELA..HH', '1126491.IV.MELA..HN', '1126491.IV.MGR..HH', '1126491.IV.MGR..HN', '1126491.IV.MIDA..HH', '1126491.IV.MIDA..HN', '1126491.IV.MRLC..HH', '1126491.IV.MRLC..HN', '1126491.IV.MSAG..HH', '1126491.IV.MSAG..HN', '1126491.IV.MTSN..HH', '1126491.IV.NOCI..HH', '1126491.IV.PALZ..HH', '1126491.IV.PLAC..HH', '1126491.IV.PSB1..HH', '1126491.IV.PSB1..HN', '1126491.IV.PTRJ..HH', '1126491.IV.RNI2..HH', '1126491.IV.RNI2..HN', '1126491.IV.SACR..HH', '1126491.IV.SACR..HN', '1126491.IV.SALB..HH', '1126491.IV.SALB..HN', '1126491.IV.SCTE..HH', '1126491.IV.SERS..HH', '1126491.IV.SERS..HN', '1126491.IV.SGG..HH', '1126491.IV.SGRT..HH', '1126491.IV.SGTA..HH', '1126491.IV.SGTA..HN', '1126491.IV.SIRI..HH', '1126491.IV.SIRI..HN', '1126491.IV.SLCN..HH', '1126491.IV.SLCN..HN', '1126491.IV.SNAL..HH', '1126491.IV.TRIV..HH', '1126491.MN.BLY..HH', '1126491.MN.BLY..HL', '1126491.MN.CUC..HH', '1126491.MN.CUC..HL', '1126491.MN.TIP..HH', '11265021.IV.ASSB..HH', '11265021.IV.ATCC..EH', '11265021.IV.ATFO..HH', '11265021.IV.ATFO..HN', '11265021.IV.ATPI..EH', '11265021.IV.ATVO..HH', '11265021.IV.ATVO..HN', '11265021.IV.CAMP..HH', '11265021.IV.CESI..HH', '11265021.IV.CESX..HH', '11265021.IV.CING..HH', '11265021.IV.CSP1..EH', '11265021.IV.EL6..EH', '11265021.IV.FAGN..HH', '11265021.IV.FEMA..HN', '11265021.IV.FIAM..HH', '11265021.IV.FIAM..HN', '11265021.IV.FOSV..EH', '11265021.IV.FOSV..HN', '11265021.IV.GAG1..HN', '11265021.IV.GIGS..HH', '11265021.IV.GUMA..HH', '11265021.IV.GUMA..HN', '11265021.IV.LNSS..HH', '11265021.IV.MMO1..EH', '11265021.IV.MMO1..HN', '11265021.IV.MURB..HH', '11265021.IV.MURB..HN', '11265021.IV.NRCA..HH', '11265021.IV.NRCA..HN', '11265021.IV.OFFI..HH', '11265021.IV.RM33..EH', '11265021.IV.RM33..HN', '11265021.IV.SEF1..HN', '11265021.IV.SNTG..HH', '11265021.IV.SNTG..HN', '11265021.IV.SSFR..HH', '11265021.IV.SSFR..HN', '11265021.IV.T0110..HH', '11265021.IV.T1211..EH', '11265021.IV.T1211..HN', '11265021.IV.T1215..EH', '11265021.IV.T1215..HN', '11265021.IV.T1216..EH', '11265021.IV.T1216..HN', '11265021.IV.T1218..EH', '11265021.IV.T1218..HN', '11265021.IV.T1219..EH', '11265021.IV.T1219..HN', '11265021.IV.T1241..EH', '11265021.IV.T1241..HN', '11265021.IV.T1243..HH', '11265021.IV.T1243..HN', '11265021.IV.T1245..HH', '11265021.IV.T1245..HN', '11265021.IV.T1247..HH', '11265021.IV.T1256..HH', '11265021.IV.TERO..HN', '11265021.IV.VCEL..EH', '1126671.IV.FIU..EH', '1126671.IV.MAGA..HH', '1126671.IV.RAVA..EH', '1126671.IV.ROVR..HH', '1126671.IV.T0800..HH', '1126671.IV.T0800..HN', '1126671.IV.T0805..HN', '1126671.IV.T0821..EH', '1126671.IV.T0821..HN', '1126671.IV.TEOL..HH', '11266821.IV.ATCC..EH', '11266821.IV.ATCC..HN', '11266821.IV.ATFO..HH', '11266821.IV.ATFO..HN', '11266821.IV.ATMI..HH', '11266821.IV.ATPI..EH', '11266821.IV.ATVO..HH', '11266821.IV.ATVO..HN', '11266821.IV.CAMP..HH', '11266821.IV.CESI..HH', '11266821.IV.CESX..HH', '11266821.IV.CING..HH', '11266821.IV.CSP1..EH', '11266821.IV.EL6..EH', '11266821.IV.FAGN..HH', '11266821.IV.FDMO..HH', '11266821.IV.FEMA..HN', '11266821.IV.FOSV..HN', '11266821.IV.GAG1..HN', '11266821.IV.GIGS..HH', '11266821.IV.GUMA..HH', '11266821.IV.GUMA..HN', '11266821.IV.LNSS..HH', '11266821.IV.MC2..EH', '11266821.IV.MDAR..HN', '11266821.IV.MOMA..HH', '11266821.IV.MOMA..HN', '11266821.IV.MTL1..HN', '11266821.IV.MURB..HH', '11266821.IV.MURB..HN', '11266821.IV.NRCA..HH', '11266821.IV.NRCA..HN', '11266821.IV.OFFI..HH', '11266821.IV.PP3..EH', '11266821.IV.PP3..HN', '11266821.IV.SEF1..HN', '11266821.IV.SMA1..EH', '11266821.IV.SNTG..HH', '11266821.IV.SNTG..HN', '11266821.IV.SRES..HH', '11266821.IV.SSFR..HH', '11266821.IV.SSFR..HN', '11266821.IV.T0110..HH', '11266821.IV.T1211..EH', '11266821.IV.T1211..HN', '11266821.IV.T1215..EH', '11266821.IV.T1215..HN', '11266821.IV.T1216..EH', '11266821.IV.T1216..HN', '11266821.IV.T1218..EH', '11266821.IV.T1218..HN', '11266821.IV.T1219..EH', '11266821.IV.T1219..HN', '11266821.IV.T1241..EH', '11266821.IV.T1241..HN', '11266821.IV.T1243..HH', '11266821.IV.T1243..HN', '11266821.IV.T1245..HH', '11266821.IV.T1245..HN', '11266821.IV.T1246..HH', '11266821.IV.T1247..HH', '11266821.IV.T1256..HH', '11266821.IV.T1256..HN', '11266821.IV.T1299..EH', '11266821.IV.T1299..HN', '11266821.IV.TERO..HN', '11266821.IV.VCEL..EH', '11266841.BA.PZUN..HH', '11266841.BA.PZUN..HN', '11266841.IV.AMUR..HH', '11266841.IV.APRC..EH', '11266841.IV.APRC..HN', '11266841.IV.CAPA..HH', '11266841.IV.CDRU..HH', '11266841.IV.CMPR..HH', '11266841.IV.LTRZ..EH', '11266841.IV.LTRZ..HN', '11266841.IV.MCEL..HH', '11266841.IV.MCEL..HN', '11266841.IV.MCRV..HH', '11266841.IV.MGR..HH', '11266841.IV.MGR..HN', '11266841.IV.MIGL..HH', '11266841.IV.MRLC..HH', '11266841.IV.MRLC..HN', '11266841.IV.MRVN..HH', '11266841.IV.MTSN..HH', '11266841.IV.NOCI..HH', '11266841.IV.PALZ..HH', '11266841.IV.PTRP..HH', '11266841.IV.SALB..HH', '11266841.IV.SALB..HN', '11266841.IV.SCHR..EH', '11266841.IV.SGRT..HH', '11266841.IV.SGTA..HH', '11266841.IV.SGTA..HN', '11266841.IV.SIRI..HH', '11266841.IV.SIRI..HN', '11266841.IV.SLCN..HH', '11266841.IV.SLCN..HN', '11266841.IV.SNAL..HH', '11266841.IV.SNAL..HN', '11266841.IV.VULT..HH', '11266841.IV.VULT..HN', '11266841.MN.CUC..HH', '11266841.MN.CUC..HN', '11266841.TV.AG11..EH', '1126901.IV.CAR1..HH', '1126901.IV.CAR1..HN', '1126901.IV.CET2..HH', '1126901.IV.ESLN..HH', '1126901.IV.HAGA..HH', '1126901.IV.HAVL..HH', '1126901.IV.HCRL..HH', '1126901.IV.HLNI..HH', '1126901.IV.HMDC..HH', '1126901.IV.HVZN..HH', '1126901.IV.JOPP..HH', '1126901.IV.JOPP..HN', '1126901.IV.MCSR..HH', '1126901.IV.MSFR..HH', '1126901.IV.MSRU..HH', '1126901.IV.SERS..HH', '1126901.IV.SERS..HN', '1126901.IV.SSY..HH', '11269271.IV.ASSB..HH', '11269271.IV.ATCC..EH', '11269271.IV.ATCC..HN', '11269271.IV.CAMP..HH', '11269271.IV.CESI..HH', '11269271.IV.CSP1..EH', '11269271.IV.FDMO..HH', '11269271.IV.FEMA..HN', '11269271.IV.GIGS..HH', '11269271.IV.GUMA..HH', '11269271.IV.GUMA..HN', '11269271.IV.LNSS..HH', '11269271.IV.MMO1..EH', '11269271.IV.MMO1..HN', '11269271.IV.NRCA..HH', '11269271.IV.NRCA..HN', '11269271.IV.OFFI..HH', '11269271.IV.RM33..EH', '11269271.IV.RM33..HN', '11269271.IV.SMA1..EH', '11269271.IV.SNTG..HH', '11269271.IV.SNTG..HN', '11269271.IV.T1215..EH', '11269271.IV.T1215..HN', '11269271.IV.T1216..EH', '11269271.IV.T1216..HN', '11269271.IV.T1218..EH', '11269271.IV.T1218..HN', '11269271.IV.T1219..EH', '11269271.IV.T1219..HN', '11269271.IV.T1241..EH', '11269271.IV.T1241..HN', '11269271.IV.T1243..HH', '11269271.IV.T1243..HN', '11269271.IV.T1245..HH', '11269271.IV.T1245..HN', '11269271.IV.T1256..HH', '11269271.IV.T1256..HN', '11271141.IV.CESI..HH', '11271141.IV.CSP1..EH', '11271141.IV.FDMO..HH', '11271141.IV.MC2..EH', '11271141.IV.MMO1..EH', '11271141.IV.MMO1..HN', '11271141.IV.NRCA..HH', '11271141.IV.NRCA..HN', '11271141.IV.OFFI..HH', '11271141.IV.T1215..EH', '11271141.IV.T1215..HN', '11271141.IV.T1216..EH', '11271141.IV.T1216..HN', '11271141.IV.T1218..EH', '11271141.IV.T1218..HN', '11271141.IV.T1219..EH', '11271141.IV.T1219..HN', '11271141.IV.T1241..EH', '11271141.IV.T1241..HN', '11271141.IV.T1243..HH', '11271141.IV.T1243..HN', '11271141.IV.T1245..HH', '11271141.IV.T1245..HN', '11271141.IV.T1247..HH', '11271141.IV.T1256..HH', '11271141.IV.T1256..HN', '11271611.IV.ARRO..EH', '11271611.IV.CAMP..HH', '11271611.IV.CESI..HH', '11271611.IV.CSP1..EH', '11271611.IV.FDMO..HH', '11271611.IV.MC2..EH', '11271611.IV.MMO1..EH', '11271611.IV.MMO1..HN', '11271611.IV.NRCA..HH', '11271611.IV.NRCA..HN', '11271611.IV.RM33..EH', '11271611.IV.RM33..HN', '11271611.IV.SMA1..EH', '11271611.IV.T1211..EH', '11271611.IV.T1211..HN', '11271611.IV.T1215..EH', '11271611.IV.T1215..HN', '11271611.IV.T1216..EH', '11271611.IV.T1216..HN', '11271611.IV.T1218..EH', '11271611.IV.T1218..HN', '11271611.IV.T1219..EH', '11271611.IV.T1219..HN', '11271611.IV.T1245..HH', '11271611.IV.T1245..HN', '11271611.IV.T1256..HH', '11271611.IV.T1256..HN', '11271731.IV.ARRO..EH', '11271731.IV.CAMP..HH', '11271731.IV.CESI..HH', '11271731.IV.FAGN..HH', '11271731.IV.GIGS..HH', '11271731.IV.LNSS..HH', '11271731.IV.MC2..EH', '11271731.IV.NRCA..HH', '11271731.IV.NRCA..HN', '11271731.IV.RM33..EH', '11271731.IV.RM33..HN', '11271731.IV.SMA1..EH', '11271731.IV.T0110..HH', '11271731.IV.T1211..EH', '11271731.IV.T1211..HN', '11271731.IV.T1215..EH', '11271731.IV.T1215..HN', '11271731.IV.T1216..EH', '11271731.IV.T1216..HN', '11271731.IV.T1218..EH', '11271731.IV.T1218..HN', '11271731.IV.T1241..EH', '11271731.IV.T1243..HH', '11271731.IV.T1243..HN', '11271731.IV.T1245..HH', '11271731.IV.T1245..HN', '11271731.IV.T1247..HH', '11271731.IV.T1256..HH', '11271731.IV.T1256..HN', '11271731.IV.VCEL..EH', '11272151.IV.AOI..HH', '11272151.IV.APEC..HH', '11272151.IV.APEC..HN', '11272151.IV.APRC..EH', '11272151.IV.APRC..HN', '11272151.IV.ARCI..HH', '11272151.IV.ARRO..EH', '11272151.IV.ARVD..HH', '11272151.IV.ASQU..HH', '11272151.IV.ATCC..EH', '11272151.IV.ATFO..HH', '11272151.IV.ATFO..HN', '11272151.IV.ATLO..EH', '11272151.IV.ATLO..HN', '11272151.IV.ATMC..EH', '11272151.IV.ATMI..HH', '11272151.IV.ATPC..HH', '11272151.IV.ATPC..HN', '11272151.IV.ATPI..EH', '11272151.IV.ATVO..HH', '11272151.IV.ATVO..HN', '11272151.IV.BADI..EH', '11272151.IV.BSSO..HH', '11272151.IV.BSSO..HN', '11272151.IV.CADA..HN', '11272151.IV.CAFI..HH', '11272151.IV.CAFI..HN', '11272151.IV.CAMP..HH', '11272151.IV.CERA..HH', '11272151.IV.CERA..HN', '11272151.IV.CERT..HH', '11272151.IV.CESI..HH', '11272151.IV.CESX..HH', '11272151.IV.CIGN..HH', '11272151.IV.CING..HH', '11272151.IV.CRE..HH', '11272151.IV.CSP1..EH', '11272151.IV.EL6..EH', '11272151.IV.FAGN..HH', '11272151.IV.FDMO..HH', '11272151.IV.FEMA..HN', '11272151.IV.FIAM..HH', '11272151.IV.FIAM..HN', '11272151.IV.FIU1..HN', '11272151.IV.FRON..EH', '11272151.IV.FSSB..HH', '11272151.IV.GAG1..HN', '11272151.IV.GIGS..HH', '11272151.IV.GUMA..HH', '11272151.IV.GUMA..HN', '11272151.IV.INTR..HH', '11272151.IV.INTR..HN', '11272151.IV.LATB..EH', '11272151.IV.LNSS..HH', '11272151.IV.LRP..HH', '11272151.IV.MA9..HH', '11272151.IV.MC2..EH', '11272151.IV.MCIV..HH', '11272151.IV.MDAR..HN', '11272151.IV.MGAB..HN', '11272151.IV.MIDA..HH', '11272151.IV.MIDA..HN', '11272151.IV.MMUR..HN', '11272151.IV.MNTP..HN', '11272151.IV.MOMA..HH', '11272151.IV.MOMA..HN', '11272151.IV.MPAG..EH', '11272151.IV.MPAG..HN', '11272151.IV.MTCE..HH', '11272151.IV.MTL1..HN', '11272151.IV.MURB..HH', '11272151.IV.MURB..HN', '11272151.IV.NRCA..HH', '11272151.IV.NRCA..HN', '11272151.IV.OFFI..HH', '11272151.IV.PCRO..HN', '11272151.IV.PE3..EH', '11272151.IV.PESA..HH', '11272151.IV.PIEI..HH', '11272151.IV.PIEI..HN', '11272151.IV.POFI..HH', '11272151.IV.POFI..HN', '11272151.IV.PP3..EH', '11272151.IV.PP3..HN', '11272151.IV.PTQR..HH', '11272151.IV.PTRJ..HH', '11272151.IV.PTRJ..HN', '11272151.IV.RM33..EH', '11272151.IV.RM33..HN', '11272151.IV.RNI2..HN', '11272151.IV.SACR..HH', '11272151.IV.SACR..HN', '11272151.IV.SACS..HH', '11272151.IV.SACS..HN', '11272151.IV.SEF1..HN', '11272151.IV.SENI..EH', '11272151.IV.SFI..EH', '11272151.IV.SFI..HN', '11272151.IV.SGRT..HH', '11272151.IV.SMA1..EH', '11272151.IV.SNTG..HH', '11272151.IV.SNTG..HN', '11272151.IV.SRES..HH', '11272151.IV.SSFR..HH', '11272151.IV.SSFR..HN', '11272151.IV.SSP9..EH', '11272151.IV.STAL..HH', '11272151.IV.STAL..HN', '11272151.IV.T0110..HH', '11272151.IV.T1201..HN', '11272151.IV.T1202..EH', '11272151.IV.T1204..EH', '11272151.IV.T1211..EH', '11272151.IV.T1211..HN', '11272151.IV.T1212..EH', '11272151.IV.T1212..HN', '11272151.IV.T1213..EH', '11272151.IV.T1213..HN', '11272151.IV.T1215..EH', '11272151.IV.T1215..HN', '11272151.IV.T1216..EH', '11272151.IV.T1216..HN', '11272151.IV.T1217..EH', '11272151.IV.T1217..HN', '11272151.IV.T1218..EH', '11272151.IV.T1218..HN', '11272151.IV.T1219..EH', '11272151.IV.T1219..HN', '11272151.IV.T1221..EH', '11272151.IV.T1221..HN', '11272151.IV.T1243..HH', '11272151.IV.T1243..HN', '11272151.IV.T1244..EH', '11272151.IV.T1244..HN', '11272151.IV.T1245..HH', '11272151.IV.T1246..HH', '11272151.IV.T1247..HH', '11272151.IV.T1256..HH', '11272151.IV.T1256..HN', '11272151.IV.T1299..EH', '11272151.IV.T1299..HN', '11272151.IV.TOLF..HH', '11272151.IV.TRTR..HH', '11272151.IV.VAGA..HH', '11272151.IV.VAGA..HN', '11272151.IV.VCEL..EH', '11272151.IV.VVLD..HH', '11272151.OX.CIMO..HH', '11272151.OX.CIMO..HN', '11272151.OX.MPRI..HH', '11272151.OX.MPRI..HN', '11272151.OX.SABO..HH', '11272151.OX.SABO..HN', '11272321.IV.ARRO..EH', '11272321.IV.ARVD..HH', '11272321.IV.ASSB..HH', '11272321.IV.ATCC..EH', '11272321.IV.ATCC..HN', '11272321.IV.ATFO..HH', '11272321.IV.ATFO..HN', '11272321.IV.ATLO..EH', '11272321.IV.ATLO..HN', '11272321.IV.ATSC..EH', '11272321.IV.ATVO..HH', '11272321.IV.ATVO..HN', '11272321.IV.CAMP..HH', '11272321.IV.CESI..HH', '11272321.IV.CESX..HH', '11272321.IV.CING..HH', '11272321.IV.CSP1..EH', '11272321.IV.EL6..EH', '11272321.IV.FDMO..HH', '11272321.IV.FEMA..HN', '11272321.IV.FIAM..HH', '11272321.IV.FIAM..HN', '11272321.IV.FRON..EH', '11272321.IV.FSSB..HH', '11272321.IV.GAG1..HN', '11272321.IV.GIGS..HH', '11272321.IV.GUMA..HH', '11272321.IV.GUMA..HN', '11272321.IV.LNSS..HH', '11272321.IV.MC2..EH', '11272321.IV.MDAR..HN', '11272321.IV.MMO1..EH', '11272321.IV.MMO1..HN', '11272321.IV.MOMA..HH', '11272321.IV.MOMA..HN', '11272321.IV.MPAG..EH', '11272321.IV.MPAG..HN', '11272321.IV.MTL1..HN', '11272321.IV.MURB..HH', '11272321.IV.NRCA..HH', '11272321.IV.NRCA..HN', '11272321.IV.PIEI..HH', '11272321.IV.PIEI..HN', '11272321.IV.RM33..EH', '11272321.IV.RM33..HN', '11272321.IV.SEF1..HN', '11272321.IV.SNTG..HH', '11272321.IV.SNTG..HN', '11272321.IV.SSFR..HH', '11272321.IV.SSFR..HN', '11272321.IV.T0110..HH', '11272321.IV.T1201..HN', '11272321.IV.T1204..EH', '11272321.IV.T1211..EH', '11272321.IV.T1211..HN', '11272321.IV.T1212..EH', '11272321.IV.T1212..HN', '11272321.IV.T1215..EH', '11272321.IV.T1215..HN', '11272321.IV.T1216..EH', '11272321.IV.T1216..HN', '11272321.IV.T1217..EH', '11272321.IV.T1217..HN', '11272321.IV.T1218..EH', '11272321.IV.T1218..HN', '11272321.IV.T1219..EH', '11272321.IV.T1219..HN', '11272321.IV.T1221..EH', '11272321.IV.T1221..HN', '11272321.IV.T1241..EH', '11272321.IV.T1241..HN', '11272321.IV.T1243..HH', '11272321.IV.T1243..HN', '11272321.IV.T1244..EH', '11272321.IV.T1244..HN', '11272321.IV.T1245..HH', '11272321.IV.T1245..HN', '11272321.IV.T1246..HH', '11272321.IV.T1247..HH', '11272321.IV.T1256..HH', '11272321.IV.T1256..HN', '11272321.IV.T1299..EH', '11272321.IV.T1299..HN', '11272321.IV.VCEL..EH', '11272441.GU.CARD..HH', '11272441.GU.ENR..HH', '11272441.GU.EQUI..HH', '11272441.GU.FIVI..HN', '11272441.GU.GORR..HH', '11272441.GU.GRAM..HH', '11272441.GU.GSCL..HH', '11272441.GU.LSD..HH', '11272441.GU.MAIM..HH', '11272441.GU.MGRO..HH', '11272441.GU.PCP..HH', '11272441.GU.PZZ..HH', '11272441.GU.RNCA..HH', '11272441.GU.RSP..HH', '11272441.GU.RSP..HN', '11272441.GU.SARM..EH', '11272441.GU.STV..HH', '11272441.GU.TRAV..HH', '11272441.IV.APPI..EH', '11272441.IV.APRC..EH', '11272441.IV.APRC..HN', '11272441.IV.ASQU..HH', '11272441.IV.ATMI..HH', '11272441.IV.BADI..EH', '11272441.IV.BDI..HH', '11272441.IV.BDI..HN', '11272441.IV.BOB..HH', '11272441.IV.BOB..HN', '11272441.IV.CAFI..HH', '11272441.IV.CAFI..HN', '11272441.IV.CASP..HH', '11272441.IV.CAVE..HH', '11272441.IV.CRE..HH', '11272441.IV.CRMI..HH', '11272441.IV.CRMI..HN', '11272441.IV.CSNT..HH', '11272441.IV.FERS..HN', '11272441.IV.FNVD..HH', '11272441.IV.FVI..HH', '11272441.IV.MAON..HH', '11272441.IV.MDI..HH', '11272441.IV.MDI..HN', '11272441.IV.MODE..HN', '11272441.IV.MRGE..HH', '11272441.IV.MSSA..HH', '11272441.IV.MTCR..EH', '11272441.IV.MTRZ..HH', '11272441.IV.MTRZ..HN', '11272441.IV.MURB..HH', '11272441.IV.MURB..HN', '11272441.IV.OPPE..HH', '11272441.IV.OPPE..HN', '11272441.IV.OSSC..HH', '11272441.IV.OSSC..HN', '11272441.IV.PARC..HH', '11272441.IV.PII..HH', '11272441.IV.PRMA..HH', '11272441.IV.QLNO..HH', '11272441.IV.RM33..EH', '11272441.IV.RM33..HN', '11272441.IV.ROVR..HH', '11272441.IV.ROVR..HN', '11272441.IV.RUFI..EH', '11272441.IV.SACS..HH', '11272441.IV.SACS..HN', '11272441.IV.SALO..HH', '11272441.IV.SALO..HN', '11272441.IV.SANR..HN', '11272441.IV.SEI..HH', '11272441.IV.SERM..EH', '11272441.IV.SERM..HN', '11272441.IV.SFI..EH', '11272441.IV.SGRT..HH', '11272441.IV.SSP9..EH', '11272441.IV.T1211..EH', '11272441.IV.T1211..HN', '11272441.IV.TEOL..HH', '11272441.IV.TREG..HN', '11272441.IV.VARE..HH', '11272441.IV.VOBA..HN', '11272441.IV.ZCCA..HH', '11272441.IV.ZCCA..HN', '11272441.IV.ZEN8..HN', '11272441.IV.ZOVE..HN', '11272441.MN.VLC..HH', '11272441.MN.VLC..HN', '11272441.OX.BALD..HH', '11272441.OX.BALD..HN', '11272441.OX.MARN..HH', '11272441.OX.MARN..HN', '11272441.OX.ZOU2..HH', '11272441.OX.ZOU2..HN', '11272441.SI.KOSI..HH', '11272441.SI.MOSI..HH', '11272441.SI.RISI..HH', '11272551.IV.CAMP..HH', '11272551.IV.CESI..HH', '11272551.IV.FEMA..HN', '11272551.IV.LNSS..HH', '11272551.IV.MC2..EH', '11272551.IV.MMO1..EH', '11272551.IV.MMO1..HN', '11272551.IV.NRCA..HH', '11272551.IV.NRCA..HN', '11272551.IV.RM33..EH', '11272551.IV.RM33..HN', '11272551.IV.T1211..EH', '11272551.IV.T1211..HN', '11272551.IV.T1215..EH', '11272551.IV.T1215..HN', '11272551.IV.T1216..EH', '11272551.IV.T1216..HN', '11272551.IV.T1218..EH', '11272551.IV.T1218..HN', '11272551.IV.T1241..EH', '11272551.IV.T1243..HH', '11272551.IV.T1243..HN', '11272551.IV.T1245..HH', '11272551.IV.T1245..HN', '11272551.IV.T1256..HH', '11272551.IV.T1256..HN', '1127411.IV.ACER..HH', '1127411.IV.ACER..HN', '1127411.IV.AMUR..HH', '1127411.IV.BULG..HH', '1127411.IV.BULG..HN', '1127411.IV.CAFE..HH', '1127411.IV.CAFE..HN', '1127411.IV.CAFR..HH', '1127411.IV.CERA..HH', '1127411.IV.CERA..HN', '1127411.IV.CIGN..HH', '1127411.IV.FRES..HH', '1127411.IV.GATE..HH', '1127411.IV.GATE..HN', '1127411.IV.INTR..HH', '1127411.IV.MCRV..HH', '1127411.IV.MELA..HH', '1127411.IV.MELA..HN', '1127411.IV.MIDA..HH', '1127411.IV.MIDA..HN', '1127411.IV.MOCO..HH', '1127411.IV.MOCO..HN', '1127411.IV.MRB1..HH', '1127411.IV.MRB1..HN', '1127411.IV.MRLC..HH', '1127411.IV.MRLC..HN', '1127411.IV.MRVN..HH', '1127411.IV.MSAG..HH', '1127411.IV.MSAG..HN', '1127411.IV.MTSN..HH', '1127411.IV.PALZ..HH', '1127411.IV.POFI..HH', '1127411.IV.POFI..HN', '1127411.IV.PTRJ..HH', '1127411.IV.RNI2..HH', '1127411.IV.RNI2..HN', '1127411.IV.SACR..HH', '1127411.IV.SACR..HN', '1127411.IV.SGG..HH', '1127411.IV.SGRT..HH', '1127411.IV.SGTA..HH', '1127411.IV.SGTA..HN', '1127411.IV.SIRI..HH', '1127411.IV.SIRI..HN', '1127411.IV.SNAL..HH', '1127411.IV.TRIV..HH', '1127411.IV.VULT..HH', '1127411.MN.CUC..HH', '1127411.MN.CUC..HL', '11274371.IV.CAMP..HH', '11274371.IV.LNSS..HH', '11274371.IV.MC2..EH', '11274371.IV.MMO1..EH', '11274371.IV.MMO1..HN', '11274371.IV.NRCA..HH', '11274371.IV.NRCA..HN', '11274371.IV.RM33..EH', '11274371.IV.RM33..HN', '11274371.IV.T1215..EH', '11274371.IV.T1215..HN', '11274371.IV.T1216..EH', '11274371.IV.T1216..HN', '11274371.IV.T1218..EH', '11274371.IV.T1218..HN', '11274371.IV.T1243..HH', '11274371.IV.T1243..HN', '11274371.IV.T1245..HH', '11274371.IV.T1245..HN', '11275741.IV.CERA..HH', '11275741.IV.CERA..HN', '11275741.IV.GIUL..HH', '11275741.IV.INTR..HH', '11275741.IV.INTR..HN', '11275741.IV.LIK.01.EH', '11275741.IV.LRP..HH', '11275741.IV.MIDA..HH', '11275741.IV.MIDA..HN', '11275741.IV.MODR..HH', '11275741.IV.POFI..HN', '11275741.IV.PTQR..HH', '11275741.IV.RNI2..HH', '11275741.IV.RNI2..HN', '11275741.IV.VAGA..HH', '11275741.IV.VAGA..HN', '11275741.IV.VVLD..HH', '11276881.IV.CAMP..HH', '11276881.IV.CESI..HH', '11276881.IV.CING..HH', '11276881.IV.CSP1..EH', '11276881.IV.FDMO..HH', '11276881.IV.FEMA..HN', '11276881.IV.FIAM..HH', '11276881.IV.FIAM..HN', '11276881.IV.FRON..EH', '11276881.IV.GUMA..HH', '11276881.IV.GUMA..HN', '11276881.IV.INTR..HH', '11276881.IV.INTR..HN', '11276881.IV.LNSS..HH', '11276881.IV.MC2..EH', '11276881.IV.MMO1..EH', '11276881.IV.MMO1..HN', '11276881.IV.NRCA..HH', '11276881.IV.NRCA..HN', '11276881.IV.PIEI..HH', '11276881.IV.PIEI..HN', '11276881.IV.RM33..EH', '11276881.IV.RM33..HN', '11276881.IV.SEF1..HN', '11276881.IV.SMA1..EH', '11276881.IV.SNTG..HH', '11276881.IV.SNTG..HN', '11276881.IV.SSFR..HH', '11276881.IV.SSFR..HN', '11276881.IV.T0110..HH', '11276881.IV.T1201..HN', '11276881.IV.T1204..EH', '11276881.IV.T1211..EH', '11276881.IV.T1211..HN', '11276881.IV.T1212..EH', '11276881.IV.T1212..HN', '11276881.IV.T1213..EH', '11276881.IV.T1213..HN', '11276881.IV.T1215..EH', '11276881.IV.T1215..HN', '11276881.IV.T1216..EH', '11276881.IV.T1216..HN', '11276881.IV.T1217..EH', '11276881.IV.T1217..HN', '11276881.IV.T1218..EH', '11276881.IV.T1218..HN', '11276881.IV.T1219..EH', '11276881.IV.T1219..HN', '11276881.IV.T1220..EH', '11276881.IV.T1220..HN', '11276881.IV.T1221..EH', '11276881.IV.T1221..HN', '11276881.IV.T1241..EH', '11276881.IV.T1243..HH', '11276881.IV.T1243..HN', '11276881.IV.T1244..EH', '11276881.IV.T1244..HN', '11276881.IV.T1245..HH', '11276881.IV.T1245..HN', '11276881.IV.T1246..HH', '11276881.IV.T1247..HH', '11276881.IV.T1256..HN', '11276881.IV.T1299..EH', '11276881.IV.T1299..HN', '11276881.IV.TERO..HH', '11276881.IV.TERO..HN', '11276881.IV.VCEL..EH', '11276881.XO.AM05..EH', '11276881.XO.AM05..HN', '11277191.IV.ARRO..EH', '11277191.IV.CAMP..HH', '11277191.IV.FEMA..HN', '11277191.IV.GIGS..HH', '11277191.IV.LNSS..HH', '11277191.IV.MC2..EH', '11277191.IV.MMO1..EH', '11277191.IV.MMO1..HN', '11277191.IV.NRCA..HH', '11277191.IV.NRCA..HN', '11277191.IV.OFFI..HH', '11277191.IV.RM33..EH', '11277191.IV.RM33..HN', '11277191.IV.SMA1..EH', '11277191.IV.T1211..EH', '11277191.IV.T1211..HN', '11277191.IV.T1216..EH', '11277191.IV.T1216..HN', '11277191.IV.T1218..EH', '11277191.IV.T1218..HN', '11277191.IV.T1243..HH', '11277191.IV.T1243..HN', '11277191.IV.T1245..HH', '11277191.IV.T1245..HN', '11277191.IV.TERO..HH', '11277191.IV.TERO..HN', '1127801.IV.RAVA..EH', '1127801.IV.SERM..EH', '1127801.IV.SERM..HN', '1127801.IV.T0800..HH', '1127801.IV.T0800..HN', '1127801.IV.T0805..HN', '11278861.IV.AIO..HH', '11278861.IV.CELI..HH', '11278861.IV.CELI..HN', '11278861.IV.EMSG..HH', '11278861.IV.EPOZ..HH', '11278861.IV.EPZF..HH', '11278861.IV.ESLN..HH', '11278861.IV.GALF..HH', '11278861.IV.GIB..HH', '11278861.IV.HAGA..HH', '11278861.IV.HLNI..HH', '11278861.IV.HMDC..HH', '11278861.IV.IACL..HH', '11278861.IV.IFIL..HH', '11278861.IV.IVPL..HH', '11278861.IV.JOPP..HH', '11278861.IV.JOPP..HN', '11278861.IV.MILZ..HH', '11278861.IV.MSCL..HH', '11278861.IV.MSFR..HH', '11278861.IV.MSRU..HH', '11278861.IV.NOV..HH', '11278861.IV.PLAC..HH', '11278861.IV.PLAC..HN', '11278861.IV.PLLN..EH', '11278861.IV.RAFF..HH', '11278861.IV.SOI..EH', '11278861.IV.SSY..HH', '11278861.MN.CEL..HH', '11278861.MN.CEL..HN', '11278971.IV.AIO..HH', '11278971.IV.EMSG..HH', '11278971.IV.EPZF..HH', '11278971.IV.GALF..HH', '11278971.IV.GIB..HH', '11278971.IV.HAGA..HH', '11278971.IV.HLNI..HH', '11278971.IV.HMDC..HH', '11278971.IV.IACL..HH', '11278971.IV.IFIL..HH', '11278971.IV.IVPL..HH', '11278971.IV.JOPP..HH', '11278971.IV.JOPP..HN', '11278971.IV.MILZ..HH', '11278971.IV.MSFR..HH', '11278971.IV.MSRU..HH', '11278971.IV.PETRA..HH', '11278971.IV.PLLN..EH', '11278971.IV.RAFF..HH', '11278971.IV.SSY..HH', '11279251.IV.AIO..HH', '11279251.IV.EPZF..HH', '11279251.IV.IACL..HH', '11279251.IV.IVPL..HH', '11279251.IV.MILZ..HH', '11279251.IV.MSFR..HH', '11279251.IV.NOV..HH', '11279951.IV.LNSS..HH', '11279951.IV.MC2..EH', '11279951.IV.MMO1..EH', '11279951.IV.MMO1..HN', '11279951.IV.NRCA..HH', '11279951.IV.NRCA..HN', '11279951.IV.RM33..EH', '11279951.IV.RM33..HN', '11279951.IV.SMA1..EH', '11279951.IV.T1211..EH', '11279951.IV.T1211..HN', '11279951.IV.T1215..EH', '11279951.IV.T1215..HN', '11279951.IV.T1218..EH', '11279951.IV.T1218..HN', '11279951.IV.T1241..EH', '11279951.IV.T1241..HN', '11279951.IV.T1243..HH', '11279951.IV.T1243..HN', '11279951.IV.T1245..HH', '11279951.IV.T1245..HN', '11279951.IV.T1246..HH', '11279951.IV.T1299..EH', '11279951.IV.T1299..HN', '11279951.IV.TERO..HH', '11279951.IV.TERO..HN', '1128031.IV.CAFE..HH', '1128031.IV.CAFE..HN', '1128031.IV.CDRU..HH', '1128031.IV.MCRV..HH', '1128031.IV.SNAL..HH', '11280401.IV.CAMP..HH', '11280401.IV.FIAM..HN', '11280401.IV.GIGS..HH', '11280401.IV.LNSS..HH', '11280401.IV.MC2..EH', '11280401.IV.RM33..EH', '11280401.IV.RM33..HN', '11280401.IV.T1243..HH', '11280401.IV.T1243..HN', '11280401.IV.T1246..HH', '11280401.IV.T1247..HH', '11280401.IV.T1299..EH', '11280401.IV.T1299..HN', '11280401.IV.TERO..HH', '1128071.IV.ASSB..HH', '1128071.IV.ATCC..EH', '1128071.IV.ATVO..HH', '1128071.IV.CESI..HH', '1128071.IV.MURB..HH', '1128071.IV.MURB..HN', '11280731.IV.AOI..HH', '11280731.IV.ARRO..EH', '11280731.IV.ARVD..HH', '11280731.IV.ATCC..EH', '11280731.IV.ATCC..HN', '11280731.IV.ATFO..HH', '11280731.IV.ATFO..HN', '11280731.IV.ATPI..EH', '11280731.IV.ATVO..HH', '11280731.IV.ATVO..HN', '11280731.IV.BADI..EH', '11280731.IV.CAFI..HH', '11280731.IV.CAFI..HN', '11280731.IV.CAMP..HH', '11280731.IV.CERT..HH', '11280731.IV.CESI..HH', '11280731.IV.CESX..HH', '11280731.IV.CING..HH', '11280731.IV.COR1..EH', '11280731.IV.CRE..HH', '11280731.IV.CSP1..EH', '11280731.IV.EL6..EH', '11280731.IV.FAGN..HH', '11280731.IV.FDMO..HH', '11280731.IV.FEMA..HN', '11280731.IV.FIAM..HH', '11280731.IV.FIAM..HN', '11280731.IV.FIU1..HN', '11280731.IV.FOSV..EH', '11280731.IV.FOSV..HN', '11280731.IV.FRON..EH', '11280731.IV.FSSB..HH', '11280731.IV.GIGS..HH', '11280731.IV.GUMA..HH', '11280731.IV.GUMA..HN', '11280731.IV.LNSS..HH', '11280731.IV.MC2..EH', '11280731.IV.MCIV..HH', '11280731.IV.MDAR..HN', '11280731.IV.MMUR..HN', '11280731.IV.MNTP..HN', '11280731.IV.MOMA..HH', '11280731.IV.MOMA..HN', '11280731.IV.MPAG..EH', '11280731.IV.MPAG..HN', '11280731.IV.MTCE..HH', '11280731.IV.MURB..HH', '11280731.IV.MURB..HN', '11280731.IV.NRCA..HH', '11280731.IV.NRCA..HN', '11280731.IV.OFFI..HH', '11280731.IV.PARC..HH', '11280731.IV.PIEI..HH', '11280731.IV.PIEI..HN', '11280731.IV.PIO1..HN', '11280731.IV.PP3..EH', '11280731.IV.PP3..HN', '11280731.IV.PTQR..HH', '11280731.IV.RM33..EH', '11280731.IV.RM33..HN', '11280731.IV.SACS..HH', '11280731.IV.SACS..HN', '11280731.IV.SEF1..HN', '11280731.IV.SMA1..EH', '11280731.IV.SNTG..HH', '11280731.IV.SNTG..HN', '11280731.IV.SRES..HH', '11280731.IV.SSFR..HH', '11280731.IV.SSFR..HN', '11280731.IV.T0110..HH', '11280731.IV.T1201..HN', '11280731.IV.T1204..EH', '11280731.IV.T1211..EH', '11280731.IV.T1211..HN', '11280731.IV.T1212..EH', '11280731.IV.T1212..HN', '11280731.IV.T1213..EH', '11280731.IV.T1213..HN', '11280731.IV.T1215..EH', '11280731.IV.T1215..HN', '11280731.IV.T1216..EH', '11280731.IV.T1216..HN', '11280731.IV.T1217..EH', '11280731.IV.T1217..HN', '11280731.IV.T1218..EH', '11280731.IV.T1218..HN', '11280731.IV.T1219..EH', '11280731.IV.T1219..HN', '11280731.IV.T1220..EH', '11280731.IV.T1220..HN', '11280731.IV.T1221..EH', '11280731.IV.T1221..HN', '11280731.IV.T1241..EH', '11280731.IV.T1241..HN', '11280731.IV.T1243..HH', '11280731.IV.T1243..HN', '11280731.IV.T1244..EH', '11280731.IV.T1244..HN', '11280731.IV.T1245..HH', '11280731.IV.T1246..HH', '11280731.IV.T1247..HH', '11280731.IV.T1256..HH', '11280731.IV.T1256..HN', '11280731.IV.T1299..EH', '11280731.IV.T1299..HN', '11280731.IV.TERO..HH', '11280731.IV.TERO..HN', '11280731.IV.VCEL..EH', '11280731.XO.AM05..EH', '11280731.XO.AM05..HN', '11282341.IV.ACER..HH', '11282341.IV.ACER..HN', '11282341.IV.AMUR..HH', '11282341.IV.AOI..HH', '11282341.IV.APRC..HN', '11282341.IV.ARRO..EH', '11282341.IV.ARVD..HH', '11282341.IV.ASSB..HH', '11282341.IV.ATCC..EH', '11282341.IV.ATCC..HN', '11282341.IV.ATFO..HH', '11282341.IV.ATFO..HN', '11282341.IV.BSSO..HH', '11282341.IV.BSSO..HN', '11282341.IV.CAMP..HH', '11282341.IV.CAPA..HH', '11282341.IV.CERA..HH', '11282341.IV.CERA..HN', '11282341.IV.CERT..HH', '11282341.IV.CESI..HH', '11282341.IV.CESX..HH', '11282341.IV.CIGN..HH', '11282341.IV.CING..HH', '11282341.IV.CMPR..HH', '11282341.IV.COR1..EH', '11282341.IV.CSP1..EH', '11282341.IV.EL6..EH', '11282341.IV.FAGN..HH', '11282341.IV.FOSV..EH', '11282341.IV.FOSV..HN', '11282341.IV.FRES..HH', '11282341.IV.FRON..EH', '11282341.IV.FSSB..HH', '11282341.IV.GATE..HH', '11282341.IV.GATE..HN', '11282341.IV.GIGS..HH', '11282341.IV.GIUL..HH', '11282341.IV.GUAR..HH', '11282341.IV.INTR..HH', '11282341.IV.INTR..HN', '11282341.IV.LTRZ..EH', '11282341.IV.MCEL..HH', '11282341.IV.MCEL..HN', '11282341.IV.MELA..HH', '11282341.IV.MELA..HN', '11282341.IV.MGR..HH', '11282341.IV.MGR..HN', '11282341.IV.MIDA..HH', '11282341.IV.MIDA..HN', '11282341.IV.MIGL..HH', '11282341.IV.MOCO..HH', '11282341.IV.MOCO..HN', '11282341.IV.MODR..HH', '11282341.IV.MPAG..EH', '11282341.MN.BLY..HH', '11282341.MN.BLY..HL', '11282341.MN.CUC..HH', '11282341.MN.CUC..HN']>\n"
          ]
        }
      ]
    },
    {
      "cell_type": "code",
      "source": [
        "event_df.groupby(['station_channels'])['source_id'].count()"
      ],
      "metadata": {
        "colab": {
          "base_uri": "https://localhost:8080/"
        },
        "id": "UEWqX6x-6ZfU",
        "outputId": "ce76a317-7374-449e-91f5-b2870f30034d"
      },
      "execution_count": 16,
      "outputs": [
        {
          "output_type": "execute_result",
          "data": {
            "text/plain": [
              "station_channels\n",
              "EH    2517\n",
              "HH    3893\n",
              "HL      40\n",
              "HN    3550\n",
              "Name: source_id, dtype: int64"
            ]
          },
          "metadata": {},
          "execution_count": 16
        }
      ]
    },
    {
      "cell_type": "code",
      "source": [
        "event_df.groupby(['source_id',\"station_code\"])['station_channels']"
      ],
      "metadata": {
        "colab": {
          "base_uri": "https://localhost:8080/"
        },
        "id": "MsLZpTqA8B8m",
        "outputId": "989a70d4-9b0e-4256-bee3-e58bf1546cdc"
      },
      "execution_count": 17,
      "outputs": [
        {
          "output_type": "execute_result",
          "data": {
            "text/plain": [
              "<pandas.core.groupby.generic.SeriesGroupBy object at 0x7ff7148b95d0>"
            ]
          },
          "metadata": {},
          "execution_count": 17
        }
      ]
    },
    {
      "cell_type": "code",
      "source": [
        "org_df = event_df.groupby(['source_id',\"station_code\"]).filter(lambda x: 'HH' in x['station_channels'].values and 'HN' in x['station_channels'].values)"
      ],
      "metadata": {
        "id": "FzvtFzWW_LuI"
      },
      "execution_count": 18,
      "outputs": []
    },
    {
      "cell_type": "code",
      "source": [
        "org_df.to_csv(\"/content/drive/MyDrive/dataset/sample dataset/original_Dataset.csv\")"
      ],
      "metadata": {
        "id": "RYVVzurE_sqV"
      },
      "execution_count": 19,
      "outputs": []
    },
    {
      "cell_type": "code",
      "source": [
        "# org_df['trace_name']"
      ],
      "metadata": {
        "id": "MEEZfuZSAUz4"
      },
      "execution_count": 23,
      "outputs": []
    },
    {
      "cell_type": "code",
      "source": [
        "noise_df.groupby(['source_id',\"station_code\"]).filter(lambda x: 'HN' in x['station_channels'].values).count()"
      ],
      "metadata": {
        "colab": {
          "base_uri": "https://localhost:8080/"
        },
        "id": "PexMn_DaAebR",
        "outputId": "8ab56b11-9bcb-4e8d-c1af-6935f022ef50"
      },
      "execution_count": 24,
      "outputs": [
        {
          "output_type": "execute_result",
          "data": {
            "text/plain": [
              "source_id                        299\n",
              "station_network_code             299\n",
              "station_code                     299\n",
              "station_location_code              6\n",
              "station_channels                 299\n",
              "station_latitude_deg             299\n",
              "station_longitude_deg            299\n",
              "station_elevation_m              299\n",
              "station_vs_30_mps                299\n",
              "station_vs_30_detail             299\n",
              "trace_start_time                 299\n",
              "trace_dt_s                       299\n",
              "trace_npts                       299\n",
              "trace_E_median_counts            299\n",
              "trace_N_median_counts            299\n",
              "trace_Z_median_counts            299\n",
              "trace_E_mean_counts              299\n",
              "trace_N_mean_counts              299\n",
              "trace_Z_mean_counts              299\n",
              "trace_E_min_counts               299\n",
              "trace_N_min_counts               299\n",
              "trace_Z_min_counts               299\n",
              "trace_E_max_counts               299\n",
              "trace_N_max_counts               299\n",
              "trace_Z_max_counts               299\n",
              "trace_E_rms_counts               299\n",
              "trace_N_rms_counts               299\n",
              "trace_Z_rms_counts               299\n",
              "trace_E_lower_quartile_counts    299\n",
              "trace_N_lower_quartile_counts    299\n",
              "trace_Z_lower_quartile_counts    299\n",
              "trace_E_upper_quartile_counts    299\n",
              "trace_N_upper_quartile_counts    299\n",
              "trace_Z_upper_quartile_counts    299\n",
              "trace_E_spikes                   299\n",
              "trace_N_spikes                   299\n",
              "trace_Z_spikes                   299\n",
              "trace_name                       299\n",
              "trace_GPD_P_number               299\n",
              "trace_GPD_S_number               299\n",
              "trace_EQT_number_detections        0\n",
              "trace_EQT_P_number                 0\n",
              "trace_EQT_S_number                 0\n",
              "dtype: int64"
            ]
          },
          "metadata": {},
          "execution_count": 24
        }
      ]
    },
    {
      "cell_type": "code",
      "source": [
        "event_df.groupby(['source_id',\"station_code\"]).filter(lambda x: 'HN' in x['station_channels'].values).count()"
      ],
      "metadata": {
        "colab": {
          "base_uri": "https://localhost:8080/"
        },
        "id": "Ogv2ivfsBaow",
        "outputId": "93f3916b-4fac-4e03-e89f-db799dac13bb"
      },
      "execution_count": 27,
      "outputs": [
        {
          "output_type": "execute_result",
          "data": {
            "text/plain": [
              "source_id                      6673\n",
              "station_network_code           6673\n",
              "station_code                   6673\n",
              "station_location_code             0\n",
              "station_channels               6673\n",
              "                               ... \n",
              "trace_EQT_number_detections    3087\n",
              "trace_EQT_P_number             3087\n",
              "trace_EQT_S_number             3087\n",
              "trace_deconvolved_units        6673\n",
              "source_type                    6673\n",
              "Length: 115, dtype: int64"
            ]
          },
          "metadata": {},
          "execution_count": 27
        }
      ]
    },
    {
      "cell_type": "code",
      "source": [
        "event_df[event_df['station_channels']=='HN'][['source_id','trace_name']]"
      ],
      "metadata": {
        "id": "jE33idvGBiAB",
        "colab": {
          "base_uri": "https://localhost:8080/",
          "height": 424
        },
        "outputId": "c638c498-c72d-4d8e-97b6-ea1d3e9f825c"
      },
      "execution_count": 29,
      "outputs": [
        {
          "output_type": "execute_result",
          "data": {
            "text/plain": [
              "      source_id            trace_name\n",
              "2      11030611  11030611.IV.PIEI..HN\n",
              "4      11030611  11030611.IV.RM33..HN\n",
              "5      11030611  11030611.IV.SEF1..HN\n",
              "7      11030611  11030611.IV.SNTG..HN\n",
              "9      11030611  11030611.IV.SSFR..HN\n",
              "...         ...                   ...\n",
              "9988   11282341  11282341.IV.MCEL..HN\n",
              "9990   11282341  11282341.IV.MELA..HN\n",
              "9992   11282341   11282341.IV.MGR..HN\n",
              "9994   11282341  11282341.IV.MIDA..HN\n",
              "9997   11282341  11282341.IV.MOCO..HN\n",
              "\n",
              "[3550 rows x 2 columns]"
            ],
            "text/html": [
              "\n",
              "  <div id=\"df-2a0c13f6-125c-4002-9345-9f8f795141fc\" class=\"colab-df-container\">\n",
              "    <div>\n",
              "<style scoped>\n",
              "    .dataframe tbody tr th:only-of-type {\n",
              "        vertical-align: middle;\n",
              "    }\n",
              "\n",
              "    .dataframe tbody tr th {\n",
              "        vertical-align: top;\n",
              "    }\n",
              "\n",
              "    .dataframe thead th {\n",
              "        text-align: right;\n",
              "    }\n",
              "</style>\n",
              "<table border=\"1\" class=\"dataframe\">\n",
              "  <thead>\n",
              "    <tr style=\"text-align: right;\">\n",
              "      <th></th>\n",
              "      <th>source_id</th>\n",
              "      <th>trace_name</th>\n",
              "    </tr>\n",
              "  </thead>\n",
              "  <tbody>\n",
              "    <tr>\n",
              "      <th>2</th>\n",
              "      <td>11030611</td>\n",
              "      <td>11030611.IV.PIEI..HN</td>\n",
              "    </tr>\n",
              "    <tr>\n",
              "      <th>4</th>\n",
              "      <td>11030611</td>\n",
              "      <td>11030611.IV.RM33..HN</td>\n",
              "    </tr>\n",
              "    <tr>\n",
              "      <th>5</th>\n",
              "      <td>11030611</td>\n",
              "      <td>11030611.IV.SEF1..HN</td>\n",
              "    </tr>\n",
              "    <tr>\n",
              "      <th>7</th>\n",
              "      <td>11030611</td>\n",
              "      <td>11030611.IV.SNTG..HN</td>\n",
              "    </tr>\n",
              "    <tr>\n",
              "      <th>9</th>\n",
              "      <td>11030611</td>\n",
              "      <td>11030611.IV.SSFR..HN</td>\n",
              "    </tr>\n",
              "    <tr>\n",
              "      <th>...</th>\n",
              "      <td>...</td>\n",
              "      <td>...</td>\n",
              "    </tr>\n",
              "    <tr>\n",
              "      <th>9988</th>\n",
              "      <td>11282341</td>\n",
              "      <td>11282341.IV.MCEL..HN</td>\n",
              "    </tr>\n",
              "    <tr>\n",
              "      <th>9990</th>\n",
              "      <td>11282341</td>\n",
              "      <td>11282341.IV.MELA..HN</td>\n",
              "    </tr>\n",
              "    <tr>\n",
              "      <th>9992</th>\n",
              "      <td>11282341</td>\n",
              "      <td>11282341.IV.MGR..HN</td>\n",
              "    </tr>\n",
              "    <tr>\n",
              "      <th>9994</th>\n",
              "      <td>11282341</td>\n",
              "      <td>11282341.IV.MIDA..HN</td>\n",
              "    </tr>\n",
              "    <tr>\n",
              "      <th>9997</th>\n",
              "      <td>11282341</td>\n",
              "      <td>11282341.IV.MOCO..HN</td>\n",
              "    </tr>\n",
              "  </tbody>\n",
              "</table>\n",
              "<p>3550 rows × 2 columns</p>\n",
              "</div>\n",
              "    <div class=\"colab-df-buttons\">\n",
              "\n",
              "  <div class=\"colab-df-container\">\n",
              "    <button class=\"colab-df-convert\" onclick=\"convertToInteractive('df-2a0c13f6-125c-4002-9345-9f8f795141fc')\"\n",
              "            title=\"Convert this dataframe to an interactive table.\"\n",
              "            style=\"display:none;\">\n",
              "\n",
              "  <svg xmlns=\"http://www.w3.org/2000/svg\" height=\"24px\" viewBox=\"0 -960 960 960\">\n",
              "    <path d=\"M120-120v-720h720v720H120Zm60-500h600v-160H180v160Zm220 220h160v-160H400v160Zm0 220h160v-160H400v160ZM180-400h160v-160H180v160Zm440 0h160v-160H620v160ZM180-180h160v-160H180v160Zm440 0h160v-160H620v160Z\"/>\n",
              "  </svg>\n",
              "    </button>\n",
              "\n",
              "  <style>\n",
              "    .colab-df-container {\n",
              "      display:flex;\n",
              "      gap: 12px;\n",
              "    }\n",
              "\n",
              "    .colab-df-convert {\n",
              "      background-color: #E8F0FE;\n",
              "      border: none;\n",
              "      border-radius: 50%;\n",
              "      cursor: pointer;\n",
              "      display: none;\n",
              "      fill: #1967D2;\n",
              "      height: 32px;\n",
              "      padding: 0 0 0 0;\n",
              "      width: 32px;\n",
              "    }\n",
              "\n",
              "    .colab-df-convert:hover {\n",
              "      background-color: #E2EBFA;\n",
              "      box-shadow: 0px 1px 2px rgba(60, 64, 67, 0.3), 0px 1px 3px 1px rgba(60, 64, 67, 0.15);\n",
              "      fill: #174EA6;\n",
              "    }\n",
              "\n",
              "    .colab-df-buttons div {\n",
              "      margin-bottom: 4px;\n",
              "    }\n",
              "\n",
              "    [theme=dark] .colab-df-convert {\n",
              "      background-color: #3B4455;\n",
              "      fill: #D2E3FC;\n",
              "    }\n",
              "\n",
              "    [theme=dark] .colab-df-convert:hover {\n",
              "      background-color: #434B5C;\n",
              "      box-shadow: 0px 1px 3px 1px rgba(0, 0, 0, 0.15);\n",
              "      filter: drop-shadow(0px 1px 2px rgba(0, 0, 0, 0.3));\n",
              "      fill: #FFFFFF;\n",
              "    }\n",
              "  </style>\n",
              "\n",
              "    <script>\n",
              "      const buttonEl =\n",
              "        document.querySelector('#df-2a0c13f6-125c-4002-9345-9f8f795141fc button.colab-df-convert');\n",
              "      buttonEl.style.display =\n",
              "        google.colab.kernel.accessAllowed ? 'block' : 'none';\n",
              "\n",
              "      async function convertToInteractive(key) {\n",
              "        const element = document.querySelector('#df-2a0c13f6-125c-4002-9345-9f8f795141fc');\n",
              "        const dataTable =\n",
              "          await google.colab.kernel.invokeFunction('convertToInteractive',\n",
              "                                                    [key], {});\n",
              "        if (!dataTable) return;\n",
              "\n",
              "        const docLinkHtml = 'Like what you see? Visit the ' +\n",
              "          '<a target=\"_blank\" href=https://colab.research.google.com/notebooks/data_table.ipynb>data table notebook</a>'\n",
              "          + ' to learn more about interactive tables.';\n",
              "        element.innerHTML = '';\n",
              "        dataTable['output_type'] = 'display_data';\n",
              "        await google.colab.output.renderOutput(dataTable, element);\n",
              "        const docLink = document.createElement('div');\n",
              "        docLink.innerHTML = docLinkHtml;\n",
              "        element.appendChild(docLink);\n",
              "      }\n",
              "    </script>\n",
              "  </div>\n",
              "\n",
              "\n",
              "<div id=\"df-f0203312-436e-4f08-9ea8-1659d6faff20\">\n",
              "  <button class=\"colab-df-quickchart\" onclick=\"quickchart('df-f0203312-436e-4f08-9ea8-1659d6faff20')\"\n",
              "            title=\"Suggest charts.\"\n",
              "            style=\"display:none;\">\n",
              "\n",
              "<svg xmlns=\"http://www.w3.org/2000/svg\" height=\"24px\"viewBox=\"0 0 24 24\"\n",
              "     width=\"24px\">\n",
              "    <g>\n",
              "        <path d=\"M19 3H5c-1.1 0-2 .9-2 2v14c0 1.1.9 2 2 2h14c1.1 0 2-.9 2-2V5c0-1.1-.9-2-2-2zM9 17H7v-7h2v7zm4 0h-2V7h2v10zm4 0h-2v-4h2v4z\"/>\n",
              "    </g>\n",
              "</svg>\n",
              "  </button>\n",
              "\n",
              "<style>\n",
              "  .colab-df-quickchart {\n",
              "      --bg-color: #E8F0FE;\n",
              "      --fill-color: #1967D2;\n",
              "      --hover-bg-color: #E2EBFA;\n",
              "      --hover-fill-color: #174EA6;\n",
              "      --disabled-fill-color: #AAA;\n",
              "      --disabled-bg-color: #DDD;\n",
              "  }\n",
              "\n",
              "  [theme=dark] .colab-df-quickchart {\n",
              "      --bg-color: #3B4455;\n",
              "      --fill-color: #D2E3FC;\n",
              "      --hover-bg-color: #434B5C;\n",
              "      --hover-fill-color: #FFFFFF;\n",
              "      --disabled-bg-color: #3B4455;\n",
              "      --disabled-fill-color: #666;\n",
              "  }\n",
              "\n",
              "  .colab-df-quickchart {\n",
              "    background-color: var(--bg-color);\n",
              "    border: none;\n",
              "    border-radius: 50%;\n",
              "    cursor: pointer;\n",
              "    display: none;\n",
              "    fill: var(--fill-color);\n",
              "    height: 32px;\n",
              "    padding: 0;\n",
              "    width: 32px;\n",
              "  }\n",
              "\n",
              "  .colab-df-quickchart:hover {\n",
              "    background-color: var(--hover-bg-color);\n",
              "    box-shadow: 0 1px 2px rgba(60, 64, 67, 0.3), 0 1px 3px 1px rgba(60, 64, 67, 0.15);\n",
              "    fill: var(--button-hover-fill-color);\n",
              "  }\n",
              "\n",
              "  .colab-df-quickchart-complete:disabled,\n",
              "  .colab-df-quickchart-complete:disabled:hover {\n",
              "    background-color: var(--disabled-bg-color);\n",
              "    fill: var(--disabled-fill-color);\n",
              "    box-shadow: none;\n",
              "  }\n",
              "\n",
              "  .colab-df-spinner {\n",
              "    border: 2px solid var(--fill-color);\n",
              "    border-color: transparent;\n",
              "    border-bottom-color: var(--fill-color);\n",
              "    animation:\n",
              "      spin 1s steps(1) infinite;\n",
              "  }\n",
              "\n",
              "  @keyframes spin {\n",
              "    0% {\n",
              "      border-color: transparent;\n",
              "      border-bottom-color: var(--fill-color);\n",
              "      border-left-color: var(--fill-color);\n",
              "    }\n",
              "    20% {\n",
              "      border-color: transparent;\n",
              "      border-left-color: var(--fill-color);\n",
              "      border-top-color: var(--fill-color);\n",
              "    }\n",
              "    30% {\n",
              "      border-color: transparent;\n",
              "      border-left-color: var(--fill-color);\n",
              "      border-top-color: var(--fill-color);\n",
              "      border-right-color: var(--fill-color);\n",
              "    }\n",
              "    40% {\n",
              "      border-color: transparent;\n",
              "      border-right-color: var(--fill-color);\n",
              "      border-top-color: var(--fill-color);\n",
              "    }\n",
              "    60% {\n",
              "      border-color: transparent;\n",
              "      border-right-color: var(--fill-color);\n",
              "    }\n",
              "    80% {\n",
              "      border-color: transparent;\n",
              "      border-right-color: var(--fill-color);\n",
              "      border-bottom-color: var(--fill-color);\n",
              "    }\n",
              "    90% {\n",
              "      border-color: transparent;\n",
              "      border-bottom-color: var(--fill-color);\n",
              "    }\n",
              "  }\n",
              "</style>\n",
              "\n",
              "  <script>\n",
              "    async function quickchart(key) {\n",
              "      const quickchartButtonEl =\n",
              "        document.querySelector('#' + key + ' button');\n",
              "      quickchartButtonEl.disabled = true;  // To prevent multiple clicks.\n",
              "      quickchartButtonEl.classList.add('colab-df-spinner');\n",
              "      try {\n",
              "        const charts = await google.colab.kernel.invokeFunction(\n",
              "            'suggestCharts', [key], {});\n",
              "      } catch (error) {\n",
              "        console.error('Error during call to suggestCharts:', error);\n",
              "      }\n",
              "      quickchartButtonEl.classList.remove('colab-df-spinner');\n",
              "      quickchartButtonEl.classList.add('colab-df-quickchart-complete');\n",
              "    }\n",
              "    (() => {\n",
              "      let quickchartButtonEl =\n",
              "        document.querySelector('#df-f0203312-436e-4f08-9ea8-1659d6faff20 button');\n",
              "      quickchartButtonEl.style.display =\n",
              "        google.colab.kernel.accessAllowed ? 'block' : 'none';\n",
              "    })();\n",
              "  </script>\n",
              "</div>\n",
              "    </div>\n",
              "  </div>\n"
            ]
          },
          "metadata": {},
          "execution_count": 29
        }
      ]
    },
    {
      "cell_type": "code",
      "source": [
        "event_np = np.load(\"/content/drive/MyDrive/dataset/sample dataset/events_counts.npy\")[:300]"
      ],
      "metadata": {
        "id": "gpuobgC-WwY_"
      },
      "execution_count": 42,
      "outputs": []
    },
    {
      "cell_type": "code",
      "source": [
        "noise_np = np.load(\"/content/drive/MyDrive/dataset/sample dataset/noise.npy\")"
      ],
      "metadata": {
        "id": "0zZCXab5XsBB"
      },
      "execution_count": 43,
      "outputs": []
    },
    {
      "cell_type": "code",
      "source": [
        "noise_np.shape,event_np.shape"
      ],
      "metadata": {
        "colab": {
          "base_uri": "https://localhost:8080/"
        },
        "id": "zOXcFI7dX8qI",
        "outputId": "857d6e0c-3a73-4b90-e4bf-12930421badd"
      },
      "execution_count": 44,
      "outputs": [
        {
          "output_type": "execute_result",
          "data": {
            "text/plain": [
              "((299, 3, 12000), (300, 3, 12000))"
            ]
          },
          "metadata": {},
          "execution_count": 44
        }
      ]
    },
    {
      "cell_type": "code",
      "source": [],
      "metadata": {
        "id": "zDS-tQtoYB39"
      },
      "execution_count": 45,
      "outputs": []
    },
    {
      "cell_type": "code",
      "source": [
        "x = event_np[0][:, :3000].reshape(-1)"
      ],
      "metadata": {
        "id": "3gNniUbRYWJm"
      },
      "execution_count": 57,
      "outputs": []
    },
    {
      "cell_type": "code",
      "source": [
        "dataframes = []"
      ],
      "metadata": {
        "id": "bnq5GV4ZZwFx"
      },
      "execution_count": 63,
      "outputs": []
    },
    {
      "cell_type": "code",
      "source": [],
      "metadata": {
        "id": "w4lg1gQtYcc8"
      },
      "execution_count": 67,
      "outputs": []
    },
    {
      "cell_type": "code",
      "source": [
        "event_np[0][:, :3000].reshape(-1)"
      ],
      "metadata": {
        "colab": {
          "base_uri": "https://localhost:8080/"
        },
        "id": "_7lVWQFuZRb8",
        "outputId": "462e99de-bcca-4e88-b007-d308dafca95e"
      },
      "execution_count": 69,
      "outputs": [
        {
          "output_type": "execute_result",
          "data": {
            "text/plain": [
              "array([-19,  12, -14, ...,   2,  -3,  -3], dtype=int32)"
            ]
          },
          "metadata": {},
          "execution_count": 69
        }
      ]
    },
    {
      "cell_type": "code",
      "source": [
        "a = []\n",
        "for i in range(300):\n",
        "    subset = event_np[i][:, :1000].reshape(-1)\n",
        "    a.append(subset)\n",
        "\n",
        "# a = [event_np[0][:, :3000].reshape(-1),event_np[1][:, :3000].reshape(-1)]"
      ],
      "metadata": {
        "id": "vJQotWwIZ0TO"
      },
      "execution_count": 102,
      "outputs": []
    },
    {
      "cell_type": "code",
      "source": [
        "for i in range(299):\n",
        "    subset = noise_np[i][:, :1000].reshape(-1)\n",
        "    a.append(subset)"
      ],
      "metadata": {
        "id": "JWhQrUJga_gj"
      },
      "execution_count": 103,
      "outputs": []
    },
    {
      "cell_type": "code",
      "source": [
        "main_df = pd.DataFrame(a)"
      ],
      "metadata": {
        "id": "urv73Tg4aIOR"
      },
      "execution_count": 104,
      "outputs": []
    },
    {
      "cell_type": "code",
      "source": [
        "main_df['category'] = 1"
      ],
      "metadata": {
        "id": "3ajqf2z7aIrU"
      },
      "execution_count": 105,
      "outputs": []
    },
    {
      "cell_type": "code",
      "source": [
        "main_df.loc[300:, 'category'] = 0"
      ],
      "metadata": {
        "id": "2o2of9Wxairi"
      },
      "execution_count": 106,
      "outputs": []
    },
    {
      "cell_type": "code",
      "source": [
        "main_df"
      ],
      "metadata": {
        "colab": {
          "base_uri": "https://localhost:8080/",
          "height": 424
        },
        "id": "aqjUfD8_eFiH",
        "outputId": "41fb6de1-618d-4270-d94c-684662bc71f1"
      },
      "execution_count": 109,
      "outputs": [
        {
          "output_type": "execute_result",
          "data": {
            "text/plain": [
              "      0   1   2   3   4   5   6   7   8   9  ...  2991  2992  2993  2994  \\\n",
              "0   -19  12 -14  11 -10  11 -10  10 -12   6  ...     0    -1     0     0   \n",
              "1    -2   2  -1   0  -5  -1   0   1   1  -2  ...     3     4     0     2   \n",
              "2     0   0   0   1  -1   1   0   0   1  -1  ...     0     0     0     0   \n",
              "3    10  -8   4  -6   5 -10   3  -7   2 -10  ...     0     3     5    -2   \n",
              "4   -11 -33  28  28  -2 -45   0  23  -3  11  ...     1     4     3    -3   \n",
              "..   ..  ..  ..  ..  ..  ..  ..  ..  ..  ..  ...   ...   ...   ...   ...   \n",
              "594  -2   0   0  -2   3   2  -1   0   3   0  ...     0     0     0    -3   \n",
              "595   0   0  -4   1   3  -1   0  -2  -1   2  ...     1     1     0     0   \n",
              "596   0  -2   0   1  -1   2   3  -1  -1   2  ...     0     0    -2    -1   \n",
              "597 -20 -56 -31  -7  13  15 -10 -54 -31  33  ...    32     5    16    43   \n",
              "598   0 -11  -3   4  -6   0   6  -1   5   7  ...     0     0    -4    -1   \n",
              "\n",
              "     2995  2996  2997  2998  2999  category  \n",
              "0       0    -1     0     3     0         1  \n",
              "1       3    -3     2     0     0         1  \n",
              "2       0     0     0     1     0         1  \n",
              "3       1    -2     0    -2     0         1  \n",
              "4       0    -1     1    -4     3         1  \n",
              "..    ...   ...   ...   ...   ...       ...  \n",
              "594    -1     0     1     2     3         0  \n",
              "595    -2     2     0    -2     1         0  \n",
              "596     1    -1     0     0     0         0  \n",
              "597    29   -19   -58   -50   -14         0  \n",
              "598     0    -1     0    -5     1         0  \n",
              "\n",
              "[599 rows x 3001 columns]"
            ],
            "text/html": [
              "\n",
              "  <div id=\"df-cedc94fc-387c-4297-bfce-218ea6c98ebf\" class=\"colab-df-container\">\n",
              "    <div>\n",
              "<style scoped>\n",
              "    .dataframe tbody tr th:only-of-type {\n",
              "        vertical-align: middle;\n",
              "    }\n",
              "\n",
              "    .dataframe tbody tr th {\n",
              "        vertical-align: top;\n",
              "    }\n",
              "\n",
              "    .dataframe thead th {\n",
              "        text-align: right;\n",
              "    }\n",
              "</style>\n",
              "<table border=\"1\" class=\"dataframe\">\n",
              "  <thead>\n",
              "    <tr style=\"text-align: right;\">\n",
              "      <th></th>\n",
              "      <th>0</th>\n",
              "      <th>1</th>\n",
              "      <th>2</th>\n",
              "      <th>3</th>\n",
              "      <th>4</th>\n",
              "      <th>5</th>\n",
              "      <th>6</th>\n",
              "      <th>7</th>\n",
              "      <th>8</th>\n",
              "      <th>9</th>\n",
              "      <th>...</th>\n",
              "      <th>2991</th>\n",
              "      <th>2992</th>\n",
              "      <th>2993</th>\n",
              "      <th>2994</th>\n",
              "      <th>2995</th>\n",
              "      <th>2996</th>\n",
              "      <th>2997</th>\n",
              "      <th>2998</th>\n",
              "      <th>2999</th>\n",
              "      <th>category</th>\n",
              "    </tr>\n",
              "  </thead>\n",
              "  <tbody>\n",
              "    <tr>\n",
              "      <th>0</th>\n",
              "      <td>-19</td>\n",
              "      <td>12</td>\n",
              "      <td>-14</td>\n",
              "      <td>11</td>\n",
              "      <td>-10</td>\n",
              "      <td>11</td>\n",
              "      <td>-10</td>\n",
              "      <td>10</td>\n",
              "      <td>-12</td>\n",
              "      <td>6</td>\n",
              "      <td>...</td>\n",
              "      <td>0</td>\n",
              "      <td>-1</td>\n",
              "      <td>0</td>\n",
              "      <td>0</td>\n",
              "      <td>0</td>\n",
              "      <td>-1</td>\n",
              "      <td>0</td>\n",
              "      <td>3</td>\n",
              "      <td>0</td>\n",
              "      <td>1</td>\n",
              "    </tr>\n",
              "    <tr>\n",
              "      <th>1</th>\n",
              "      <td>-2</td>\n",
              "      <td>2</td>\n",
              "      <td>-1</td>\n",
              "      <td>0</td>\n",
              "      <td>-5</td>\n",
              "      <td>-1</td>\n",
              "      <td>0</td>\n",
              "      <td>1</td>\n",
              "      <td>1</td>\n",
              "      <td>-2</td>\n",
              "      <td>...</td>\n",
              "      <td>3</td>\n",
              "      <td>4</td>\n",
              "      <td>0</td>\n",
              "      <td>2</td>\n",
              "      <td>3</td>\n",
              "      <td>-3</td>\n",
              "      <td>2</td>\n",
              "      <td>0</td>\n",
              "      <td>0</td>\n",
              "      <td>1</td>\n",
              "    </tr>\n",
              "    <tr>\n",
              "      <th>2</th>\n",
              "      <td>0</td>\n",
              "      <td>0</td>\n",
              "      <td>0</td>\n",
              "      <td>1</td>\n",
              "      <td>-1</td>\n",
              "      <td>1</td>\n",
              "      <td>0</td>\n",
              "      <td>0</td>\n",
              "      <td>1</td>\n",
              "      <td>-1</td>\n",
              "      <td>...</td>\n",
              "      <td>0</td>\n",
              "      <td>0</td>\n",
              "      <td>0</td>\n",
              "      <td>0</td>\n",
              "      <td>0</td>\n",
              "      <td>0</td>\n",
              "      <td>0</td>\n",
              "      <td>1</td>\n",
              "      <td>0</td>\n",
              "      <td>1</td>\n",
              "    </tr>\n",
              "    <tr>\n",
              "      <th>3</th>\n",
              "      <td>10</td>\n",
              "      <td>-8</td>\n",
              "      <td>4</td>\n",
              "      <td>-6</td>\n",
              "      <td>5</td>\n",
              "      <td>-10</td>\n",
              "      <td>3</td>\n",
              "      <td>-7</td>\n",
              "      <td>2</td>\n",
              "      <td>-10</td>\n",
              "      <td>...</td>\n",
              "      <td>0</td>\n",
              "      <td>3</td>\n",
              "      <td>5</td>\n",
              "      <td>-2</td>\n",
              "      <td>1</td>\n",
              "      <td>-2</td>\n",
              "      <td>0</td>\n",
              "      <td>-2</td>\n",
              "      <td>0</td>\n",
              "      <td>1</td>\n",
              "    </tr>\n",
              "    <tr>\n",
              "      <th>4</th>\n",
              "      <td>-11</td>\n",
              "      <td>-33</td>\n",
              "      <td>28</td>\n",
              "      <td>28</td>\n",
              "      <td>-2</td>\n",
              "      <td>-45</td>\n",
              "      <td>0</td>\n",
              "      <td>23</td>\n",
              "      <td>-3</td>\n",
              "      <td>11</td>\n",
              "      <td>...</td>\n",
              "      <td>1</td>\n",
              "      <td>4</td>\n",
              "      <td>3</td>\n",
              "      <td>-3</td>\n",
              "      <td>0</td>\n",
              "      <td>-1</td>\n",
              "      <td>1</td>\n",
              "      <td>-4</td>\n",
              "      <td>3</td>\n",
              "      <td>1</td>\n",
              "    </tr>\n",
              "    <tr>\n",
              "      <th>...</th>\n",
              "      <td>...</td>\n",
              "      <td>...</td>\n",
              "      <td>...</td>\n",
              "      <td>...</td>\n",
              "      <td>...</td>\n",
              "      <td>...</td>\n",
              "      <td>...</td>\n",
              "      <td>...</td>\n",
              "      <td>...</td>\n",
              "      <td>...</td>\n",
              "      <td>...</td>\n",
              "      <td>...</td>\n",
              "      <td>...</td>\n",
              "      <td>...</td>\n",
              "      <td>...</td>\n",
              "      <td>...</td>\n",
              "      <td>...</td>\n",
              "      <td>...</td>\n",
              "      <td>...</td>\n",
              "      <td>...</td>\n",
              "      <td>...</td>\n",
              "    </tr>\n",
              "    <tr>\n",
              "      <th>594</th>\n",
              "      <td>-2</td>\n",
              "      <td>0</td>\n",
              "      <td>0</td>\n",
              "      <td>-2</td>\n",
              "      <td>3</td>\n",
              "      <td>2</td>\n",
              "      <td>-1</td>\n",
              "      <td>0</td>\n",
              "      <td>3</td>\n",
              "      <td>0</td>\n",
              "      <td>...</td>\n",
              "      <td>0</td>\n",
              "      <td>0</td>\n",
              "      <td>0</td>\n",
              "      <td>-3</td>\n",
              "      <td>-1</td>\n",
              "      <td>0</td>\n",
              "      <td>1</td>\n",
              "      <td>2</td>\n",
              "      <td>3</td>\n",
              "      <td>0</td>\n",
              "    </tr>\n",
              "    <tr>\n",
              "      <th>595</th>\n",
              "      <td>0</td>\n",
              "      <td>0</td>\n",
              "      <td>-4</td>\n",
              "      <td>1</td>\n",
              "      <td>3</td>\n",
              "      <td>-1</td>\n",
              "      <td>0</td>\n",
              "      <td>-2</td>\n",
              "      <td>-1</td>\n",
              "      <td>2</td>\n",
              "      <td>...</td>\n",
              "      <td>1</td>\n",
              "      <td>1</td>\n",
              "      <td>0</td>\n",
              "      <td>0</td>\n",
              "      <td>-2</td>\n",
              "      <td>2</td>\n",
              "      <td>0</td>\n",
              "      <td>-2</td>\n",
              "      <td>1</td>\n",
              "      <td>0</td>\n",
              "    </tr>\n",
              "    <tr>\n",
              "      <th>596</th>\n",
              "      <td>0</td>\n",
              "      <td>-2</td>\n",
              "      <td>0</td>\n",
              "      <td>1</td>\n",
              "      <td>-1</td>\n",
              "      <td>2</td>\n",
              "      <td>3</td>\n",
              "      <td>-1</td>\n",
              "      <td>-1</td>\n",
              "      <td>2</td>\n",
              "      <td>...</td>\n",
              "      <td>0</td>\n",
              "      <td>0</td>\n",
              "      <td>-2</td>\n",
              "      <td>-1</td>\n",
              "      <td>1</td>\n",
              "      <td>-1</td>\n",
              "      <td>0</td>\n",
              "      <td>0</td>\n",
              "      <td>0</td>\n",
              "      <td>0</td>\n",
              "    </tr>\n",
              "    <tr>\n",
              "      <th>597</th>\n",
              "      <td>-20</td>\n",
              "      <td>-56</td>\n",
              "      <td>-31</td>\n",
              "      <td>-7</td>\n",
              "      <td>13</td>\n",
              "      <td>15</td>\n",
              "      <td>-10</td>\n",
              "      <td>-54</td>\n",
              "      <td>-31</td>\n",
              "      <td>33</td>\n",
              "      <td>...</td>\n",
              "      <td>32</td>\n",
              "      <td>5</td>\n",
              "      <td>16</td>\n",
              "      <td>43</td>\n",
              "      <td>29</td>\n",
              "      <td>-19</td>\n",
              "      <td>-58</td>\n",
              "      <td>-50</td>\n",
              "      <td>-14</td>\n",
              "      <td>0</td>\n",
              "    </tr>\n",
              "    <tr>\n",
              "      <th>598</th>\n",
              "      <td>0</td>\n",
              "      <td>-11</td>\n",
              "      <td>-3</td>\n",
              "      <td>4</td>\n",
              "      <td>-6</td>\n",
              "      <td>0</td>\n",
              "      <td>6</td>\n",
              "      <td>-1</td>\n",
              "      <td>5</td>\n",
              "      <td>7</td>\n",
              "      <td>...</td>\n",
              "      <td>0</td>\n",
              "      <td>0</td>\n",
              "      <td>-4</td>\n",
              "      <td>-1</td>\n",
              "      <td>0</td>\n",
              "      <td>-1</td>\n",
              "      <td>0</td>\n",
              "      <td>-5</td>\n",
              "      <td>1</td>\n",
              "      <td>0</td>\n",
              "    </tr>\n",
              "  </tbody>\n",
              "</table>\n",
              "<p>599 rows × 3001 columns</p>\n",
              "</div>\n",
              "    <div class=\"colab-df-buttons\">\n",
              "\n",
              "  <div class=\"colab-df-container\">\n",
              "    <button class=\"colab-df-convert\" onclick=\"convertToInteractive('df-cedc94fc-387c-4297-bfce-218ea6c98ebf')\"\n",
              "            title=\"Convert this dataframe to an interactive table.\"\n",
              "            style=\"display:none;\">\n",
              "\n",
              "  <svg xmlns=\"http://www.w3.org/2000/svg\" height=\"24px\" viewBox=\"0 -960 960 960\">\n",
              "    <path d=\"M120-120v-720h720v720H120Zm60-500h600v-160H180v160Zm220 220h160v-160H400v160Zm0 220h160v-160H400v160ZM180-400h160v-160H180v160Zm440 0h160v-160H620v160ZM180-180h160v-160H180v160Zm440 0h160v-160H620v160Z\"/>\n",
              "  </svg>\n",
              "    </button>\n",
              "\n",
              "  <style>\n",
              "    .colab-df-container {\n",
              "      display:flex;\n",
              "      gap: 12px;\n",
              "    }\n",
              "\n",
              "    .colab-df-convert {\n",
              "      background-color: #E8F0FE;\n",
              "      border: none;\n",
              "      border-radius: 50%;\n",
              "      cursor: pointer;\n",
              "      display: none;\n",
              "      fill: #1967D2;\n",
              "      height: 32px;\n",
              "      padding: 0 0 0 0;\n",
              "      width: 32px;\n",
              "    }\n",
              "\n",
              "    .colab-df-convert:hover {\n",
              "      background-color: #E2EBFA;\n",
              "      box-shadow: 0px 1px 2px rgba(60, 64, 67, 0.3), 0px 1px 3px 1px rgba(60, 64, 67, 0.15);\n",
              "      fill: #174EA6;\n",
              "    }\n",
              "\n",
              "    .colab-df-buttons div {\n",
              "      margin-bottom: 4px;\n",
              "    }\n",
              "\n",
              "    [theme=dark] .colab-df-convert {\n",
              "      background-color: #3B4455;\n",
              "      fill: #D2E3FC;\n",
              "    }\n",
              "\n",
              "    [theme=dark] .colab-df-convert:hover {\n",
              "      background-color: #434B5C;\n",
              "      box-shadow: 0px 1px 3px 1px rgba(0, 0, 0, 0.15);\n",
              "      filter: drop-shadow(0px 1px 2px rgba(0, 0, 0, 0.3));\n",
              "      fill: #FFFFFF;\n",
              "    }\n",
              "  </style>\n",
              "\n",
              "    <script>\n",
              "      const buttonEl =\n",
              "        document.querySelector('#df-cedc94fc-387c-4297-bfce-218ea6c98ebf button.colab-df-convert');\n",
              "      buttonEl.style.display =\n",
              "        google.colab.kernel.accessAllowed ? 'block' : 'none';\n",
              "\n",
              "      async function convertToInteractive(key) {\n",
              "        const element = document.querySelector('#df-cedc94fc-387c-4297-bfce-218ea6c98ebf');\n",
              "        const dataTable =\n",
              "          await google.colab.kernel.invokeFunction('convertToInteractive',\n",
              "                                                    [key], {});\n",
              "        if (!dataTable) return;\n",
              "\n",
              "        const docLinkHtml = 'Like what you see? Visit the ' +\n",
              "          '<a target=\"_blank\" href=https://colab.research.google.com/notebooks/data_table.ipynb>data table notebook</a>'\n",
              "          + ' to learn more about interactive tables.';\n",
              "        element.innerHTML = '';\n",
              "        dataTable['output_type'] = 'display_data';\n",
              "        await google.colab.output.renderOutput(dataTable, element);\n",
              "        const docLink = document.createElement('div');\n",
              "        docLink.innerHTML = docLinkHtml;\n",
              "        element.appendChild(docLink);\n",
              "      }\n",
              "    </script>\n",
              "  </div>\n",
              "\n",
              "\n",
              "<div id=\"df-46dbca8c-0f3b-485d-9d95-5208885926d6\">\n",
              "  <button class=\"colab-df-quickchart\" onclick=\"quickchart('df-46dbca8c-0f3b-485d-9d95-5208885926d6')\"\n",
              "            title=\"Suggest charts.\"\n",
              "            style=\"display:none;\">\n",
              "\n",
              "<svg xmlns=\"http://www.w3.org/2000/svg\" height=\"24px\"viewBox=\"0 0 24 24\"\n",
              "     width=\"24px\">\n",
              "    <g>\n",
              "        <path d=\"M19 3H5c-1.1 0-2 .9-2 2v14c0 1.1.9 2 2 2h14c1.1 0 2-.9 2-2V5c0-1.1-.9-2-2-2zM9 17H7v-7h2v7zm4 0h-2V7h2v10zm4 0h-2v-4h2v4z\"/>\n",
              "    </g>\n",
              "</svg>\n",
              "  </button>\n",
              "\n",
              "<style>\n",
              "  .colab-df-quickchart {\n",
              "      --bg-color: #E8F0FE;\n",
              "      --fill-color: #1967D2;\n",
              "      --hover-bg-color: #E2EBFA;\n",
              "      --hover-fill-color: #174EA6;\n",
              "      --disabled-fill-color: #AAA;\n",
              "      --disabled-bg-color: #DDD;\n",
              "  }\n",
              "\n",
              "  [theme=dark] .colab-df-quickchart {\n",
              "      --bg-color: #3B4455;\n",
              "      --fill-color: #D2E3FC;\n",
              "      --hover-bg-color: #434B5C;\n",
              "      --hover-fill-color: #FFFFFF;\n",
              "      --disabled-bg-color: #3B4455;\n",
              "      --disabled-fill-color: #666;\n",
              "  }\n",
              "\n",
              "  .colab-df-quickchart {\n",
              "    background-color: var(--bg-color);\n",
              "    border: none;\n",
              "    border-radius: 50%;\n",
              "    cursor: pointer;\n",
              "    display: none;\n",
              "    fill: var(--fill-color);\n",
              "    height: 32px;\n",
              "    padding: 0;\n",
              "    width: 32px;\n",
              "  }\n",
              "\n",
              "  .colab-df-quickchart:hover {\n",
              "    background-color: var(--hover-bg-color);\n",
              "    box-shadow: 0 1px 2px rgba(60, 64, 67, 0.3), 0 1px 3px 1px rgba(60, 64, 67, 0.15);\n",
              "    fill: var(--button-hover-fill-color);\n",
              "  }\n",
              "\n",
              "  .colab-df-quickchart-complete:disabled,\n",
              "  .colab-df-quickchart-complete:disabled:hover {\n",
              "    background-color: var(--disabled-bg-color);\n",
              "    fill: var(--disabled-fill-color);\n",
              "    box-shadow: none;\n",
              "  }\n",
              "\n",
              "  .colab-df-spinner {\n",
              "    border: 2px solid var(--fill-color);\n",
              "    border-color: transparent;\n",
              "    border-bottom-color: var(--fill-color);\n",
              "    animation:\n",
              "      spin 1s steps(1) infinite;\n",
              "  }\n",
              "\n",
              "  @keyframes spin {\n",
              "    0% {\n",
              "      border-color: transparent;\n",
              "      border-bottom-color: var(--fill-color);\n",
              "      border-left-color: var(--fill-color);\n",
              "    }\n",
              "    20% {\n",
              "      border-color: transparent;\n",
              "      border-left-color: var(--fill-color);\n",
              "      border-top-color: var(--fill-color);\n",
              "    }\n",
              "    30% {\n",
              "      border-color: transparent;\n",
              "      border-left-color: var(--fill-color);\n",
              "      border-top-color: var(--fill-color);\n",
              "      border-right-color: var(--fill-color);\n",
              "    }\n",
              "    40% {\n",
              "      border-color: transparent;\n",
              "      border-right-color: var(--fill-color);\n",
              "      border-top-color: var(--fill-color);\n",
              "    }\n",
              "    60% {\n",
              "      border-color: transparent;\n",
              "      border-right-color: var(--fill-color);\n",
              "    }\n",
              "    80% {\n",
              "      border-color: transparent;\n",
              "      border-right-color: var(--fill-color);\n",
              "      border-bottom-color: var(--fill-color);\n",
              "    }\n",
              "    90% {\n",
              "      border-color: transparent;\n",
              "      border-bottom-color: var(--fill-color);\n",
              "    }\n",
              "  }\n",
              "</style>\n",
              "\n",
              "  <script>\n",
              "    async function quickchart(key) {\n",
              "      const quickchartButtonEl =\n",
              "        document.querySelector('#' + key + ' button');\n",
              "      quickchartButtonEl.disabled = true;  // To prevent multiple clicks.\n",
              "      quickchartButtonEl.classList.add('colab-df-spinner');\n",
              "      try {\n",
              "        const charts = await google.colab.kernel.invokeFunction(\n",
              "            'suggestCharts', [key], {});\n",
              "      } catch (error) {\n",
              "        console.error('Error during call to suggestCharts:', error);\n",
              "      }\n",
              "      quickchartButtonEl.classList.remove('colab-df-spinner');\n",
              "      quickchartButtonEl.classList.add('colab-df-quickchart-complete');\n",
              "    }\n",
              "    (() => {\n",
              "      let quickchartButtonEl =\n",
              "        document.querySelector('#df-46dbca8c-0f3b-485d-9d95-5208885926d6 button');\n",
              "      quickchartButtonEl.style.display =\n",
              "        google.colab.kernel.accessAllowed ? 'block' : 'none';\n",
              "    })();\n",
              "  </script>\n",
              "</div>\n",
              "    </div>\n",
              "  </div>\n"
            ]
          },
          "metadata": {},
          "execution_count": 109
        }
      ]
    },
    {
      "cell_type": "code",
      "source": [
        "main_df.to_csv(\"/content/drive/MyDrive/dataset/sample dataset/input.csv\",index=False)"
      ],
      "metadata": {
        "id": "Ys1lsldpajfl"
      },
      "execution_count": 108,
      "outputs": []
    },
    {
      "cell_type": "code",
      "source": [],
      "metadata": {
        "id": "9b674riSeVSB"
      },
      "execution_count": null,
      "outputs": []
    },
    {
      "cell_type": "code",
      "source": [],
      "metadata": {
        "id": "nLZLcPF9dVwZ"
      },
      "execution_count": null,
      "outputs": []
    }
  ]
}